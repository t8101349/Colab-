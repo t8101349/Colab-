{
  "nbformat": 4,
  "nbformat_minor": 0,
  "metadata": {
    "colab": {
      "provenance": [],
      "authorship_tag": "ABX9TyOrkDz9qG39QllaHZLsubNr",
      "include_colab_link": true
    },
    "kernelspec": {
      "name": "python3",
      "display_name": "Python 3"
    },
    "language_info": {
      "name": "python"
    }
  },
  "cells": [
    {
      "cell_type": "markdown",
      "metadata": {
        "id": "view-in-github",
        "colab_type": "text"
      },
      "source": [
        "<a href=\"https://colab.research.google.com/github/t8101349/t8101349/blob/master/0102.ipynb\" target=\"_parent\"><img src=\"https://colab.research.google.com/assets/colab-badge.svg\" alt=\"Open In Colab\"/></a>"
      ]
    },
    {
      "cell_type": "code",
      "source": [
        "f = open('a.txt', mode = 'w', encoding = 'utf-8')    # encoding一定要用utf-8, 檔案類型用txt,csv， word和xlxs是美國標準，不要用\n",
        "print(type(f))\n",
        "# write是檔案專屬功能(前面非檔案不可)\n",
        "# 強調: f.write()\n",
        "f.write('asdf')\n",
        "# 打不出來的字會用兩個符號組合 ex. \\n\n",
        "f.write('\\nzxcv')\n",
        "#記得關檔案，關閉會順便存檔\n",
        "f.close()"
      ],
      "metadata": {
        "colab": {
          "base_uri": "https://localhost:8080/"
        },
        "id": "L2BR9Y5Y0SGQ",
        "outputId": "4a456784-cf3e-48f0-dfbf-06b720cc0903"
      },
      "execution_count": 6,
      "outputs": [
        {
          "output_type": "stream",
          "name": "stdout",
          "text": [
            "<class '_io.TextIOWrapper'>\n"
          ]
        }
      ]
    },
    {
      "cell_type": "code",
      "source": [
        "# 資料夾，分隔符號統一用/\n",
        "f = open('sample_data/READNE.md', mode = 'r', encoding = 'utf-8')\n",
        "content = f.read()\n",
        "print(content)\n",
        "f.close()\n"
      ],
      "metadata": {
        "id": "EKJ_q3iq3nIM"
      },
      "execution_count": null,
      "outputs": []
    },
    {
      "cell_type": "code",
      "execution_count": 2,
      "metadata": {
        "colab": {
          "base_uri": "https://localhost:8080/"
        },
        "id": "x6qOgRHwv0a_",
        "outputId": "79915ee7-5dc4-4617-ba27-58d22ce961cf"
      },
      "outputs": [
        {
          "output_type": "stream",
          "name": "stdout",
          "text": [
            "28\n",
            "26.14\n",
            "46.14\n"
          ]
        }
      ],
      "source": [
        "#定義預設值\n",
        "def add(n1, n2 = 3.14, n3 = 20):  #開始有預設值後的所有參數都要有預設值\n",
        "  ans = n1 + n2 + n3\n",
        "  return ans\n",
        "print(add(3,5))\n",
        "print(add(3))\n",
        "print(add(3, n3 = 40)) #指定參數後的參數都要用指定的方式帶入"
      ]
    }
  ]
}