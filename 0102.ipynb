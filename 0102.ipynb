{
  "nbformat": 4,
  "nbformat_minor": 0,
  "metadata": {
    "colab": {
      "provenance": [],
      "authorship_tag": "ABX9TyNZRW+9xoXTasZb8nxWqWU+",
      "include_colab_link": true
    },
    "kernelspec": {
      "name": "python3",
      "display_name": "Python 3"
    },
    "language_info": {
      "name": "python"
    }
  },
  "cells": [
    {
      "cell_type": "markdown",
      "metadata": {
        "id": "view-in-github",
        "colab_type": "text"
      },
      "source": [
        "<a href=\"https://colab.research.google.com/github/t8101349/t8101349/blob/master/0102.ipynb\" target=\"_parent\"><img src=\"https://colab.research.google.com/assets/colab-badge.svg\" alt=\"Open In Colab\"/></a>"
      ]
    },
    {
      "cell_type": "code",
      "source": [
        "f = open('a.txt', mode = 'w', encoding = 'utf-8')    # encoding一定要用utf-8, 檔案類型用txt,csv， word和xlxs是美國標準，不要用\n",
        "print(type(f))\n",
        "# write是檔案專屬功能(前面非檔案不可)\n",
        "# 強調: f.write()\n",
        "f.write('asdf')\n",
        "# 打不出來的字會用兩個符號組合 ex. \\n\n",
        "f.write('\\nzxcv')\n",
        "#記得關檔案，關閉會順便存檔\n",
        "f.close()"
      ],
      "metadata": {
        "colab": {
          "base_uri": "https://localhost:8080/"
        },
        "id": "L2BR9Y5Y0SGQ",
        "outputId": "4a456784-cf3e-48f0-dfbf-06b720cc0903"
      },
      "execution_count": 6,
      "outputs": [
        {
          "output_type": "stream",
          "name": "stdout",
          "text": [
            "<class '_io.TextIOWrapper'>\n"
          ]
        }
      ]
    },
    {
      "cell_type": "code",
      "source": [
        "# 資料夾，分隔符號統一用/\n",
        "f = open('sample_data/README.md', mode = 'r', encoding = 'utf-8') #相對路徑\n",
        "content = f.read()\n",
        "print(content)\n",
        "f.close()\n"
      ],
      "metadata": {
        "colab": {
          "base_uri": "https://localhost:8080/"
        },
        "id": "EKJ_q3iq3nIM",
        "outputId": "0dd97092-c58a-40ee-ae82-ac44c528f9c0"
      },
      "execution_count": 10,
      "outputs": [
        {
          "output_type": "stream",
          "name": "stdout",
          "text": [
            "This directory includes a few sample datasets to get you started.\n",
            "\n",
            "*   `california_housing_data*.csv` is California housing data from the 1990 US\n",
            "    Census; more information is available at:\n",
            "    https://docs.google.com/document/d/e/2PACX-1vRhYtsvc5eOR2FWNCwaBiKL6suIOrxJig8LcSBbmCbyYsayia_DvPOOBlXZ4CAlQ5nlDD8kTaIDRwrN/pub\n",
            "\n",
            "*   `mnist_*.csv` is a small sample of the\n",
            "    [MNIST database](https://en.wikipedia.org/wiki/MNIST_database), which is\n",
            "    described at: http://yann.lecun.com/exdb/mnist/\n",
            "\n",
            "*   `anscombe.json` contains a copy of\n",
            "    [Anscombe's quartet](https://en.wikipedia.org/wiki/Anscombe%27s_quartet); it\n",
            "    was originally described in\n",
            "\n",
            "    Anscombe, F. J. (1973). 'Graphs in Statistical Analysis'. American\n",
            "    Statistician. 27 (1): 17-21. JSTOR 2682899.\n",
            "\n",
            "    and our copy was prepared by the\n",
            "    [vega_datasets library](https://github.com/altair-viz/vega_datasets/blob/4f67bdaad10f45e3549984e17e1b3088c731503d/vega_datasets/_data/anscombe.json).\n",
            "\n"
          ]
        }
      ]
    },
    {
      "cell_type": "code",
      "execution_count": 15,
      "metadata": {
        "colab": {
          "base_uri": "https://localhost:8080/"
        },
        "id": "x6qOgRHwv0a_",
        "outputId": "27801936-f571-4c7b-c4dd-dcb240f99934"
      },
      "outputs": [
        {
          "output_type": "stream",
          "name": "stdout",
          "text": [
            "28\n",
            "26.14\n",
            "46.14\n"
          ]
        }
      ],
      "source": [
        "#定義預設值\n",
        "def add(n1, n2 = 3.14, n3 = 20):  #開始有預設值後的所有參數都要有預設值\n",
        "  ans = n1 + n2 + n3\n",
        "  return ans\n",
        "print(add(3,5))\n",
        "print(add(3))\n",
        "print(add(3, n3 = 40)) #指定參數後的參數都要用指定的方式帶入"
      ]
    },
    {
      "cell_type": "code",
      "source": [
        "source = [30, 20, 60, 60, 40]\n",
        "print(len(source))\n",
        "print(sum(source))\n",
        "print(min(source))\n",
        "print(60 in source)\n",
        "\n",
        "print(source[3])\n",
        "print(source[-1])\n",
        "\n",
        "print(source[1:4])\n",
        "print(source[1:-1])\n",
        "print(source[:-1])\n",
        "print(source[2:])\n",
        "print(source[1:5:2])\n",
        "print(source[::-1])"
      ],
      "metadata": {
        "colab": {
          "base_uri": "https://localhost:8080/"
        },
        "id": "08HK_6BG_MSJ",
        "outputId": "ce1e335d-dd71-46ae-a3ff-0590ac5b5277"
      },
      "execution_count": 19,
      "outputs": [
        {
          "output_type": "stream",
          "name": "stdout",
          "text": [
            "5\n",
            "210\n",
            "20\n",
            "True\n",
            "60\n",
            "40\n",
            "[20, 60, 60]\n",
            "[20, 60, 60]\n",
            "[30, 20, 60, 60]\n",
            "[60, 60, 40]\n",
            "[20, 60]\n",
            "[40, 60, 60, 20, 30]\n"
          ]
        }
      ]
    },
    {
      "cell_type": "code",
      "source": [
        "source = [60,80,20,30,50]\n",
        "def apass(source):\n",
        "  total = 0\n",
        "  for score in source:\n",
        "    if score >= 60:\n",
        "      total += 1\n",
        "  return total\n",
        "print(apass(source))"
      ],
      "metadata": {
        "colab": {
          "base_uri": "https://localhost:8080/"
        },
        "id": "P_pzTCFUC3s8",
        "outputId": "4cc3307e-80dc-4b86-d92d-5bac667eff4c"
      },
      "execution_count": 22,
      "outputs": [
        {
          "output_type": "stream",
          "name": "stdout",
          "text": [
            "2\n"
          ]
        }
      ]
    },
    {
      "cell_type": "code",
      "source": [
        "def add(n):\n",
        "  ans = 0\n",
        "  i = 0\n",
        "  while i < n:\n",
        "    i += 1\n",
        "    ans += i\n",
        "  return ans\n",
        "\n",
        "print(add(10))"
      ],
      "metadata": {
        "colab": {
          "base_uri": "https://localhost:8080/"
        },
        "id": "D4hwP24mFuUg",
        "outputId": "fdfc76f6-742f-4a14-f715-a855e0e618ba"
      },
      "execution_count": 26,
      "outputs": [
        {
          "output_type": "stream",
          "name": "stdout",
          "text": [
            "55\n"
          ]
        }
      ]
    },
    {
      "cell_type": "code",
      "source": [
        "def add(n):\n",
        "  ans = 0\n",
        "  for i in range(n):\n",
        "    i += 1\n",
        "    ans += i\n",
        "  return ans\n",
        "\n",
        "print(add(10))"
      ],
      "metadata": {
        "colab": {
          "base_uri": "https://localhost:8080/"
        },
        "id": "NpAe3oF5I8_u",
        "outputId": "67453433-3a69-4006-93a1-d69f3a007495"
      },
      "execution_count": 28,
      "outputs": [
        {
          "output_type": "stream",
          "name": "stdout",
          "text": [
            "55\n"
          ]
        }
      ]
    },
    {
      "cell_type": "markdown",
      "source": [
        "#迴圈SOP\n",
        "\n",
        "```python\n",
        "1.  數次數: for i in range(次)\n",
        "2. 走過字串/list: for 名稱 in 群\n",
        "3. 其他: while True: break"
      ],
      "metadata": {
        "id": "1c9ki3uzICZ6"
      }
    }
  ]
}