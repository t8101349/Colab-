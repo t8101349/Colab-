{
  "metadata": {
    "kernelspec": {
      "language": "python",
      "display_name": "Python 3",
      "name": "python3"
    },
    "language_info": {
      "name": "python",
      "version": "3.10.12",
      "mimetype": "text/x-python",
      "codemirror_mode": {
        "name": "ipython",
        "version": 3
      },
      "pygments_lexer": "ipython3",
      "nbconvert_exporter": "python",
      "file_extension": ".py"
    },
    "kaggle": {
      "accelerator": "gpu",
      "dataSources": [
        {
          "sourceId": 67356,
          "databundleVersionId": 8006601,
          "sourceType": "competition"
        },
        {
          "sourceId": 10916495,
          "sourceType": "datasetVersion",
          "datasetId": 6786369
        }
      ],
      "dockerImageVersionId": 30918,
      "isInternetEnabled": true,
      "language": "python",
      "sourceType": "notebook",
      "isGpuEnabled": true
    },
    "colab": {
      "name": "250302-Neurl-MAT",
      "provenance": [],
      "include_colab_link": true
    }
  },
  "nbformat_minor": 0,
  "nbformat": 4,
  "cells": [
    {
      "cell_type": "markdown",
      "metadata": {
        "id": "view-in-github",
        "colab_type": "text"
      },
      "source": [
        "<a href=\"https://colab.research.google.com/github/t8101349/Colab-/blob/master/250302_Neurl_MAT.ipynb\" target=\"_parent\"><img src=\"https://colab.research.google.com/assets/colab-badge.svg\" alt=\"Open In Colab\"/></a>"
      ]
    },
    {
      "source": [
        "# IMPORTANT: SOME KAGGLE DATA SOURCES ARE PRIVATE\n",
        "# RUN THIS CELL IN ORDER TO IMPORT YOUR KAGGLE DATA SOURCES.\n",
        "import kagglehub\n",
        "kagglehub.login()\n"
      ],
      "metadata": {
        "id": "V9n_LnEC3NZK"
      },
      "cell_type": "code",
      "outputs": [],
      "execution_count": null
    },
    {
      "source": [
        "# IMPORTANT: RUN THIS CELL IN ORDER TO IMPORT YOUR KAGGLE DATA SOURCES,\n",
        "# THEN FEEL FREE TO DELETE THIS CELL.\n",
        "# NOTE: THIS NOTEBOOK ENVIRONMENT DIFFERS FROM KAGGLE'S PYTHON\n",
        "# ENVIRONMENT SO THERE MAY BE MISSING LIBRARIES USED BY YOUR\n",
        "# NOTEBOOK.\n",
        "\n",
        "leash_belka_path = kagglehub.competition_download('leash-BELKA')\n",
        "t8101349_pretrain_path = kagglehub.dataset_download('t8101349/pretrain')\n",
        "\n",
        "print('Data source import complete.')\n"
      ],
      "metadata": {
        "id": "3qoCGVvn3NZM"
      },
      "cell_type": "code",
      "outputs": [],
      "execution_count": null
    },
    {
      "cell_type": "code",
      "source": [
        "# This Python 3 environment comes with many helpful analytics libraries installed\n",
        "# It is defined by the kaggle/python Docker image: https://github.com/kaggle/docker-python\n",
        "# For example, here's several helpful packages to load\n",
        "\n",
        "import numpy as np # linear algebra\n",
        "import pandas as pd # data processing, CSV file I/O (e.g. pd.read_csv)\n",
        "\n",
        "# Input data files are available in the read-only \"../input/\" directory\n",
        "# For example, running this (by clicking run or pressing Shift+Enter) will list all files under the input directory\n",
        "\n",
        "import os\n",
        "for dirname, _, filenames in os.walk('/kaggle/input'):\n",
        "    for filename in filenames:\n",
        "        print(os.path.join(dirname, filename))\n",
        "\n",
        "# You can write up to 20GB to the current directory (/kaggle/working/) that gets preserved as output when you create a version using \"Save & Run All\"\n",
        "# You can also write temporary files to /kaggle/temp/, but they won't be saved outside of the current session"
      ],
      "metadata": {
        "_uuid": "8f2839f25d086af736a60e9eeb907d3b93b6e0e5",
        "_cell_guid": "b1076dfc-b9ad-4769-8c92-a6c4dae69d19",
        "trusted": true,
        "execution": {
          "iopub.status.busy": "2025-03-05T09:19:31.283294Z",
          "iopub.execute_input": "2025-03-05T09:19:31.283653Z",
          "iopub.status.idle": "2025-03-05T09:19:32.219822Z",
          "shell.execute_reply.started": "2025-03-05T09:19:31.283604Z",
          "shell.execute_reply": "2025-03-05T09:19:32.218878Z"
        },
        "id": "VWqwIx_e3NZM",
        "outputId": "96e0b9ad-d4ae-47a1-9e36-5035469e4f1e"
      },
      "outputs": [
        {
          "name": "stdout",
          "text": "/kaggle/input/pretrain/pretrained_weights.pt\n/kaggle/input/leash-BELKA/sample_submission.csv\n/kaggle/input/leash-BELKA/train.parquet\n/kaggle/input/leash-BELKA/test.parquet\n/kaggle/input/leash-BELKA/train.csv\n/kaggle/input/leash-BELKA/test.csv\n",
          "output_type": "stream"
        }
      ],
      "execution_count": null
    },
    {
      "cell_type": "code",
      "source": [
        "# 1. 安裝 PyTorch\n",
        "!pip install torch torchvision torchaudio --index-url https://download.pytorch.org/whl/cu121\n",
        "\n",
        "# 2. 安裝 DGL（選擇適合的 CUDA 版本）\n",
        "!pip install dgl -f https://data.dgl.ai/wheels/cu121.html\n",
        "\n",
        "# 3. 安裝 RDKit（用於處理分子）\n",
        "!pip install rdkit-pypi\n",
        "\n",
        "# 4. 下載 MAT 的原始碼\n",
        "!git clone https://github.com/ardigen/MAT.git /kaggle/working/MAT\n",
        "#%cd MAT\n",
        "\n"
      ],
      "metadata": {
        "trusted": true,
        "execution": {
          "iopub.status.busy": "2025-03-05T09:19:32.221099Z",
          "iopub.execute_input": "2025-03-05T09:19:32.221571Z",
          "iopub.status.idle": "2025-03-05T09:19:47.318861Z",
          "shell.execute_reply.started": "2025-03-05T09:19:32.221546Z",
          "shell.execute_reply": "2025-03-05T09:19:47.31804Z"
        },
        "id": "pMl7yGx93NZN",
        "outputId": "0212dfbb-4cd0-4ef6-9b6b-7adb9a436c24"
      },
      "outputs": [
        {
          "name": "stdout",
          "text": "Looking in indexes: https://download.pytorch.org/whl/cu121\nRequirement already satisfied: torch in /usr/local/lib/python3.10/dist-packages (2.5.1+cu121)\nRequirement already satisfied: torchvision in /usr/local/lib/python3.10/dist-packages (0.20.1+cu121)\nRequirement already satisfied: torchaudio in /usr/local/lib/python3.10/dist-packages (2.5.1+cu121)\nRequirement already satisfied: filelock in /usr/local/lib/python3.10/dist-packages (from torch) (3.17.0)\nRequirement already satisfied: typing-extensions>=4.8.0 in /usr/local/lib/python3.10/dist-packages (from torch) (4.12.2)\nRequirement already satisfied: networkx in /usr/local/lib/python3.10/dist-packages (from torch) (3.4.2)\nRequirement already satisfied: jinja2 in /usr/local/lib/python3.10/dist-packages (from torch) (3.1.4)\nRequirement already satisfied: fsspec in /usr/local/lib/python3.10/dist-packages (from torch) (2024.12.0)\nRequirement already satisfied: sympy==1.13.1 in /usr/local/lib/python3.10/dist-packages (from torch) (1.13.1)\nRequirement already satisfied: mpmath<1.4,>=1.1.0 in /usr/local/lib/python3.10/dist-packages (from sympy==1.13.1->torch) (1.3.0)\nRequirement already satisfied: numpy in /usr/local/lib/python3.10/dist-packages (from torchvision) (1.26.4)\nRequirement already satisfied: pillow!=8.3.*,>=5.3.0 in /usr/local/lib/python3.10/dist-packages (from torchvision) (11.0.0)\nRequirement already satisfied: MarkupSafe>=2.0 in /usr/local/lib/python3.10/dist-packages (from jinja2->torch) (3.0.2)\nRequirement already satisfied: mkl_fft in /usr/local/lib/python3.10/dist-packages (from numpy->torchvision) (1.3.8)\nRequirement already satisfied: mkl_random in /usr/local/lib/python3.10/dist-packages (from numpy->torchvision) (1.2.4)\nRequirement already satisfied: mkl_umath in /usr/local/lib/python3.10/dist-packages (from numpy->torchvision) (0.1.1)\nRequirement already satisfied: mkl in /usr/local/lib/python3.10/dist-packages (from numpy->torchvision) (2025.0.1)\nRequirement already satisfied: tbb4py in /usr/local/lib/python3.10/dist-packages (from numpy->torchvision) (2022.0.0)\nRequirement already satisfied: mkl-service in /usr/local/lib/python3.10/dist-packages (from numpy->torchvision) (2.4.1)\nRequirement already satisfied: intel-openmp>=2024 in /usr/local/lib/python3.10/dist-packages (from mkl->numpy->torchvision) (2024.2.0)\nRequirement already satisfied: tbb==2022.* in /usr/local/lib/python3.10/dist-packages (from mkl->numpy->torchvision) (2022.0.0)\nRequirement already satisfied: tcmlib==1.* in /usr/local/lib/python3.10/dist-packages (from tbb==2022.*->mkl->numpy->torchvision) (1.2.0)\nRequirement already satisfied: intel-cmplr-lib-rt in /usr/local/lib/python3.10/dist-packages (from mkl_umath->numpy->torchvision) (2024.2.0)\nRequirement already satisfied: intel-cmplr-lib-ur==2024.2.0 in /usr/local/lib/python3.10/dist-packages (from intel-openmp>=2024->mkl->numpy->torchvision) (2024.2.0)\nLooking in links: https://data.dgl.ai/wheels/cu121.html\nCollecting dgl\n  Downloading dgl-2.1.0-cp310-cp310-manylinux1_x86_64.whl.metadata (553 bytes)\nRequirement already satisfied: numpy>=1.14.0 in /usr/local/lib/python3.10/dist-packages (from dgl) (1.26.4)\nRequirement already satisfied: scipy>=1.1.0 in /usr/local/lib/python3.10/dist-packages (from dgl) (1.13.1)\nRequirement already satisfied: networkx>=2.1 in /usr/local/lib/python3.10/dist-packages (from dgl) (3.4.2)\nRequirement already satisfied: requests>=2.19.0 in /usr/local/lib/python3.10/dist-packages (from dgl) (2.32.3)\nRequirement already satisfied: tqdm in /usr/local/lib/python3.10/dist-packages (from dgl) (4.67.1)\nRequirement already satisfied: psutil>=5.8.0 in /usr/local/lib/python3.10/dist-packages (from dgl) (5.9.5)\nCollecting torchdata>=0.5.0 (from dgl)\n  Downloading torchdata-0.11.0-py3-none-any.whl.metadata (6.3 kB)\nRequirement already satisfied: mkl_fft in /usr/local/lib/python3.10/dist-packages (from numpy>=1.14.0->dgl) (1.3.8)\nRequirement already satisfied: mkl_random in /usr/local/lib/python3.10/dist-packages (from numpy>=1.14.0->dgl) (1.2.4)\nRequirement already satisfied: mkl_umath in /usr/local/lib/python3.10/dist-packages (from numpy>=1.14.0->dgl) (0.1.1)\nRequirement already satisfied: mkl in /usr/local/lib/python3.10/dist-packages (from numpy>=1.14.0->dgl) (2025.0.1)\nRequirement already satisfied: tbb4py in /usr/local/lib/python3.10/dist-packages (from numpy>=1.14.0->dgl) (2022.0.0)\nRequirement already satisfied: mkl-service in /usr/local/lib/python3.10/dist-packages (from numpy>=1.14.0->dgl) (2.4.1)\nRequirement already satisfied: charset-normalizer<4,>=2 in /usr/local/lib/python3.10/dist-packages (from requests>=2.19.0->dgl) (3.4.1)\nRequirement already satisfied: idna<4,>=2.5 in /usr/local/lib/python3.10/dist-packages (from requests>=2.19.0->dgl) (3.10)\nRequirement already satisfied: urllib3<3,>=1.21.1 in /usr/local/lib/python3.10/dist-packages (from requests>=2.19.0->dgl) (2.3.0)\nRequirement already satisfied: certifi>=2017.4.17 in /usr/local/lib/python3.10/dist-packages (from requests>=2.19.0->dgl) (2025.1.31)\nRequirement already satisfied: torch>=2 in /usr/local/lib/python3.10/dist-packages (from torchdata>=0.5.0->dgl) (2.5.1+cu121)\nRequirement already satisfied: filelock in /usr/local/lib/python3.10/dist-packages (from torch>=2->torchdata>=0.5.0->dgl) (3.17.0)\nRequirement already satisfied: typing-extensions>=4.8.0 in /usr/local/lib/python3.10/dist-packages (from torch>=2->torchdata>=0.5.0->dgl) (4.12.2)\nRequirement already satisfied: jinja2 in /usr/local/lib/python3.10/dist-packages (from torch>=2->torchdata>=0.5.0->dgl) (3.1.4)\nRequirement already satisfied: fsspec in /usr/local/lib/python3.10/dist-packages (from torch>=2->torchdata>=0.5.0->dgl) (2024.12.0)\nRequirement already satisfied: sympy==1.13.1 in /usr/local/lib/python3.10/dist-packages (from torch>=2->torchdata>=0.5.0->dgl) (1.13.1)\nRequirement already satisfied: mpmath<1.4,>=1.1.0 in /usr/local/lib/python3.10/dist-packages (from sympy==1.13.1->torch>=2->torchdata>=0.5.0->dgl) (1.3.0)\nRequirement already satisfied: intel-openmp>=2024 in /usr/local/lib/python3.10/dist-packages (from mkl->numpy>=1.14.0->dgl) (2024.2.0)\nRequirement already satisfied: tbb==2022.* in /usr/local/lib/python3.10/dist-packages (from mkl->numpy>=1.14.0->dgl) (2022.0.0)\nRequirement already satisfied: tcmlib==1.* in /usr/local/lib/python3.10/dist-packages (from tbb==2022.*->mkl->numpy>=1.14.0->dgl) (1.2.0)\nRequirement already satisfied: intel-cmplr-lib-rt in /usr/local/lib/python3.10/dist-packages (from mkl_umath->numpy>=1.14.0->dgl) (2024.2.0)\nRequirement already satisfied: intel-cmplr-lib-ur==2024.2.0 in /usr/local/lib/python3.10/dist-packages (from intel-openmp>=2024->mkl->numpy>=1.14.0->dgl) (2024.2.0)\nRequirement already satisfied: MarkupSafe>=2.0 in /usr/local/lib/python3.10/dist-packages (from jinja2->torch>=2->torchdata>=0.5.0->dgl) (3.0.2)\nDownloading dgl-2.1.0-cp310-cp310-manylinux1_x86_64.whl (8.5 MB)\n\u001b[2K   \u001b[90m━━━━━━━━━━━━━━━━━━━━━━━━━━━━━━━━━━━━━━━━\u001b[0m \u001b[32m8.5/8.5 MB\u001b[0m \u001b[31m80.6 MB/s\u001b[0m eta \u001b[36m0:00:00\u001b[0m:00:01\u001b[0m0:01\u001b[0m\n\u001b[?25hDownloading torchdata-0.11.0-py3-none-any.whl (61 kB)\n\u001b[2K   \u001b[90m━━━━━━━━━━━━━━━━━━━━━━━━━━━━━━━━━━━━━━━━\u001b[0m \u001b[32m62.0/62.0 kB\u001b[0m \u001b[31m3.6 MB/s\u001b[0m eta \u001b[36m0:00:00\u001b[0m\n\u001b[?25hInstalling collected packages: torchdata, dgl\nSuccessfully installed dgl-2.1.0 torchdata-0.11.0\nCollecting rdkit-pypi\n  Downloading rdkit_pypi-2022.9.5-cp310-cp310-manylinux_2_17_x86_64.manylinux2014_x86_64.whl.metadata (3.9 kB)\nRequirement already satisfied: numpy in /usr/local/lib/python3.10/dist-packages (from rdkit-pypi) (1.26.4)\nRequirement already satisfied: Pillow in /usr/local/lib/python3.10/dist-packages (from rdkit-pypi) (11.0.0)\nRequirement already satisfied: mkl_fft in /usr/local/lib/python3.10/dist-packages (from numpy->rdkit-pypi) (1.3.8)\nRequirement already satisfied: mkl_random in /usr/local/lib/python3.10/dist-packages (from numpy->rdkit-pypi) (1.2.4)\nRequirement already satisfied: mkl_umath in /usr/local/lib/python3.10/dist-packages (from numpy->rdkit-pypi) (0.1.1)\nRequirement already satisfied: mkl in /usr/local/lib/python3.10/dist-packages (from numpy->rdkit-pypi) (2025.0.1)\nRequirement already satisfied: tbb4py in /usr/local/lib/python3.10/dist-packages (from numpy->rdkit-pypi) (2022.0.0)\nRequirement already satisfied: mkl-service in /usr/local/lib/python3.10/dist-packages (from numpy->rdkit-pypi) (2.4.1)\nRequirement already satisfied: intel-openmp>=2024 in /usr/local/lib/python3.10/dist-packages (from mkl->numpy->rdkit-pypi) (2024.2.0)\nRequirement already satisfied: tbb==2022.* in /usr/local/lib/python3.10/dist-packages (from mkl->numpy->rdkit-pypi) (2022.0.0)\nRequirement already satisfied: tcmlib==1.* in /usr/local/lib/python3.10/dist-packages (from tbb==2022.*->mkl->numpy->rdkit-pypi) (1.2.0)\nRequirement already satisfied: intel-cmplr-lib-rt in /usr/local/lib/python3.10/dist-packages (from mkl_umath->numpy->rdkit-pypi) (2024.2.0)\nRequirement already satisfied: intel-cmplr-lib-ur==2024.2.0 in /usr/local/lib/python3.10/dist-packages (from intel-openmp>=2024->mkl->numpy->rdkit-pypi) (2024.2.0)\nDownloading rdkit_pypi-2022.9.5-cp310-cp310-manylinux_2_17_x86_64.manylinux2014_x86_64.whl (29.4 MB)\n\u001b[2K   \u001b[90m━━━━━━━━━━━━━━━━━━━━━━━━━━━━━━━━━━━━━━━━\u001b[0m \u001b[32m29.4/29.4 MB\u001b[0m \u001b[31m62.4 MB/s\u001b[0m eta \u001b[36m0:00:00\u001b[0m:00:01\u001b[0m00:01\u001b[0m\n\u001b[?25hInstalling collected packages: rdkit-pypi\nSuccessfully installed rdkit-pypi-2022.9.5\nCloning into '/kaggle/working/MAT'...\nremote: Enumerating objects: 101, done.\u001b[K\nremote: Counting objects: 100% (11/11), done.\u001b[K\nremote: Compressing objects: 100% (6/6), done.\u001b[K\nremote: Total 101 (delta 6), reused 5 (delta 5), pack-reused 90 (from 1)\u001b[K\nReceiving objects: 100% (101/101), 413.86 KiB | 12.54 MiB/s, done.\nResolving deltas: 100% (23/23), done.\n",
          "output_type": "stream"
        }
      ],
      "execution_count": null
    },
    {
      "cell_type": "code",
      "source": [
        "%%writefile requirements.txt\n",
        "easydict\n",
        "future\n",
        "matplotlib\n",
        "numpy\n",
        "opencv-python\n",
        "scikit-image\n",
        "scipy\n",
        "click\n",
        "requests\n",
        "tqdm\n",
        "pyspng\n",
        "ninja\n",
        "imageio-ffmpeg==0.4.3\n",
        "timm\n",
        "psutil\n",
        "scikit-learn"
      ],
      "metadata": {
        "trusted": true,
        "execution": {
          "iopub.status.busy": "2025-03-05T09:19:47.320476Z",
          "iopub.execute_input": "2025-03-05T09:19:47.320728Z",
          "iopub.status.idle": "2025-03-05T09:19:47.326566Z",
          "shell.execute_reply.started": "2025-03-05T09:19:47.320708Z",
          "shell.execute_reply": "2025-03-05T09:19:47.325845Z"
        },
        "id": "rR7iPerq3NZN",
        "outputId": "71afe105-f42b-4bf5-e358-0ca602fe442f"
      },
      "outputs": [
        {
          "name": "stdout",
          "text": "Writing requirements.txt\n",
          "output_type": "stream"
        }
      ],
      "execution_count": null
    },
    {
      "cell_type": "code",
      "source": [
        "# 5. 安裝 MAT 依賴\n",
        "!pip install -r requirements.txt\n"
      ],
      "metadata": {
        "trusted": true,
        "execution": {
          "iopub.status.busy": "2025-03-05T09:19:47.32771Z",
          "iopub.execute_input": "2025-03-05T09:19:47.327979Z",
          "iopub.status.idle": "2025-03-05T09:19:52.666566Z",
          "shell.execute_reply.started": "2025-03-05T09:19:47.327952Z",
          "shell.execute_reply": "2025-03-05T09:19:52.665719Z"
        },
        "id": "_XDw2Wm33NZO",
        "outputId": "9143e7dc-4323-4586-93b9-42012f300963"
      },
      "outputs": [
        {
          "name": "stdout",
          "text": "Requirement already satisfied: easydict in /usr/local/lib/python3.10/dist-packages (from -r requirements.txt (line 1)) (1.13)\nRequirement already satisfied: future in /usr/local/lib/python3.10/dist-packages (from -r requirements.txt (line 2)) (1.0.0)\nRequirement already satisfied: matplotlib in /usr/local/lib/python3.10/dist-packages (from -r requirements.txt (line 3)) (3.7.5)\nRequirement already satisfied: numpy in /usr/local/lib/python3.10/dist-packages (from -r requirements.txt (line 4)) (1.26.4)\nRequirement already satisfied: opencv-python in /usr/local/lib/python3.10/dist-packages (from -r requirements.txt (line 5)) (4.10.0.84)\nRequirement already satisfied: scikit-image in /usr/local/lib/python3.10/dist-packages (from -r requirements.txt (line 6)) (0.25.0)\nRequirement already satisfied: scipy in /usr/local/lib/python3.10/dist-packages (from -r requirements.txt (line 7)) (1.13.1)\nRequirement already satisfied: click in /usr/local/lib/python3.10/dist-packages (from -r requirements.txt (line 8)) (8.1.7)\nRequirement already satisfied: requests in /usr/local/lib/python3.10/dist-packages (from -r requirements.txt (line 9)) (2.32.3)\nRequirement already satisfied: tqdm in /usr/local/lib/python3.10/dist-packages (from -r requirements.txt (line 10)) (4.67.1)\nCollecting pyspng (from -r requirements.txt (line 11))\n  Downloading pyspng-0.1.2-cp310-cp310-manylinux_2_17_x86_64.manylinux2014_x86_64.whl.metadata (1.8 kB)\nRequirement already satisfied: ninja in /usr/local/lib/python3.10/dist-packages (from -r requirements.txt (line 12)) (1.11.1.3)\nCollecting imageio-ffmpeg==0.4.3 (from -r requirements.txt (line 13))\n  Downloading imageio_ffmpeg-0.4.3-py3-none-manylinux2010_x86_64.whl.metadata (1.6 kB)\nRequirement already satisfied: timm in /usr/local/lib/python3.10/dist-packages (from -r requirements.txt (line 14)) (1.0.12)\nRequirement already satisfied: psutil in /usr/local/lib/python3.10/dist-packages (from -r requirements.txt (line 15)) (5.9.5)\nRequirement already satisfied: scikit-learn in /usr/local/lib/python3.10/dist-packages (from -r requirements.txt (line 16)) (1.2.2)\nRequirement already satisfied: contourpy>=1.0.1 in /usr/local/lib/python3.10/dist-packages (from matplotlib->-r requirements.txt (line 3)) (1.3.1)\nRequirement already satisfied: cycler>=0.10 in /usr/local/lib/python3.10/dist-packages (from matplotlib->-r requirements.txt (line 3)) (0.12.1)\nRequirement already satisfied: fonttools>=4.22.0 in /usr/local/lib/python3.10/dist-packages (from matplotlib->-r requirements.txt (line 3)) (4.55.3)\nRequirement already satisfied: kiwisolver>=1.0.1 in /usr/local/lib/python3.10/dist-packages (from matplotlib->-r requirements.txt (line 3)) (1.4.7)\nRequirement already satisfied: packaging>=20.0 in /usr/local/lib/python3.10/dist-packages (from matplotlib->-r requirements.txt (line 3)) (24.2)\nRequirement already satisfied: pillow>=6.2.0 in /usr/local/lib/python3.10/dist-packages (from matplotlib->-r requirements.txt (line 3)) (11.0.0)\nRequirement already satisfied: pyparsing>=2.3.1 in /usr/local/lib/python3.10/dist-packages (from matplotlib->-r requirements.txt (line 3)) (3.2.0)\nRequirement already satisfied: python-dateutil>=2.7 in /usr/local/lib/python3.10/dist-packages (from matplotlib->-r requirements.txt (line 3)) (2.9.0.post0)\nRequirement already satisfied: mkl_fft in /usr/local/lib/python3.10/dist-packages (from numpy->-r requirements.txt (line 4)) (1.3.8)\nRequirement already satisfied: mkl_random in /usr/local/lib/python3.10/dist-packages (from numpy->-r requirements.txt (line 4)) (1.2.4)\nRequirement already satisfied: mkl_umath in /usr/local/lib/python3.10/dist-packages (from numpy->-r requirements.txt (line 4)) (0.1.1)\nRequirement already satisfied: mkl in /usr/local/lib/python3.10/dist-packages (from numpy->-r requirements.txt (line 4)) (2025.0.1)\nRequirement already satisfied: tbb4py in /usr/local/lib/python3.10/dist-packages (from numpy->-r requirements.txt (line 4)) (2022.0.0)\nRequirement already satisfied: mkl-service in /usr/local/lib/python3.10/dist-packages (from numpy->-r requirements.txt (line 4)) (2.4.1)\nRequirement already satisfied: networkx>=3.0 in /usr/local/lib/python3.10/dist-packages (from scikit-image->-r requirements.txt (line 6)) (3.4.2)\nRequirement already satisfied: imageio!=2.35.0,>=2.33 in /usr/local/lib/python3.10/dist-packages (from scikit-image->-r requirements.txt (line 6)) (2.36.1)\nRequirement already satisfied: tifffile>=2022.8.12 in /usr/local/lib/python3.10/dist-packages (from scikit-image->-r requirements.txt (line 6)) (2024.12.12)\nRequirement already satisfied: lazy-loader>=0.4 in /usr/local/lib/python3.10/dist-packages (from scikit-image->-r requirements.txt (line 6)) (0.4)\nRequirement already satisfied: charset-normalizer<4,>=2 in /usr/local/lib/python3.10/dist-packages (from requests->-r requirements.txt (line 9)) (3.4.1)\nRequirement already satisfied: idna<4,>=2.5 in /usr/local/lib/python3.10/dist-packages (from requests->-r requirements.txt (line 9)) (3.10)\nRequirement already satisfied: urllib3<3,>=1.21.1 in /usr/local/lib/python3.10/dist-packages (from requests->-r requirements.txt (line 9)) (2.3.0)\nRequirement already satisfied: certifi>=2017.4.17 in /usr/local/lib/python3.10/dist-packages (from requests->-r requirements.txt (line 9)) (2025.1.31)\nRequirement already satisfied: torch in /usr/local/lib/python3.10/dist-packages (from timm->-r requirements.txt (line 14)) (2.5.1+cu121)\nRequirement already satisfied: torchvision in /usr/local/lib/python3.10/dist-packages (from timm->-r requirements.txt (line 14)) (0.20.1+cu121)\nRequirement already satisfied: pyyaml in /usr/local/lib/python3.10/dist-packages (from timm->-r requirements.txt (line 14)) (6.0.2)\nRequirement already satisfied: huggingface_hub in /usr/local/lib/python3.10/dist-packages (from timm->-r requirements.txt (line 14)) (0.29.0)\nRequirement already satisfied: safetensors in /usr/local/lib/python3.10/dist-packages (from timm->-r requirements.txt (line 14)) (0.4.5)\nRequirement already satisfied: joblib>=1.1.1 in /usr/local/lib/python3.10/dist-packages (from scikit-learn->-r requirements.txt (line 16)) (1.4.2)\nRequirement already satisfied: threadpoolctl>=2.0.0 in /usr/local/lib/python3.10/dist-packages (from scikit-learn->-r requirements.txt (line 16)) (3.5.0)\nRequirement already satisfied: six>=1.5 in /usr/local/lib/python3.10/dist-packages (from python-dateutil>=2.7->matplotlib->-r requirements.txt (line 3)) (1.17.0)\nRequirement already satisfied: filelock in /usr/local/lib/python3.10/dist-packages (from huggingface_hub->timm->-r requirements.txt (line 14)) (3.17.0)\nRequirement already satisfied: fsspec>=2023.5.0 in /usr/local/lib/python3.10/dist-packages (from huggingface_hub->timm->-r requirements.txt (line 14)) (2024.12.0)\nRequirement already satisfied: typing-extensions>=3.7.4.3 in /usr/local/lib/python3.10/dist-packages (from huggingface_hub->timm->-r requirements.txt (line 14)) (4.12.2)\nRequirement already satisfied: intel-openmp>=2024 in /usr/local/lib/python3.10/dist-packages (from mkl->numpy->-r requirements.txt (line 4)) (2024.2.0)\nRequirement already satisfied: tbb==2022.* in /usr/local/lib/python3.10/dist-packages (from mkl->numpy->-r requirements.txt (line 4)) (2022.0.0)\nRequirement already satisfied: tcmlib==1.* in /usr/local/lib/python3.10/dist-packages (from tbb==2022.*->mkl->numpy->-r requirements.txt (line 4)) (1.2.0)\nRequirement already satisfied: intel-cmplr-lib-rt in /usr/local/lib/python3.10/dist-packages (from mkl_umath->numpy->-r requirements.txt (line 4)) (2024.2.0)\nRequirement already satisfied: jinja2 in /usr/local/lib/python3.10/dist-packages (from torch->timm->-r requirements.txt (line 14)) (3.1.4)\nRequirement already satisfied: sympy==1.13.1 in /usr/local/lib/python3.10/dist-packages (from torch->timm->-r requirements.txt (line 14)) (1.13.1)\nRequirement already satisfied: mpmath<1.4,>=1.1.0 in /usr/local/lib/python3.10/dist-packages (from sympy==1.13.1->torch->timm->-r requirements.txt (line 14)) (1.3.0)\nRequirement already satisfied: intel-cmplr-lib-ur==2024.2.0 in /usr/local/lib/python3.10/dist-packages (from intel-openmp>=2024->mkl->numpy->-r requirements.txt (line 4)) (2024.2.0)\nRequirement already satisfied: MarkupSafe>=2.0 in /usr/local/lib/python3.10/dist-packages (from jinja2->torch->timm->-r requirements.txt (line 14)) (3.0.2)\nDownloading imageio_ffmpeg-0.4.3-py3-none-manylinux2010_x86_64.whl (26.9 MB)\n\u001b[2K   \u001b[90m━━━━━━━━━━━━━━━━━━━━━━━━━━━━━━━━━━━━━━━━\u001b[0m \u001b[32m26.9/26.9 MB\u001b[0m \u001b[31m40.5 MB/s\u001b[0m eta \u001b[36m0:00:00\u001b[0m00:01\u001b[0m00:01\u001b[0mm\n\u001b[?25hDownloading pyspng-0.1.2-cp310-cp310-manylinux_2_17_x86_64.manylinux2014_x86_64.whl (192 kB)\n\u001b[2K   \u001b[90m━━━━━━━━━━━━━━━━━━━━━━━━━━━━━━━━━━━━━━━━\u001b[0m \u001b[32m192.5/192.5 kB\u001b[0m \u001b[31m12.5 MB/s\u001b[0m eta \u001b[36m0:00:00\u001b[0m\n\u001b[?25hInstalling collected packages: imageio-ffmpeg, pyspng\n  Attempting uninstall: imageio-ffmpeg\n    Found existing installation: imageio-ffmpeg 0.5.1\n    Uninstalling imageio-ffmpeg-0.5.1:\n      Successfully uninstalled imageio-ffmpeg-0.5.1\nSuccessfully installed imageio-ffmpeg-0.4.3 pyspng-0.1.2\n",
          "output_type": "stream"
        }
      ],
      "execution_count": null
    },
    {
      "cell_type": "code",
      "source": [
        "\n",
        "import pandas as pd\n",
        "\n",
        "data = {\n",
        "    \"smiles\": [\"CCO\", \"C1=CC=CC=C1\", \"CCN(CC)C(=O)C1=CC=CC=C1\"],\n",
        "    \"BRD4\": [1, 0, 1],  # 這是可選的標籤數據\n",
        "    \"HSA\": [0, 0, 1],\n",
        "    \"sEH\": [1, 1, 0],\n",
        "}\n",
        "df = pd.DataFrame(data)\n",
        "# 存成 CSV\n",
        "df.to_csv(\"/kaggle/working/example_data.csv\", index=False)\n",
        "\n",
        "print(\"example_data.csv 已成功建立！\")\n"
      ],
      "metadata": {
        "trusted": true,
        "execution": {
          "iopub.status.busy": "2025-03-05T09:19:52.667624Z",
          "iopub.execute_input": "2025-03-05T09:19:52.667926Z",
          "iopub.status.idle": "2025-03-05T09:19:52.688767Z",
          "shell.execute_reply.started": "2025-03-05T09:19:52.667901Z",
          "shell.execute_reply": "2025-03-05T09:19:52.688055Z"
        },
        "id": "wxQ9OJlh3NZO",
        "outputId": "efc555c4-3f25-45b1-a32c-f5751d58d6f4"
      },
      "outputs": [
        {
          "name": "stdout",
          "text": "example_data.csv 已成功建立！\n",
          "output_type": "stream"
        }
      ],
      "execution_count": null
    },
    {
      "cell_type": "code",
      "source": [
        "!pip uninstall -y torch torchvision torchaudio fastai pylibcugraph-cu12 pylibraft-cu12 rmm-cu12 dgl torchdata\n",
        "!pip uninstall -y torch torchvision torchaudio torchdata triton pytorch-lightning\n",
        "\n"
      ],
      "metadata": {
        "trusted": true,
        "execution": {
          "iopub.status.busy": "2025-03-05T09:19:52.689489Z",
          "iopub.execute_input": "2025-03-05T09:19:52.689726Z",
          "iopub.status.idle": "2025-03-05T09:20:32.371184Z",
          "shell.execute_reply.started": "2025-03-05T09:19:52.689707Z",
          "shell.execute_reply": "2025-03-05T09:20:32.370331Z"
        },
        "id": "CezjHT463NZO",
        "outputId": "a996426e-24a7-40f2-d44b-e581cd6421dd"
      },
      "outputs": [
        {
          "name": "stdout",
          "text": "Found existing installation: torch 2.5.1+cu121\nUninstalling torch-2.5.1+cu121:\n  Successfully uninstalled torch-2.5.1+cu121\nFound existing installation: torchvision 0.20.1+cu121\nUninstalling torchvision-0.20.1+cu121:\n  Successfully uninstalled torchvision-0.20.1+cu121\nFound existing installation: torchaudio 2.5.1+cu121\nUninstalling torchaudio-2.5.1+cu121:\n  Successfully uninstalled torchaudio-2.5.1+cu121\nFound existing installation: fastai 2.7.18\nUninstalling fastai-2.7.18:\n  Successfully uninstalled fastai-2.7.18\nFound existing installation: pylibcugraph-cu12 24.10.0\nUninstalling pylibcugraph-cu12-24.10.0:\n  Successfully uninstalled pylibcugraph-cu12-24.10.0\nFound existing installation: pylibraft-cu12 25.2.0\nUninstalling pylibraft-cu12-25.2.0:\n  Successfully uninstalled pylibraft-cu12-25.2.0\nFound existing installation: rmm-cu12 25.2.0\nUninstalling rmm-cu12-25.2.0:\n  Successfully uninstalled rmm-cu12-25.2.0\nFound existing installation: dgl 2.1.0\nUninstalling dgl-2.1.0:\n  Successfully uninstalled dgl-2.1.0\nFound existing installation: torchdata 0.11.0\nUninstalling torchdata-0.11.0:\n  Successfully uninstalled torchdata-0.11.0\n\u001b[33mWARNING: Skipping torch as it is not installed.\u001b[0m\u001b[33m\n\u001b[0m\u001b[33mWARNING: Skipping torchvision as it is not installed.\u001b[0m\u001b[33m\n\u001b[0m\u001b[33mWARNING: Skipping torchaudio as it is not installed.\u001b[0m\u001b[33m\n\u001b[0m\u001b[33mWARNING: Skipping torchdata as it is not installed.\u001b[0m\u001b[33m\n\u001b[0m\u001b[33mWARNING: Skipping triton as it is not installed.\u001b[0m\u001b[33m\n\u001b[0mFound existing installation: pytorch-lightning 2.5.0.post0\nUninstalling pytorch-lightning-2.5.0.post0:\n  Successfully uninstalled pytorch-lightning-2.5.0.post0\n",
          "output_type": "stream"
        }
      ],
      "execution_count": null
    },
    {
      "cell_type": "code",
      "source": [
        "# 1. 升級 PyTorch 和 torchvision\n",
        "#!pip install torch==2.1.0 torchvision==0.15.2 torchaudio==2.0.2 torchdata==0.6.1\n",
        "!pip install torch torchvision torchaudio torchdata --index-url https://download.pytorch.org/whl/cu118\n",
        "!pip install pytorch-lightning\n",
        "\n",
        "\n",
        "import torch\n",
        "print(torch.__version__)  # 目標是 2.1.0\n",
        "\n"
      ],
      "metadata": {
        "trusted": true,
        "execution": {
          "iopub.status.busy": "2025-03-05T09:20:32.372182Z",
          "iopub.execute_input": "2025-03-05T09:20:32.372412Z",
          "iopub.status.idle": "2025-03-05T09:22:54.686763Z",
          "shell.execute_reply.started": "2025-03-05T09:20:32.372392Z",
          "shell.execute_reply": "2025-03-05T09:22:54.685968Z"
        },
        "id": "F9UT1L2b3NZP",
        "outputId": "6dc586d5-9578-443a-f69f-63f5512c92e9"
      },
      "outputs": [
        {
          "name": "stdout",
          "text": "Looking in indexes: https://download.pytorch.org/whl/cu118\nCollecting torch\n  Downloading https://download.pytorch.org/whl/cu118/torch-2.6.0%2Bcu118-cp310-cp310-linux_x86_64.whl.metadata (27 kB)\nCollecting torchvision\n  Downloading https://download.pytorch.org/whl/cu118/torchvision-0.21.0%2Bcu118-cp310-cp310-linux_x86_64.whl.metadata (6.1 kB)\nCollecting torchaudio\n  Downloading https://download.pytorch.org/whl/cu118/torchaudio-2.6.0%2Bcu118-cp310-cp310-linux_x86_64.whl.metadata (6.6 kB)\nCollecting torchdata\n  Downloading https://download.pytorch.org/whl/torchdata-0.10.0-py3-none-any.whl.metadata (6.0 kB)\nRequirement already satisfied: filelock in /usr/local/lib/python3.10/dist-packages (from torch) (3.17.0)\nRequirement already satisfied: typing-extensions>=4.10.0 in /usr/local/lib/python3.10/dist-packages (from torch) (4.12.2)\nRequirement already satisfied: networkx in /usr/local/lib/python3.10/dist-packages (from torch) (3.4.2)\nRequirement already satisfied: jinja2 in /usr/local/lib/python3.10/dist-packages (from torch) (3.1.4)\nRequirement already satisfied: fsspec in /usr/local/lib/python3.10/dist-packages (from torch) (2024.12.0)\nCollecting nvidia-cuda-nvrtc-cu11==11.8.89 (from torch)\n  Downloading https://download.pytorch.org/whl/cu118/nvidia_cuda_nvrtc_cu11-11.8.89-py3-none-manylinux1_x86_64.whl (23.2 MB)\n\u001b[2K     \u001b[90m━━━━━━━━━━━━━━━━━━━━━━━━━━━━━━━━━━━━━━━━\u001b[0m \u001b[32m23.2/23.2 MB\u001b[0m \u001b[31m55.2 MB/s\u001b[0m eta \u001b[36m0:00:00\u001b[0m00:01\u001b[0m00:01\u001b[0m\n\u001b[?25hCollecting nvidia-cuda-runtime-cu11==11.8.89 (from torch)\n  Downloading https://download.pytorch.org/whl/cu118/nvidia_cuda_runtime_cu11-11.8.89-py3-none-manylinux1_x86_64.whl (875 kB)\n\u001b[2K     \u001b[90m━━━━━━━━━━━━━━━━━━━━━━━━━━━━━━━━━━━━━━━━\u001b[0m \u001b[32m875.6/875.6 kB\u001b[0m \u001b[31m27.8 MB/s\u001b[0m eta \u001b[36m0:00:00\u001b[0m\n\u001b[?25hCollecting nvidia-cuda-cupti-cu11==11.8.87 (from torch)\n  Downloading https://download.pytorch.org/whl/cu118/nvidia_cuda_cupti_cu11-11.8.87-py3-none-manylinux1_x86_64.whl (13.1 MB)\n\u001b[2K     \u001b[90m━━━━━━━━━━━━━━━━━━━━━━━━━━━━━━━━━━━━━━━━\u001b[0m \u001b[32m13.1/13.1 MB\u001b[0m \u001b[31m62.9 MB/s\u001b[0m eta \u001b[36m0:00:00\u001b[0m00:01\u001b[0m00:01\u001b[0m\n\u001b[?25hCollecting nvidia-cudnn-cu11==9.1.0.70 (from torch)\n  Downloading https://download.pytorch.org/whl/cu118/nvidia_cudnn_cu11-9.1.0.70-py3-none-manylinux2014_x86_64.whl (663.9 MB)\n\u001b[2K     \u001b[90m━━━━━━━━━━━━━━━━━━━━━━━━━━━━━━━━━━━━━━━━\u001b[0m \u001b[32m663.9/663.9 MB\u001b[0m \u001b[31m2.5 MB/s\u001b[0m eta \u001b[36m0:00:00\u001b[0m:00:01\u001b[0mm0:01\u001b[0m\n\u001b[?25hCollecting nvidia-cublas-cu11==11.11.3.6 (from torch)\n  Downloading https://download.pytorch.org/whl/cu118/nvidia_cublas_cu11-11.11.3.6-py3-none-manylinux1_x86_64.whl (417.9 MB)\n\u001b[2K     \u001b[90m━━━━━━━━━━━━━━━━━━━━━━━━━━━━━━━━━━━━━━━━\u001b[0m \u001b[32m417.9/417.9 MB\u001b[0m \u001b[31m3.9 MB/s\u001b[0m eta \u001b[36m0:00:00\u001b[0m:00:01\u001b[0m00:01\u001b[0m\n\u001b[?25hCollecting nvidia-cufft-cu11==10.9.0.58 (from torch)\n  Downloading https://download.pytorch.org/whl/cu118/nvidia_cufft_cu11-10.9.0.58-py3-none-manylinux1_x86_64.whl (168.4 MB)\n\u001b[2K     \u001b[90m━━━━━━━━━━━━━━━━━━━━━━━━━━━━━━━━━━━━━━━━\u001b[0m \u001b[32m168.4/168.4 MB\u001b[0m \u001b[31m9.5 MB/s\u001b[0m eta \u001b[36m0:00:00\u001b[0m:00:01\u001b[0m00:01\u001b[0m\n\u001b[?25hCollecting nvidia-curand-cu11==10.3.0.86 (from torch)\n  Downloading https://download.pytorch.org/whl/cu118/nvidia_curand_cu11-10.3.0.86-py3-none-manylinux1_x86_64.whl (58.1 MB)\n\u001b[2K     \u001b[90m━━━━━━━━━━━━━━━━━━━━━━━━━━━━━━━━━━━━━━━━\u001b[0m \u001b[32m58.1/58.1 MB\u001b[0m \u001b[31m24.5 MB/s\u001b[0m eta \u001b[36m0:00:00\u001b[0m00:01\u001b[0m00:01\u001b[0m\n\u001b[?25hCollecting nvidia-cusolver-cu11==11.4.1.48 (from torch)\n  Downloading https://download.pytorch.org/whl/cu118/nvidia_cusolver_cu11-11.4.1.48-py3-none-manylinux1_x86_64.whl (128.2 MB)\n\u001b[2K     \u001b[90m━━━━━━━━━━━━━━━━━━━━━━━━━━━━━━━━━━━━━━━━\u001b[0m \u001b[32m128.2/128.2 MB\u001b[0m \u001b[31m12.0 MB/s\u001b[0m eta \u001b[36m0:00:00\u001b[0m00:01\u001b[0m00:01\u001b[0mm\n\u001b[?25hCollecting nvidia-cusparse-cu11==11.7.5.86 (from torch)\n  Downloading https://download.pytorch.org/whl/cu118/nvidia_cusparse_cu11-11.7.5.86-py3-none-manylinux1_x86_64.whl (204.1 MB)\n\u001b[2K     \u001b[90m━━━━━━━━━━━━━━━━━━━━━━━━━━━━━━━━━━━━━━━━\u001b[0m \u001b[32m204.1/204.1 MB\u001b[0m \u001b[31m8.0 MB/s\u001b[0m eta \u001b[36m0:00:00\u001b[0m:00:01\u001b[0m00:01\u001b[0m\n\u001b[?25hCollecting nvidia-nccl-cu11==2.21.5 (from torch)\n  Downloading https://download.pytorch.org/whl/cu118/nvidia_nccl_cu11-2.21.5-py3-none-manylinux2014_x86_64.whl (147.8 MB)\n\u001b[2K     \u001b[90m━━━━━━━━━━━━━━━━━━━━━━━━━━━━━━━━━━━━━━━━\u001b[0m \u001b[32m147.8/147.8 MB\u001b[0m \u001b[31m10.8 MB/s\u001b[0m eta \u001b[36m0:00:00\u001b[0m00:01\u001b[0m00:01\u001b[0m\n\u001b[?25hCollecting nvidia-nvtx-cu11==11.8.86 (from torch)\n  Downloading https://download.pytorch.org/whl/cu118/nvidia_nvtx_cu11-11.8.86-py3-none-manylinux1_x86_64.whl (99 kB)\n\u001b[2K     \u001b[90m━━━━━━━━━━━━━━━━━━━━━━━━━━━━━━━━━━━━━━━━\u001b[0m \u001b[32m99.1/99.1 kB\u001b[0m \u001b[31m6.8 MB/s\u001b[0m eta \u001b[36m0:00:00\u001b[0m\n\u001b[?25hCollecting triton==3.2.0 (from torch)\n  Downloading https://download.pytorch.org/whl/triton-3.2.0-cp310-cp310-manylinux_2_27_x86_64.manylinux_2_28_x86_64.whl.metadata (1.4 kB)\nRequirement already satisfied: sympy==1.13.1 in /usr/local/lib/python3.10/dist-packages (from torch) (1.13.1)\nRequirement already satisfied: mpmath<1.4,>=1.1.0 in /usr/local/lib/python3.10/dist-packages (from sympy==1.13.1->torch) (1.3.0)\nRequirement already satisfied: numpy in /usr/local/lib/python3.10/dist-packages (from torchvision) (1.26.4)\nRequirement already satisfied: pillow!=8.3.*,>=5.3.0 in /usr/local/lib/python3.10/dist-packages (from torchvision) (11.0.0)\nRequirement already satisfied: urllib3>=1.25 in /usr/local/lib/python3.10/dist-packages (from torchdata) (2.3.0)\nRequirement already satisfied: requests in /usr/local/lib/python3.10/dist-packages (from torchdata) (2.32.3)\nRequirement already satisfied: MarkupSafe>=2.0 in /usr/local/lib/python3.10/dist-packages (from jinja2->torch) (3.0.2)\nRequirement already satisfied: mkl_fft in /usr/local/lib/python3.10/dist-packages (from numpy->torchvision) (1.3.8)\nRequirement already satisfied: mkl_random in /usr/local/lib/python3.10/dist-packages (from numpy->torchvision) (1.2.4)\nRequirement already satisfied: mkl_umath in /usr/local/lib/python3.10/dist-packages (from numpy->torchvision) (0.1.1)\nRequirement already satisfied: mkl in /usr/local/lib/python3.10/dist-packages (from numpy->torchvision) (2025.0.1)\nRequirement already satisfied: tbb4py in /usr/local/lib/python3.10/dist-packages (from numpy->torchvision) (2022.0.0)\nRequirement already satisfied: mkl-service in /usr/local/lib/python3.10/dist-packages (from numpy->torchvision) (2.4.1)\nRequirement already satisfied: charset-normalizer<4,>=2 in /usr/local/lib/python3.10/dist-packages (from requests->torchdata) (3.4.1)\nRequirement already satisfied: idna<4,>=2.5 in /usr/local/lib/python3.10/dist-packages (from requests->torchdata) (3.10)\nRequirement already satisfied: certifi>=2017.4.17 in /usr/local/lib/python3.10/dist-packages (from requests->torchdata) (2025.1.31)\nRequirement already satisfied: intel-openmp>=2024 in /usr/local/lib/python3.10/dist-packages (from mkl->numpy->torchvision) (2024.2.0)\nRequirement already satisfied: tbb==2022.* in /usr/local/lib/python3.10/dist-packages (from mkl->numpy->torchvision) (2022.0.0)\nRequirement already satisfied: tcmlib==1.* in /usr/local/lib/python3.10/dist-packages (from tbb==2022.*->mkl->numpy->torchvision) (1.2.0)\nRequirement already satisfied: intel-cmplr-lib-rt in /usr/local/lib/python3.10/dist-packages (from mkl_umath->numpy->torchvision) (2024.2.0)\nRequirement already satisfied: intel-cmplr-lib-ur==2024.2.0 in /usr/local/lib/python3.10/dist-packages (from intel-openmp>=2024->mkl->numpy->torchvision) (2024.2.0)\nDownloading https://download.pytorch.org/whl/cu118/torch-2.6.0%2Bcu118-cp310-cp310-linux_x86_64.whl (848.7 MB)\n\u001b[2K   \u001b[90m━━━━━━━━━━━━━━━━━━━━━━━━━━━━━━━━━━━━━━━━\u001b[0m \u001b[32m848.7/848.7 MB\u001b[0m \u001b[31m946.0 kB/s\u001b[0m eta \u001b[36m0:00:00\u001b[0m0:01\u001b[0m00:01\u001b[0mm\n\u001b[?25hDownloading https://download.pytorch.org/whl/triton-3.2.0-cp310-cp310-manylinux_2_27_x86_64.manylinux_2_28_x86_64.whl (166.6 MB)\n\u001b[2K   \u001b[90m━━━━━━━━━━━━━━━━━━━━━━━━━━━━━━━━━━━━━━━━\u001b[0m \u001b[32m166.6/166.6 MB\u001b[0m \u001b[31m2.3 MB/s\u001b[0m eta \u001b[36m0:00:00\u001b[0m:00:01\u001b[0m00:01\u001b[0m\n\u001b[?25hDownloading https://download.pytorch.org/whl/cu118/torchvision-0.21.0%2Bcu118-cp310-cp310-linux_x86_64.whl (6.5 MB)\n\u001b[2K   \u001b[90m━━━━━━━━━━━━━━━━━━━━━━━━━━━━━━━━━━━━━━━━\u001b[0m \u001b[32m6.5/6.5 MB\u001b[0m \u001b[31m57.4 MB/s\u001b[0m eta \u001b[36m0:00:00\u001b[0m00:01\u001b[0m00:01\u001b[0m\n\u001b[?25hDownloading https://download.pytorch.org/whl/cu118/torchaudio-2.6.0%2Bcu118-cp310-cp310-linux_x86_64.whl (3.3 MB)\n\u001b[2K   \u001b[90m━━━━━━━━━━━━━━━━━━━━━━━━━━━━━━━━━━━━━━━━\u001b[0m \u001b[32m3.3/3.3 MB\u001b[0m \u001b[31m55.7 MB/s\u001b[0m eta \u001b[36m0:00:00\u001b[0ma \u001b[36m0:00:01\u001b[0m\n\u001b[?25hDownloading https://download.pytorch.org/whl/torchdata-0.10.0-py3-none-any.whl (57 kB)\n\u001b[2K   \u001b[90m━━━━━━━━━━━━━━━━━━━━━━━━━━━━━━━━━━━━━━━━\u001b[0m \u001b[32m57.4/57.4 kB\u001b[0m \u001b[31m3.7 MB/s\u001b[0m eta \u001b[36m0:00:00\u001b[0m\n\u001b[?25hInstalling collected packages: triton, nvidia-nvtx-cu11, nvidia-nccl-cu11, nvidia-cusparse-cu11, nvidia-curand-cu11, nvidia-cufft-cu11, nvidia-cuda-runtime-cu11, nvidia-cuda-nvrtc-cu11, nvidia-cuda-cupti-cu11, nvidia-cublas-cu11, nvidia-cusolver-cu11, nvidia-cudnn-cu11, torch, torchdata, torchaudio, torchvision\nSuccessfully installed nvidia-cublas-cu11-11.11.3.6 nvidia-cuda-cupti-cu11-11.8.87 nvidia-cuda-nvrtc-cu11-11.8.89 nvidia-cuda-runtime-cu11-11.8.89 nvidia-cudnn-cu11-9.1.0.70 nvidia-cufft-cu11-10.9.0.58 nvidia-curand-cu11-10.3.0.86 nvidia-cusolver-cu11-11.4.1.48 nvidia-cusparse-cu11-11.7.5.86 nvidia-nccl-cu11-2.21.5 nvidia-nvtx-cu11-11.8.86 torch-2.6.0+cu118 torchaudio-2.6.0+cu118 torchdata-0.10.0 torchvision-0.21.0+cu118 triton-3.2.0\nCollecting pytorch-lightning\n  Downloading pytorch_lightning-2.5.0.post0-py3-none-any.whl.metadata (21 kB)\nRequirement already satisfied: torch>=2.1.0 in /usr/local/lib/python3.10/dist-packages (from pytorch-lightning) (2.6.0+cu118)\nRequirement already satisfied: tqdm>=4.57.0 in /usr/local/lib/python3.10/dist-packages (from pytorch-lightning) (4.67.1)\nRequirement already satisfied: PyYAML>=5.4 in /usr/local/lib/python3.10/dist-packages (from pytorch-lightning) (6.0.2)\nRequirement already satisfied: fsspec>=2022.5.0 in /usr/local/lib/python3.10/dist-packages (from fsspec[http]>=2022.5.0->pytorch-lightning) (2024.12.0)\nRequirement already satisfied: torchmetrics>=0.7.0 in /usr/local/lib/python3.10/dist-packages (from pytorch-lightning) (1.6.1)\nRequirement already satisfied: packaging>=20.0 in /usr/local/lib/python3.10/dist-packages (from pytorch-lightning) (24.2)\nRequirement already satisfied: typing-extensions>=4.4.0 in /usr/local/lib/python3.10/dist-packages (from pytorch-lightning) (4.12.2)\nRequirement already satisfied: lightning-utilities>=0.10.0 in /usr/local/lib/python3.10/dist-packages (from pytorch-lightning) (0.12.0)\nRequirement already satisfied: aiohttp!=4.0.0a0,!=4.0.0a1 in /usr/local/lib/python3.10/dist-packages (from fsspec[http]>=2022.5.0->pytorch-lightning) (3.11.12)\nRequirement already satisfied: setuptools in /usr/local/lib/python3.10/dist-packages (from lightning-utilities>=0.10.0->pytorch-lightning) (75.1.0)\nRequirement already satisfied: filelock in /usr/local/lib/python3.10/dist-packages (from torch>=2.1.0->pytorch-lightning) (3.17.0)\nRequirement already satisfied: networkx in /usr/local/lib/python3.10/dist-packages (from torch>=2.1.0->pytorch-lightning) (3.4.2)\nRequirement already satisfied: jinja2 in /usr/local/lib/python3.10/dist-packages (from torch>=2.1.0->pytorch-lightning) (3.1.4)\nRequirement already satisfied: nvidia-cuda-nvrtc-cu11==11.8.89 in /usr/local/lib/python3.10/dist-packages (from torch>=2.1.0->pytorch-lightning) (11.8.89)\nRequirement already satisfied: nvidia-cuda-runtime-cu11==11.8.89 in /usr/local/lib/python3.10/dist-packages (from torch>=2.1.0->pytorch-lightning) (11.8.89)\nRequirement already satisfied: nvidia-cuda-cupti-cu11==11.8.87 in /usr/local/lib/python3.10/dist-packages (from torch>=2.1.0->pytorch-lightning) (11.8.87)\nRequirement already satisfied: nvidia-cudnn-cu11==9.1.0.70 in /usr/local/lib/python3.10/dist-packages (from torch>=2.1.0->pytorch-lightning) (9.1.0.70)\nRequirement already satisfied: nvidia-cublas-cu11==11.11.3.6 in /usr/local/lib/python3.10/dist-packages (from torch>=2.1.0->pytorch-lightning) (11.11.3.6)\nRequirement already satisfied: nvidia-cufft-cu11==10.9.0.58 in /usr/local/lib/python3.10/dist-packages (from torch>=2.1.0->pytorch-lightning) (10.9.0.58)\nRequirement already satisfied: nvidia-curand-cu11==10.3.0.86 in /usr/local/lib/python3.10/dist-packages (from torch>=2.1.0->pytorch-lightning) (10.3.0.86)\nRequirement already satisfied: nvidia-cusolver-cu11==11.4.1.48 in /usr/local/lib/python3.10/dist-packages (from torch>=2.1.0->pytorch-lightning) (11.4.1.48)\nRequirement already satisfied: nvidia-cusparse-cu11==11.7.5.86 in /usr/local/lib/python3.10/dist-packages (from torch>=2.1.0->pytorch-lightning) (11.7.5.86)\nRequirement already satisfied: nvidia-nccl-cu11==2.21.5 in /usr/local/lib/python3.10/dist-packages (from torch>=2.1.0->pytorch-lightning) (2.21.5)\nRequirement already satisfied: nvidia-nvtx-cu11==11.8.86 in /usr/local/lib/python3.10/dist-packages (from torch>=2.1.0->pytorch-lightning) (11.8.86)\nRequirement already satisfied: triton==3.2.0 in /usr/local/lib/python3.10/dist-packages (from torch>=2.1.0->pytorch-lightning) (3.2.0)\nRequirement already satisfied: sympy==1.13.1 in /usr/local/lib/python3.10/dist-packages (from torch>=2.1.0->pytorch-lightning) (1.13.1)\nRequirement already satisfied: mpmath<1.4,>=1.1.0 in /usr/local/lib/python3.10/dist-packages (from sympy==1.13.1->torch>=2.1.0->pytorch-lightning) (1.3.0)\nRequirement already satisfied: numpy>1.20.0 in /usr/local/lib/python3.10/dist-packages (from torchmetrics>=0.7.0->pytorch-lightning) (1.26.4)\nRequirement already satisfied: aiohappyeyeballs>=2.3.0 in /usr/local/lib/python3.10/dist-packages (from aiohttp!=4.0.0a0,!=4.0.0a1->fsspec[http]>=2022.5.0->pytorch-lightning) (2.4.6)\nRequirement already satisfied: aiosignal>=1.1.2 in /usr/local/lib/python3.10/dist-packages (from aiohttp!=4.0.0a0,!=4.0.0a1->fsspec[http]>=2022.5.0->pytorch-lightning) (1.3.2)\nRequirement already satisfied: async-timeout<6.0,>=4.0 in /usr/local/lib/python3.10/dist-packages (from aiohttp!=4.0.0a0,!=4.0.0a1->fsspec[http]>=2022.5.0->pytorch-lightning) (5.0.1)\nRequirement already satisfied: attrs>=17.3.0 in /usr/local/lib/python3.10/dist-packages (from aiohttp!=4.0.0a0,!=4.0.0a1->fsspec[http]>=2022.5.0->pytorch-lightning) (25.1.0)\nRequirement already satisfied: frozenlist>=1.1.1 in /usr/local/lib/python3.10/dist-packages (from aiohttp!=4.0.0a0,!=4.0.0a1->fsspec[http]>=2022.5.0->pytorch-lightning) (1.5.0)\nRequirement already satisfied: multidict<7.0,>=4.5 in /usr/local/lib/python3.10/dist-packages (from aiohttp!=4.0.0a0,!=4.0.0a1->fsspec[http]>=2022.5.0->pytorch-lightning) (6.1.0)\nRequirement already satisfied: propcache>=0.2.0 in /usr/local/lib/python3.10/dist-packages (from aiohttp!=4.0.0a0,!=4.0.0a1->fsspec[http]>=2022.5.0->pytorch-lightning) (0.2.1)\nRequirement already satisfied: yarl<2.0,>=1.17.0 in /usr/local/lib/python3.10/dist-packages (from aiohttp!=4.0.0a0,!=4.0.0a1->fsspec[http]>=2022.5.0->pytorch-lightning) (1.18.3)\nRequirement already satisfied: mkl_fft in /usr/local/lib/python3.10/dist-packages (from numpy>1.20.0->torchmetrics>=0.7.0->pytorch-lightning) (1.3.8)\nRequirement already satisfied: mkl_random in /usr/local/lib/python3.10/dist-packages (from numpy>1.20.0->torchmetrics>=0.7.0->pytorch-lightning) (1.2.4)\nRequirement already satisfied: mkl_umath in /usr/local/lib/python3.10/dist-packages (from numpy>1.20.0->torchmetrics>=0.7.0->pytorch-lightning) (0.1.1)\nRequirement already satisfied: mkl in /usr/local/lib/python3.10/dist-packages (from numpy>1.20.0->torchmetrics>=0.7.0->pytorch-lightning) (2025.0.1)\nRequirement already satisfied: tbb4py in /usr/local/lib/python3.10/dist-packages (from numpy>1.20.0->torchmetrics>=0.7.0->pytorch-lightning) (2022.0.0)\nRequirement already satisfied: mkl-service in /usr/local/lib/python3.10/dist-packages (from numpy>1.20.0->torchmetrics>=0.7.0->pytorch-lightning) (2.4.1)\nRequirement already satisfied: MarkupSafe>=2.0 in /usr/local/lib/python3.10/dist-packages (from jinja2->torch>=2.1.0->pytorch-lightning) (3.0.2)\nRequirement already satisfied: idna>=2.0 in /usr/local/lib/python3.10/dist-packages (from yarl<2.0,>=1.17.0->aiohttp!=4.0.0a0,!=4.0.0a1->fsspec[http]>=2022.5.0->pytorch-lightning) (3.10)\nRequirement already satisfied: intel-openmp>=2024 in /usr/local/lib/python3.10/dist-packages (from mkl->numpy>1.20.0->torchmetrics>=0.7.0->pytorch-lightning) (2024.2.0)\nRequirement already satisfied: tbb==2022.* in /usr/local/lib/python3.10/dist-packages (from mkl->numpy>1.20.0->torchmetrics>=0.7.0->pytorch-lightning) (2022.0.0)\nRequirement already satisfied: tcmlib==1.* in /usr/local/lib/python3.10/dist-packages (from tbb==2022.*->mkl->numpy>1.20.0->torchmetrics>=0.7.0->pytorch-lightning) (1.2.0)\nRequirement already satisfied: intel-cmplr-lib-rt in /usr/local/lib/python3.10/dist-packages (from mkl_umath->numpy>1.20.0->torchmetrics>=0.7.0->pytorch-lightning) (2024.2.0)\nRequirement already satisfied: intel-cmplr-lib-ur==2024.2.0 in /usr/local/lib/python3.10/dist-packages (from intel-openmp>=2024->mkl->numpy>1.20.0->torchmetrics>=0.7.0->pytorch-lightning) (2024.2.0)\nDownloading pytorch_lightning-2.5.0.post0-py3-none-any.whl (819 kB)\n\u001b[2K   \u001b[90m━━━━━━━━━━━━━━━━━━━━━━━━━━━━━━━━━━━━━━━━\u001b[0m \u001b[32m819.3/819.3 kB\u001b[0m \u001b[31m15.1 MB/s\u001b[0m eta \u001b[36m0:00:00\u001b[0m00:01\u001b[0m\n\u001b[?25hInstalling collected packages: pytorch-lightning\nSuccessfully installed pytorch-lightning-2.5.0.post0\n2.6.0+cu118\n",
          "output_type": "stream"
        }
      ],
      "execution_count": null
    },
    {
      "cell_type": "code",
      "source": [
        "\n",
        "print(torch.__version__)  # 目標是 2.1.0\n",
        "!nvcc --version  # 如果已經安裝了CUDA\n"
      ],
      "metadata": {
        "trusted": true,
        "execution": {
          "iopub.status.busy": "2025-03-05T09:22:54.687666Z",
          "iopub.execute_input": "2025-03-05T09:22:54.688103Z",
          "iopub.status.idle": "2025-03-05T09:22:54.833484Z",
          "shell.execute_reply.started": "2025-03-05T09:22:54.688073Z",
          "shell.execute_reply": "2025-03-05T09:22:54.832717Z"
        },
        "id": "yjClsW883NZP",
        "outputId": "2e7c9d25-98bd-4bcb-a69f-6101d1dff37e"
      },
      "outputs": [
        {
          "name": "stdout",
          "text": "2.6.0+cu118\nnvcc: NVIDIA (R) Cuda compiler driver\nCopyright (c) 2005-2023 NVIDIA Corporation\nBuilt on Tue_Aug_15_22:02:13_PDT_2023\nCuda compilation tools, release 12.2, V12.2.140\nBuild cuda_12.2.r12.2/compiler.33191640_0\n",
          "output_type": "stream"
        }
      ],
      "execution_count": null
    },
    {
      "cell_type": "code",
      "source": [
        "!python --version"
      ],
      "metadata": {
        "trusted": true,
        "execution": {
          "iopub.status.busy": "2025-03-05T09:22:54.8361Z",
          "iopub.execute_input": "2025-03-05T09:22:54.836325Z",
          "iopub.status.idle": "2025-03-05T09:22:54.966169Z",
          "shell.execute_reply.started": "2025-03-05T09:22:54.836303Z",
          "shell.execute_reply": "2025-03-05T09:22:54.965399Z"
        },
        "id": "3YnrNu_q3NZP",
        "outputId": "38a46169-d772-4268-c1e6-598cb09f18f8"
      },
      "outputs": [
        {
          "name": "stdout",
          "text": "Python 3.10.12\n",
          "output_type": "stream"
        }
      ],
      "execution_count": null
    },
    {
      "cell_type": "code",
      "source": [
        "# 3. 檢查安裝是否成功\n",
        "import torch\n",
        "import torchdata\n",
        "\n",
        "\n",
        "print(\"Torch version:\", torch.__version__)\n",
        "print(\"Torchdata version:\", torchdata.__version__)\n",
        "\n",
        "\n"
      ],
      "metadata": {
        "trusted": true,
        "execution": {
          "iopub.status.busy": "2025-03-05T09:22:54.968161Z",
          "iopub.execute_input": "2025-03-05T09:22:54.968433Z",
          "iopub.status.idle": "2025-03-05T09:22:54.974943Z",
          "shell.execute_reply.started": "2025-03-05T09:22:54.968412Z",
          "shell.execute_reply": "2025-03-05T09:22:54.974209Z"
        },
        "id": "jQ7XT8-D3NZQ",
        "outputId": "3597374f-fd6b-4bb9-d5ca-06b000a27c33"
      },
      "outputs": [
        {
          "name": "stdout",
          "text": "Torch version: 2.6.0+cu118\nTorchdata version: 0.10.0\n",
          "output_type": "stream"
        }
      ],
      "execution_count": null
    },
    {
      "cell_type": "code",
      "source": [
        "from rdkit import Chem\n",
        "from rdkit.Chem import rdmolops\n",
        "import networkx as nx\n",
        "import matplotlib.pyplot as plt\n",
        "\n",
        "def smiles_to_molgraph(smiles):\n",
        "    # 使用 RDKit 轉換 SMILES 字符串為分子對象\n",
        "    mol = Chem.MolFromSmiles(smiles)\n",
        "    if mol is None:\n",
        "        return None\n",
        "\n",
        "    # 創建空的 NetworkX 圖來表示分子圖\n",
        "    G = nx.Graph()\n",
        "\n",
        "    # 添加原子節點到圖中\n",
        "    for atom in mol.GetAtoms():\n",
        "        G.add_node(atom.GetIdx(), element=atom.GetSymbol())\n",
        "\n",
        "    # 添加鍵邊到圖中\n",
        "    for bond in mol.GetBonds():\n",
        "        start_idx = bond.GetBeginAtomIdx()\n",
        "        end_idx = bond.GetEndAtomIdx()\n",
        "        bond_type = bond.GetBondTypeAsDouble()  # 鍵的類型（單鍵、雙鍵等）\n",
        "        G.add_edge(start_idx, end_idx, bond_type=bond_type)\n",
        "\n",
        "    return G\n",
        "\n",
        "def draw_molgraph(G):\n",
        "    # 使用 matplotlib 繪製分子圖\n",
        "    pos = nx.spring_layout(G)  # 使用 spring layout 算法來排布節點\n",
        "    labels = nx.get_node_attributes(G, 'element')  # 標籤為原子符號\n",
        "\n",
        "    # 繪製圖形\n",
        "    nx.draw(G, pos, with_labels=True, labels=labels, node_size=700, node_color='skyblue', font_size=10)\n",
        "    edge_labels = nx.get_edge_attributes(G, 'bond_type')  # 鍵的類型標籤\n",
        "    nx.draw_networkx_edge_labels(G, pos, edge_labels=edge_labels)\n",
        "    plt.show()\n",
        "\n",
        "# 測試：轉換 SMILES 並顯示 MolGraph\n",
        "smiles = \"CCO\"\n",
        "mol_graph = smiles_to_molgraph(smiles)\n",
        "draw_molgraph(mol_graph)\n"
      ],
      "metadata": {
        "trusted": true,
        "execution": {
          "iopub.status.busy": "2025-03-05T09:22:54.975981Z",
          "iopub.execute_input": "2025-03-05T09:22:54.976266Z",
          "iopub.status.idle": "2025-03-05T09:22:55.700518Z",
          "shell.execute_reply.started": "2025-03-05T09:22:54.976238Z",
          "shell.execute_reply": "2025-03-05T09:22:55.699713Z"
        },
        "id": "ZZOEdKHU3NZQ",
        "outputId": "1a228771-7e99-4658-ee30-30f633a218c6"
      },
      "outputs": [
        {
          "output_type": "display_data",
          "data": {
            "text/plain": "<Figure size 640x480 with 1 Axes>",
            "image/png": "[encoded data removed]"
          },
          "metadata": {}
        }
      ],
      "execution_count": null
    },
    {
      "cell_type": "code",
      "source": [
        "from rdkit import Chem\n",
        "from rdkit.Chem.Pharm2D import Gobbi_Pharm2D, Generate\n",
        "\n",
        "# 讀取分子\n",
        "smiles = \"O=C(c1ccccc1S(=O)(=O)N2CCN(CC2)c3nnc(s3)C(F)(F)F)\"\n",
        "mol = Chem.MolFromSmiles(smiles)\n",
        "\n",
        "# 生成 Pharmacophore Fingerprint\n",
        "fp = Generate.Gen2DFingerprint(mol, Gobbi_Pharm2D.factory)\n",
        "print(fp)\n"
      ],
      "metadata": {
        "trusted": true,
        "execution": {
          "iopub.status.busy": "2025-03-05T09:22:55.701427Z",
          "iopub.execute_input": "2025-03-05T09:22:55.701896Z",
          "iopub.status.idle": "2025-03-05T09:22:55.738916Z",
          "shell.execute_reply.started": "2025-03-05T09:22:55.70187Z",
          "shell.execute_reply": "2025-03-05T09:22:55.738248Z"
        },
        "id": "1wPGVO5o3NZQ",
        "outputId": "c2e79e50-fb13-49a4-bd75-8a83063b3b64"
      },
      "outputs": [
        {
          "name": "stdout",
          "text": "<rdkit.DataStructs.cDataStructs.SparseBitVect object at 0x7998816dcd10>\n",
          "output_type": "stream"
        }
      ],
      "execution_count": null
    },
    {
      "cell_type": "code",
      "source": [
        "!pip install torch-scatter torch-sparse torch-cluster torch-spline-conv -f https://data.pyg.org/whl/torch-2.1.0+cu118.html\n",
        "\n",
        "!pip install torch-geometric"
      ],
      "metadata": {
        "trusted": true,
        "execution": {
          "iopub.status.busy": "2025-03-05T09:22:55.739578Z",
          "iopub.execute_input": "2025-03-05T09:22:55.739808Z",
          "iopub.status.idle": "2025-03-05T09:23:05.548499Z",
          "shell.execute_reply.started": "2025-03-05T09:22:55.739789Z",
          "shell.execute_reply": "2025-03-05T09:23:05.547583Z"
        },
        "id": "zjEKGkV43NZQ",
        "outputId": "b39ff750-9ec6-4464-d2fc-8e78191094b8"
      },
      "outputs": [
        {
          "name": "stdout",
          "text": "Looking in links: https://data.pyg.org/whl/torch-2.1.0+cu118.html\nCollecting torch-scatter\n  Downloading https://data.pyg.org/whl/torch-2.1.0%2Bcu118/torch_scatter-2.1.2%2Bpt21cu118-cp310-cp310-linux_x86_64.whl (10.2 MB)\n\u001b[2K     \u001b[90m━━━━━━━━━━━━━━━━━━━━━━━━━━━━━━━━━━━━━━━━\u001b[0m \u001b[32m10.2/10.2 MB\u001b[0m \u001b[31m74.5 MB/s\u001b[0m eta \u001b[36m0:00:00\u001b[0m:00:01\u001b[0m:01\u001b[0m\n\u001b[?25hCollecting torch-sparse\n  Downloading https://data.pyg.org/whl/torch-2.1.0%2Bcu118/torch_sparse-0.6.18%2Bpt21cu118-cp310-cp310-linux_x86_64.whl (4.9 MB)\n\u001b[2K     \u001b[90m━━━━━━━━━━━━━━━━━━━━━━━━━━━━━━━━━━━━━━━━\u001b[0m \u001b[32m4.9/4.9 MB\u001b[0m \u001b[31m21.1 MB/s\u001b[0m eta \u001b[36m0:00:00\u001b[0m00:01\u001b[0m00:01\u001b[0m\n\u001b[?25hCollecting torch-cluster\n  Downloading https://data.pyg.org/whl/torch-2.1.0%2Bcu118/torch_cluster-1.6.3%2Bpt21cu118-cp310-cp310-linux_x86_64.whl (3.3 MB)\n\u001b[2K     \u001b[90m━━━━━━━━━━━━━━━━━━━━━━━━━━━━━━━━━━━━━━━━\u001b[0m \u001b[32m3.3/3.3 MB\u001b[0m \u001b[31m84.8 MB/s\u001b[0m eta \u001b[36m0:00:00\u001b[0m:00:01\u001b[0m\n\u001b[?25hCollecting torch-spline-conv\n  Downloading https://data.pyg.org/whl/torch-2.1.0%2Bcu118/torch_spline_conv-1.2.2%2Bpt21cu118-cp310-cp310-linux_x86_64.whl (887 kB)\n\u001b[2K     \u001b[90m━━━━━━━━━━━━━━━━━━━━━━━━━━━━━━━━━━━━━━━━\u001b[0m \u001b[32m887.8/887.8 kB\u001b[0m \u001b[31m38.5 MB/s\u001b[0m eta \u001b[36m0:00:00\u001b[0m\n\u001b[?25hRequirement already satisfied: scipy in /usr/local/lib/python3.10/dist-packages (from torch-sparse) (1.13.1)\nRequirement already satisfied: numpy<2.3,>=1.22.4 in /usr/local/lib/python3.10/dist-packages (from scipy->torch-sparse) (1.26.4)\nRequirement already satisfied: mkl_fft in /usr/local/lib/python3.10/dist-packages (from numpy<2.3,>=1.22.4->scipy->torch-sparse) (1.3.8)\nRequirement already satisfied: mkl_random in /usr/local/lib/python3.10/dist-packages (from numpy<2.3,>=1.22.4->scipy->torch-sparse) (1.2.4)\nRequirement already satisfied: mkl_umath in /usr/local/lib/python3.10/dist-packages (from numpy<2.3,>=1.22.4->scipy->torch-sparse) (0.1.1)\nRequirement already satisfied: mkl in /usr/local/lib/python3.10/dist-packages (from numpy<2.3,>=1.22.4->scipy->torch-sparse) (2025.0.1)\nRequirement already satisfied: tbb4py in /usr/local/lib/python3.10/dist-packages (from numpy<2.3,>=1.22.4->scipy->torch-sparse) (2022.0.0)\nRequirement already satisfied: mkl-service in /usr/local/lib/python3.10/dist-packages (from numpy<2.3,>=1.22.4->scipy->torch-sparse) (2.4.1)\nRequirement already satisfied: intel-openmp>=2024 in /usr/local/lib/python3.10/dist-packages (from mkl->numpy<2.3,>=1.22.4->scipy->torch-sparse) (2024.2.0)\nRequirement already satisfied: tbb==2022.* in /usr/local/lib/python3.10/dist-packages (from mkl->numpy<2.3,>=1.22.4->scipy->torch-sparse) (2022.0.0)\nRequirement already satisfied: tcmlib==1.* in /usr/local/lib/python3.10/dist-packages (from tbb==2022.*->mkl->numpy<2.3,>=1.22.4->scipy->torch-sparse) (1.2.0)\nRequirement already satisfied: intel-cmplr-lib-rt in /usr/local/lib/python3.10/dist-packages (from mkl_umath->numpy<2.3,>=1.22.4->scipy->torch-sparse) (2024.2.0)\nRequirement already satisfied: intel-cmplr-lib-ur==2024.2.0 in /usr/local/lib/python3.10/dist-packages (from intel-openmp>=2024->mkl->numpy<2.3,>=1.22.4->scipy->torch-sparse) (2024.2.0)\nInstalling collected packages: torch-spline-conv, torch-scatter, torch-sparse, torch-cluster\nSuccessfully installed torch-cluster-1.6.3+pt21cu118 torch-scatter-2.1.2+pt21cu118 torch-sparse-0.6.18+pt21cu118 torch-spline-conv-1.2.2+pt21cu118\nCollecting torch-geometric\n  Downloading torch_geometric-2.6.1-py3-none-any.whl.metadata (63 kB)\n\u001b[2K     \u001b[90m━━━━━━━━━━━━━━━━━━━━━━━━━━━━━━━━━━━━━━━━\u001b[0m \u001b[32m63.1/63.1 kB\u001b[0m \u001b[31m2.6 MB/s\u001b[0m eta \u001b[36m0:00:00\u001b[0m\n\u001b[?25hRequirement already satisfied: aiohttp in /usr/local/lib/python3.10/dist-packages (from torch-geometric) (3.11.12)\nRequirement already satisfied: fsspec in /usr/local/lib/python3.10/dist-packages (from torch-geometric) (2024.12.0)\nRequirement already satisfied: jinja2 in /usr/local/lib/python3.10/dist-packages (from torch-geometric) (3.1.4)\nRequirement already satisfied: numpy in /usr/local/lib/python3.10/dist-packages (from torch-geometric) (1.26.4)\nRequirement already satisfied: psutil>=5.8.0 in /usr/local/lib/python3.10/dist-packages (from torch-geometric) (5.9.5)\nRequirement already satisfied: pyparsing in /usr/local/lib/python3.10/dist-packages (from torch-geometric) (3.2.0)\nRequirement already satisfied: requests in /usr/local/lib/python3.10/dist-packages (from torch-geometric) (2.32.3)\nRequirement already satisfied: tqdm in /usr/local/lib/python3.10/dist-packages (from torch-geometric) (4.67.1)\nRequirement already satisfied: aiohappyeyeballs>=2.3.0 in /usr/local/lib/python3.10/dist-packages (from aiohttp->torch-geometric) (2.4.6)\nRequirement already satisfied: aiosignal>=1.1.2 in /usr/local/lib/python3.10/dist-packages (from aiohttp->torch-geometric) (1.3.2)\nRequirement already satisfied: async-timeout<6.0,>=4.0 in /usr/local/lib/python3.10/dist-packages (from aiohttp->torch-geometric) (5.0.1)\nRequirement already satisfied: attrs>=17.3.0 in /usr/local/lib/python3.10/dist-packages (from aiohttp->torch-geometric) (25.1.0)\nRequirement already satisfied: frozenlist>=1.1.1 in /usr/local/lib/python3.10/dist-packages (from aiohttp->torch-geometric) (1.5.0)\nRequirement already satisfied: multidict<7.0,>=4.5 in /usr/local/lib/python3.10/dist-packages (from aiohttp->torch-geometric) (6.1.0)\nRequirement already satisfied: propcache>=0.2.0 in /usr/local/lib/python3.10/dist-packages (from aiohttp->torch-geometric) (0.2.1)\nRequirement already satisfied: yarl<2.0,>=1.17.0 in /usr/local/lib/python3.10/dist-packages (from aiohttp->torch-geometric) (1.18.3)\nRequirement already satisfied: MarkupSafe>=2.0 in /usr/local/lib/python3.10/dist-packages (from jinja2->torch-geometric) (3.0.2)\nRequirement already satisfied: mkl_fft in /usr/local/lib/python3.10/dist-packages (from numpy->torch-geometric) (1.3.8)\nRequirement already satisfied: mkl_random in /usr/local/lib/python3.10/dist-packages (from numpy->torch-geometric) (1.2.4)\nRequirement already satisfied: mkl_umath in /usr/local/lib/python3.10/dist-packages (from numpy->torch-geometric) (0.1.1)\nRequirement already satisfied: mkl in /usr/local/lib/python3.10/dist-packages (from numpy->torch-geometric) (2025.0.1)\nRequirement already satisfied: tbb4py in /usr/local/lib/python3.10/dist-packages (from numpy->torch-geometric) (2022.0.0)\nRequirement already satisfied: mkl-service in /usr/local/lib/python3.10/dist-packages (from numpy->torch-geometric) (2.4.1)\nRequirement already satisfied: charset-normalizer<4,>=2 in /usr/local/lib/python3.10/dist-packages (from requests->torch-geometric) (3.4.1)\nRequirement already satisfied: idna<4,>=2.5 in /usr/local/lib/python3.10/dist-packages (from requests->torch-geometric) (3.10)\nRequirement already satisfied: urllib3<3,>=1.21.1 in /usr/local/lib/python3.10/dist-packages (from requests->torch-geometric) (2.3.0)\nRequirement already satisfied: certifi>=2017.4.17 in /usr/local/lib/python3.10/dist-packages (from requests->torch-geometric) (2025.1.31)\nRequirement already satisfied: typing-extensions>=4.1.0 in /usr/local/lib/python3.10/dist-packages (from multidict<7.0,>=4.5->aiohttp->torch-geometric) (4.12.2)\nRequirement already satisfied: intel-openmp>=2024 in /usr/local/lib/python3.10/dist-packages (from mkl->numpy->torch-geometric) (2024.2.0)\nRequirement already satisfied: tbb==2022.* in /usr/local/lib/python3.10/dist-packages (from mkl->numpy->torch-geometric) (2022.0.0)\nRequirement already satisfied: tcmlib==1.* in /usr/local/lib/python3.10/dist-packages (from tbb==2022.*->mkl->numpy->torch-geometric) (1.2.0)\nRequirement already satisfied: intel-cmplr-lib-rt in /usr/local/lib/python3.10/dist-packages (from mkl_umath->numpy->torch-geometric) (2024.2.0)\nRequirement already satisfied: intel-cmplr-lib-ur==2024.2.0 in /usr/local/lib/python3.10/dist-packages (from intel-openmp>=2024->mkl->numpy->torch-geometric) (2024.2.0)\nDownloading torch_geometric-2.6.1-py3-none-any.whl (1.1 MB)\n\u001b[2K   \u001b[90m━━━━━━━━━━━━━━━━━━━━━━━━━━━━━━━━━━━━━━━━\u001b[0m \u001b[32m1.1/1.1 MB\u001b[0m \u001b[31m28.8 MB/s\u001b[0m eta \u001b[36m0:00:00\u001b[0m00:01\u001b[0m\n\u001b[?25hInstalling collected packages: torch-geometric\nSuccessfully installed torch-geometric-2.6.1\n",
          "output_type": "stream"
        }
      ],
      "execution_count": null
    },
    {
      "cell_type": "code",
      "source": [
        "import torch\n",
        "from rdkit import Chem\n",
        "from torch_geometric.data import Data\n",
        "\n",
        "def smiles_to_pyg_graph(smiles):\n",
        "    \"\"\"將 SMILES 轉換成 PyTorch Geometric 的圖結構\"\"\"\n",
        "    mol = Chem.MolFromSmiles(smiles)\n",
        "    if mol is None:\n",
        "        return None\n",
        "\n",
        "    # 原子特徵\n",
        "    atom_features = [atom.GetAtomicNum() for atom in mol.GetAtoms()]\n",
        "    x = torch.tensor(atom_features, dtype=torch.float32).view(-1, 1)\n",
        "\n",
        "    # 建立鍵結（Edge）資訊\n",
        "    edge_index = []\n",
        "    for bond in mol.GetBonds():\n",
        "        i, j = bond.GetBeginAtomIdx(), bond.GetEndAtomIdx()\n",
        "        edge_index.append([i, j])\n",
        "        edge_index.append([j, i])  # 雙向邊\n",
        "\n",
        "    edge_index = torch.tensor(edge_index, dtype=torch.long).t().contiguous()\n",
        "\n",
        "    return Data(x=x, edge_index=edge_index)\n",
        "\n",
        "# 測試\n",
        "smiles = \"CCO\"  # 乙醇\n",
        "graph = smiles_to_pyg_graph(smiles)\n",
        "print(graph)\n"
      ],
      "metadata": {
        "trusted": true,
        "execution": {
          "iopub.status.busy": "2025-03-05T09:23:05.549551Z",
          "iopub.execute_input": "2025-03-05T09:23:05.549914Z",
          "iopub.status.idle": "2025-03-05T09:23:09.110359Z",
          "shell.execute_reply.started": "2025-03-05T09:23:05.549884Z",
          "shell.execute_reply": "2025-03-05T09:23:09.109432Z"
        },
        "id": "8Q2RcO1q3NZQ",
        "outputId": "4c7b1fd7-0134-451e-c1f2-15cde26e6b33"
      },
      "outputs": [
        {
          "name": "stderr",
          "text": "/usr/local/lib/python3.10/dist-packages/torch_geometric/typing.py:86: UserWarning: An issue occurred while importing 'torch-scatter'. Disabling its usage. Stacktrace: /usr/local/lib/python3.10/dist-packages/torch_scatter/_version_cuda.so: undefined symbol: _ZN3c1017RegisterOperatorsD1Ev\n  warnings.warn(f\"An issue occurred while importing 'torch-scatter'. \"\n/usr/local/lib/python3.10/dist-packages/torch_geometric/typing.py:97: UserWarning: An issue occurred while importing 'torch-cluster'. Disabling its usage. Stacktrace: /usr/local/lib/python3.10/dist-packages/torch_cluster/_version_cuda.so: undefined symbol: _ZN3c1017RegisterOperatorsD1Ev\n  warnings.warn(f\"An issue occurred while importing 'torch-cluster'. \"\n/usr/local/lib/python3.10/dist-packages/torch_geometric/typing.py:113: UserWarning: An issue occurred while importing 'torch-spline-conv'. Disabling its usage. Stacktrace: /usr/local/lib/python3.10/dist-packages/torch_spline_conv/_version_cuda.so: undefined symbol: _ZN3c1017RegisterOperatorsD1Ev\n  warnings.warn(\n/usr/local/lib/python3.10/dist-packages/torch_geometric/typing.py:124: UserWarning: An issue occurred while importing 'torch-sparse'. Disabling its usage. Stacktrace: /usr/local/lib/python3.10/dist-packages/torch_sparse/_version_cuda.so: undefined symbol: _ZN3c1017RegisterOperatorsD1Ev\n  warnings.warn(f\"An issue occurred while importing 'torch-sparse'. \"\n",
          "output_type": "stream"
        },
        {
          "name": "stdout",
          "text": "Data(x=[3, 1], edge_index=[2, 4])\n",
          "output_type": "stream"
        }
      ],
      "execution_count": null
    },
    {
      "cell_type": "code",
      "source": [
        "import os\n",
        "import pandas as pd\n",
        "import torch\n",
        "%cd MAT/src\n",
        "#os.chdir('src')\n",
        "from featurization.data_utils import load_data_from_df, construct_loader\n",
        "\n",
        "batch_size = 64\n",
        "\n",
        "# Formal charges are one-hot encoded to keep compatibility with the pre-trained weights.\n",
        "# If you do not plan to use the pre-trained weights, we recommend to set one_hot_formal_charge to False.\n",
        "X, y = load_data_from_df('/kaggle/working/MAT/data/freesolv/freesolv.csv', one_hot_formal_charge=True)\n",
        "data_loader = construct_loader(X, y, batch_size)\n",
        "\n",
        "\n",
        "pd.read_csv('../data/freesolv/freesolv.csv').head()"
      ],
      "metadata": {
        "trusted": true,
        "execution": {
          "iopub.status.busy": "2025-03-05T09:23:09.111308Z",
          "iopub.execute_input": "2025-03-05T09:23:09.111823Z",
          "iopub.status.idle": "2025-03-05T09:23:15.4445Z",
          "shell.execute_reply.started": "2025-03-05T09:23:09.111795Z",
          "shell.execute_reply": "2025-03-05T09:23:15.443801Z"
        },
        "id": "R79tr4C43NZQ",
        "outputId": "05b71de2-00a3-4bb7-9a6d-03deca94251a"
      },
      "outputs": [
        {
          "name": "stdout",
          "text": "/kaggle/working/MAT/src\n",
          "output_type": "stream"
        },
        {
          "execution_count": 15,
          "output_type": "execute_result",
          "data": {
            "text/plain": "                   smiles         y\n0  CN(C)C(=O)c1ccc(cc1)OC -1.874467\n1            CS(=O)(=O)Cl -0.277514\n2                CC(C)C=C  1.465089\n3              CCc1cnccn1 -0.428367\n4                CCCCCCCO -0.105855",
            "text/html": "<div>\n<style scoped>\n    .dataframe tbody tr th:only-of-type {\n        vertical-align: middle;\n    }\n\n    .dataframe tbody tr th {\n        vertical-align: top;\n    }\n\n    .dataframe thead th {\n        text-align: right;\n    }\n</style>\n<table border=\"1\" class=\"dataframe\">\n  <thead>\n    <tr style=\"text-align: right;\">\n      <th></th>\n      <th>smiles</th>\n      <th>y</th>\n    </tr>\n  </thead>\n  <tbody>\n    <tr>\n      <th>0</th>\n      <td>CN(C)C(=O)c1ccc(cc1)OC</td>\n      <td>-1.874467</td>\n    </tr>\n    <tr>\n      <th>1</th>\n      <td>CS(=O)(=O)Cl</td>\n      <td>-0.277514</td>\n    </tr>\n    <tr>\n      <th>2</th>\n      <td>CC(C)C=C</td>\n      <td>1.465089</td>\n    </tr>\n    <tr>\n      <th>3</th>\n      <td>CCc1cnccn1</td>\n      <td>-0.428367</td>\n    </tr>\n    <tr>\n      <th>4</th>\n      <td>CCCCCCCO</td>\n      <td>-0.105855</td>\n    </tr>\n  </tbody>\n</table>\n</div>"
          },
          "metadata": {}
        }
      ],
      "execution_count": null
    },
    {
      "cell_type": "code",
      "source": [
        "from transformer import make_model\n",
        "d_atom = X[0][0].shape[1]  # It depends on the used featurization.\n",
        "\n",
        "model_params = {\n",
        "    'd_atom': d_atom,\n",
        "    'd_model': 1024,\n",
        "    'N': 8,\n",
        "    'h': 16,\n",
        "    'N_dense': 1,\n",
        "    'lambda_attention': 0.33,\n",
        "    'lambda_distance': 0.33,\n",
        "    'leaky_relu_slope': 0.1,\n",
        "    'dense_output_nonlinearity': 'relu',\n",
        "    'distance_matrix_kernel': 'exp',\n",
        "    'dropout': 0.0,\n",
        "    'aggregation_type': 'mean'\n",
        "}\n",
        "\n",
        "model = make_model(**model_params)"
      ],
      "metadata": {
        "trusted": true,
        "execution": {
          "iopub.status.busy": "2025-03-05T09:23:15.44557Z",
          "iopub.execute_input": "2025-03-05T09:23:15.445916Z",
          "iopub.status.idle": "2025-03-05T09:23:15.844592Z",
          "shell.execute_reply.started": "2025-03-05T09:23:15.445885Z",
          "shell.execute_reply": "2025-03-05T09:23:15.843736Z"
        },
        "id": "_Yf4jyfD3NZR"
      },
      "outputs": [],
      "execution_count": null
    },
    {
      "cell_type": "code",
      "source": [
        "pretrained_name = '/kaggle/input/pretrain/pretrained_weights.pt'\n",
        "pretrained_state_dict = torch.load(pretrained_name)\n",
        "model_state_dict = model.state_dict()\n",
        "for name, param in pretrained_state_dict.items():\n",
        "    if 'generator' in name:\n",
        "         continue\n",
        "    if isinstance(param, torch.nn.Parameter):\n",
        "        param = param.data\n",
        "    model_state_dict[name].copy_(param)"
      ],
      "metadata": {
        "trusted": true,
        "execution": {
          "iopub.status.busy": "2025-03-05T09:23:15.845388Z",
          "iopub.execute_input": "2025-03-05T09:23:15.845605Z",
          "iopub.status.idle": "2025-03-05T09:23:17.914587Z",
          "shell.execute_reply.started": "2025-03-05T09:23:15.845586Z",
          "shell.execute_reply": "2025-03-05T09:23:17.913812Z"
        },
        "id": "cD6Gd4Np3NZR"
      },
      "outputs": [],
      "execution_count": null
    },
    {
      "cell_type": "code",
      "source": [
        "model.to(torch.device('cuda'))\n",
        "\n",
        "for batch in data_loader:\n",
        "    adjacency_matrix, node_features, distance_matrix, y = batch\n",
        "    batch_mask = torch.sum(torch.abs(node_features), dim=-1) != 0\n",
        "    output = model(node_features, batch_mask, adjacency_matrix, distance_matrix, None)\n",
        "\n",
        "    print(output)"
      ],
      "metadata": {
        "trusted": true,
        "execution": {
          "iopub.status.busy": "2025-03-05T09:23:17.915484Z",
          "iopub.execute_input": "2025-03-05T09:23:17.915812Z",
          "iopub.status.idle": "2025-03-05T09:23:18.904342Z",
          "shell.execute_reply.started": "2025-03-05T09:23:17.915783Z",
          "shell.execute_reply": "2025-03-05T09:23:18.903237Z"
        },
        "id": "MhYa50Vq3NZR",
        "outputId": "d96c779f-94c1-4369-efc1-8bf6ae5bb9c2"
      },
      "outputs": [
        {
          "name": "stderr",
          "text": "/kaggle/working/MAT/src/featurization/data_utils.py:270: UserWarning: The torch.cuda.*DtypeTensor constructors are no longer recommended. It's best to use methods such as torch.tensor(data, dtype=*, device='cuda') to create tensors. (Triggered internally at /pytorch/torch/csrc/tensor/python_tensor.cpp:78.)\n  return [FloatTensor(features) for features in (adjacency_list, features_list, distance_list, labels)]\n/kaggle/working/MAT/src/featurization/data_utils.py:270: UserWarning: Creating a tensor from a list of numpy.ndarrays is extremely slow. Please consider converting the list to a single numpy.ndarray with numpy.array() before converting to a tensor. (Triggered internally at /pytorch/torch/csrc/utils/tensor_new.cpp:254.)\n  return [FloatTensor(features) for features in (adjacency_list, features_list, distance_list, labels)]\n",
          "output_type": "stream"
        },
        {
          "name": "stdout",
          "text": "tensor([[-2.4051],\n        [-1.7210],\n        [-2.6658],\n        [-2.7834],\n        [-3.3124],\n        [-2.2270],\n        [-0.9334],\n        [-2.9410],\n        [-2.5840],\n        [-2.9793],\n        [-3.2283],\n        [-2.5585],\n        [-2.9503],\n        [-2.5413],\n        [-1.4790],\n        [-2.6938],\n        [-2.5343],\n        [-3.0700],\n        [-1.7521],\n        [-2.8508],\n        [-2.7233],\n        [-2.7745],\n        [-1.4555],\n        [-2.0842],\n        [-2.4641],\n        [-2.2478],\n        [-2.7510],\n        [-2.9244],\n        [-2.7238],\n        [-0.7718],\n        [-2.8122],\n        [-2.7351],\n        [-3.3129],\n        [-1.9302],\n        [-1.9331],\n        [-2.7941],\n        [-0.0988],\n        [-2.9912],\n        [-2.1983],\n        [-2.2464],\n        [-2.2204],\n        [-2.8957],\n        [-3.0902],\n        [-2.8692],\n        [-1.3732],\n        [-0.7021],\n        [-3.3444],\n        [-2.4148],\n        [-2.2097],\n        [-1.8821],\n        [-2.6916],\n        [-2.9209],\n        [-1.8730],\n        [-2.0813],\n        [-1.9332],\n        [-2.5683],\n        [-1.5145],\n        [-3.0541],\n        [-2.9842],\n        [-1.9355],\n        [-2.1927],\n        [-2.2706],\n        [-2.7392],\n        [-2.5036]], device='cuda:0', grad_fn=<AddmmBackward0>)\ntensor([[-2.0413],\n        [-2.1093],\n        [-1.3446],\n        [-2.6851],\n        [-2.8194],\n        [-2.5664],\n        [-2.8834],\n        [-2.8305],\n        [-2.9473],\n        [-2.8130],\n        [-3.2390],\n        [-2.5514],\n        [-1.2606],\n        [-1.5762],\n        [-2.0979],\n        [-2.5598],\n        [-2.6529],\n        [-2.2661],\n        [-2.8651],\n        [-1.7426],\n        [-2.3749],\n        [-2.5195],\n        [-2.6949],\n        [-0.4243],\n        [-2.7005],\n        [-1.1840],\n        [-2.7445],\n        [-0.0170],\n        [-1.7273],\n        [-1.8852],\n        [-1.9179],\n        [-1.2836],\n        [-2.0949],\n        [-3.1871],\n        [-2.7901],\n        [-2.6417],\n        [-1.8641],\n        [-2.7444],\n        [-2.5011],\n        [-3.1198],\n        [-2.8873],\n        [-3.0554],\n        [-3.3040],\n        [-2.6764],\n        [-1.8445],\n        [-2.7948],\n        [-2.8468],\n        [-2.5783],\n        [-2.6425],\n        [-2.3665],\n        [-2.2480],\n        [-2.4328],\n        [-2.9206],\n        [-2.2957],\n        [-2.7036],\n        [-2.9160],\n        [-2.1334],\n        [-2.8070],\n        [-1.5521],\n        [-2.5399],\n        [-2.5117],\n        [-2.2154],\n        [-2.0838],\n        [-3.2460]], device='cuda:0', grad_fn=<AddmmBackward0>)\ntensor([[-2.6802],\n        [-3.1195],\n        [-2.6791],\n        [-2.9145],\n        [-2.2267],\n        [-2.5752],\n        [-2.8042],\n        [-2.5790],\n        [-1.5703],\n        [-2.8561],\n        [-3.0249],\n        [-2.5070],\n        [-2.8615],\n        [-1.4089],\n        [-1.1407],\n        [-1.7064],\n        [-2.9892],\n        [-2.0862],\n        [-2.2794],\n        [-3.1909],\n        [-2.4551],\n        [-1.7578],\n        [-3.1905],\n        [-2.9568],\n        [-2.9317],\n        [-2.0632],\n        [-2.2637],\n        [-1.3255],\n        [-3.0599],\n        [-2.8144],\n        [-3.0906],\n        [-1.7237],\n        [-2.8104],\n        [-2.9295],\n        [-2.7399],\n        [-2.7240],\n        [-2.9339],\n        [-2.8798],\n        [-0.8755],\n        [-2.9122],\n        [-2.0708],\n        [ 0.4199],\n        [-3.0309],\n        [-2.9461],\n        [-2.3951],\n        [-2.6774],\n        [-2.9220],\n        [-2.5386],\n        [-2.1108],\n        [-2.2136],\n        [-2.4414],\n        [-2.8734],\n        [-3.0168],\n        [-2.7115],\n        [-2.9577],\n        [-1.7093],\n        [-2.8905],\n        [-1.3104],\n        [-3.0568],\n        [-2.8108],\n        [-2.9960],\n        [-3.2953],\n        [-2.3804],\n        [-3.1347]], device='cuda:0', grad_fn=<AddmmBackward0>)\ntensor([[-2.4873],\n        [-2.2281],\n        [-3.1875],\n        [-2.3817],\n        [-2.8075],\n        [-2.9788],\n        [-2.9327],\n        [-3.0812],\n        [-3.0558],\n        [-2.8125],\n        [-2.2847],\n        [-0.5082],\n        [-0.8545],\n        [-2.8349],\n        [-1.7317],\n        [-1.5115],\n        [-2.7064],\n        [-3.0446],\n        [-2.9074],\n        [-2.8764],\n        [-1.9655],\n        [-1.5397],\n        [-2.4721],\n        [-2.2297],\n        [-3.0882],\n        [-1.8847],\n        [-2.6864],\n        [-1.9242],\n        [-2.9470],\n        [-1.5128],\n        [-2.9454],\n        [-2.2983],\n        [-2.3180],\n        [-2.7899],\n        [-2.9255],\n        [-1.3824],\n        [-2.2387],\n        [-1.1612],\n        [-2.0957],\n        [-1.7800],\n        [-3.0450],\n        [-2.8929],\n        [-2.7485],\n        [-2.9933],\n        [-1.5677],\n        [-2.8722],\n        [-3.2022],\n        [-3.0191],\n        [-3.3271],\n        [-2.6158],\n        [-3.0360],\n        [-1.2673],\n        [-2.8978],\n        [-2.0462],\n        [-0.2876],\n        [-2.1707],\n        [-2.8713],\n        [-2.0489],\n        [-3.1591],\n        [-2.6209],\n        [-2.3589],\n        [-2.4371],\n        [-2.8707],\n        [-2.8776]], device='cuda:0', grad_fn=<AddmmBackward0>)\ntensor([[-1.3758],\n        [-2.3719],\n        [-2.3379],\n        [-2.8837],\n        [-1.9465],\n        [-1.6745],\n        [-3.1097],\n        [-2.2600],\n        [-3.1513],\n        [-3.1937],\n        [-1.9601],\n        [-2.9918],\n        [-2.3277],\n        [-3.1024],\n        [-3.2230],\n        [-2.5595],\n        [-2.0697],\n        [-2.1753],\n        [-2.5640],\n        [-2.7378],\n        [-2.9911],\n        [-2.9691],\n        [-2.3681],\n        [-0.4251],\n        [-1.7028],\n        [-0.9281],\n        [-2.1419],\n        [-2.7882],\n        [-0.6794],\n        [-3.1970],\n        [-2.8961],\n        [-1.9487],\n        [-1.4148],\n        [-2.7564],\n        [-0.8475],\n        [-2.3337],\n        [-2.3792],\n        [-2.9601],\n        [-2.7664],\n        [-3.1851],\n        [-2.3978],\n        [-2.8377],\n        [-2.9351],\n        [-2.6878],\n        [-2.6872],\n        [-2.2995],\n        [-2.0576],\n        [-2.8803],\n        [-2.9136],\n        [-2.4518],\n        [-2.5109],\n        [-1.8429],\n        [-2.9315],\n        [-2.8574],\n        [-2.7348],\n        [-2.9658],\n        [-2.7597],\n        [-2.4663],\n        [-1.9530],\n        [-3.3562],\n        [-1.8092],\n        [-3.0917],\n        [-1.3219],\n        [-1.4929]], device='cuda:0', grad_fn=<AddmmBackward0>)\ntensor([[-1.2094],\n        [-1.0995],\n        [-2.9581],\n        [-2.6920],\n        [-1.0075],\n        [-2.1739],\n        [-3.0253],\n        [-3.0928],\n        [-2.7502],\n        [-3.1085],\n        [-2.7777],\n        [-2.7045],\n        [-2.3905],\n        [-2.9631],\n        [-2.4750],\n        [-2.5497],\n        [-2.9935],\n        [-1.8513],\n        [-2.9720],\n        [-3.2058],\n        [-2.3242],\n        [-2.6325],\n        [-0.9172],\n        [-2.8925],\n        [-3.2817],\n        [-2.3827],\n        [-1.6188],\n        [-1.9453],\n        [-2.1774],\n        [-2.9319],\n        [-2.3878],\n        [-1.9353],\n        [-2.8200],\n        [-2.3832],\n        [-2.6585],\n        [-1.5758],\n        [-2.5952],\n        [-2.1023],\n        [-2.3405],\n        [-3.1585],\n        [-2.8140],\n        [-2.2487],\n        [-0.6359],\n        [-2.9315],\n        [-3.0361],\n        [-2.4393],\n        [-2.5951],\n        [-2.4778],\n        [-2.1091],\n        [-2.5068],\n        [-1.7264],\n        [-1.1707],\n        [-1.5664],\n        [-3.2339],\n        [-2.8510],\n        [-2.2472],\n        [-3.2820],\n        [-1.6532],\n        [-2.9222],\n        [-2.6269],\n        [-3.1196],\n        [-2.8738],\n        [-2.2102],\n        [-2.1542]], device='cuda:0', grad_fn=<AddmmBackward0>)\ntensor([[-1.0366],\n        [-2.6813],\n        [-2.6637],\n        [-3.0213],\n        [-1.6085],\n        [-2.7835],\n        [-2.5754],\n        [-2.2742],\n        [-2.2061],\n        [-3.0263],\n        [-2.5585],\n        [-2.7376],\n        [-1.9746],\n        [-3.2419],\n        [-3.3501],\n        [-2.4316],\n        [-2.5578],\n        [-1.9561],\n        [-3.0467],\n        [-3.0297],\n        [-2.1075],\n        [-2.0349],\n        [-2.8497],\n        [-3.1180],\n        [-2.7039],\n        [-2.7659],\n        [-0.7406],\n        [-1.9720],\n        [-2.2523],\n        [-2.7433],\n        [-2.7923],\n        [-3.2214],\n        [-2.3402],\n        [-3.1372],\n        [-2.1125],\n        [-2.5635],\n        [-3.3957],\n        [-2.2566],\n        [-2.8980],\n        [-2.7254],\n        [-3.0690],\n        [-2.8176],\n        [-2.2783],\n        [-2.7579],\n        [-2.1285],\n        [-1.6766],\n        [-2.3860],\n        [-2.3714],\n        [-1.6967],\n        [-3.0333],\n        [-2.7982],\n        [-3.0925],\n        [-2.6444],\n        [-3.0489],\n        [-2.7436],\n        [-2.8716],\n        [-2.4670],\n        [-2.4404],\n        [-2.9249],\n        [-2.9570],\n        [-1.7270],\n        [-2.6077],\n        [-3.1520],\n        [-3.0281]], device='cuda:0', grad_fn=<AddmmBackward0>)\ntensor([[-2.1088],\n        [-2.3524],\n        [-3.3133],\n        [-2.9096],\n        [-1.3250],\n        [-2.7318],\n        [-3.1137],\n        [-2.8856],\n        [-0.5468],\n        [-1.9988],\n        [-2.6118],\n        [-2.9220],\n        [-2.8824],\n        [-1.9818],\n        [-1.3758],\n        [-2.2137],\n        [-2.6410],\n        [-2.5666],\n        [-1.7674],\n        [-2.9379],\n        [-1.9596],\n        [-1.2629],\n        [-1.7751],\n        [-1.6660],\n        [-2.5415],\n        [-1.4639],\n        [-2.7395],\n        [-1.7066],\n        [-2.9074],\n        [-0.4552],\n        [-2.1973],\n        [-1.5542],\n        [-2.6672],\n        [-1.5452],\n        [-1.0885],\n        [-2.4652],\n        [-1.8658],\n        [-2.5936],\n        [-2.4097],\n        [-2.0848],\n        [-1.3794],\n        [-1.5022],\n        [-2.5611],\n        [-2.2827],\n        [-2.2189],\n        [-0.8969],\n        [-2.6542],\n        [-2.8496],\n        [-1.8639],\n        [-2.0791],\n        [-2.9022],\n        [-2.8761],\n        [-2.7513],\n        [-2.7365],\n        [-2.5141],\n        [-2.9159],\n        [-1.9485],\n        [-2.5659],\n        [-2.1290],\n        [-2.4369],\n        [-2.8742],\n        [-1.8804],\n        [-0.9835],\n        [-2.0633]], device='cuda:0', grad_fn=<AddmmBackward0>)\ntensor([[-2.6939],\n        [-3.0528],\n        [-1.7748],\n        [-2.7856],\n        [-2.9445],\n        [-2.9975],\n        [-1.2476],\n        [-2.9947],\n        [-2.9136],\n        [-2.8166],\n        [-1.8614],\n        [-2.3022],\n        [-1.7847],\n        [-2.4676],\n        [-2.3948],\n        [-2.3479],\n        [-3.1290],\n        [-2.5346],\n        [-2.7667],\n        [-3.3119],\n        [-2.7407],\n        [-3.2365],\n        [-2.7261],\n        [-2.9725],\n        [-2.6174],\n        [-2.6367],\n        [-1.8766],\n        [-2.1129],\n        [-2.4805],\n        [-2.2074],\n        [-2.3840],\n        [-3.2345],\n        [-2.5761],\n        [-2.7365],\n        [-2.4690],\n        [-2.3857],\n        [-2.8491],\n        [-2.5850],\n        [-3.2309],\n        [-3.0575],\n        [-2.1155],\n        [-2.9213],\n        [-2.2376],\n        [-0.2689],\n        [-2.0796],\n        [-3.1791],\n        [-1.0567],\n        [-2.3617],\n        [-2.1563],\n        [-1.7126],\n        [-2.9833],\n        [-2.5424],\n        [-3.1254],\n        [-1.4811],\n        [-1.9514],\n        [-2.4757],\n        [-1.8437],\n        [-2.1531],\n        [-2.4843],\n        [-3.0277],\n        [-3.0504],\n        [-0.9181],\n        [-3.0414],\n        [-3.1010]], device='cuda:0', grad_fn=<AddmmBackward0>)\ntensor([[-2.9403],\n        [-3.1306],\n        [-2.1758],\n        [-2.4066],\n        [-2.9479],\n        [-1.3139],\n        [-2.8122],\n        [-1.5621],\n        [-2.9141],\n        [-1.7515],\n        [-2.1043],\n        [-2.6123],\n        [-2.3659],\n        [-3.0289],\n        [-2.9083],\n        [-2.5605],\n        [-1.9448],\n        [-3.1389],\n        [-3.1824],\n        [-0.9325],\n        [-2.3848],\n        [-2.7379],\n        [-2.4814],\n        [-2.6527],\n        [-2.2760],\n        [-2.9459],\n        [-2.5599],\n        [-0.6917],\n        [-1.3176],\n        [-1.8985],\n        [-3.0230],\n        [-1.4501],\n        [-3.1674],\n        [-1.6543],\n        [-1.7313],\n        [-1.8436],\n        [-2.8245],\n        [-3.0422],\n        [-1.9530],\n        [-2.4083],\n        [-2.2939],\n        [-2.4916],\n        [-2.3723],\n        [-2.0232],\n        [-2.8284],\n        [-1.6071],\n        [-2.4758],\n        [-2.7021],\n        [-2.7296],\n        [-3.1251],\n        [-2.9182],\n        [-2.2507],\n        [-2.8286],\n        [-2.4022],\n        [-3.0453],\n        [-1.8455],\n        [-2.5456],\n        [-3.3005],\n        [-2.5660],\n        [-3.0833],\n        [-1.8505],\n        [-2.5908],\n        [-2.7308],\n        [-1.6418]], device='cuda:0', grad_fn=<AddmmBackward0>)\ntensor([[-2.5709],\n        [-2.6811]], device='cuda:0', grad_fn=<AddmmBackward0>)\n",
          "output_type": "stream"
        }
      ],
      "execution_count": null
    },
    {
      "cell_type": "code",
      "source": [
        "!pip install pyarrow  # 或者你也可以選擇 fastparquet\n"
      ],
      "metadata": {
        "trusted": true,
        "execution": {
          "iopub.status.busy": "2025-03-05T09:23:18.905856Z",
          "iopub.execute_input": "2025-03-05T09:23:18.906109Z",
          "iopub.status.idle": "2025-03-05T09:23:22.303486Z",
          "shell.execute_reply.started": "2025-03-05T09:23:18.906088Z",
          "shell.execute_reply": "2025-03-05T09:23:22.302583Z"
        },
        "id": "8oL6sfsv3NZR",
        "outputId": "76258356-352b-4e76-b79f-1bbe8745692d"
      },
      "outputs": [
        {
          "name": "stdout",
          "text": "Requirement already satisfied: pyarrow in /usr/local/lib/python3.10/dist-packages (19.0.1)\n",
          "output_type": "stream"
        }
      ],
      "execution_count": null
    },
    {
      "cell_type": "code",
      "source": [
        "\n",
        "#data = pd.read_parquet('/kaggle/input/leash-BELKA/train.parquet')\n",
        "#test_df = pd.read_parquet('/kaggle/input/leash-BELKA/test.parquet')\n"
      ],
      "metadata": {
        "trusted": true,
        "execution": {
          "iopub.status.busy": "2025-03-05T09:23:22.304539Z",
          "iopub.execute_input": "2025-03-05T09:23:22.304824Z",
          "iopub.status.idle": "2025-03-05T09:23:22.308679Z",
          "shell.execute_reply.started": "2025-03-05T09:23:22.304788Z",
          "shell.execute_reply": "2025-03-05T09:23:22.307844Z"
        },
        "id": "4S10ORxD3NZR"
      },
      "outputs": [],
      "execution_count": null
    },
    {
      "cell_type": "code",
      "source": [
        "import pandas as pd\n",
        "import gc  # 引入垃圾回收模組\n",
        "\n",
        "filename = \"/kaggle/input/leash-BELKA/train.csv\"\n",
        "columns_to_read = [\"molecule_smiles\", \"protein_name\", \"binds\"]\n",
        "\n",
        "batch_size = 60000       # 每次讀取 60,000 筆\n",
        "target_rows = 3600000    # 每輪儲存 1,200,000 筆\n",
        "total_batches = 80       # 總共執行 30 次\n",
        "total_rows = 0           # 記錄當前累積筆數\n",
        "\n",
        "# 用 chunksize 讀取 CSV\n",
        "csv_reader = pd.read_csv(filename, usecols=columns_to_read, chunksize=batch_size)\n",
        "\n",
        "batch_count = 0  # 記錄當前批次數\n",
        "chunks = []  # 暫存當前批次的資料\n",
        "\n",
        "for chunk in csv_reader:\n",
        "    chunks.append(chunk)\n",
        "    total_rows += len(chunk)\n",
        "\n",
        "    # 當累積的資料量達到 `target_rows`，就存檔一次\n",
        "    if total_rows >= target_rows * (batch_count + 1):\n",
        "        batch_df = pd.concat(chunks, ignore_index=True)\n",
        "\n",
        "        # **將每 3 列合併成 1 列**\n",
        "        batch_df[\"row_idx\"] = batch_df.index // 3  # 每 3 列分組\n",
        "        batch_pivot = batch_df.pivot(index=\"row_idx\", columns=\"protein_name\", values=\"binds\").reset_index()\n",
        "\n",
        "        # **合併 molecule_smiles**\n",
        "        smiles_df = batch_df.groupby(\"row_idx\")[\"molecule_smiles\"].first().reset_index()\n",
        "        final_df = smiles_df.merge(batch_pivot, on=\"row_idx\").drop(columns=[\"row_idx\"])\n",
        "\n",
        "        # 存成 CSV，每次都存不同的檔案\n",
        "        output_filename = f\"/kaggle/working/sampled_train_part{batch_count+1}.csv\"\n",
        "        final_df.to_csv(output_filename, index=False)\n",
        "\n",
        "        print(f\"✅ 第 {batch_count+1} 次存檔：{len(final_df)} 筆，已累積 {total_rows} 筆\")\n",
        "\n",
        "        # 清理記憶體\n",
        "        del batch_df, batch_pivot, smiles_df, final_df\n",
        "        chunks = []  # 清空暫存區\n",
        "        gc.collect()  # 執行垃圾回收\n",
        "        batch_count += 1\n",
        "\n",
        "    if batch_count >= total_batches:\n",
        "        break  # 達到最大批次數就停止\n",
        "\n",
        "# 最後如果還有未存的資料，則再存一次\n",
        "if chunks:\n",
        "    batch_df = pd.concat(chunks, ignore_index=True)\n",
        "\n",
        "    batch_df[\"row_idx\"] = batch_df.index // 3\n",
        "    batch_pivot = batch_df.pivot(index=\"row_idx\", columns=\"protein_name\", values=\"binds\").reset_index()\n",
        "    smiles_df = batch_df.groupby(\"row_idx\")[\"molecule_smiles\"].first().reset_index()\n",
        "    final_df = smiles_df.merge(batch_pivot, on=\"row_idx\").drop(columns=[\"row_idx\"])\n",
        "\n",
        "\n"
      ],
      "metadata": {
        "trusted": true,
        "execution": {
          "iopub.status.busy": "2025-03-05T09:23:22.309416Z",
          "iopub.execute_input": "2025-03-05T09:23:22.309728Z",
          "iopub.status.idle": "2025-03-05T09:44:01.810404Z",
          "shell.execute_reply.started": "2025-03-05T09:23:22.309695Z",
          "shell.execute_reply": "2025-03-05T09:44:01.809447Z"
        },
        "id": "O1k-P6fB3NZR",
        "outputId": "18baa2c7-6a11-4382-e21e-d9fce098be94"
      },
      "outputs": [
        {
          "name": "stdout",
          "text": "✅ 第 1 次存檔：1200000 筆，已累積 3600000 筆\n✅ 第 2 次存檔：1200000 筆，已累積 7200000 筆\n✅ 第 3 次存檔：1200000 筆，已累積 10800000 筆\n✅ 第 4 次存檔：1200000 筆，已累積 14400000 筆\n✅ 第 5 次存檔：1200000 筆，已累積 18000000 筆\n✅ 第 6 次存檔：1200000 筆，已累積 21600000 筆\n✅ 第 7 次存檔：1200000 筆，已累積 25200000 筆\n✅ 第 8 次存檔：1200000 筆，已累積 28800000 筆\n✅ 第 9 次存檔：1200000 筆，已累積 32400000 筆\n✅ 第 10 次存檔：1200000 筆，已累積 36000000 筆\n✅ 第 11 次存檔：1200000 筆，已累積 39600000 筆\n✅ 第 12 次存檔：1200000 筆，已累積 43200000 筆\n✅ 第 13 次存檔：1200000 筆，已累積 46800000 筆\n✅ 第 14 次存檔：1200000 筆，已累積 50400000 筆\n✅ 第 15 次存檔：1200000 筆，已累積 54000000 筆\n✅ 第 16 次存檔：1200000 筆，已累積 57600000 筆\n✅ 第 17 次存檔：1200000 筆，已累積 61200000 筆\n✅ 第 18 次存檔：1200000 筆，已累積 64800000 筆\n✅ 第 19 次存檔：1200000 筆，已累積 68400000 筆\n✅ 第 20 次存檔：1200000 筆，已累積 72000000 筆\n✅ 第 21 次存檔：1200000 筆，已累積 75600000 筆\n✅ 第 22 次存檔：1200000 筆，已累積 79200000 筆\n✅ 第 23 次存檔：1200000 筆，已累積 82800000 筆\n✅ 第 24 次存檔：1200000 筆，已累積 86400000 筆\n✅ 第 25 次存檔：1200000 筆，已累積 90000000 筆\n✅ 第 26 次存檔：1200000 筆，已累積 93600000 筆\n✅ 第 27 次存檔：1200000 筆，已累積 97200000 筆\n✅ 第 28 次存檔：1200000 筆，已累積 100800000 筆\n✅ 第 29 次存檔：1200000 筆，已累積 104400000 筆\n✅ 第 30 次存檔：1200000 筆，已累積 108000000 筆\n✅ 第 31 次存檔：1200000 筆，已累積 111600000 筆\n✅ 第 32 次存檔：1200000 筆，已累積 115200000 筆\n✅ 第 33 次存檔：1200000 筆，已累積 118800000 筆\n✅ 第 34 次存檔：1200000 筆，已累積 122400000 筆\n✅ 第 35 次存檔：1200000 筆，已累積 126000000 筆\n✅ 第 36 次存檔：1200000 筆，已累積 129600000 筆\n✅ 第 37 次存檔：1200000 筆，已累積 133200000 筆\n✅ 第 38 次存檔：1200000 筆，已累積 136800000 筆\n✅ 第 39 次存檔：1200000 筆，已累積 140400000 筆\n✅ 第 40 次存檔：1200000 筆，已累積 144000000 筆\n✅ 第 41 次存檔：1200000 筆，已累積 147600000 筆\n✅ 第 42 次存檔：1200000 筆，已累積 151200000 筆\n✅ 第 43 次存檔：1200000 筆，已累積 154800000 筆\n✅ 第 44 次存檔：1200000 筆，已累積 158400000 筆\n✅ 第 45 次存檔：1200000 筆，已累積 162000000 筆\n✅ 第 46 次存檔：1200000 筆，已累積 165600000 筆\n✅ 第 47 次存檔：1200000 筆，已累積 169200000 筆\n✅ 第 48 次存檔：1200000 筆，已累積 172800000 筆\n✅ 第 49 次存檔：1200000 筆，已累積 176400000 筆\n✅ 第 50 次存檔：1200000 筆，已累積 180000000 筆\n✅ 第 51 次存檔：1200000 筆，已累積 183600000 筆\n✅ 第 52 次存檔：1200000 筆，已累積 187200000 筆\n✅ 第 53 次存檔：1200000 筆，已累積 190800000 筆\n✅ 第 54 次存檔：1200000 筆，已累積 194400000 筆\n✅ 第 55 次存檔：1200000 筆，已累積 198000000 筆\n✅ 第 56 次存檔：1200000 筆，已累積 201600000 筆\n✅ 第 57 次存檔：1200000 筆，已累積 205200000 筆\n✅ 第 58 次存檔：1200000 筆，已累積 208800000 筆\n✅ 第 59 次存檔：1200000 筆，已累積 212400000 筆\n✅ 第 60 次存檔：1200000 筆，已累積 216000000 筆\n✅ 第 61 次存檔：1200000 筆，已累積 219600000 筆\n✅ 第 62 次存檔：1200000 筆，已累積 223200000 筆\n✅ 第 63 次存檔：1200000 筆，已累積 226800000 筆\n✅ 第 64 次存檔：1200000 筆，已累積 230400000 筆\n✅ 第 65 次存檔：1200000 筆，已累積 234000000 筆\n✅ 第 66 次存檔：1200000 筆，已累積 237600000 筆\n✅ 第 67 次存檔：1200000 筆，已累積 241200000 筆\n✅ 第 68 次存檔：1200000 筆，已累積 244800000 筆\n✅ 第 69 次存檔：1200000 筆，已累積 248400000 筆\n✅ 第 70 次存檔：1200000 筆，已累積 252000000 筆\n✅ 第 71 次存檔：1200000 筆，已累積 255600000 筆\n✅ 第 72 次存檔：1200000 筆，已累積 259200000 筆\n✅ 第 73 次存檔：1200000 筆，已累積 262800000 筆\n✅ 第 74 次存檔：1200000 筆，已累積 266400000 筆\n✅ 第 75 次存檔：1200000 筆，已累積 270000000 筆\n✅ 第 76 次存檔：1200000 筆，已累積 273600000 筆\n✅ 第 77 次存檔：1200000 筆，已累積 277200000 筆\n✅ 第 78 次存檔：1200000 筆，已累積 280800000 筆\n✅ 第 79 次存檔：1200000 筆，已累積 284400000 筆\n✅ 第 80 次存檔：1200000 筆，已累積 288000000 筆\n",
          "output_type": "stream"
        }
      ],
      "execution_count": null
    },
    {
      "cell_type": "code",
      "source": [
        "data1name = \"/kaggle/working/sampled_train_part1.csv\"\n",
        "data1= pd.read_csv(data1name)\n",
        "data1.head(10)"
      ],
      "metadata": {
        "trusted": true,
        "execution": {
          "iopub.status.busy": "2025-03-05T09:44:01.811384Z",
          "iopub.execute_input": "2025-03-05T09:44:01.811742Z",
          "iopub.status.idle": "2025-03-05T09:44:03.580385Z",
          "shell.execute_reply.started": "2025-03-05T09:44:01.81171Z",
          "shell.execute_reply": "2025-03-05T09:44:03.579692Z"
        },
        "id": "ZCRCKeSK3NZR",
        "outputId": "059582e2-c02d-4a95-858e-e0b15d0e3523"
      },
      "outputs": [
        {
          "execution_count": 22,
          "output_type": "execute_result",
          "data": {
            "text/plain": "                                     molecule_smiles  BRD4  HSA  sEH\n0  C#CCOc1ccc(CNc2nc(NCC3CCCN3c3cccnn3)nc(N[C@@H]...     0    0    0\n1  C#CCOc1ccc(CNc2nc(NCc3cccc(Br)n3)nc(N[C@@H](CC...     0    0    0\n2  C#CCOc1ccc(CNc2nc(NCc3ccc(OCC#C)cc3)nc(N[C@@H]...     0    0    0\n3  C#CCOc1ccc(CNc2nc(NCCNC(=O)C(=C)C)nc(N[C@@H](C...     0    0    0\n4  C#CCOc1ccc(CNc2nc(NCC(=O)NCC=C)nc(N[C@@H](CC#C...     0    0    0\n5  C#CCOc1ccc(CNc2nc(NCC(C)OCC=C)nc(N[C@@H](CC#C)...     0    0    0\n6  C#CCOc1ccc(CNc2nc(NCCCOCC=C)nc(N[C@@H](CC#C)CC...     0    0    0\n7  C#CCOc1ccc(CNc2nc(NCCOCC=C)nc(N[C@@H](CC#C)CC(...     0    0    0\n8  C#CCOc1ccc(CNc2nc(Nc3cnn(C4CCN(C(=O)OC(C)(C)C)...     0    0    0\n9  C#CCOc1ccc(CNc2nc(Nc3n[nH]c4c3CN(C(=O)OC(C)(C)...     0    0    0",
            "text/html": "<div>\n<style scoped>\n    .dataframe tbody tr th:only-of-type {\n        vertical-align: middle;\n    }\n\n    .dataframe tbody tr th {\n        vertical-align: top;\n    }\n\n    .dataframe thead th {\n        text-align: right;\n    }\n</style>\n<table border=\"1\" class=\"dataframe\">\n  <thead>\n    <tr style=\"text-align: right;\">\n      <th></th>\n      <th>molecule_smiles</th>\n      <th>BRD4</th>\n      <th>HSA</th>\n      <th>sEH</th>\n    </tr>\n  </thead>\n  <tbody>\n    <tr>\n      <th>0</th>\n      <td>C#CCOc1ccc(CNc2nc(NCC3CCCN3c3cccnn3)nc(N[C@@H]...</td>\n      <td>0</td>\n      <td>0</td>\n      <td>0</td>\n    </tr>\n    <tr>\n      <th>1</th>\n      <td>C#CCOc1ccc(CNc2nc(NCc3cccc(Br)n3)nc(N[C@@H](CC...</td>\n      <td>0</td>\n      <td>0</td>\n      <td>0</td>\n    </tr>\n    <tr>\n      <th>2</th>\n      <td>C#CCOc1ccc(CNc2nc(NCc3ccc(OCC#C)cc3)nc(N[C@@H]...</td>\n      <td>0</td>\n      <td>0</td>\n      <td>0</td>\n    </tr>\n    <tr>\n      <th>3</th>\n      <td>C#CCOc1ccc(CNc2nc(NCCNC(=O)C(=C)C)nc(N[C@@H](C...</td>\n      <td>0</td>\n      <td>0</td>\n      <td>0</td>\n    </tr>\n    <tr>\n      <th>4</th>\n      <td>C#CCOc1ccc(CNc2nc(NCC(=O)NCC=C)nc(N[C@@H](CC#C...</td>\n      <td>0</td>\n      <td>0</td>\n      <td>0</td>\n    </tr>\n    <tr>\n      <th>5</th>\n      <td>C#CCOc1ccc(CNc2nc(NCC(C)OCC=C)nc(N[C@@H](CC#C)...</td>\n      <td>0</td>\n      <td>0</td>\n      <td>0</td>\n    </tr>\n    <tr>\n      <th>6</th>\n      <td>C#CCOc1ccc(CNc2nc(NCCCOCC=C)nc(N[C@@H](CC#C)CC...</td>\n      <td>0</td>\n      <td>0</td>\n      <td>0</td>\n    </tr>\n    <tr>\n      <th>7</th>\n      <td>C#CCOc1ccc(CNc2nc(NCCOCC=C)nc(N[C@@H](CC#C)CC(...</td>\n      <td>0</td>\n      <td>0</td>\n      <td>0</td>\n    </tr>\n    <tr>\n      <th>8</th>\n      <td>C#CCOc1ccc(CNc2nc(Nc3cnn(C4CCN(C(=O)OC(C)(C)C)...</td>\n      <td>0</td>\n      <td>0</td>\n      <td>0</td>\n    </tr>\n    <tr>\n      <th>9</th>\n      <td>C#CCOc1ccc(CNc2nc(Nc3n[nH]c4c3CN(C(=O)OC(C)(C)...</td>\n      <td>0</td>\n      <td>0</td>\n      <td>0</td>\n    </tr>\n  </tbody>\n</table>\n</div>"
          },
          "metadata": {}
        }
      ],
      "execution_count": null
    },
    {
      "cell_type": "code",
      "source": [
        "data1.shape"
      ],
      "metadata": {
        "trusted": true,
        "execution": {
          "iopub.status.busy": "2025-03-05T09:44:03.581077Z",
          "iopub.execute_input": "2025-03-05T09:44:03.581294Z",
          "iopub.status.idle": "2025-03-05T09:44:03.586651Z",
          "shell.execute_reply.started": "2025-03-05T09:44:03.581275Z",
          "shell.execute_reply": "2025-03-05T09:44:03.585733Z"
        },
        "id": "lCzu_nl93NZS",
        "outputId": "e63109d9-b964-4681-c3a3-c23526b5ae9a"
      },
      "outputs": [
        {
          "execution_count": 23,
          "output_type": "execute_result",
          "data": {
            "text/plain": "(1200000, 4)"
          },
          "metadata": {}
        }
      ],
      "execution_count": null
    },
    {
      "cell_type": "code",
      "source": [
        "import pandas as pd\n",
        "\n",
        "def load_data_from_df(file_path, one_hot_formal_charge=True):\n",
        "    # 讀取 CSV\n",
        "    df = pd.read_csv(file_path)\n",
        "\n",
        "    # 定義 X（輸入特徵）和 y（目標變數）\n",
        "    X = df[\"molecule_smiles\"].tolist()  # SMILES 字串作為輸入\n",
        "    y = df[[\"BRD4\", \"HSA\", \"sEH\"]].values  # 3 欄數值作為輸出\n",
        "\n",
        "    return X, y\n"
      ],
      "metadata": {
        "trusted": true,
        "execution": {
          "iopub.status.busy": "2025-03-05T10:10:34.832251Z",
          "iopub.execute_input": "2025-03-05T10:10:34.832589Z",
          "iopub.status.idle": "2025-03-05T10:10:34.837235Z",
          "shell.execute_reply.started": "2025-03-05T10:10:34.832567Z",
          "shell.execute_reply": "2025-03-05T10:10:34.836247Z"
        },
        "id": "crDvwKAD3NZS"
      },
      "outputs": [],
      "execution_count": null
    },
    {
      "cell_type": "code",
      "source": [
        "import pandas as pd\n",
        "from featurization.data_utils import load_data_from_df\n",
        "\n",
        "# 讀取 CSV\n",
        "#df = pd.read_csv('/kaggle/working/sampled_train_part1.csv')\n",
        "\n",
        "batch_size = 1\n",
        "\n",
        "\n",
        "# 轉換成 MAT 格式\n",
        "X, y = load_data_from_df('/kaggle/working/example_data.csv', one_hot_formal_charge=True)\n",
        "data_loader = construct_loader(X, y, batch_size)\n",
        "\n",
        "model.to(torch.device('cuda'))\n",
        "\n",
        "for batch in data_loader:\n",
        "    adjacency_matrix, node_features, distance_matrix, y = batch\n",
        "    batch_mask = torch.sum(torch.abs(node_features), dim=-1) != 0\n",
        "    output = model(node_features, batch_mask, adjacency_matrix, distance_matrix, None)\n",
        "\n",
        "    print(output)"
      ],
      "metadata": {
        "trusted": true,
        "execution": {
          "iopub.status.busy": "2025-03-05T10:10:36.012161Z",
          "iopub.execute_input": "2025-03-05T10:10:36.012495Z",
          "iopub.status.idle": "2025-03-05T10:10:36.041757Z",
          "shell.execute_reply.started": "2025-03-05T10:10:36.012466Z",
          "shell.execute_reply": "2025-03-05T10:10:36.040561Z"
        },
        "id": "65VhXDRN3NZS",
        "outputId": "fbb7b1ea-f420-44ce-a204-58370c8aea62"
      },
      "outputs": [
        {
          "traceback": [
            "\u001b[0;31m---------------------------------------------------------------------------\u001b[0m",
            "\u001b[0;31mTypeError\u001b[0m                                 Traceback (most recent call last)",
            "\u001b[0;32m<ipython-input-29-47db5e551613>\u001b[0m in \u001b[0;36m<cell line: 16>\u001b[0;34m()\u001b[0m\n\u001b[1;32m     17\u001b[0m     \u001b[0madjacency_matrix\u001b[0m\u001b[0;34m,\u001b[0m \u001b[0mnode_features\u001b[0m\u001b[0;34m,\u001b[0m \u001b[0mdistance_matrix\u001b[0m\u001b[0;34m,\u001b[0m \u001b[0my\u001b[0m \u001b[0;34m=\u001b[0m \u001b[0mbatch\u001b[0m\u001b[0;34m\u001b[0m\u001b[0;34m\u001b[0m\u001b[0m\n\u001b[1;32m     18\u001b[0m     \u001b[0mbatch_mask\u001b[0m \u001b[0;34m=\u001b[0m \u001b[0mtorch\u001b[0m\u001b[0;34m.\u001b[0m\u001b[0msum\u001b[0m\u001b[0;34m(\u001b[0m\u001b[0mtorch\u001b[0m\u001b[0;34m.\u001b[0m\u001b[0mabs\u001b[0m\u001b[0;34m(\u001b[0m\u001b[0mnode_features\u001b[0m\u001b[0;34m)\u001b[0m\u001b[0;34m,\u001b[0m \u001b[0mdim\u001b[0m\u001b[0;34m=\u001b[0m\u001b[0;34m-\u001b[0m\u001b[0;36m1\u001b[0m\u001b[0;34m)\u001b[0m \u001b[0;34m!=\u001b[0m \u001b[0;36m0\u001b[0m\u001b[0;34m\u001b[0m\u001b[0;34m\u001b[0m\u001b[0m\n\u001b[0;32m---> 19\u001b[0;31m     \u001b[0moutput\u001b[0m \u001b[0;34m=\u001b[0m \u001b[0mmodel\u001b[0m\u001b[0;34m(\u001b[0m\u001b[0mnode_features\u001b[0m\u001b[0;34m,\u001b[0m \u001b[0mbatch_mask\u001b[0m\u001b[0;34m,\u001b[0m \u001b[0madjacency_matrix\u001b[0m\u001b[0;34m,\u001b[0m \u001b[0mdistance_matrix\u001b[0m\u001b[0;34m,\u001b[0m \u001b[0;32mNone\u001b[0m\u001b[0;34m)\u001b[0m\u001b[0;34m\u001b[0m\u001b[0;34m\u001b[0m\u001b[0m\n\u001b[0m\u001b[1;32m     20\u001b[0m \u001b[0;34m\u001b[0m\u001b[0m\n\u001b[1;32m     21\u001b[0m     \u001b[0mprint\u001b[0m\u001b[0;34m(\u001b[0m\u001b[0moutput\u001b[0m\u001b[0;34m)\u001b[0m\u001b[0;34m\u001b[0m\u001b[0;34m\u001b[0m\u001b[0m\n",
            "\u001b[0;32m/usr/local/lib/python3.10/dist-packages/torch/nn/modules/module.py\u001b[0m in \u001b[0;36m_wrapped_call_impl\u001b[0;34m(self, *args, **kwargs)\u001b[0m\n\u001b[1;32m   1737\u001b[0m             \u001b[0;32mreturn\u001b[0m \u001b[0mself\u001b[0m\u001b[0;34m.\u001b[0m\u001b[0m_compiled_call_impl\u001b[0m\u001b[0;34m(\u001b[0m\u001b[0;34m*\u001b[0m\u001b[0margs\u001b[0m\u001b[0;34m,\u001b[0m \u001b[0;34m**\u001b[0m\u001b[0mkwargs\u001b[0m\u001b[0;34m)\u001b[0m  \u001b[0;31m# type: ignore[misc]\u001b[0m\u001b[0;34m\u001b[0m\u001b[0;34m\u001b[0m\u001b[0m\n\u001b[1;32m   1738\u001b[0m         \u001b[0;32melse\u001b[0m\u001b[0;34m:\u001b[0m\u001b[0;34m\u001b[0m\u001b[0;34m\u001b[0m\u001b[0m\n\u001b[0;32m-> 1739\u001b[0;31m             \u001b[0;32mreturn\u001b[0m \u001b[0mself\u001b[0m\u001b[0;34m.\u001b[0m\u001b[0m_call_impl\u001b[0m\u001b[0;34m(\u001b[0m\u001b[0;34m*\u001b[0m\u001b[0margs\u001b[0m\u001b[0;34m,\u001b[0m \u001b[0;34m**\u001b[0m\u001b[0mkwargs\u001b[0m\u001b[0;34m)\u001b[0m\u001b[0;34m\u001b[0m\u001b[0;34m\u001b[0m\u001b[0m\n\u001b[0m\u001b[1;32m   1740\u001b[0m \u001b[0;34m\u001b[0m\u001b[0m\n\u001b[1;32m   1741\u001b[0m     \u001b[0;31m# torchrec tests the code consistency with the following code\u001b[0m\u001b[0;34m\u001b[0m\u001b[0;34m\u001b[0m\u001b[0m\n",
            "\u001b[0;32m/usr/local/lib/python3.10/dist-packages/torch/nn/modules/module.py\u001b[0m in \u001b[0;36m_call_impl\u001b[0;34m(self, *args, **kwargs)\u001b[0m\n\u001b[1;32m   1748\u001b[0m                 \u001b[0;32mor\u001b[0m \u001b[0m_global_backward_pre_hooks\u001b[0m \u001b[0;32mor\u001b[0m \u001b[0m_global_backward_hooks\u001b[0m\u001b[0;34m\u001b[0m\u001b[0;34m\u001b[0m\u001b[0m\n\u001b[1;32m   1749\u001b[0m                 or _global_forward_hooks or _global_forward_pre_hooks):\n\u001b[0;32m-> 1750\u001b[0;31m             \u001b[0;32mreturn\u001b[0m \u001b[0mforward_call\u001b[0m\u001b[0;34m(\u001b[0m\u001b[0;34m*\u001b[0m\u001b[0margs\u001b[0m\u001b[0;34m,\u001b[0m \u001b[0;34m**\u001b[0m\u001b[0mkwargs\u001b[0m\u001b[0;34m)\u001b[0m\u001b[0;34m\u001b[0m\u001b[0;34m\u001b[0m\u001b[0m\n\u001b[0m\u001b[1;32m   1751\u001b[0m \u001b[0;34m\u001b[0m\u001b[0m\n\u001b[1;32m   1752\u001b[0m         \u001b[0mresult\u001b[0m \u001b[0;34m=\u001b[0m \u001b[0;32mNone\u001b[0m\u001b[0;34m\u001b[0m\u001b[0;34m\u001b[0m\u001b[0m\n",
            "\u001b[0;31mTypeError\u001b[0m: make_model.<locals>.MATModel.forward() takes 2 positional arguments but 6 were given"
          ],
          "ename": "TypeError",
          "evalue": "make_model.<locals>.MATModel.forward() takes 2 positional arguments but 6 were given",
          "output_type": "error"
        }
      ],
      "execution_count": null
    },
    {
      "cell_type": "code",
      "source": [],
      "metadata": {
        "trusted": true,
        "id": "7FIWwB1E3NZS"
      },
      "outputs": [],
      "execution_count": null
    },
    {
      "cell_type": "code",
      "source": [
        "STOP"
      ],
      "metadata": {
        "trusted": true,
        "execution": {
          "iopub.status.busy": "2025-03-05T09:44:04.095001Z",
          "iopub.status.idle": "2025-03-05T09:44:04.095262Z",
          "shell.execute_reply": "2025-03-05T09:44:04.095159Z"
        },
        "id": "sPdy2KNz3NZS"
      },
      "outputs": [],
      "execution_count": null
    },
    {
      "cell_type": "code",
      "source": [
        "import torch\n",
        "import torch.nn as nn\n",
        "\n",
        "def make_model(d_atom, d_model, N, h, N_dense, lambda_attention, lambda_distance,\n",
        "               leaky_relu_slope, dense_output_nonlinearity, distance_matrix_kernel,\n",
        "               dropout, aggregation_type):\n",
        "    # 假設這部分是你的 MAT 模型結構\n",
        "    # 這裡包含了 Transformer 層或其他前置層\n",
        "\n",
        "    class MATModel(nn.Module):\n",
        "        def __init__(self):\n",
        "            super(MATModel, self).__init__()\n",
        "            # Transformer 部分\n",
        "            self.transformer = nn.Transformer(d_atom, nhead=h, num_encoder_layers=N)\n",
        "\n",
        "            # 其他層設置（你可以根據模型的設計來調整）\n",
        "            # 例如，Dense 層\n",
        "            self.dense = nn.Linear(d_atom, d_model)\n",
        "            self.fc = nn.Linear(d_model, 3)  # 假設最後需要3個輸出（binds_BRD4, binds_HSA, binds_sEH）\n",
        "\n",
        "            # 激活函數\n",
        "            self.sigmoid = nn.Sigmoid()\n",
        "\n",
        "        def forward(self, x):\n",
        "            # Transformer 層\n",
        "            x = self.transformer(x)\n",
        "\n",
        "            # Dense 層\n",
        "            x = self.dense(x)\n",
        "\n",
        "            # 全連接層\n",
        "            x = self.fc(x)\n",
        "\n",
        "            # Sigmoid 激活\n",
        "            x = self.sigmoid(x)  # 多標籤分類\n",
        "            return x\n",
        "\n",
        "    return MATModel()\n"
      ],
      "metadata": {
        "trusted": true,
        "execution": {
          "iopub.status.busy": "2025-03-05T09:44:03.587664Z",
          "iopub.execute_input": "2025-03-05T09:44:03.58797Z",
          "iopub.status.idle": "2025-03-05T09:44:03.603865Z",
          "shell.execute_reply.started": "2025-03-05T09:44:03.587936Z",
          "shell.execute_reply": "2025-03-05T09:44:03.602876Z"
        },
        "id": "5Gfn_Q-r3NZS"
      },
      "outputs": [],
      "execution_count": null
    },
    {
      "cell_type": "code",
      "source": [
        "model_params = {\n",
        "    'd_atom': d_atom,\n",
        "    'd_model': 1024,\n",
        "    'N': 8,\n",
        "    'h': 4,\n",
        "    'N_dense': 2,\n",
        "    'lambda_attention': 0.33,\n",
        "    'lambda_distance': 0.33,\n",
        "    'leaky_relu_slope': 0.1,\n",
        "    'dense_output_nonlinearity': 'relu',\n",
        "    'distance_matrix_kernel': 'exp',\n",
        "    'dropout': 0.0,\n",
        "    'aggregation_type': 'mean'\n",
        "}\n",
        "\n",
        "model = make_model(**model_params)"
      ],
      "metadata": {
        "trusted": true,
        "execution": {
          "iopub.status.busy": "2025-03-05T09:44:03.604814Z",
          "iopub.execute_input": "2025-03-05T09:44:03.60506Z",
          "iopub.status.idle": "2025-03-05T09:44:03.731385Z",
          "shell.execute_reply.started": "2025-03-05T09:44:03.605039Z",
          "shell.execute_reply": "2025-03-05T09:44:03.730495Z"
        },
        "id": "KBmHU6qZ3NZS",
        "outputId": "06230116-aad8-4e31-d0a1-722c4fd66870"
      },
      "outputs": [
        {
          "name": "stderr",
          "text": "/usr/local/lib/python3.10/dist-packages/torch/nn/modules/transformer.py:385: UserWarning: enable_nested_tensor is True, but self.use_nested_tensor is False because encoder_layer.self_attn.batch_first was not True(use batch_first for better inference performance)\n  warnings.warn(\n",
          "output_type": "stream"
        }
      ],
      "execution_count": null
    },
    {
      "cell_type": "code",
      "source": [
        "import os\n",
        "import pandas as pd\n",
        "import torch\n",
        "from featurization.data_utils import load_data_from_df, construct_loader\n",
        "\n",
        "# 設定 CUDA\n",
        "device = torch.device('cuda' if torch.cuda.is_available() else 'cpu')\n",
        "model.to(device)\n",
        "\n",
        "# 參數設定\n",
        "batch_size = 128\n",
        "num_echoes = 1  # 每個檔案跑 10 輪\n",
        "\n",
        "# 取得所有檔案列表\n",
        "file_dir = \"/kaggle/working\"\n",
        "file_pattern = \"sampled_train_part{}.csv\"\n",
        "file_list = [file_pattern.format(i) for i in range(1, 81)]  # 1 到 80\n",
        "\n",
        "# 開始處理每個檔案\n",
        "for file_idx, file_name in enumerate(file_list, start=1):\n",
        "    file_path = os.path.join(file_dir, file_name)\n",
        "\n",
        "    if not os.path.exists(file_path):\n",
        "        print(f\"⚠️ 檔案 {file_name} 不存在，跳過\")\n",
        "        continue\n",
        "\n",
        "    print(f\"🚀 正在處理：{file_name} ({file_idx}/80)\")\n",
        "\n",
        "    # 讀取 CSV 並轉換為 data loader\n",
        "    X, y = load_data_from_df(file_path, one_hot_formal_charge=True)\n",
        "    data_loader = construct_loader(X, y, batch_size)\n",
        "\n",
        "    # 進行 10 輪 Echo\n",
        "    for echo in range(num_echoes):\n",
        "        print(f\"🔁 Echo {echo + 1}/{num_echoes} 開始...\")\n",
        "\n",
        "        for batch in data_loader:\n",
        "            adjacency_matrix, node_features, distance_matrix, y = batch\n",
        "\n",
        "            # 移動到 GPU（如果可用）\n",
        "            adjacency_matrix = adjacency_matrix.to(device)\n",
        "            node_features = node_features.to(device)\n",
        "            distance_matrix = distance_matrix.to(device)\n",
        "            y = y.to(device)\n",
        "\n",
        "            batch_mask = torch.sum(torch.abs(node_features), dim=-1) != 0\n",
        "            output = model(node_features, batch_mask, adjacency_matrix, distance_matrix, None)\n",
        "\n",
        "            print(f\"✅ Echo {echo + 1}, 檔案 {file_name}, Batch size: {len(y)}, 輸出範例: {output[:3]}\")\n",
        "\n",
        "        print(f\"🔄 Echo {echo + 1}/{num_echoes} 完成！\")\n",
        "\n",
        "    print(f\"🎯 檔案 {file_name} 處理完成！\\n\")\n",
        "\n",
        "print(\"🎉 所有檔案處理完畢！\")\n"
      ],
      "metadata": {
        "trusted": true,
        "execution": {
          "iopub.status.busy": "2025-03-05T09:44:04.096146Z",
          "iopub.status.idle": "2025-03-05T09:44:04.096523Z",
          "shell.execute_reply": "2025-03-05T09:44:04.096357Z"
        },
        "id": "7vaPlZAI3NZS"
      },
      "outputs": [],
      "execution_count": null
    },
    {
      "cell_type": "code",
      "source": [],
      "metadata": {
        "trusted": true,
        "id": "-Ee1MjPI3NZT"
      },
      "outputs": [],
      "execution_count": null
    },
    {
      "cell_type": "code",
      "source": [],
      "metadata": {
        "trusted": true,
        "id": "Si-F4MDm3NZT"
      },
      "outputs": [],
      "execution_count": null
    },
    {
      "cell_type": "code",
      "source": [],
      "metadata": {
        "trusted": true,
        "id": "2wYqXGAu3NZT"
      },
      "outputs": [],
      "execution_count": null
    },
    {
      "cell_type": "code",
      "source": [],
      "metadata": {
        "trusted": true,
        "id": "FEPv4ZW73NZT"
      },
      "outputs": [],
      "execution_count": null
    },
    {
      "cell_type": "code",
      "source": [
        "只要smiles轉graph\n",
        "graph = x\n",
        "x->mat\n",
        "fp\n",
        "bind = y\n",
        "model.fit(fp,y)"
      ],
      "metadata": {
        "trusted": true,
        "execution": {
          "iopub.status.busy": "2025-03-05T09:44:04.097252Z",
          "iopub.status.idle": "2025-03-05T09:44:04.09758Z",
          "shell.execute_reply": "2025-03-05T09:44:04.097425Z"
        },
        "id": "B58OYYuS3NZT"
      },
      "outputs": [],
      "execution_count": null
    },
    {
      "cell_type": "code",
      "source": [
        "import pyarrow.parquet as pq\n",
        "import pandas as pd\n",
        "import gc  # 引入垃圾回收模組\n",
        "\n",
        "filename = \"/kaggle/input/leash-BELKA/train.parquet\"\n",
        "columns_to_read = [\"molecule_smiles\", \"protein_name\", \"binds\"]\n",
        "\n",
        "batch_size = 60000    # 每次讀取 60,000 筆\n",
        "target_rows = 12000000  # 每輪儲存 1,200,0000 筆\n",
        "total_batches = 30    # 總共執行 30 次\n",
        "total_rows = 0        # 記錄當前累積筆數\n",
        "\n",
        "parquet_file = pq.ParquetFile(filename)\n",
        "\n",
        "# 獲取總行組數量\n",
        "num_row_groups = parquet_file.num_row_groups\n",
        "print(f\"Total row groups in file: {num_row_groups}\")\n",
        "\n",
        "# 計算每次讀取多少行組\n",
        "row_groups_per_batch = target_rows // batch_size\n",
        "\n",
        "\n",
        "# 開始進行批次處理\n",
        "for i in range(total_batches):\n",
        "    chunks = []\n",
        "    current_rows = 0  # 每輪的計數器\n",
        "    batch_start_row_group = i * row_groups_per_batch  # 直接依序取\n",
        "    batch_end_row_group = min(batch_start_row_group + row_groups_per_batch, num_row_groups)\n",
        "\n",
        "    if batch_end_row_group >= num_row_groups:\n",
        "        batch_end_row_group = num_row_groups  # 避免超出行組範圍\n",
        "\n",
        "    print(f\"✅ 第 {i+1} 次處理：從行組 {batch_start_row_group} 到行組 {batch_end_row_group}\")\n",
        "\n",
        "    # 使用 pyarrow 的 ParquetFile 直接讀取指定範圍的行組\n",
        "    for row_group_idx in range(batch_start_row_group, batch_end_row_group):\n",
        "        try:\n",
        "            batch = parquet_file.read_row_groups([row_group_idx], columns=columns_to_read)\n",
        "            chunk = batch.to_pandas()\n",
        "\n",
        "            # 檢查是否有資料\n",
        "            if not chunk.empty:\n",
        "                chunks.append(chunk)\n",
        "                current_rows += len(chunk)\n",
        "                total_rows += len(chunk)\n",
        "\n",
        "            # 如果讀取到指定範圍的資料，就停止\n",
        "            if total_rows >= target_rows * (i + 1):\n",
        "                break  # 如果已經讀到該批次的結尾就停止\n",
        "\n",
        "        except Exception as e:\n",
        "            print(f\"⚠️ 讀取行組 {row_group_idx} 時發生錯誤: {e}\")\n",
        "\n",
        "    if chunks:  # 確保有資料才進行合併\n",
        "        # 合併 DataFrame\n",
        "        batch_df = pd.concat(chunks, ignore_index=True)\n",
        "\n",
        "        # **將每 3 列合併成 1 列**\n",
        "        batch_df[\"row_idx\"] = batch_df.index // 3  # 每 3 列分組\n",
        "        batch_pivot = batch_df.pivot(index=\"row_idx\", columns=\"protein_name\", values=\"binds\").reset_index()\n",
        "\n",
        "        # **合併 molecule_smiles**\n",
        "        smiles_df = batch_df.groupby(\"row_idx\")[\"molecule_smiles\"].first().reset_index()\n",
        "        final_df = smiles_df.merge(batch_pivot, on=\"row_idx\").drop(columns=[\"row_idx\"])\n",
        "\n",
        "        # 存成 parquet，每次都存不同的檔案\n",
        "        output_filename = f\"/kaggle/working/sampled_train_part{i+1}.parquet\"\n",
        "        final_df.to_parquet(output_filename, index=False)\n",
        "\n",
        "        print(f\"✅ 第 {i+1} 次存檔：{len(final_df)} 筆，已累積 {total_rows} 筆\")\n",
        "\n",
        "        # 清理無用的變數，釋放記憶體\n",
        "        del batch_df, batch_pivot, smiles_df, final_df\n",
        "        gc.collect()  # 執行垃圾回收\n",
        "    else:\n",
        "        print(f\"⚠️ 第 {i+1} 次處理未讀取到任何資料，跳過該批次。\")\n"
      ],
      "metadata": {
        "trusted": true,
        "execution": {
          "iopub.status.busy": "2025-03-05T09:44:04.098701Z",
          "iopub.status.idle": "2025-03-05T09:44:04.098984Z",
          "shell.execute_reply": "2025-03-05T09:44:04.098876Z"
        },
        "id": "Bw9A5kP23NZT"
      },
      "outputs": [],
      "execution_count": null
    },
    {
      "cell_type": "code",
      "source": [
        "\n",
        "import pyarrow.parquet as pq\n",
        "import pandas as pd\n",
        "import gc  # 引入垃圾回收模組\n",
        "\n",
        "filename = \"/kaggle/input/leash-BELKA/train.parquet\"\n",
        "columns_to_read = [\"molecule_smiles\", \"protein_name\", \"binds\"]\n",
        "\n",
        "batch_size = 60000       # 每次讀取 60,000 筆\n",
        "target_rows = 12000000   # 每輪儲存 12,000,000 筆\n",
        "total_batches = 30       # 總共執行 30 次\n",
        "total_rows = 0           # 記錄當前累積筆數\n",
        "\n",
        "parquet_file = pq.ParquetFile(filename)\n",
        "\n",
        "# 獲取總行組數量\n",
        "num_row_groups = parquet_file.num_row_groups\n",
        "print(f\"Total row groups in file: {num_row_groups}\")\n",
        "\n",
        "# 計算每次讀取多少行組\n",
        "row_groups_per_batch = target_rows // batch_size  # 計算每次應該讀取多少個行組\n",
        "\n",
        "# 開始進行批次處理\n",
        "for i in range(total_batches):\n",
        "    chunks = []\n",
        "    current_rows = 0  # 每輪的計數器\n",
        "    batch_start_row_group = total_rows // batch_size  # 計算起始行組索引\n",
        "    batch_end_row_group = batch_start_row_group + row_groups_per_batch  # 計算結束行組索引\n",
        "\n",
        "    # 確保不超過行組數量\n",
        "    if batch_end_row_group >= num_row_groups:\n",
        "        batch_end_row_group = num_row_groups\n",
        "\n",
        "    print(f\"✅ 第 {i+1} 次處理：從行組 {batch_start_row_group} 到行組 {batch_end_row_group}\")\n",
        "\n",
        "    # 依序讀取行組\n",
        "    for row_group_idx in range(batch_start_row_group, batch_end_row_group):\n",
        "        try:\n",
        "            batch = parquet_file.read_row_groups([row_group_idx], columns=columns_to_read)\n",
        "            chunk = batch.to_pandas()\n",
        "\n",
        "            # 確保有資料才加入\n",
        "            if not chunk.empty:\n",
        "                chunks.append(chunk)\n",
        "                current_rows += len(chunk)\n",
        "                total_rows += len(chunk)\n",
        "\n",
        "            # 若本批次已達到 `target_rows`，則停止\n",
        "            if total_rows >= target_rows * (i + 1):\n",
        "                break\n",
        "\n",
        "        except Exception as e:\n",
        "            print(f\"⚠️ 讀取行組 {row_group_idx} 時發生錯誤: {e}\")\n",
        "\n",
        "    if chunks:  # 確保有資料才進行合併\n",
        "        # 合併 DataFrame\n",
        "        batch_df = pd.concat(chunks, ignore_index=True)\n",
        "\n",
        "        # **將每 3 列合併成 1 列**\n",
        "        batch_df[\"row_idx\"] = batch_df.index // 3  # 每 3 列分組\n",
        "        batch_pivot = batch_df.pivot(index=\"row_idx\", columns=\"protein_name\", values=\"binds\").reset_index()\n",
        "\n",
        "        # **合併 molecule_smiles**\n",
        "        smiles_df = batch_df.groupby(\"row_idx\")[\"molecule_smiles\"].first().reset_index()\n",
        "        final_df = smiles_df.merge(batch_pivot, on=\"row_idx\").drop(columns=[\"row_idx\"])\n",
        "\n",
        "        # 存成 parquet，每次都存不同的檔案\n",
        "        output_filename = f\"/kaggle/working/sampled_train_part{i+1}.parquet\"\n",
        "        final_df.to_parquet(output_filename, index=False)\n",
        "\n",
        "        print(f\"✅ 第 {i+1} 次存檔：{len(final_df)} 筆，已累積 {total_rows} 筆\")\n",
        "\n",
        "        # 清理記憶體\n",
        "        del batch_df, batch_pivot, smiles_df, final_df\n",
        "        gc.collect()  # 執行垃圾回收\n",
        "    else:\n",
        "        print(f\"⚠️ 第 {i+1} 次處理未讀取到任何資料，跳過該批次。\")\n"
      ],
      "metadata": {
        "trusted": true,
        "execution": {
          "iopub.status.busy": "2025-03-05T09:44:04.099737Z",
          "iopub.status.idle": "2025-03-05T09:44:04.100059Z",
          "shell.execute_reply": "2025-03-05T09:44:04.099947Z"
        },
        "id": "0WjAbxbz3NZT"
      },
      "outputs": [],
      "execution_count": null
    },
    {
      "cell_type": "code",
      "source": [
        "data1name = \"/kaggle/working/sampled_train_part1.parquet\"\n",
        "data1= pd.read_parquet(data1name)\n",
        "data1.head(10)"
      ],
      "metadata": {
        "trusted": true,
        "execution": {
          "iopub.status.busy": "2025-03-05T09:44:04.10101Z",
          "iopub.status.idle": "2025-03-05T09:44:04.10131Z",
          "shell.execute_reply": "2025-03-05T09:44:04.101182Z"
        },
        "id": "fEJEeMHA3NZX"
      },
      "outputs": [],
      "execution_count": null
    },
    {
      "cell_type": "code",
      "source": [
        "data1.shape"
      ],
      "metadata": {
        "trusted": true,
        "execution": {
          "iopub.status.busy": "2025-03-05T09:44:04.102149Z",
          "iopub.status.idle": "2025-03-05T09:44:04.10245Z",
          "shell.execute_reply": "2025-03-05T09:44:04.102347Z"
        },
        "id": "I09mj2ZC3NZX"
      },
      "outputs": [],
      "execution_count": null
    },
    {
      "cell_type": "code",
      "source": [
        "data2name = \"/kaggle/working/sampled_train_part2.parquet\"\n",
        "data2= pd.read_parquet(data2name)\n",
        "data2.head(10)"
      ],
      "metadata": {
        "trusted": true,
        "execution": {
          "iopub.status.busy": "2025-03-05T09:44:04.10348Z",
          "iopub.status.idle": "2025-03-05T09:44:04.103869Z",
          "shell.execute_reply": "2025-03-05T09:44:04.103678Z"
        },
        "id": "8os054ma3NZX"
      },
      "outputs": [],
      "execution_count": null
    },
    {
      "cell_type": "code",
      "source": [
        "data2.shape"
      ],
      "metadata": {
        "trusted": true,
        "execution": {
          "iopub.status.busy": "2025-03-05T09:44:04.104588Z",
          "iopub.status.idle": "2025-03-05T09:44:04.104914Z",
          "shell.execute_reply": "2025-03-05T09:44:04.104801Z"
        },
        "id": "QAhcMlpD3NZX"
      },
      "outputs": [],
      "execution_count": null
    },
    {
      "cell_type": "code",
      "source": [
        "filename = \"/kaggle/input/leash-BELKA/train.parquet\"\n",
        "data3= pd.read_parquet(filename)\n",
        "data3.shape"
      ],
      "metadata": {
        "trusted": true,
        "execution": {
          "iopub.status.busy": "2025-03-05T09:44:04.105815Z",
          "iopub.status.idle": "2025-03-05T09:44:04.106132Z",
          "shell.execute_reply": "2025-03-05T09:44:04.105982Z"
        },
        "id": "0vxn8fIQ3NZX"
      },
      "outputs": [],
      "execution_count": null
    },
    {
      "cell_type": "code",
      "source": [
        "import pandas as pd\n",
        "from rdkit import Chem\n",
        "from rdkit.Chem import rdmolops\n",
        "import torch\n",
        "from torch_geometric.data import Data\n",
        "\n",
        "# 定義將 SMILES 轉換為圖結構的函數\n",
        "def smiles_to_pyg_graph(smiles):\n",
        "    mol = Chem.MolFromSmiles(smiles)\n",
        "    if mol is not None:\n",
        "        # 生成分子圖\n",
        "        atoms = [atom.GetAtomicNum() for atom in mol.GetAtoms()]\n",
        "        bonds = [(bond.GetBeginAtomIdx(), bond.GetEndAtomIdx()) for bond in mol.GetBonds()]\n",
        "\n",
        "        # 創建邊列表\n",
        "        edge_index = torch.tensor(bonds, dtype=torch.long).t().contiguous()\n",
        "\n",
        "        # 創建特徵矩陣\n",
        "        x = torch.tensor(atoms, dtype=torch.float).view(-1, 1)  # 每個原子的特徵\n",
        "\n",
        "        # 創建 PyG 格式的數據對象\n",
        "        data = Data(x=x, edge_index=edge_index)\n",
        "\n",
        "        return data\n",
        "    else:\n",
        "        return None\n",
        "\n",
        "# 設定讀取 Parquet 文件的參數\n",
        "filename = '/kaggle/input/leash-BELKA/train.parquet'\n",
        "chunk_size = 100000  # 每次讀取的行數\n",
        "nrows = 500000  # 需要處理的總行數\n",
        "\n",
        "# 讀取並處理每一個 chunk\n",
        "chunks = []\n",
        "for chunk in pd.read_parquet(filename, chunksize=chunk_size, usecols=['molecule_smiles', 'protein', 'bind'], nrows=nrows):\n",
        "    # 將 molecule_smiles 轉換為圖結構\n",
        "    chunk['pyg_graph'] = chunk['molecule_smiles'].apply(smiles_to_pyg_graph)\n",
        "    chunks.append(chunk)\n",
        "\n",
        "# 合併所有的 chunks 以形成最終的 DataFrame\n",
        "train_df = pd.concat(chunks, ignore_index=True)\n",
        "\n",
        "# 顯示合併後的 DataFrame\n",
        "print(train_df[['molecule_smiles', 'protein', 'bind', 'pyg_graph']].head())\n"
      ],
      "metadata": {
        "trusted": true,
        "execution": {
          "iopub.status.busy": "2025-03-05T09:44:04.107105Z",
          "iopub.status.idle": "2025-03-05T09:44:04.107376Z",
          "shell.execute_reply": "2025-03-05T09:44:04.107269Z"
        },
        "id": "xmNaJqgf3NZX"
      },
      "outputs": [],
      "execution_count": null
    },
    {
      "cell_type": "code",
      "source": [
        "只要smiles轉graph\n",
        "graph = x\n",
        "x->mat\n",
        "fp\n",
        "bind = y\n",
        "model.fit(fp,y)"
      ],
      "metadata": {
        "trusted": true,
        "execution": {
          "iopub.status.busy": "2025-03-05T09:44:04.108271Z",
          "iopub.status.idle": "2025-03-05T09:44:04.108583Z",
          "shell.execute_reply": "2025-03-05T09:44:04.108475Z"
        },
        "id": "TiVsZ98S3NZX"
      },
      "outputs": [],
      "execution_count": null
    },
    {
      "cell_type": "code",
      "source": [
        "batch_size = 64\n",
        "\n",
        "# Formal charges are one-hot encoded to keep compatibility with the pre-trained weights.\n",
        "# If you do not plan to use the pre-trained weights, we recommend to set one_hot_formal_charge to False.\n",
        "X, y = train_df\n",
        "data_loader = construct_loader(X, y, batch_size)"
      ],
      "metadata": {
        "trusted": true,
        "execution": {
          "iopub.status.busy": "2025-03-05T09:44:04.109622Z",
          "iopub.status.idle": "2025-03-05T09:44:04.109973Z",
          "shell.execute_reply": "2025-03-05T09:44:04.10984Z"
        },
        "id": "ehMoKVV43NZX"
      },
      "outputs": [],
      "execution_count": null
    },
    {
      "cell_type": "code",
      "source": [
        "model.to(torch.device('cuda'))\n",
        "\n",
        "for batch in data_loader:\n",
        "    adjacency_matrix, node_features, distance_matrix, y = batch\n",
        "    batch_mask = torch.sum(torch.abs(node_features), dim=-1) != 0\n",
        "    output = model(node_features, batch_mask, adjacency_matrix, distance_matrix, None)\n",
        "\n",
        "    print(output)"
      ],
      "metadata": {
        "trusted": true,
        "execution": {
          "iopub.status.busy": "2025-03-05T09:44:04.1106Z",
          "iopub.status.idle": "2025-03-05T09:44:04.11092Z",
          "shell.execute_reply": "2025-03-05T09:44:04.110813Z"
        },
        "id": "1wu_6HSb3NZY"
      },
      "outputs": [],
      "execution_count": null
    },
    {
      "cell_type": "code",
      "source": [],
      "metadata": {
        "trusted": true,
        "id": "4HSpcIoJ3NZY"
      },
      "outputs": [],
      "execution_count": null
    },
    {
      "cell_type": "code",
      "source": [],
      "metadata": {
        "trusted": true,
        "id": "V8-0wPu13NZY"
      },
      "outputs": [],
      "execution_count": null
    },
    {
      "cell_type": "code",
      "source": [
        "#測試\n",
        "\n",
        "class GNNFingerprint(nn.Module):\n",
        "    def __init__(self, in_dim=1, hidden_dim=64, out_dim=128, num_layers=3):\n",
        "        super(GNNFingerprint, self).__init__()\n",
        "        self.conv_layers = nn.ModuleList([GCNConv(in_dim if i == 0 else hidden_dim, hidden_dim) for i in range(num_layers)])\n",
        "        self.fc = nn.Linear(hidden_dim, out_dim)  # 最終輸出分子指紋\n",
        "\n",
        "    def forward(self, data):\n",
        "        x, edge_index = data.x, data.edge_index\n",
        "        for conv in self.conv_layers:\n",
        "            x = F.relu(conv(x, edge_index))\n",
        "        x = global_mean_pool(x, data.batch)  # 聚合成全局分子指紋\n",
        "        return self.fc(x)\n",
        "\n",
        "# 測試 GNN 指紋模型\n",
        "device = torch.device(\"cuda\" if torch.cuda.is_available() else \"cpu\")\n",
        "model = GNNFingerprint().to(device)\n",
        "graph = graph.to(device)"
      ],
      "metadata": {
        "trusted": true,
        "execution": {
          "iopub.status.busy": "2025-03-05T09:44:04.112123Z",
          "iopub.status.idle": "2025-03-05T09:44:04.112408Z",
          "shell.execute_reply": "2025-03-05T09:44:04.112299Z"
        },
        "id": "zLls0kg93NZY"
      },
      "outputs": [],
      "execution_count": null
    },
    {
      "cell_type": "code",
      "source": [
        "import pandas as pd\n",
        "from rdkit import Chem\n",
        "from rdkit.Chem.Pharm2D import Gobbi_Pharm2D, Generate\n",
        "\n",
        "# 定義一個將 SMILES 轉換為 Pharmacophore Fingerprint 的函數\n",
        "def smiles_to_fingerprint(smiles):\n",
        "    mol = Chem.MolFromSmiles(smiles)\n",
        "    if mol is not None:\n",
        "        fp = Generate.Gen2DFingerprint(mol, Gobbi_Pharm2D.factory)\n",
        "        return fp\n",
        "    else:\n",
        "        return None\n",
        "\n",
        "# 設定讀取 Parquet 文件的參數\n",
        "filename = '/kaggle/input/leash-BELKA/train.parquet'\n",
        "chunk_size = 100000  # 每次讀取的行數\n",
        "nrows = 500000  # 需要處理的總行數\n",
        "\n",
        "# 讀取並處理每一個 chunk\n",
        "chunks = []\n",
        "for chunk in pd.read_parquet(filename, chunksize=chunk_size, nrows=nrows):\n",
        "    chunk['pyg_graph'] = chunk['molecule_smiles'].apply(smiles_to_pyg_graph)\n",
        "    chunks.append(chunk)\n",
        "\n",
        "# 合併所有的 chunks 以形成最終的 DataFrame\n",
        "train_df = pd.concat(chunks, ignore_index=True)\n",
        "\n",
        "# 顯示合併後的 DataFrame\n",
        "print(train_df.head())\n"
      ],
      "metadata": {
        "trusted": true,
        "execution": {
          "iopub.status.busy": "2025-03-05T09:44:04.113116Z",
          "iopub.status.idle": "2025-03-05T09:44:04.113444Z",
          "shell.execute_reply": "2025-03-05T09:44:04.113288Z"
        },
        "id": "vjJNi6f83NZY"
      },
      "outputs": [],
      "execution_count": null
    },
    {
      "cell_type": "code",
      "source": [
        "import pandas as pd\n",
        "import torch\n",
        "from torch.utils.data import Dataset, DataLoader\n",
        "from convert_smiles_to_graph import smiles_to_graph\n",
        "\n",
        "class MolecularDataset(Dataset):\n",
        "    def __init__(self, csv_file):\n",
        "        self.data = pd.read_csv(csv_file)\n",
        "\n",
        "    def __len__(self):\n",
        "        return len(self.data)\n",
        "\n",
        "    def __getitem__(self, idx):\n",
        "        smiles = self.data.iloc[idx][\"SMILES\"]\n",
        "        label = torch.tensor(self.data.iloc[idx][\"Property\"], dtype=torch.float32)\n",
        "        graph = smiles_to_graph(smiles)\n",
        "\n",
        "        return graph, label\n",
        "\n",
        "# 建立 DataLoader\n",
        "def get_data_loader(csv_file, batch_size=32):\n",
        "    dataset = MolecularDataset(csv_file)\n",
        "    return DataLoader(dataset, batch_size=batch_size, shuffle=True, collate_fn=collate_fn)\n",
        "\n",
        "# 設定批量處理函數\n",
        "def collate_fn(batch):\n",
        "    graphs, labels = zip(*batch)\n",
        "    graphs = dgl.batch(graphs)\n",
        "    labels = torch.stack(labels)\n",
        "    return graphs, labels\n"
      ],
      "metadata": {
        "trusted": true,
        "execution": {
          "iopub.status.busy": "2025-03-05T09:44:04.114211Z",
          "iopub.status.idle": "2025-03-05T09:44:04.114488Z",
          "shell.execute_reply": "2025-03-05T09:44:04.114369Z"
        },
        "id": "AfTGEJW_3NZY"
      },
      "outputs": [],
      "execution_count": null
    },
    {
      "cell_type": "code",
      "source": [
        "import torch\n",
        "import torch.nn as nn\n",
        "import torch.optim as optim\n",
        "from models import MAT\n",
        "from dataset import get_data_loader\n",
        "\n",
        "# 設定 GPU\n",
        "device = torch.device(\"cuda\" if torch.cuda.is_available() else \"cpu\")\n",
        "\n",
        "# 1. 載入 MAT 模型\n",
        "model = MAT()\n",
        "model.load_state_dict(torch.load(\"pretrained/mat.pth\", map_location=device))  # 載入預訓練模型\n",
        "model.to(device)\n",
        "\n",
        "# 2. 設定損失函數和優化器\n",
        "criterion = nn.MSELoss()  # 均方誤差（適用於回歸）\n",
        "optimizer = optim.Adam(model.parameters(), lr=0.0001)\n",
        "\n",
        "# 3. 讀取數據集\n",
        "train_loader = get_data_loader(\"data/custom_dataset.csv\", batch_size=16)\n",
        "\n",
        "# 4. 訓練模型\n",
        "num_epochs = 20\n",
        "for epoch in range(num_epochs):\n",
        "    model.train()\n",
        "    total_loss = 0\n",
        "\n",
        "    for graphs, labels in train_loader:\n",
        "        graphs, labels = graphs.to(device), labels.to(device)\n",
        "\n",
        "        optimizer.zero_grad()\n",
        "        outputs = model(graphs)\n",
        "        loss = criterion(outputs, labels)\n",
        "        loss.backward()\n",
        "        optimizer.step()\n",
        "\n",
        "        total_loss += loss.item()\n",
        "\n",
        "    print(f\"Epoch [{epoch+1}/{num_epochs}], Loss: {total_loss:.4f}\")\n",
        "\n",
        "# 5. 儲存微調後的模型\n",
        "torch.save(model.state_dict(), \"fine_tuned_mat.pth\")\n",
        "print(\"微調完成，模型已保存！\")\n"
      ],
      "metadata": {
        "trusted": true,
        "execution": {
          "iopub.status.busy": "2025-03-05T09:44:04.115245Z",
          "iopub.status.idle": "2025-03-05T09:44:04.11565Z",
          "shell.execute_reply": "2025-03-05T09:44:04.11547Z"
        },
        "id": "e3LRGfdO3NZY"
      },
      "outputs": [],
      "execution_count": null
    }
  ]
}