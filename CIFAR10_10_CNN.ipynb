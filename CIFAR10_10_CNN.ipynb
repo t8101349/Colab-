{
  "nbformat": 4,
  "nbformat_minor": 0,
  "metadata": {
    "colab": {
      "provenance": [],
      "include_colab_link": true
    },
    "kernelspec": {
      "name": "python3",
      "display_name": "Python 3"
    },
    "accelerator": "GPU",
    "widgets": {
      "application/vnd.jupyter.widget-state+json": {
        "19abe553e8cf4241b0858da7d3a5d1b2": {
          "model_module": "@jupyter-widgets/controls",
          "model_name": "VBoxModel",
          "model_module_version": "1.5.0",
          "state": {
            "_dom_classes": [
              "widget-interact"
            ],
            "_model_module": "@jupyter-widgets/controls",
            "_model_module_version": "1.5.0",
            "_model_name": "VBoxModel",
            "_view_count": null,
            "_view_module": "@jupyter-widgets/controls",
            "_view_module_version": "1.5.0",
            "_view_name": "VBoxView",
            "box_style": "",
            "children": [
              "IPY_MODEL_af6139e4a9734dee8077da1357fcf98e",
              "IPY_MODEL_13e0ed55c72a42ae926f08cbb2581931"
            ],
            "layout": "IPY_MODEL_579e3bba3de24096bdad3114bb01616f"
          }
        },
        "af6139e4a9734dee8077da1357fcf98e": {
          "model_module": "@jupyter-widgets/controls",
          "model_name": "BoundedIntTextModel",
          "model_module_version": "1.5.0",
          "state": {
            "_dom_classes": [],
            "_model_module": "@jupyter-widgets/controls",
            "_model_module_version": "1.5.0",
            "_model_name": "BoundedIntTextModel",
            "_view_count": null,
            "_view_module": "@jupyter-widgets/controls",
            "_view_module_version": "1.5.0",
            "_view_name": "IntTextView",
            "continuous_update": false,
            "description": "idx",
            "description_tooltip": null,
            "disabled": false,
            "layout": "IPY_MODEL_1d76dfbc3e5b4b79845fc87f61bfca1f",
            "max": 9999,
            "min": 0,
            "step": 1,
            "style": "IPY_MODEL_d569c21c12734c5e81420d4fbc50bb47",
            "value": 5566
          }
        },
        "13e0ed55c72a42ae926f08cbb2581931": {
          "model_module": "@jupyter-widgets/output",
          "model_name": "OutputModel",
          "model_module_version": "1.0.0",
          "state": {
            "_dom_classes": [],
            "_model_module": "@jupyter-widgets/output",
            "_model_module_version": "1.0.0",
            "_model_name": "OutputModel",
            "_view_count": null,
            "_view_module": "@jupyter-widgets/output",
            "_view_module_version": "1.0.0",
            "_view_name": "OutputView",
            "layout": "IPY_MODEL_95ce2f34d040470180a14b3e432ef11a",
            "msg_id": "",
            "outputs": [
              {
                "output_type": "stream",
                "name": "stdout",
                "text": [
                  "\r\u001b[1m1/1\u001b[0m \u001b[32m━━━━━━━━━━━━━━━━━━━━\u001b[0m\u001b[37m\u001b[0m \u001b[1m0s\u001b[0m 525ms/step"
                ]
              },
              {
                "output_type": "stream",
                "name": "stdout",
                "text": [
                  "\b\b\b\b\b\b\b\b\b\b\b\b\b\b\b\b\b\b\b\b\b\b\b\b\b\b\b\b\b\b\b\b\b\b\b\b\b\b\r\u001b[1m1/1\u001b[0m \u001b[32m━━━━━━━━━━━━━━━━━━━━\u001b[0m\u001b[37m\u001b[0m \u001b[1m1s\u001b[0m 540ms/step\n"
                ]
              },
              {
                "output_type": "stream",
                "name": "stdout",
                "text": [
                  "預測正確!\n"
                ]
              },
              {
                "output_type": "stream",
                "name": "stderr",
                "text": [
                  "<ipython-input-18-daa3ea55031d>:21: UserWarning: set_ticklabels() should only be used with a fixed number of ticks, i.e. after set_ticks() or using a FixedLocator.\n",
                  "  ax2.set_yticklabels(class_label)\n"
                ]
              },
              {
                "output_type": "display_data",
                "data": {
                  "text/plain": "<Figure size 1200x500 with 2 Axes>",
                  "image/png": "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\n"
                },
                "metadata": {}
              }
            ]
          }
        },
        "579e3bba3de24096bdad3114bb01616f": {
          "model_module": "@jupyter-widgets/base",
          "model_name": "LayoutModel",
          "model_module_version": "1.2.0",
          "state": {
            "_model_module": "@jupyter-widgets/base",
            "_model_module_version": "1.2.0",
            "_model_name": "LayoutModel",
            "_view_count": null,
            "_view_module": "@jupyter-widgets/base",
            "_view_module_version": "1.2.0",
            "_view_name": "LayoutView",
            "align_content": null,
            "align_items": null,
            "align_self": null,
            "border": null,
            "bottom": null,
            "display": null,
            "flex": null,
            "flex_flow": null,
            "grid_area": null,
            "grid_auto_columns": null,
            "grid_auto_flow": null,
            "grid_auto_rows": null,
            "grid_column": null,
            "grid_gap": null,
            "grid_row": null,
            "grid_template_areas": null,
            "grid_template_columns": null,
            "grid_template_rows": null,
            "height": null,
            "justify_content": null,
            "justify_items": null,
            "left": null,
            "margin": null,
            "max_height": null,
            "max_width": null,
            "min_height": null,
            "min_width": null,
            "object_fit": null,
            "object_position": null,
            "order": null,
            "overflow": null,
            "overflow_x": null,
            "overflow_y": null,
            "padding": null,
            "right": null,
            "top": null,
            "visibility": null,
            "width": null
          }
        },
        "1d76dfbc3e5b4b79845fc87f61bfca1f": {
          "model_module": "@jupyter-widgets/base",
          "model_name": "LayoutModel",
          "model_module_version": "1.2.0",
          "state": {
            "_model_module": "@jupyter-widgets/base",
            "_model_module_version": "1.2.0",
            "_model_name": "LayoutModel",
            "_view_count": null,
            "_view_module": "@jupyter-widgets/base",
            "_view_module_version": "1.2.0",
            "_view_name": "LayoutView",
            "align_content": null,
            "align_items": null,
            "align_self": null,
            "border": null,
            "bottom": null,
            "display": null,
            "flex": null,
            "flex_flow": null,
            "grid_area": null,
            "grid_auto_columns": null,
            "grid_auto_flow": null,
            "grid_auto_rows": null,
            "grid_column": null,
            "grid_gap": null,
            "grid_row": null,
            "grid_template_areas": null,
            "grid_template_columns": null,
            "grid_template_rows": null,
            "height": null,
            "justify_content": null,
            "justify_items": null,
            "left": null,
            "margin": null,
            "max_height": null,
            "max_width": null,
            "min_height": null,
            "min_width": null,
            "object_fit": null,
            "object_position": null,
            "order": null,
            "overflow": null,
            "overflow_x": null,
            "overflow_y": null,
            "padding": null,
            "right": null,
            "top": null,
            "visibility": null,
            "width": null
          }
        },
        "d569c21c12734c5e81420d4fbc50bb47": {
          "model_module": "@jupyter-widgets/controls",
          "model_name": "DescriptionStyleModel",
          "model_module_version": "1.5.0",
          "state": {
            "_model_module": "@jupyter-widgets/controls",
            "_model_module_version": "1.5.0",
            "_model_name": "DescriptionStyleModel",
            "_view_count": null,
            "_view_module": "@jupyter-widgets/base",
            "_view_module_version": "1.2.0",
            "_view_name": "StyleView",
            "description_width": ""
          }
        },
        "95ce2f34d040470180a14b3e432ef11a": {
          "model_module": "@jupyter-widgets/base",
          "model_name": "LayoutModel",
          "model_module_version": "1.2.0",
          "state": {
            "_model_module": "@jupyter-widgets/base",
            "_model_module_version": "1.2.0",
            "_model_name": "LayoutModel",
            "_view_count": null,
            "_view_module": "@jupyter-widgets/base",
            "_view_module_version": "1.2.0",
            "_view_name": "LayoutView",
            "align_content": null,
            "align_items": null,
            "align_self": null,
            "border": null,
            "bottom": null,
            "display": null,
            "flex": null,
            "flex_flow": null,
            "grid_area": null,
            "grid_auto_columns": null,
            "grid_auto_flow": null,
            "grid_auto_rows": null,
            "grid_column": null,
            "grid_gap": null,
            "grid_row": null,
            "grid_template_areas": null,
            "grid_template_columns": null,
            "grid_template_rows": null,
            "height": null,
            "justify_content": null,
            "justify_items": null,
            "left": null,
            "margin": null,
            "max_height": null,
            "max_width": null,
            "min_height": null,
            "min_width": null,
            "object_fit": null,
            "object_position": null,
            "order": null,
            "overflow": null,
            "overflow_x": null,
            "overflow_y": null,
            "padding": null,
            "right": null,
            "top": null,
            "visibility": null,
            "width": null
          }
        }
      }
    }
  },
  "cells": [
    {
      "cell_type": "markdown",
      "metadata": {
        "id": "view-in-github",
        "colab_type": "text"
      },
      "source": [
        "<a href=\"https://colab.research.google.com/github/t8101349/Colab-/blob/master/CIFAR10_10_CNN.ipynb\" target=\"_parent\"><img src=\"https://colab.research.google.com/assets/colab-badge.svg\" alt=\"Open In Colab\"/></a>"
      ]
    },
    {
      "cell_type": "markdown",
      "metadata": {
        "id": "XUZA3OvtRzK-"
      },
      "source": [
        "\n",
        "<p align=\"center\">\n",
        "  <img src=\"https://storage.googleapis.com/kaggle-competitions/kaggle/3649/media/cifar-10.png\"\n",
        "  />\n",
        "  <center>Cifar 10 資料庫</center>\n",
        "  <center>圖片來源: https://www.kaggle.com/</center>\n",
        "</p>\n"
      ]
    },
    {
      "cell_type": "markdown",
      "metadata": {
        "id": "kBCBgP30Rxzx"
      },
      "source": [
        "CIFAR 10 是一個 10 類別資料，包含了：\n",
        "* 飛機 (airplan)\n",
        "* 交通工具 (automobile)\n",
        "* 鳥 (bird)\n",
        "* 貓 (cat)\n",
        "* 鹿 (deer)\n",
        "* 狗 (dog)\n",
        "* 青蛙 (frog)\n",
        "* 馬 (horse)\n",
        "* 船 (ship)\n",
        "* 卡車 (truck)\n",
        "共10個類別的資料，在這裡，我們將讓大家練習建構在 CIFAR-10 上的 CNN 分類模型"
      ]
    },
    {
      "cell_type": "markdown",
      "metadata": {
        "id": "zJMS8p3wfPXO"
      },
      "source": [
        "## 1: 切換 TensorFlow 至 2.x 版"
      ]
    },
    {
      "cell_type": "code",
      "metadata": {
        "id": "PXNUanZvcwwZ",
        "outputId": "65860ea7-938f-4e9d-97ef-abd6bcbfa4f9",
        "colab": {
          "base_uri": "https://localhost:8080/"
        }
      },
      "source": [
        "%tensorflow_version 2.x"
      ],
      "execution_count": null,
      "outputs": [
        {
          "output_type": "stream",
          "name": "stdout",
          "text": [
            "Colab only includes TensorFlow 2.x; %tensorflow_version has no effect.\n"
          ]
        }
      ]
    },
    {
      "cell_type": "markdown",
      "metadata": {
        "id": "lRHFdNYAfWKJ"
      },
      "source": [
        "## 2: 載入套件及資料集"
      ]
    },
    {
      "cell_type": "code",
      "metadata": {
        "id": "tS5xFeQwe9Xu"
      },
      "source": [
        "%matplotlib inline\n",
        "# Import some useful package\n",
        "import matplotlib.pyplot as plt\n",
        "import numpy as np\n",
        "from ipywidgets import interact, IntSlider, BoundedIntText\n",
        "\n",
        "# For CNN\n",
        "from tensorflow.keras.models import Sequential\n",
        "from tensorflow.keras.layers import Dense, Flatten\n",
        "from tensorflow.keras.layers import Conv2D, MaxPool2D\n",
        "\n",
        "# For training\n",
        "from tensorflow.keras.optimizers import SGD, Adam, schedules\n",
        "from tensorflow.keras.callbacks import EarlyStopping\n",
        "\n",
        "\n",
        "# For data preprocessing\n",
        "from tensorflow.keras import datasets\n",
        "from tensorflow.keras.utils import to_categorical"
      ],
      "execution_count": null,
      "outputs": []
    },
    {
      "cell_type": "markdown",
      "metadata": {
        "id": "e8zYubaPfy-S"
      },
      "source": [
        "## 3: 資料前處理 (Data Preprocessing)"
      ]
    },
    {
      "cell_type": "markdown",
      "metadata": {
        "id": "AOAGjiPogF0w"
      },
      "source": [
        "讀取 CIFAR 10 圖片資料集"
      ]
    },
    {
      "cell_type": "code",
      "metadata": {
        "id": "ITug7sp2TAr5",
        "colab": {
          "base_uri": "https://localhost:8080/"
        },
        "outputId": "1335dfd5-3dcd-48fa-b921-ce78f9a85d05"
      },
      "source": [
        "(X_train, y_train), (X_test, y_test) = datasets.cifar10.load_data()"
      ],
      "execution_count": null,
      "outputs": [
        {
          "output_type": "stream",
          "name": "stdout",
          "text": [
            "Downloading data from https://www.cs.toronto.edu/~kriz/cifar-10-python.tar.gz\n",
            "\u001b[1m170498071/170498071\u001b[0m \u001b[32m━━━━━━━━━━━━━━━━━━━━\u001b[0m\u001b[37m\u001b[0m \u001b[1m78s\u001b[0m 0us/step\n"
          ]
        }
      ]
    },
    {
      "cell_type": "code",
      "metadata": {
        "id": "5ZKi_PURgYXf",
        "colab": {
          "base_uri": "https://localhost:8080/",
          "height": 447
        },
        "outputId": "10bb6dd8-f9e1-4493-9a23-b4c2444a0c89"
      },
      "source": [
        "plt.imshow(X_train[0])"
      ],
      "execution_count": null,
      "outputs": [
        {
          "output_type": "execute_result",
          "data": {
            "text/plain": [
              "<matplotlib.image.AxesImage at 0x7990a5538050>"
            ]
          },
          "metadata": {},
          "execution_count": 4
        },
        {
          "output_type": "display_data",
          "data": {
            "text/plain": [
              "<Figure size 640x480 with 1 Axes>"
            ],
            "image/png": "[encoded data removed]"
          },
          "metadata": {}
        }
      ]
    },
    {
      "cell_type": "code",
      "metadata": {
        "id": "S7_hI736FVbE",
        "colab": {
          "base_uri": "https://localhost:8080/"
        },
        "outputId": "aa86156d-56d6-4570-9d5a-98d09c711956"
      },
      "source": [
        "print('訓練資料格式:', X_train.shape)\n",
        "print('測試資料格式:', X_test.shape)"
      ],
      "execution_count": null,
      "outputs": [
        {
          "output_type": "stream",
          "name": "stdout",
          "text": [
            "訓練資料格式: (50000, 32, 32, 3)\n",
            "測試資料格式: (10000, 32, 32, 3)\n"
          ]
        }
      ]
    },
    {
      "cell_type": "code",
      "metadata": {
        "id": "GkdUeRm0GpD4",
        "colab": {
          "base_uri": "https://localhost:8080/"
        },
        "outputId": "2817dde3-e8c0-4928-d5fd-38f7c5f48712"
      },
      "source": [
        "print('=='+'訓練資料'+'==')\n",
        "print('最小值:', X_train.min())\n",
        "print('最大值:', X_train.max())\n",
        "\n",
        "print('=='+'測試資料'+'==')\n",
        "print('最小值:', X_test.min())\n",
        "print('最大值:', X_test.max())"
      ],
      "execution_count": null,
      "outputs": [
        {
          "output_type": "stream",
          "name": "stdout",
          "text": [
            "==訓練資料==\n",
            "最小值: 0\n",
            "最大值: 255\n",
            "==測試資料==\n",
            "最小值: 0\n",
            "最大值: 255\n"
          ]
        }
      ]
    },
    {
      "cell_type": "code",
      "metadata": {
        "id": "9_iecz6EGVpa",
        "colab": {
          "base_uri": "https://localhost:8080/",
          "height": 391
        },
        "outputId": "ee09fe09-62f4-4831-d320-8604b1dd986b"
      },
      "source": [
        "plt.figure(figsize=(9, 4))\n",
        "plt.subplot(1, 2, 1)\n",
        "plt.title('Histogram of Training Labels')\n",
        "plt.hist(y_train, rwidth=0.5)\n",
        "\n",
        "plt.subplot(1, 2, 2)\n",
        "plt.title('Histogram of Testing Labels')\n",
        "plt.hist(y_test, rwidth=0.5);"
      ],
      "execution_count": null,
      "outputs": [
        {
          "output_type": "display_data",
          "data": {
            "text/plain": [
              "<Figure size 900x400 with 2 Axes>"
            ],
            "image/png": "[encoded data removed]"
          },
          "metadata": {}
        }
      ]
    },
    {
      "cell_type": "code",
      "metadata": {
        "id": "49FreBVkZrry",
        "colab": {
          "base_uri": "https://localhost:8080/"
        },
        "outputId": "f67bfa8f-b42d-44f6-c80b-b28d27412301"
      },
      "source": [
        "y_train"
      ],
      "execution_count": null,
      "outputs": [
        {
          "output_type": "execute_result",
          "data": {
            "text/plain": [
              "array([[6],\n",
              "       [9],\n",
              "       [9],\n",
              "       ...,\n",
              "       [9],\n",
              "       [1],\n",
              "       [1]], dtype=uint8)"
            ]
          },
          "metadata": {},
          "execution_count": 8
        }
      ]
    },
    {
      "cell_type": "code",
      "metadata": {
        "id": "rabW_ddBZ6AF",
        "colab": {
          "base_uri": "https://localhost:8080/"
        },
        "outputId": "53702b0e-3c6d-4cc1-ef67-8e554990557f"
      },
      "source": [
        "set(y_train.flatten())"
      ],
      "execution_count": null,
      "outputs": [
        {
          "output_type": "execute_result",
          "data": {
            "text/plain": [
              "{0, 1, 2, 3, 4, 5, 6, 7, 8, 9}"
            ]
          },
          "metadata": {},
          "execution_count": 9
        }
      ]
    },
    {
      "cell_type": "code",
      "metadata": {
        "id": "IsA_Z40jayyH"
      },
      "source": [
        "# Normalize data range\n",
        "X_train = X_train / X_train.max()\n",
        "X_test = X_test / X_test.max()\n",
        "\n",
        "# One-hot encoding\n",
        "y_train = to_categorical(y_train, 10)\n",
        "y_test = to_categorical(y_test, 10)"
      ],
      "execution_count": null,
      "outputs": []
    },
    {
      "cell_type": "markdown",
      "metadata": {
        "id": "swp6zTOST8gD"
      },
      "source": [
        "## 4: 練習建立辨識 CIFAR-10 的卷積神經網路\n",
        "\n",
        "在這裡，我們希望大家建立具有以下架構的卷積神經網路。\n",
        "\n",
        "透過改變模型架構以外的其他方式，讓訓練和測試準確率都至少60%。"
      ]
    },
    {
      "cell_type": "markdown",
      "metadata": {
        "id": "h0Ytst3AA2Vx"
      },
      "source": [
        "#### [練習] 模型架構\n",
        "\n",
        "|超參數/層名| 卷積層  | 池化層 | 卷積層 | 池化層 || 扁平層 | 全連接層 | 全連接層 | 輸出層 |\n",
        "|:--:|:--:|:--:|:--:|:--:|:--:|:--:|:--:|:--:|:--:|\n",
        "神經元/filter 個數| 10 | | 16 | | | | 120 | 84 | 10 |\n",
        "Kernal 尺寸| (5, 5) | (2, 2) | (4, 4) | (2, 2)\n",
        "|激活函數| ReLU | | ReLU | | | | ReLU | ReLU | softmax |\n",
        "\n",
        "別忘記第一個卷積層需要指定輸入格式: (32, 32, 3)"
      ]
    },
    {
      "cell_type": "code",
      "metadata": {
        "id": "VcPsEx2WFAqg",
        "colab": {
          "base_uri": "https://localhost:8080/"
        },
        "outputId": "682d7128-648d-4336-e08c-97e71b0a9404"
      },
      "source": [
        "model = Sequential()\n",
        "\n",
        "# [第一層] 第一層卷積層，注意：卷積層指定輸入資料的格式\n",
        "model.add(Conv2D(10, (5, 5), input_shape=(32, 32, 3), activation='relu'))\n",
        "\n",
        "# [第二層] 池化層\n",
        "model.add(MaxPool2D(pool_size=(2, 2), strides=None, padding='valid'))\n",
        "\n",
        "# [第三層] 第二層卷積層\n",
        "model.add(Conv2D(16, (3, 3), activation='relu'))\n",
        "\n",
        "# [第四層] 池化層\n",
        "model.add(MaxPool2D((2, 2)))\n",
        "\n",
        "# [第三層] 第二層卷積層\n",
        "model.add(Conv2D(16, (3, 3), activation='relu'))\n",
        "\n",
        "# [第四層] 池化層\n",
        "model.add(MaxPool2D((2, 2)))\n",
        "\n",
        "# [第五層] 扁平層\n",
        "model.add(Flatten())\n",
        "\n",
        "# [第六層] 第一層全連接層\n",
        "model.add(Dense(120, activation='relu'))\n",
        "\n",
        "# [第七層] 第二層全連接層\n",
        "model.add(Dense(84, activation='relu'))\n",
        "\n",
        "# [第八層] 輸出層\n",
        "model.add(Dense(10, activation='softmax'))"
      ],
      "execution_count": null,
      "outputs": [
        {
          "output_type": "stream",
          "name": "stderr",
          "text": [
            "/usr/local/lib/python3.11/dist-packages/keras/src/layers/convolutional/base_conv.py:107: UserWarning: Do not pass an `input_shape`/`input_dim` argument to a layer. When using Sequential models, prefer using an `Input(shape)` object as the first layer in the model instead.\n",
            "  super().__init__(activity_regularizer=activity_regularizer, **kwargs)\n"
          ]
        }
      ]
    },
    {
      "cell_type": "markdown",
      "metadata": {
        "id": "UTg0j5CnHqcE"
      },
      "source": [
        "預期模型架構：\n",
        "\n",
        "![alt_text](https://drive.google.com/uc?id=13g5ihfnssVPNlbiijotKQAsnQy8ApiKb)"
      ]
    },
    {
      "cell_type": "code",
      "metadata": {
        "id": "Ck7ZzyhUbzph",
        "colab": {
          "base_uri": "https://localhost:8080/",
          "height": 449
        },
        "outputId": "ce0c269d-656e-41ee-fb8d-c66c8aa57614"
      },
      "source": [
        "model.summary()"
      ],
      "execution_count": null,
      "outputs": [
        {
          "output_type": "display_data",
          "data": {
            "text/plain": [
              "\u001b[1mModel: \"sequential\"\u001b[0m\n"
            ],
            "text/html": [
              "<pre style=\"white-space:pre;overflow-x:auto;line-height:normal;font-family:Menlo,'DejaVu Sans Mono',consolas,'Courier New',monospace\"><span style=\"font-weight: bold\">Model: \"sequential\"</span>\n",
              "</pre>\n"
            ]
          },
          "metadata": {}
        },
        {
          "output_type": "display_data",
          "data": {
            "text/plain": [
              "┏━━━━━━━━━━━━━━━━━━━━━━━━━━━━━━━━━━━━━━┳━━━━━━━━━━━━━━━━━━━━━━━━━━━━━┳━━━━━━━━━━━━━━━━━┓\n",
              "┃\u001b[1m \u001b[0m\u001b[1mLayer (type)                        \u001b[0m\u001b[1m \u001b[0m┃\u001b[1m \u001b[0m\u001b[1mOutput Shape               \u001b[0m\u001b[1m \u001b[0m┃\u001b[1m \u001b[0m\u001b[1m        Param #\u001b[0m\u001b[1m \u001b[0m┃\n",
              "┡━━━━━━━━━━━━━━━━━━━━━━━━━━━━━━━━━━━━━━╇━━━━━━━━━━━━━━━━━━━━━━━━━━━━━╇━━━━━━━━━━━━━━━━━┩\n",
              "│ conv2d (\u001b[38;5;33mConv2D\u001b[0m)                      │ (\u001b[38;5;45mNone\u001b[0m, \u001b[38;5;34m28\u001b[0m, \u001b[38;5;34m28\u001b[0m, \u001b[38;5;34m10\u001b[0m)          │             \u001b[38;5;34m760\u001b[0m │\n",
              "├──────────────────────────────────────┼─────────────────────────────┼─────────────────┤\n",
              "│ max_pooling2d (\u001b[38;5;33mMaxPooling2D\u001b[0m)         │ (\u001b[38;5;45mNone\u001b[0m, \u001b[38;5;34m14\u001b[0m, \u001b[38;5;34m14\u001b[0m, \u001b[38;5;34m10\u001b[0m)          │               \u001b[38;5;34m0\u001b[0m │\n",
              "├──────────────────────────────────────┼─────────────────────────────┼─────────────────┤\n",
              "│ conv2d_1 (\u001b[38;5;33mConv2D\u001b[0m)                    │ (\u001b[38;5;45mNone\u001b[0m, \u001b[38;5;34m12\u001b[0m, \u001b[38;5;34m12\u001b[0m, \u001b[38;5;34m16\u001b[0m)          │           \u001b[38;5;34m1,456\u001b[0m │\n",
              "├──────────────────────────────────────┼─────────────────────────────┼─────────────────┤\n",
              "│ max_pooling2d_1 (\u001b[38;5;33mMaxPooling2D\u001b[0m)       │ (\u001b[38;5;45mNone\u001b[0m, \u001b[38;5;34m6\u001b[0m, \u001b[38;5;34m6\u001b[0m, \u001b[38;5;34m16\u001b[0m)            │               \u001b[38;5;34m0\u001b[0m │\n",
              "├──────────────────────────────────────┼─────────────────────────────┼─────────────────┤\n",
              "│ conv2d_2 (\u001b[38;5;33mConv2D\u001b[0m)                    │ (\u001b[38;5;45mNone\u001b[0m, \u001b[38;5;34m4\u001b[0m, \u001b[38;5;34m4\u001b[0m, \u001b[38;5;34m16\u001b[0m)            │           \u001b[38;5;34m2,320\u001b[0m │\n",
              "├──────────────────────────────────────┼─────────────────────────────┼─────────────────┤\n",
              "│ max_pooling2d_2 (\u001b[38;5;33mMaxPooling2D\u001b[0m)       │ (\u001b[38;5;45mNone\u001b[0m, \u001b[38;5;34m2\u001b[0m, \u001b[38;5;34m2\u001b[0m, \u001b[38;5;34m16\u001b[0m)            │               \u001b[38;5;34m0\u001b[0m │\n",
              "├──────────────────────────────────────┼─────────────────────────────┼─────────────────┤\n",
              "│ flatten (\u001b[38;5;33mFlatten\u001b[0m)                    │ (\u001b[38;5;45mNone\u001b[0m, \u001b[38;5;34m64\u001b[0m)                  │               \u001b[38;5;34m0\u001b[0m │\n",
              "├──────────────────────────────────────┼─────────────────────────────┼─────────────────┤\n",
              "│ dense (\u001b[38;5;33mDense\u001b[0m)                        │ (\u001b[38;5;45mNone\u001b[0m, \u001b[38;5;34m120\u001b[0m)                 │           \u001b[38;5;34m7,800\u001b[0m │\n",
              "├──────────────────────────────────────┼─────────────────────────────┼─────────────────┤\n",
              "│ dense_1 (\u001b[38;5;33mDense\u001b[0m)                      │ (\u001b[38;5;45mNone\u001b[0m, \u001b[38;5;34m84\u001b[0m)                  │          \u001b[38;5;34m10,164\u001b[0m │\n",
              "├──────────────────────────────────────┼─────────────────────────────┼─────────────────┤\n",
              "│ dense_2 (\u001b[38;5;33mDense\u001b[0m)                      │ (\u001b[38;5;45mNone\u001b[0m, \u001b[38;5;34m10\u001b[0m)                  │             \u001b[38;5;34m850\u001b[0m │\n",
              "└──────────────────────────────────────┴─────────────────────────────┴─────────────────┘\n"
            ],
            "text/html": [
              "<pre style=\"white-space:pre;overflow-x:auto;line-height:normal;font-family:Menlo,'DejaVu Sans Mono',consolas,'Courier New',monospace\">┏━━━━━━━━━━━━━━━━━━━━━━━━━━━━━━━━━━━━━━┳━━━━━━━━━━━━━━━━━━━━━━━━━━━━━┳━━━━━━━━━━━━━━━━━┓\n",
              "┃<span style=\"font-weight: bold\"> Layer (type)                         </span>┃<span style=\"font-weight: bold\"> Output Shape                </span>┃<span style=\"font-weight: bold\">         Param # </span>┃\n",
              "┡━━━━━━━━━━━━━━━━━━━━━━━━━━━━━━━━━━━━━━╇━━━━━━━━━━━━━━━━━━━━━━━━━━━━━╇━━━━━━━━━━━━━━━━━┩\n",
              "│ conv2d (<span style=\"color: #0087ff; text-decoration-color: #0087ff\">Conv2D</span>)                      │ (<span style=\"color: #00d7ff; text-decoration-color: #00d7ff\">None</span>, <span style=\"color: #00af00; text-decoration-color: #00af00\">28</span>, <span style=\"color: #00af00; text-decoration-color: #00af00\">28</span>, <span style=\"color: #00af00; text-decoration-color: #00af00\">10</span>)          │             <span style=\"color: #00af00; text-decoration-color: #00af00\">760</span> │\n",
              "├──────────────────────────────────────┼─────────────────────────────┼─────────────────┤\n",
              "│ max_pooling2d (<span style=\"color: #0087ff; text-decoration-color: #0087ff\">MaxPooling2D</span>)         │ (<span style=\"color: #00d7ff; text-decoration-color: #00d7ff\">None</span>, <span style=\"color: #00af00; text-decoration-color: #00af00\">14</span>, <span style=\"color: #00af00; text-decoration-color: #00af00\">14</span>, <span style=\"color: #00af00; text-decoration-color: #00af00\">10</span>)          │               <span style=\"color: #00af00; text-decoration-color: #00af00\">0</span> │\n",
              "├──────────────────────────────────────┼─────────────────────────────┼─────────────────┤\n",
              "│ conv2d_1 (<span style=\"color: #0087ff; text-decoration-color: #0087ff\">Conv2D</span>)                    │ (<span style=\"color: #00d7ff; text-decoration-color: #00d7ff\">None</span>, <span style=\"color: #00af00; text-decoration-color: #00af00\">12</span>, <span style=\"color: #00af00; text-decoration-color: #00af00\">12</span>, <span style=\"color: #00af00; text-decoration-color: #00af00\">16</span>)          │           <span style=\"color: #00af00; text-decoration-color: #00af00\">1,456</span> │\n",
              "├──────────────────────────────────────┼─────────────────────────────┼─────────────────┤\n",
              "│ max_pooling2d_1 (<span style=\"color: #0087ff; text-decoration-color: #0087ff\">MaxPooling2D</span>)       │ (<span style=\"color: #00d7ff; text-decoration-color: #00d7ff\">None</span>, <span style=\"color: #00af00; text-decoration-color: #00af00\">6</span>, <span style=\"color: #00af00; text-decoration-color: #00af00\">6</span>, <span style=\"color: #00af00; text-decoration-color: #00af00\">16</span>)            │               <span style=\"color: #00af00; text-decoration-color: #00af00\">0</span> │\n",
              "├──────────────────────────────────────┼─────────────────────────────┼─────────────────┤\n",
              "│ conv2d_2 (<span style=\"color: #0087ff; text-decoration-color: #0087ff\">Conv2D</span>)                    │ (<span style=\"color: #00d7ff; text-decoration-color: #00d7ff\">None</span>, <span style=\"color: #00af00; text-decoration-color: #00af00\">4</span>, <span style=\"color: #00af00; text-decoration-color: #00af00\">4</span>, <span style=\"color: #00af00; text-decoration-color: #00af00\">16</span>)            │           <span style=\"color: #00af00; text-decoration-color: #00af00\">2,320</span> │\n",
              "├──────────────────────────────────────┼─────────────────────────────┼─────────────────┤\n",
              "│ max_pooling2d_2 (<span style=\"color: #0087ff; text-decoration-color: #0087ff\">MaxPooling2D</span>)       │ (<span style=\"color: #00d7ff; text-decoration-color: #00d7ff\">None</span>, <span style=\"color: #00af00; text-decoration-color: #00af00\">2</span>, <span style=\"color: #00af00; text-decoration-color: #00af00\">2</span>, <span style=\"color: #00af00; text-decoration-color: #00af00\">16</span>)            │               <span style=\"color: #00af00; text-decoration-color: #00af00\">0</span> │\n",
              "├──────────────────────────────────────┼─────────────────────────────┼─────────────────┤\n",
              "│ flatten (<span style=\"color: #0087ff; text-decoration-color: #0087ff\">Flatten</span>)                    │ (<span style=\"color: #00d7ff; text-decoration-color: #00d7ff\">None</span>, <span style=\"color: #00af00; text-decoration-color: #00af00\">64</span>)                  │               <span style=\"color: #00af00; text-decoration-color: #00af00\">0</span> │\n",
              "├──────────────────────────────────────┼─────────────────────────────┼─────────────────┤\n",
              "│ dense (<span style=\"color: #0087ff; text-decoration-color: #0087ff\">Dense</span>)                        │ (<span style=\"color: #00d7ff; text-decoration-color: #00d7ff\">None</span>, <span style=\"color: #00af00; text-decoration-color: #00af00\">120</span>)                 │           <span style=\"color: #00af00; text-decoration-color: #00af00\">7,800</span> │\n",
              "├──────────────────────────────────────┼─────────────────────────────┼─────────────────┤\n",
              "│ dense_1 (<span style=\"color: #0087ff; text-decoration-color: #0087ff\">Dense</span>)                      │ (<span style=\"color: #00d7ff; text-decoration-color: #00d7ff\">None</span>, <span style=\"color: #00af00; text-decoration-color: #00af00\">84</span>)                  │          <span style=\"color: #00af00; text-decoration-color: #00af00\">10,164</span> │\n",
              "├──────────────────────────────────────┼─────────────────────────────┼─────────────────┤\n",
              "│ dense_2 (<span style=\"color: #0087ff; text-decoration-color: #0087ff\">Dense</span>)                      │ (<span style=\"color: #00d7ff; text-decoration-color: #00d7ff\">None</span>, <span style=\"color: #00af00; text-decoration-color: #00af00\">10</span>)                  │             <span style=\"color: #00af00; text-decoration-color: #00af00\">850</span> │\n",
              "└──────────────────────────────────────┴─────────────────────────────┴─────────────────┘\n",
              "</pre>\n"
            ]
          },
          "metadata": {}
        },
        {
          "output_type": "display_data",
          "data": {
            "text/plain": [
              "\u001b[1m Total params: \u001b[0m\u001b[38;5;34m23,350\u001b[0m (91.21 KB)\n"
            ],
            "text/html": [
              "<pre style=\"white-space:pre;overflow-x:auto;line-height:normal;font-family:Menlo,'DejaVu Sans Mono',consolas,'Courier New',monospace\"><span style=\"font-weight: bold\"> Total params: </span><span style=\"color: #00af00; text-decoration-color: #00af00\">23,350</span> (91.21 KB)\n",
              "</pre>\n"
            ]
          },
          "metadata": {}
        },
        {
          "output_type": "display_data",
          "data": {
            "text/plain": [
              "\u001b[1m Trainable params: \u001b[0m\u001b[38;5;34m23,350\u001b[0m (91.21 KB)\n"
            ],
            "text/html": [
              "<pre style=\"white-space:pre;overflow-x:auto;line-height:normal;font-family:Menlo,'DejaVu Sans Mono',consolas,'Courier New',monospace\"><span style=\"font-weight: bold\"> Trainable params: </span><span style=\"color: #00af00; text-decoration-color: #00af00\">23,350</span> (91.21 KB)\n",
              "</pre>\n"
            ]
          },
          "metadata": {}
        },
        {
          "output_type": "display_data",
          "data": {
            "text/plain": [
              "\u001b[1m Non-trainable params: \u001b[0m\u001b[38;5;34m0\u001b[0m (0.00 B)\n"
            ],
            "text/html": [
              "<pre style=\"white-space:pre;overflow-x:auto;line-height:normal;font-family:Menlo,'DejaVu Sans Mono',consolas,'Courier New',monospace\"><span style=\"font-weight: bold\"> Non-trainable params: </span><span style=\"color: #00af00; text-decoration-color: #00af00\">0</span> (0.00 B)\n",
              "</pre>\n"
            ]
          },
          "metadata": {}
        }
      ]
    },
    {
      "cell_type": "markdown",
      "metadata": {
        "id": "GWdFSj9OcYWl"
      },
      "source": [
        "### [練習] 嘗試不同設定來編譯模型\n",
        "\n",
        "- Optimizer:\n",
        " * Stochastic Gradient Descent (SGD)\n",
        " * Adaptive Moment Estimation (Adam)\n",
        "- Loss:\n",
        " * Mean Squared Error\n",
        " * Mean Abolute Error\n",
        " * Categorical cross-entropy"
      ]
    },
    {
      "cell_type": "markdown",
      "metadata": {
        "id": "-Zz5yHOzdUgv"
      },
      "source": [
        "### 訓練模型: 透過訓練模型來學習分類資料的函數"
      ]
    },
    {
      "cell_type": "code",
      "source": [
        "lr_schedule = schedules.ExponentialDecay(\n",
        "    initial_learning_rate=5e-4,\n",
        "    decay_steps=10000,\n",
        "    decay_rate=0.88\n",
        ")"
      ],
      "metadata": {
        "id": "dhB3yz6Duq7h"
      },
      "execution_count": null,
      "outputs": []
    },
    {
      "cell_type": "code",
      "source": [
        "model.compile(loss='categorical_crossentropy',\n",
        "              optimizer=Adam(learning_rate=lr_schedule),\n",
        "              metrics=['categorical_accuracy'])"
      ],
      "metadata": {
        "id": "niqnLXCIYACw"
      },
      "execution_count": null,
      "outputs": []
    },
    {
      "cell_type": "code",
      "source": [
        "#earlystop\n",
        "early_stopping = EarlyStopping(\n",
        "    monitor='val_loss',\n",
        "    patience=25,\n",
        "    min_delta=0.0001,\n",
        "    restore_best_weights=True,\n",
        ")\n"
      ],
      "metadata": {
        "id": "ZxndWewAcTsg"
      },
      "execution_count": null,
      "outputs": []
    },
    {
      "cell_type": "code",
      "source": [
        "training_history = model.fit(X_train, y_train,\n",
        "                             batch_size=128,\n",
        "                             epochs=200,\n",
        "                             validation_data=(X_test, y_test),\n",
        "                             callbacks=[early_stopping],\n",
        "                             )"
      ],
      "metadata": {
        "colab": {
          "base_uri": "https://localhost:8080/"
        },
        "id": "Y8x0djQFYAc-",
        "outputId": "7847549e-d895-4a4e-fa39-f963d1f61f9b"
      },
      "execution_count": null,
      "outputs": [
        {
          "output_type": "stream",
          "name": "stdout",
          "text": [
            "Epoch 1/200\n",
            "\u001b[1m391/391\u001b[0m \u001b[32m━━━━━━━━━━━━━━━━━━━━\u001b[0m\u001b[37m\u001b[0m \u001b[1m9s\u001b[0m 13ms/step - categorical_accuracy: 0.2309 - loss: 2.0543 - val_categorical_accuracy: 0.3865 - val_loss: 1.6855\n",
            "Epoch 2/200\n",
            "\u001b[1m391/391\u001b[0m \u001b[32m━━━━━━━━━━━━━━━━━━━━\u001b[0m\u001b[37m\u001b[0m \u001b[1m4s\u001b[0m 5ms/step - categorical_accuracy: 0.3980 - loss: 1.6325 - val_categorical_accuracy: 0.4338 - val_loss: 1.5612\n",
            "Epoch 3/200\n",
            "\u001b[1m391/391\u001b[0m \u001b[32m━━━━━━━━━━━━━━━━━━━━\u001b[0m\u001b[37m\u001b[0m \u001b[1m2s\u001b[0m 4ms/step - categorical_accuracy: 0.4387 - loss: 1.5395 - val_categorical_accuracy: 0.4515 - val_loss: 1.4814\n",
            "Epoch 4/200\n",
            "\u001b[1m391/391\u001b[0m \u001b[32m━━━━━━━━━━━━━━━━━━━━\u001b[0m\u001b[37m\u001b[0m \u001b[1m3s\u001b[0m 6ms/step - categorical_accuracy: 0.4658 - loss: 1.4611 - val_categorical_accuracy: 0.4787 - val_loss: 1.4300\n",
            "Epoch 5/200\n",
            "\u001b[1m391/391\u001b[0m \u001b[32m━━━━━━━━━━━━━━━━━━━━\u001b[0m\u001b[37m\u001b[0m \u001b[1m2s\u001b[0m 5ms/step - categorical_accuracy: 0.4924 - loss: 1.4028 - val_categorical_accuracy: 0.4910 - val_loss: 1.3974\n",
            "Epoch 6/200\n",
            "\u001b[1m391/391\u001b[0m \u001b[32m━━━━━━━━━━━━━━━━━━━━\u001b[0m\u001b[37m\u001b[0m \u001b[1m2s\u001b[0m 4ms/step - categorical_accuracy: 0.5049 - loss: 1.3701 - val_categorical_accuracy: 0.5028 - val_loss: 1.3668\n",
            "Epoch 7/200\n",
            "\u001b[1m391/391\u001b[0m \u001b[32m━━━━━━━━━━━━━━━━━━━━\u001b[0m\u001b[37m\u001b[0m \u001b[1m2s\u001b[0m 4ms/step - categorical_accuracy: 0.5152 - loss: 1.3441 - val_categorical_accuracy: 0.5010 - val_loss: 1.3796\n",
            "Epoch 8/200\n",
            "\u001b[1m391/391\u001b[0m \u001b[32m━━━━━━━━━━━━━━━━━━━━\u001b[0m\u001b[37m\u001b[0m \u001b[1m3s\u001b[0m 5ms/step - categorical_accuracy: 0.5240 - loss: 1.3251 - val_categorical_accuracy: 0.5163 - val_loss: 1.3294\n",
            "Epoch 9/200\n",
            "\u001b[1m391/391\u001b[0m \u001b[32m━━━━━━━━━━━━━━━━━━━━\u001b[0m\u001b[37m\u001b[0m \u001b[1m2s\u001b[0m 5ms/step - categorical_accuracy: 0.5388 - loss: 1.2929 - val_categorical_accuracy: 0.5272 - val_loss: 1.3174\n",
            "Epoch 10/200\n",
            "\u001b[1m391/391\u001b[0m \u001b[32m━━━━━━━━━━━━━━━━━━━━\u001b[0m\u001b[37m\u001b[0m \u001b[1m2s\u001b[0m 4ms/step - categorical_accuracy: 0.5453 - loss: 1.2738 - val_categorical_accuracy: 0.5270 - val_loss: 1.3068\n",
            "Epoch 11/200\n",
            "\u001b[1m391/391\u001b[0m \u001b[32m━━━━━━━━━━━━━━━━━━━━\u001b[0m\u001b[37m\u001b[0m \u001b[1m3s\u001b[0m 4ms/step - categorical_accuracy: 0.5505 - loss: 1.2563 - val_categorical_accuracy: 0.5380 - val_loss: 1.2866\n",
            "Epoch 12/200\n",
            "\u001b[1m391/391\u001b[0m \u001b[32m━━━━━━━━━━━━━━━━━━━━\u001b[0m\u001b[37m\u001b[0m \u001b[1m3s\u001b[0m 4ms/step - categorical_accuracy: 0.5513 - loss: 1.2418 - val_categorical_accuracy: 0.5464 - val_loss: 1.2700\n",
            "Epoch 13/200\n",
            "\u001b[1m391/391\u001b[0m \u001b[32m━━━━━━━━━━━━━━━━━━━━\u001b[0m\u001b[37m\u001b[0m \u001b[1m2s\u001b[0m 4ms/step - categorical_accuracy: 0.5629 - loss: 1.2274 - val_categorical_accuracy: 0.5456 - val_loss: 1.2609\n",
            "Epoch 14/200\n",
            "\u001b[1m391/391\u001b[0m \u001b[32m━━━━━━━━━━━━━━━━━━━━\u001b[0m\u001b[37m\u001b[0m \u001b[1m2s\u001b[0m 4ms/step - categorical_accuracy: 0.5652 - loss: 1.2191 - val_categorical_accuracy: 0.5561 - val_loss: 1.2518\n",
            "Epoch 15/200\n",
            "\u001b[1m391/391\u001b[0m \u001b[32m━━━━━━━━━━━━━━━━━━━━\u001b[0m\u001b[37m\u001b[0m \u001b[1m2s\u001b[0m 6ms/step - categorical_accuracy: 0.5736 - loss: 1.1959 - val_categorical_accuracy: 0.5558 - val_loss: 1.2528\n",
            "Epoch 16/200\n",
            "\u001b[1m391/391\u001b[0m \u001b[32m━━━━━━━━━━━━━━━━━━━━\u001b[0m\u001b[37m\u001b[0m \u001b[1m2s\u001b[0m 4ms/step - categorical_accuracy: 0.5764 - loss: 1.1873 - val_categorical_accuracy: 0.5623 - val_loss: 1.2258\n",
            "Epoch 17/200\n",
            "\u001b[1m391/391\u001b[0m \u001b[32m━━━━━━━━━━━━━━━━━━━━\u001b[0m\u001b[37m\u001b[0m \u001b[1m2s\u001b[0m 4ms/step - categorical_accuracy: 0.5793 - loss: 1.1810 - val_categorical_accuracy: 0.5574 - val_loss: 1.2324\n",
            "Epoch 18/200\n",
            "\u001b[1m391/391\u001b[0m \u001b[32m━━━━━━━━━━━━━━━━━━━━\u001b[0m\u001b[37m\u001b[0m \u001b[1m3s\u001b[0m 5ms/step - categorical_accuracy: 0.5824 - loss: 1.1725 - val_categorical_accuracy: 0.5675 - val_loss: 1.2134\n",
            "Epoch 19/200\n",
            "\u001b[1m391/391\u001b[0m \u001b[32m━━━━━━━━━━━━━━━━━━━━\u001b[0m\u001b[37m\u001b[0m \u001b[1m2s\u001b[0m 4ms/step - categorical_accuracy: 0.5936 - loss: 1.1541 - val_categorical_accuracy: 0.5524 - val_loss: 1.2457\n",
            "Epoch 20/200\n",
            "\u001b[1m391/391\u001b[0m \u001b[32m━━━━━━━━━━━━━━━━━━━━\u001b[0m\u001b[37m\u001b[0m \u001b[1m2s\u001b[0m 5ms/step - categorical_accuracy: 0.5889 - loss: 1.1555 - val_categorical_accuracy: 0.5665 - val_loss: 1.2146\n",
            "Epoch 21/200\n",
            "\u001b[1m391/391\u001b[0m \u001b[32m━━━━━━━━━━━━━━━━━━━━\u001b[0m\u001b[37m\u001b[0m \u001b[1m2s\u001b[0m 5ms/step - categorical_accuracy: 0.5969 - loss: 1.1352 - val_categorical_accuracy: 0.5751 - val_loss: 1.1995\n",
            "Epoch 22/200\n",
            "\u001b[1m391/391\u001b[0m \u001b[32m━━━━━━━━━━━━━━━━━━━━\u001b[0m\u001b[37m\u001b[0m \u001b[1m2s\u001b[0m 4ms/step - categorical_accuracy: 0.5987 - loss: 1.1260 - val_categorical_accuracy: 0.5677 - val_loss: 1.2134\n",
            "Epoch 23/200\n",
            "\u001b[1m391/391\u001b[0m \u001b[32m━━━━━━━━━━━━━━━━━━━━\u001b[0m\u001b[37m\u001b[0m \u001b[1m2s\u001b[0m 5ms/step - categorical_accuracy: 0.5975 - loss: 1.1287 - val_categorical_accuracy: 0.5808 - val_loss: 1.1840\n",
            "Epoch 24/200\n",
            "\u001b[1m391/391\u001b[0m \u001b[32m━━━━━━━━━━━━━━━━━━━━\u001b[0m\u001b[37m\u001b[0m \u001b[1m3s\u001b[0m 5ms/step - categorical_accuracy: 0.6027 - loss: 1.1157 - val_categorical_accuracy: 0.5760 - val_loss: 1.1974\n",
            "Epoch 25/200\n",
            "\u001b[1m391/391\u001b[0m \u001b[32m━━━━━━━━━━━━━━━━━━━━\u001b[0m\u001b[37m\u001b[0m \u001b[1m2s\u001b[0m 4ms/step - categorical_accuracy: 0.6039 - loss: 1.1105 - val_categorical_accuracy: 0.5798 - val_loss: 1.1899\n",
            "Epoch 26/200\n",
            "\u001b[1m391/391\u001b[0m \u001b[32m━━━━━━━━━━━━━━━━━━━━\u001b[0m\u001b[37m\u001b[0m \u001b[1m3s\u001b[0m 5ms/step - categorical_accuracy: 0.6109 - loss: 1.1009 - val_categorical_accuracy: 0.5840 - val_loss: 1.1772\n",
            "Epoch 27/200\n",
            "\u001b[1m391/391\u001b[0m \u001b[32m━━━━━━━━━━━━━━━━━━━━\u001b[0m\u001b[37m\u001b[0m \u001b[1m2s\u001b[0m 4ms/step - categorical_accuracy: 0.6131 - loss: 1.0877 - val_categorical_accuracy: 0.5920 - val_loss: 1.1588\n",
            "Epoch 28/200\n",
            "\u001b[1m391/391\u001b[0m \u001b[32m━━━━━━━━━━━━━━━━━━━━\u001b[0m\u001b[37m\u001b[0m \u001b[1m3s\u001b[0m 4ms/step - categorical_accuracy: 0.6176 - loss: 1.0752 - val_categorical_accuracy: 0.5824 - val_loss: 1.1853\n",
            "Epoch 29/200\n",
            "\u001b[1m391/391\u001b[0m \u001b[32m━━━━━━━━━━━━━━━━━━━━\u001b[0m\u001b[37m\u001b[0m \u001b[1m2s\u001b[0m 4ms/step - categorical_accuracy: 0.6150 - loss: 1.0771 - val_categorical_accuracy: 0.5876 - val_loss: 1.1665\n",
            "Epoch 30/200\n",
            "\u001b[1m391/391\u001b[0m \u001b[32m━━━━━━━━━━━━━━━━━━━━\u001b[0m\u001b[37m\u001b[0m \u001b[1m2s\u001b[0m 5ms/step - categorical_accuracy: 0.6196 - loss: 1.0727 - val_categorical_accuracy: 0.5788 - val_loss: 1.1914\n",
            "Epoch 31/200\n",
            "\u001b[1m391/391\u001b[0m \u001b[32m━━━━━━━━━━━━━━━━━━━━\u001b[0m\u001b[37m\u001b[0m \u001b[1m2s\u001b[0m 5ms/step - categorical_accuracy: 0.6269 - loss: 1.0526 - val_categorical_accuracy: 0.5924 - val_loss: 1.1586\n",
            "Epoch 32/200\n",
            "\u001b[1m391/391\u001b[0m \u001b[32m━━━━━━━━━━━━━━━━━━━━\u001b[0m\u001b[37m\u001b[0m \u001b[1m2s\u001b[0m 5ms/step - categorical_accuracy: 0.6287 - loss: 1.0361 - val_categorical_accuracy: 0.6005 - val_loss: 1.1508\n",
            "Epoch 33/200\n",
            "\u001b[1m391/391\u001b[0m \u001b[32m━━━━━━━━━━━━━━━━━━━━\u001b[0m\u001b[37m\u001b[0m \u001b[1m2s\u001b[0m 4ms/step - categorical_accuracy: 0.6288 - loss: 1.0421 - val_categorical_accuracy: 0.5944 - val_loss: 1.1486\n",
            "Epoch 34/200\n",
            "\u001b[1m391/391\u001b[0m \u001b[32m━━━━━━━━━━━━━━━━━━━━\u001b[0m\u001b[37m\u001b[0m \u001b[1m3s\u001b[0m 4ms/step - categorical_accuracy: 0.6291 - loss: 1.0388 - val_categorical_accuracy: 0.5920 - val_loss: 1.1567\n",
            "Epoch 35/200\n",
            "\u001b[1m391/391\u001b[0m \u001b[32m━━━━━━━━━━━━━━━━━━━━\u001b[0m\u001b[37m\u001b[0m \u001b[1m3s\u001b[0m 4ms/step - categorical_accuracy: 0.6312 - loss: 1.0364 - val_categorical_accuracy: 0.5981 - val_loss: 1.1401\n",
            "Epoch 36/200\n",
            "\u001b[1m391/391\u001b[0m \u001b[32m━━━━━━━━━━━━━━━━━━━━\u001b[0m\u001b[37m\u001b[0m \u001b[1m2s\u001b[0m 4ms/step - categorical_accuracy: 0.6332 - loss: 1.0271 - val_categorical_accuracy: 0.5968 - val_loss: 1.1501\n",
            "Epoch 37/200\n",
            "\u001b[1m391/391\u001b[0m \u001b[32m━━━━━━━━━━━━━━━━━━━━\u001b[0m\u001b[37m\u001b[0m \u001b[1m2s\u001b[0m 5ms/step - categorical_accuracy: 0.6395 - loss: 1.0214 - val_categorical_accuracy: 0.6016 - val_loss: 1.1395\n",
            "Epoch 38/200\n",
            "\u001b[1m391/391\u001b[0m \u001b[32m━━━━━━━━━━━━━━━━━━━━\u001b[0m\u001b[37m\u001b[0m \u001b[1m2s\u001b[0m 5ms/step - categorical_accuracy: 0.6375 - loss: 1.0122 - val_categorical_accuracy: 0.5936 - val_loss: 1.1693\n",
            "Epoch 39/200\n",
            "\u001b[1m391/391\u001b[0m \u001b[32m━━━━━━━━━━━━━━━━━━━━\u001b[0m\u001b[37m\u001b[0m \u001b[1m2s\u001b[0m 5ms/step - categorical_accuracy: 0.6384 - loss: 1.0165 - val_categorical_accuracy: 0.6025 - val_loss: 1.1425\n",
            "Epoch 40/200\n",
            "\u001b[1m391/391\u001b[0m \u001b[32m━━━━━━━━━━━━━━━━━━━━\u001b[0m\u001b[37m\u001b[0m \u001b[1m2s\u001b[0m 4ms/step - categorical_accuracy: 0.6470 - loss: 0.9996 - val_categorical_accuracy: 0.6026 - val_loss: 1.1303\n",
            "Epoch 41/200\n",
            "\u001b[1m391/391\u001b[0m \u001b[32m━━━━━━━━━━━━━━━━━━━━\u001b[0m\u001b[37m\u001b[0m \u001b[1m2s\u001b[0m 4ms/step - categorical_accuracy: 0.6453 - loss: 1.0014 - val_categorical_accuracy: 0.6066 - val_loss: 1.1188\n",
            "Epoch 42/200\n",
            "\u001b[1m391/391\u001b[0m \u001b[32m━━━━━━━━━━━━━━━━━━━━\u001b[0m\u001b[37m\u001b[0m \u001b[1m2s\u001b[0m 4ms/step - categorical_accuracy: 0.6476 - loss: 0.9884 - val_categorical_accuracy: 0.6090 - val_loss: 1.1111\n",
            "Epoch 43/200\n",
            "\u001b[1m391/391\u001b[0m \u001b[32m━━━━━━━━━━━━━━━━━━━━\u001b[0m\u001b[37m\u001b[0m \u001b[1m3s\u001b[0m 6ms/step - categorical_accuracy: 0.6501 - loss: 0.9834 - val_categorical_accuracy: 0.6015 - val_loss: 1.1270\n",
            "Epoch 44/200\n",
            "\u001b[1m391/391\u001b[0m \u001b[32m━━━━━━━━━━━━━━━━━━━━\u001b[0m\u001b[37m\u001b[0m \u001b[1m2s\u001b[0m 5ms/step - categorical_accuracy: 0.6486 - loss: 0.9898 - val_categorical_accuracy: 0.6073 - val_loss: 1.1149\n",
            "Epoch 45/200\n",
            "\u001b[1m391/391\u001b[0m \u001b[32m━━━━━━━━━━━━━━━━━━━━\u001b[0m\u001b[37m\u001b[0m \u001b[1m3s\u001b[0m 5ms/step - categorical_accuracy: 0.6523 - loss: 0.9828 - val_categorical_accuracy: 0.6066 - val_loss: 1.1230\n",
            "Epoch 46/200\n",
            "\u001b[1m391/391\u001b[0m \u001b[32m━━━━━━━━━━━━━━━━━━━━\u001b[0m\u001b[37m\u001b[0m \u001b[1m2s\u001b[0m 4ms/step - categorical_accuracy: 0.6530 - loss: 0.9710 - val_categorical_accuracy: 0.6104 - val_loss: 1.1280\n",
            "Epoch 47/200\n",
            "\u001b[1m391/391\u001b[0m \u001b[32m━━━━━━━━━━━━━━━━━━━━\u001b[0m\u001b[37m\u001b[0m \u001b[1m3s\u001b[0m 4ms/step - categorical_accuracy: 0.6552 - loss: 0.9741 - val_categorical_accuracy: 0.6087 - val_loss: 1.1235\n",
            "Epoch 48/200\n",
            "\u001b[1m391/391\u001b[0m \u001b[32m━━━━━━━━━━━━━━━━━━━━\u001b[0m\u001b[37m\u001b[0m \u001b[1m3s\u001b[0m 5ms/step - categorical_accuracy: 0.6604 - loss: 0.9645 - val_categorical_accuracy: 0.6061 - val_loss: 1.1212\n",
            "Epoch 49/200\n",
            "\u001b[1m391/391\u001b[0m \u001b[32m━━━━━━━━━━━━━━━━━━━━\u001b[0m\u001b[37m\u001b[0m \u001b[1m2s\u001b[0m 4ms/step - categorical_accuracy: 0.6569 - loss: 0.9629 - val_categorical_accuracy: 0.6149 - val_loss: 1.1069\n",
            "Epoch 50/200\n",
            "\u001b[1m391/391\u001b[0m \u001b[32m━━━━━━━━━━━━━━━━━━━━\u001b[0m\u001b[37m\u001b[0m \u001b[1m2s\u001b[0m 4ms/step - categorical_accuracy: 0.6618 - loss: 0.9567 - val_categorical_accuracy: 0.6045 - val_loss: 1.1280\n",
            "Epoch 51/200\n",
            "\u001b[1m391/391\u001b[0m \u001b[32m━━━━━━━━━━━━━━━━━━━━\u001b[0m\u001b[37m\u001b[0m \u001b[1m2s\u001b[0m 4ms/step - categorical_accuracy: 0.6622 - loss: 0.9501 - val_categorical_accuracy: 0.6092 - val_loss: 1.1232\n",
            "Epoch 52/200\n",
            "\u001b[1m391/391\u001b[0m \u001b[32m━━━━━━━━━━━━━━━━━━━━\u001b[0m\u001b[37m\u001b[0m \u001b[1m3s\u001b[0m 4ms/step - categorical_accuracy: 0.6614 - loss: 0.9515 - val_categorical_accuracy: 0.6168 - val_loss: 1.1014\n",
            "Epoch 53/200\n",
            "\u001b[1m391/391\u001b[0m \u001b[32m━━━━━━━━━━━━━━━━━━━━\u001b[0m\u001b[37m\u001b[0m \u001b[1m2s\u001b[0m 4ms/step - categorical_accuracy: 0.6687 - loss: 0.9328 - val_categorical_accuracy: 0.6118 - val_loss: 1.1101\n",
            "Epoch 54/200\n",
            "\u001b[1m391/391\u001b[0m \u001b[32m━━━━━━━━━━━━━━━━━━━━\u001b[0m\u001b[37m\u001b[0m \u001b[1m2s\u001b[0m 5ms/step - categorical_accuracy: 0.6670 - loss: 0.9450 - val_categorical_accuracy: 0.6173 - val_loss: 1.1028\n",
            "Epoch 55/200\n",
            "\u001b[1m391/391\u001b[0m \u001b[32m━━━━━━━━━━━━━━━━━━━━\u001b[0m\u001b[37m\u001b[0m \u001b[1m2s\u001b[0m 4ms/step - categorical_accuracy: 0.6681 - loss: 0.9409 - val_categorical_accuracy: 0.6160 - val_loss: 1.1013\n",
            "Epoch 56/200\n",
            "\u001b[1m391/391\u001b[0m \u001b[32m━━━━━━━━━━━━━━━━━━━━\u001b[0m\u001b[37m\u001b[0m \u001b[1m2s\u001b[0m 4ms/step - categorical_accuracy: 0.6682 - loss: 0.9372 - val_categorical_accuracy: 0.6202 - val_loss: 1.0964\n",
            "Epoch 57/200\n",
            "\u001b[1m391/391\u001b[0m \u001b[32m━━━━━━━━━━━━━━━━━━━━\u001b[0m\u001b[37m\u001b[0m \u001b[1m3s\u001b[0m 5ms/step - categorical_accuracy: 0.6694 - loss: 0.9325 - val_categorical_accuracy: 0.6211 - val_loss: 1.0961\n",
            "Epoch 58/200\n",
            "\u001b[1m391/391\u001b[0m \u001b[32m━━━━━━━━━━━━━━━━━━━━\u001b[0m\u001b[37m\u001b[0m \u001b[1m2s\u001b[0m 4ms/step - categorical_accuracy: 0.6774 - loss: 0.9228 - val_categorical_accuracy: 0.6234 - val_loss: 1.0941\n",
            "Epoch 59/200\n",
            "\u001b[1m391/391\u001b[0m \u001b[32m━━━━━━━━━━━━━━━━━━━━\u001b[0m\u001b[37m\u001b[0m \u001b[1m2s\u001b[0m 4ms/step - categorical_accuracy: 0.6778 - loss: 0.9194 - val_categorical_accuracy: 0.6214 - val_loss: 1.0918\n",
            "Epoch 60/200\n",
            "\u001b[1m391/391\u001b[0m \u001b[32m━━━━━━━━━━━━━━━━━━━━\u001b[0m\u001b[37m\u001b[0m \u001b[1m3s\u001b[0m 5ms/step - categorical_accuracy: 0.6698 - loss: 0.9224 - val_categorical_accuracy: 0.6229 - val_loss: 1.1085\n",
            "Epoch 61/200\n",
            "\u001b[1m391/391\u001b[0m \u001b[32m━━━━━━━━━━━━━━━━━━━━\u001b[0m\u001b[37m\u001b[0m \u001b[1m2s\u001b[0m 4ms/step - categorical_accuracy: 0.6720 - loss: 0.9194 - val_categorical_accuracy: 0.6190 - val_loss: 1.1031\n",
            "Epoch 62/200\n",
            "\u001b[1m391/391\u001b[0m \u001b[32m━━━━━━━━━━━━━━━━━━━━\u001b[0m\u001b[37m\u001b[0m \u001b[1m3s\u001b[0m 4ms/step - categorical_accuracy: 0.6772 - loss: 0.9104 - val_categorical_accuracy: 0.6134 - val_loss: 1.1154\n",
            "Epoch 63/200\n",
            "\u001b[1m391/391\u001b[0m \u001b[32m━━━━━━━━━━━━━━━━━━━━\u001b[0m\u001b[37m\u001b[0m \u001b[1m3s\u001b[0m 4ms/step - categorical_accuracy: 0.6805 - loss: 0.9087 - val_categorical_accuracy: 0.6248 - val_loss: 1.0928\n",
            "Epoch 64/200\n",
            "\u001b[1m391/391\u001b[0m \u001b[32m━━━━━━━━━━━━━━━━━━━━\u001b[0m\u001b[37m\u001b[0m \u001b[1m2s\u001b[0m 4ms/step - categorical_accuracy: 0.6791 - loss: 0.9067 - val_categorical_accuracy: 0.6181 - val_loss: 1.0985\n",
            "Epoch 65/200\n",
            "\u001b[1m391/391\u001b[0m \u001b[32m━━━━━━━━━━━━━━━━━━━━\u001b[0m\u001b[37m\u001b[0m \u001b[1m3s\u001b[0m 5ms/step - categorical_accuracy: 0.6771 - loss: 0.9044 - val_categorical_accuracy: 0.6259 - val_loss: 1.0805\n",
            "Epoch 66/200\n",
            "\u001b[1m391/391\u001b[0m \u001b[32m━━━━━━━━━━━━━━━━━━━━\u001b[0m\u001b[37m\u001b[0m \u001b[1m2s\u001b[0m 4ms/step - categorical_accuracy: 0.6799 - loss: 0.8966 - val_categorical_accuracy: 0.6146 - val_loss: 1.1124\n",
            "Epoch 67/200\n",
            "\u001b[1m391/391\u001b[0m \u001b[32m━━━━━━━━━━━━━━━━━━━━\u001b[0m\u001b[37m\u001b[0m \u001b[1m2s\u001b[0m 4ms/step - categorical_accuracy: 0.6886 - loss: 0.8839 - val_categorical_accuracy: 0.6219 - val_loss: 1.0884\n",
            "Epoch 68/200\n",
            "\u001b[1m391/391\u001b[0m \u001b[32m━━━━━━━━━━━━━━━━━━━━\u001b[0m\u001b[37m\u001b[0m \u001b[1m2s\u001b[0m 4ms/step - categorical_accuracy: 0.6869 - loss: 0.8888 - val_categorical_accuracy: 0.6254 - val_loss: 1.0921\n",
            "Epoch 69/200\n",
            "\u001b[1m391/391\u001b[0m \u001b[32m━━━━━━━━━━━━━━━━━━━━\u001b[0m\u001b[37m\u001b[0m \u001b[1m3s\u001b[0m 4ms/step - categorical_accuracy: 0.6856 - loss: 0.8895 - val_categorical_accuracy: 0.6270 - val_loss: 1.0931\n",
            "Epoch 70/200\n",
            "\u001b[1m391/391\u001b[0m \u001b[32m━━━━━━━━━━━━━━━━━━━━\u001b[0m\u001b[37m\u001b[0m \u001b[1m2s\u001b[0m 5ms/step - categorical_accuracy: 0.6852 - loss: 0.8875 - val_categorical_accuracy: 0.6277 - val_loss: 1.0811\n",
            "Epoch 71/200\n",
            "\u001b[1m391/391\u001b[0m \u001b[32m━━━━━━━━━━━━━━━━━━━━\u001b[0m\u001b[37m\u001b[0m \u001b[1m2s\u001b[0m 5ms/step - categorical_accuracy: 0.6912 - loss: 0.8727 - val_categorical_accuracy: 0.6249 - val_loss: 1.0901\n",
            "Epoch 72/200\n",
            "\u001b[1m391/391\u001b[0m \u001b[32m━━━━━━━━━━━━━━━━━━━━\u001b[0m\u001b[37m\u001b[0m \u001b[1m2s\u001b[0m 4ms/step - categorical_accuracy: 0.6894 - loss: 0.8757 - val_categorical_accuracy: 0.6268 - val_loss: 1.0780\n",
            "Epoch 73/200\n",
            "\u001b[1m391/391\u001b[0m \u001b[32m━━━━━━━━━━━━━━━━━━━━\u001b[0m\u001b[37m\u001b[0m \u001b[1m2s\u001b[0m 4ms/step - categorical_accuracy: 0.6904 - loss: 0.8776 - val_categorical_accuracy: 0.6225 - val_loss: 1.0878\n",
            "Epoch 74/200\n",
            "\u001b[1m391/391\u001b[0m \u001b[32m━━━━━━━━━━━━━━━━━━━━\u001b[0m\u001b[37m\u001b[0m \u001b[1m2s\u001b[0m 4ms/step - categorical_accuracy: 0.6912 - loss: 0.8698 - val_categorical_accuracy: 0.6215 - val_loss: 1.0980\n",
            "Epoch 75/200\n",
            "\u001b[1m391/391\u001b[0m \u001b[32m━━━━━━━━━━━━━━━━━━━━\u001b[0m\u001b[37m\u001b[0m \u001b[1m3s\u001b[0m 4ms/step - categorical_accuracy: 0.6861 - loss: 0.8801 - val_categorical_accuracy: 0.6308 - val_loss: 1.0845\n",
            "Epoch 76/200\n",
            "\u001b[1m391/391\u001b[0m \u001b[32m━━━━━━━━━━━━━━━━━━━━\u001b[0m\u001b[37m\u001b[0m \u001b[1m3s\u001b[0m 5ms/step - categorical_accuracy: 0.6949 - loss: 0.8681 - val_categorical_accuracy: 0.6286 - val_loss: 1.0818\n",
            "Epoch 77/200\n",
            "\u001b[1m391/391\u001b[0m \u001b[32m━━━━━━━━━━━━━━━━━━━━\u001b[0m\u001b[37m\u001b[0m \u001b[1m2s\u001b[0m 4ms/step - categorical_accuracy: 0.6963 - loss: 0.8616 - val_categorical_accuracy: 0.6243 - val_loss: 1.1070\n",
            "Epoch 78/200\n",
            "\u001b[1m391/391\u001b[0m \u001b[32m━━━━━━━━━━━━━━━━━━━━\u001b[0m\u001b[37m\u001b[0m \u001b[1m2s\u001b[0m 4ms/step - categorical_accuracy: 0.6946 - loss: 0.8600 - val_categorical_accuracy: 0.6257 - val_loss: 1.0914\n",
            "Epoch 79/200\n",
            "\u001b[1m391/391\u001b[0m \u001b[32m━━━━━━━━━━━━━━━━━━━━\u001b[0m\u001b[37m\u001b[0m \u001b[1m3s\u001b[0m 5ms/step - categorical_accuracy: 0.6987 - loss: 0.8558 - val_categorical_accuracy: 0.6321 - val_loss: 1.0834\n",
            "Epoch 80/200\n",
            "\u001b[1m391/391\u001b[0m \u001b[32m━━━━━━━━━━━━━━━━━━━━\u001b[0m\u001b[37m\u001b[0m \u001b[1m2s\u001b[0m 4ms/step - categorical_accuracy: 0.6969 - loss: 0.8529 - val_categorical_accuracy: 0.6264 - val_loss: 1.0884\n",
            "Epoch 81/200\n",
            "\u001b[1m391/391\u001b[0m \u001b[32m━━━━━━━━━━━━━━━━━━━━\u001b[0m\u001b[37m\u001b[0m \u001b[1m2s\u001b[0m 6ms/step - categorical_accuracy: 0.6998 - loss: 0.8551 - val_categorical_accuracy: 0.6236 - val_loss: 1.1006\n",
            "Epoch 82/200\n",
            "\u001b[1m391/391\u001b[0m \u001b[32m━━━━━━━━━━━━━━━━━━━━\u001b[0m\u001b[37m\u001b[0m \u001b[1m2s\u001b[0m 4ms/step - categorical_accuracy: 0.6987 - loss: 0.8525 - val_categorical_accuracy: 0.6301 - val_loss: 1.0916\n",
            "Epoch 83/200\n",
            "\u001b[1m391/391\u001b[0m \u001b[32m━━━━━━━━━━━━━━━━━━━━\u001b[0m\u001b[37m\u001b[0m \u001b[1m2s\u001b[0m 4ms/step - categorical_accuracy: 0.7012 - loss: 0.8433 - val_categorical_accuracy: 0.6314 - val_loss: 1.0894\n",
            "Epoch 84/200\n",
            "\u001b[1m391/391\u001b[0m \u001b[32m━━━━━━━━━━━━━━━━━━━━\u001b[0m\u001b[37m\u001b[0m \u001b[1m2s\u001b[0m 4ms/step - categorical_accuracy: 0.7045 - loss: 0.8464 - val_categorical_accuracy: 0.6301 - val_loss: 1.0970\n",
            "Epoch 85/200\n",
            "\u001b[1m391/391\u001b[0m \u001b[32m━━━━━━━━━━━━━━━━━━━━\u001b[0m\u001b[37m\u001b[0m \u001b[1m3s\u001b[0m 4ms/step - categorical_accuracy: 0.7025 - loss: 0.8468 - val_categorical_accuracy: 0.6282 - val_loss: 1.0846\n",
            "Epoch 86/200\n",
            "\u001b[1m391/391\u001b[0m \u001b[32m━━━━━━━━━━━━━━━━━━━━\u001b[0m\u001b[37m\u001b[0m \u001b[1m2s\u001b[0m 5ms/step - categorical_accuracy: 0.7055 - loss: 0.8335 - val_categorical_accuracy: 0.6308 - val_loss: 1.0781\n",
            "Epoch 87/200\n",
            "\u001b[1m391/391\u001b[0m \u001b[32m━━━━━━━━━━━━━━━━━━━━\u001b[0m\u001b[37m\u001b[0m \u001b[1m3s\u001b[0m 5ms/step - categorical_accuracy: 0.7029 - loss: 0.8415 - val_categorical_accuracy: 0.6305 - val_loss: 1.0817\n",
            "Epoch 88/200\n",
            "\u001b[1m391/391\u001b[0m \u001b[32m━━━━━━━━━━━━━━━━━━━━\u001b[0m\u001b[37m\u001b[0m \u001b[1m2s\u001b[0m 4ms/step - categorical_accuracy: 0.7109 - loss: 0.8254 - val_categorical_accuracy: 0.6299 - val_loss: 1.0778\n",
            "Epoch 89/200\n",
            "\u001b[1m391/391\u001b[0m \u001b[32m━━━━━━━━━━━━━━━━━━━━\u001b[0m\u001b[37m\u001b[0m \u001b[1m2s\u001b[0m 4ms/step - categorical_accuracy: 0.7059 - loss: 0.8300 - val_categorical_accuracy: 0.6195 - val_loss: 1.1202\n",
            "Epoch 90/200\n",
            "\u001b[1m391/391\u001b[0m \u001b[32m━━━━━━━━━━━━━━━━━━━━\u001b[0m\u001b[37m\u001b[0m \u001b[1m2s\u001b[0m 4ms/step - categorical_accuracy: 0.7072 - loss: 0.8222 - val_categorical_accuracy: 0.6208 - val_loss: 1.1099\n",
            "Epoch 91/200\n",
            "\u001b[1m391/391\u001b[0m \u001b[32m━━━━━━━━━━━━━━━━━━━━\u001b[0m\u001b[37m\u001b[0m \u001b[1m3s\u001b[0m 4ms/step - categorical_accuracy: 0.7052 - loss: 0.8315 - val_categorical_accuracy: 0.6329 - val_loss: 1.0870\n",
            "Epoch 92/200\n",
            "\u001b[1m391/391\u001b[0m \u001b[32m━━━━━━━━━━━━━━━━━━━━\u001b[0m\u001b[37m\u001b[0m \u001b[1m2s\u001b[0m 5ms/step - categorical_accuracy: 0.7136 - loss: 0.8139 - val_categorical_accuracy: 0.6318 - val_loss: 1.0820\n",
            "Epoch 93/200\n",
            "\u001b[1m391/391\u001b[0m \u001b[32m━━━━━━━━━━━━━━━━━━━━\u001b[0m\u001b[37m\u001b[0m \u001b[1m2s\u001b[0m 5ms/step - categorical_accuracy: 0.7090 - loss: 0.8216 - val_categorical_accuracy: 0.6325 - val_loss: 1.0897\n",
            "Epoch 94/200\n",
            "\u001b[1m391/391\u001b[0m \u001b[32m━━━━━━━━━━━━━━━━━━━━\u001b[0m\u001b[37m\u001b[0m \u001b[1m2s\u001b[0m 4ms/step - categorical_accuracy: 0.7113 - loss: 0.8132 - val_categorical_accuracy: 0.6312 - val_loss: 1.0803\n",
            "Epoch 95/200\n",
            "\u001b[1m391/391\u001b[0m \u001b[32m━━━━━━━━━━━━━━━━━━━━\u001b[0m\u001b[37m\u001b[0m \u001b[1m3s\u001b[0m 4ms/step - categorical_accuracy: 0.7105 - loss: 0.8187 - val_categorical_accuracy: 0.6248 - val_loss: 1.0964\n",
            "Epoch 96/200\n",
            "\u001b[1m391/391\u001b[0m \u001b[32m━━━━━━━━━━━━━━━━━━━━\u001b[0m\u001b[37m\u001b[0m \u001b[1m2s\u001b[0m 4ms/step - categorical_accuracy: 0.7112 - loss: 0.8156 - val_categorical_accuracy: 0.6355 - val_loss: 1.0802\n",
            "Epoch 97/200\n",
            "\u001b[1m391/391\u001b[0m \u001b[32m━━━━━━━━━━━━━━━━━━━━\u001b[0m\u001b[37m\u001b[0m \u001b[1m3s\u001b[0m 5ms/step - categorical_accuracy: 0.7156 - loss: 0.8041 - val_categorical_accuracy: 0.6326 - val_loss: 1.0837\n",
            "Epoch 98/200\n",
            "\u001b[1m391/391\u001b[0m \u001b[32m━━━━━━━━━━━━━━━━━━━━\u001b[0m\u001b[37m\u001b[0m \u001b[1m2s\u001b[0m 5ms/step - categorical_accuracy: 0.7125 - loss: 0.8107 - val_categorical_accuracy: 0.6340 - val_loss: 1.0826\n",
            "Epoch 99/200\n",
            "\u001b[1m391/391\u001b[0m \u001b[32m━━━━━━━━━━━━━━━━━━━━\u001b[0m\u001b[37m\u001b[0m \u001b[1m2s\u001b[0m 4ms/step - categorical_accuracy: 0.7198 - loss: 0.8024 - val_categorical_accuracy: 0.6326 - val_loss: 1.0790\n",
            "Epoch 100/200\n",
            "\u001b[1m391/391\u001b[0m \u001b[32m━━━━━━━━━━━━━━━━━━━━\u001b[0m\u001b[37m\u001b[0m \u001b[1m2s\u001b[0m 4ms/step - categorical_accuracy: 0.7154 - loss: 0.8032 - val_categorical_accuracy: 0.6339 - val_loss: 1.0801\n",
            "Epoch 101/200\n",
            "\u001b[1m391/391\u001b[0m \u001b[32m━━━━━━━━━━━━━━━━━━━━\u001b[0m\u001b[37m\u001b[0m \u001b[1m2s\u001b[0m 4ms/step - categorical_accuracy: 0.7177 - loss: 0.8006 - val_categorical_accuracy: 0.6348 - val_loss: 1.0792\n",
            "Epoch 102/200\n",
            "\u001b[1m391/391\u001b[0m \u001b[32m━━━━━━━━━━━━━━━━━━━━\u001b[0m\u001b[37m\u001b[0m \u001b[1m2s\u001b[0m 5ms/step - categorical_accuracy: 0.7171 - loss: 0.8009 - val_categorical_accuracy: 0.6361 - val_loss: 1.0796\n",
            "Epoch 103/200\n",
            "\u001b[1m391/391\u001b[0m \u001b[32m━━━━━━━━━━━━━━━━━━━━\u001b[0m\u001b[37m\u001b[0m \u001b[1m3s\u001b[0m 5ms/step - categorical_accuracy: 0.7185 - loss: 0.7969 - val_categorical_accuracy: 0.6326 - val_loss: 1.0951\n",
            "Epoch 104/200\n",
            "\u001b[1m391/391\u001b[0m \u001b[32m━━━━━━━━━━━━━━━━━━━━\u001b[0m\u001b[37m\u001b[0m \u001b[1m2s\u001b[0m 6ms/step - categorical_accuracy: 0.7206 - loss: 0.7920 - val_categorical_accuracy: 0.6322 - val_loss: 1.0861\n",
            "Epoch 105/200\n",
            "\u001b[1m391/391\u001b[0m \u001b[32m━━━━━━━━━━━━━━━━━━━━\u001b[0m\u001b[37m\u001b[0m \u001b[1m2s\u001b[0m 4ms/step - categorical_accuracy: 0.7178 - loss: 0.7975 - val_categorical_accuracy: 0.6336 - val_loss: 1.0998\n",
            "Epoch 106/200\n",
            "\u001b[1m391/391\u001b[0m \u001b[32m━━━━━━━━━━━━━━━━━━━━\u001b[0m\u001b[37m\u001b[0m \u001b[1m3s\u001b[0m 5ms/step - categorical_accuracy: 0.7203 - loss: 0.7856 - val_categorical_accuracy: 0.6264 - val_loss: 1.0926\n",
            "Epoch 107/200\n",
            "\u001b[1m391/391\u001b[0m \u001b[32m━━━━━━━━━━━━━━━━━━━━\u001b[0m\u001b[37m\u001b[0m \u001b[1m2s\u001b[0m 5ms/step - categorical_accuracy: 0.7219 - loss: 0.7831 - val_categorical_accuracy: 0.6329 - val_loss: 1.0837\n",
            "Epoch 108/200\n",
            "\u001b[1m391/391\u001b[0m \u001b[32m━━━━━━━━━━━━━━━━━━━━\u001b[0m\u001b[37m\u001b[0m \u001b[1m2s\u001b[0m 4ms/step - categorical_accuracy: 0.7249 - loss: 0.7910 - val_categorical_accuracy: 0.6364 - val_loss: 1.0813\n",
            "Epoch 109/200\n",
            "\u001b[1m391/391\u001b[0m \u001b[32m━━━━━━━━━━━━━━━━━━━━\u001b[0m\u001b[37m\u001b[0m \u001b[1m2s\u001b[0m 4ms/step - categorical_accuracy: 0.7262 - loss: 0.7828 - val_categorical_accuracy: 0.6396 - val_loss: 1.0854\n",
            "Epoch 110/200\n",
            "\u001b[1m391/391\u001b[0m \u001b[32m━━━━━━━━━━━━━━━━━━━━\u001b[0m\u001b[37m\u001b[0m \u001b[1m3s\u001b[0m 5ms/step - categorical_accuracy: 0.7230 - loss: 0.7848 - val_categorical_accuracy: 0.6340 - val_loss: 1.0829\n",
            "Epoch 111/200\n",
            "\u001b[1m391/391\u001b[0m \u001b[32m━━━━━━━━━━━━━━━━━━━━\u001b[0m\u001b[37m\u001b[0m \u001b[1m2s\u001b[0m 5ms/step - categorical_accuracy: 0.7234 - loss: 0.7869 - val_categorical_accuracy: 0.6325 - val_loss: 1.0883\n",
            "Epoch 112/200\n",
            "\u001b[1m391/391\u001b[0m \u001b[32m━━━━━━━━━━━━━━━━━━━━\u001b[0m\u001b[37m\u001b[0m \u001b[1m2s\u001b[0m 4ms/step - categorical_accuracy: 0.7258 - loss: 0.7793 - val_categorical_accuracy: 0.6354 - val_loss: 1.0783\n",
            "Epoch 113/200\n",
            "\u001b[1m391/391\u001b[0m \u001b[32m━━━━━━━━━━━━━━━━━━━━\u001b[0m\u001b[37m\u001b[0m \u001b[1m2s\u001b[0m 4ms/step - categorical_accuracy: 0.7285 - loss: 0.7705 - val_categorical_accuracy: 0.6339 - val_loss: 1.0840\n"
          ]
        }
      ]
    },
    {
      "cell_type": "code",
      "source": [
        "plt.figure(figsize=(10, 5))\n",
        "plt.subplot(1, 2, 1)\n",
        "plt.plot(training_history.history['loss'])\n",
        "plt.plot(training_history.history['val_loss'])\n",
        "plt.legend(['Train', 'Validation'])\n",
        "plt.title(\"Loss\")\n",
        "\n",
        "plt.subplot(1, 2, 2)\n",
        "plt.plot(training_history.history['categorical_accuracy'])\n",
        "plt.plot(training_history.history['val_categorical_accuracy'])\n",
        "plt.legend(['Train', 'Validation'])\n",
        "plt.title(\"Accuracy\");"
      ],
      "metadata": {
        "id": "lbRbzYPtYAwb",
        "colab": {
          "base_uri": "https://localhost:8080/",
          "height": 468
        },
        "outputId": "b96cb339-a4fa-4ad5-a802-01bb3b496b08"
      },
      "execution_count": null,
      "outputs": [
        {
          "output_type": "display_data",
          "data": {
            "text/plain": [
              "<Figure size 1000x500 with 2 Axes>"
            ],
            "image/png": "[encoded data removed]"
          },
          "metadata": {}
        }
      ]
    },
    {
      "cell_type": "markdown",
      "metadata": {
        "id": "iilc1B3vRAOB"
      },
      "source": [
        "## 5: 視覺化預測結果\n",
        "\n",
        "在這部分，我們提供簡單的視覺化方法來呈現神經網路的輸入與輸出結果"
      ]
    },
    {
      "cell_type": "code",
      "metadata": {
        "id": "VoRKkRFHQ-bk"
      },
      "source": [
        "class_label = ['Airplan', 'Automobile', 'Bird', 'Cat', 'Deer', 'Dog', 'Frog', 'Horse', 'Ship', 'Truck']\n",
        "\n",
        "def visulization(idx=0):\n",
        "    # Random pick one data from training set\n",
        "    # idx = np.random.randint(X_train.shape[0])\n",
        "    sample_x = X_test[idx]\n",
        "    sample_y = y_test[idx]\n",
        "    # Predict the class of random data\n",
        "    predict_y = model.predict(X_test[idx:idx+1]).squeeze()\n",
        "    predict_label = predict_y.argmax()\n",
        "\n",
        "    fig, (ax1, ax2) = plt.subplots(1, 2, figsize=(12, 5))\n",
        "    # Plot raw image\n",
        "    ax1.imshow(sample_x, 'gray_r')\n",
        "    ax1.set_title(\"Image Label: %s\" %class_label[sample_y.argmax()])\n",
        "\n",
        "    # Plot prediction probability of each classes\n",
        "    ax2.barh(np.arange(10), predict_y)\n",
        "    ax2.patches[predict_label].set_facecolor('Red')\n",
        "    ax2.set_title(\"Prediction Result: %d\" %predict_label);\n",
        "    ax2.set_yticklabels(class_label)\n",
        "    if sample_y.argmax()==predict_y.argmax():\n",
        "        print(\"預測正確!\")\n",
        "    else:\n",
        "        print(\"預測失敗QQ\")\n",
        "    plt.show()"
      ],
      "execution_count": null,
      "outputs": []
    },
    {
      "cell_type": "code",
      "metadata": {
        "id": "x38pgeTYRC5G",
        "colab": {
          "base_uri": "https://localhost:8080/",
          "height": 587,
          "referenced_widgets": [
            "19abe553e8cf4241b0858da7d3a5d1b2",
            "af6139e4a9734dee8077da1357fcf98e",
            "13e0ed55c72a42ae926f08cbb2581931",
            "579e3bba3de24096bdad3114bb01616f",
            "1d76dfbc3e5b4b79845fc87f61bfca1f",
            "d569c21c12734c5e81420d4fbc50bb47",
            "95ce2f34d040470180a14b3e432ef11a"
          ]
        },
        "outputId": "fc7ef3c7-49a2-4d27-c686-83f82a6b2c82"
      },
      "source": [
        "interact(visulization, idx=BoundedIntText(value=5566, min=0, max=X_test.shape[0]-1));"
      ],
      "execution_count": null,
      "outputs": [
        {
          "output_type": "display_data",
          "data": {
            "text/plain": [
              "interactive(children=(BoundedIntText(value=5566, description='idx', max=9999), Output()), _dom_classes=('widge…"
            ],
            "application/vnd.jupyter.widget-view+json": {
              "version_major": 2,
              "version_minor": 0,
              "model_id": "19abe553e8cf4241b0858da7d3a5d1b2"
            }
          },
          "metadata": {}
        }
      ]
    },
    {
      "cell_type": "code",
      "metadata": {
        "id": "Qmq0qfIwRDNW"
      },
      "source": [],
      "execution_count": null,
      "outputs": []
    }
  ]
}