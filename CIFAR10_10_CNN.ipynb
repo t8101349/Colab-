{
  "nbformat": 4,
  "nbformat_minor": 0,
  "metadata": {
    "colab": {
      "provenance": [],
      "include_colab_link": true
    },
    "kernelspec": {
      "name": "python3",
      "display_name": "Python 3"
    },
    "accelerator": "GPU",
    "widgets": {
      "application/vnd.jupyter.widget-state+json": {
        "2e97f4a148e948ecabb38af68bed6b74": {
          "model_module": "@jupyter-widgets/controls",
          "model_name": "VBoxModel",
          "model_module_version": "1.5.0",
          "state": {
            "_dom_classes": [
              "widget-interact"
            ],
            "_model_module": "@jupyter-widgets/controls",
            "_model_module_version": "1.5.0",
            "_model_name": "VBoxModel",
            "_view_count": null,
            "_view_module": "@jupyter-widgets/controls",
            "_view_module_version": "1.5.0",
            "_view_name": "VBoxView",
            "box_style": "",
            "children": [
              "IPY_MODEL_e71e65229ddf4cb799dbfbd4ac6a8808",
              "IPY_MODEL_01f5a65ebf3944558ec7108a995adfaa"
            ],
            "layout": "IPY_MODEL_d88c9b907e2946229e36d230c5f026e0"
          }
        },
        "e71e65229ddf4cb799dbfbd4ac6a8808": {
          "model_module": "@jupyter-widgets/controls",
          "model_name": "BoundedIntTextModel",
          "model_module_version": "1.5.0",
          "state": {
            "_dom_classes": [],
            "_model_module": "@jupyter-widgets/controls",
            "_model_module_version": "1.5.0",
            "_model_name": "BoundedIntTextModel",
            "_view_count": null,
            "_view_module": "@jupyter-widgets/controls",
            "_view_module_version": "1.5.0",
            "_view_name": "IntTextView",
            "continuous_update": false,
            "description": "idx",
            "description_tooltip": null,
            "disabled": false,
            "layout": "IPY_MODEL_82ace5892bfa488289911314eebced6d",
            "max": 9999,
            "min": 0,
            "step": 1,
            "style": "IPY_MODEL_0612d336ff7840b2bd6bc3f9b01653c0",
            "value": 5590
          }
        },
        "01f5a65ebf3944558ec7108a995adfaa": {
          "model_module": "@jupyter-widgets/output",
          "model_name": "OutputModel",
          "model_module_version": "1.0.0",
          "state": {
            "_dom_classes": [],
            "_model_module": "@jupyter-widgets/output",
            "_model_module_version": "1.0.0",
            "_model_name": "OutputModel",
            "_view_count": null,
            "_view_module": "@jupyter-widgets/output",
            "_view_module_version": "1.0.0",
            "_view_name": "OutputView",
            "layout": "IPY_MODEL_efdb1ece56d94806bd9d65b9dc5c5cb5",
            "msg_id": "",
            "outputs": [
              {
                "output_type": "stream",
                "name": "stdout",
                "text": [
                  "\r\u001b[1m1/1\u001b[0m \u001b[32m━━━━━━━━━━━━━━━━━━━━\u001b[0m\u001b[37m\u001b[0m \u001b[1m0s\u001b[0m 18ms/step"
                ]
              },
              {
                "output_type": "stream",
                "name": "stdout",
                "text": [
                  "\b\b\b\b\b\b\b\b\b\b\b\b\b\b\b\b\b\b\b\b\b\b\b\b\b\b\b\b\b\b\b\b\b\b\b\b\b\r\u001b[1m1/1\u001b[0m \u001b[32m━━━━━━━━━━━━━━━━━━━━\u001b[0m\u001b[37m\u001b[0m \u001b[1m0s\u001b[0m 33ms/step\n"
                ]
              },
              {
                "output_type": "stream",
                "name": "stdout",
                "text": [
                  "預測正確!\n"
                ]
              },
              {
                "output_type": "stream",
                "name": "stderr",
                "text": [
                  "<ipython-input-234-daa3ea55031d>:21: UserWarning: set_ticklabels() should only be used with a fixed number of ticks, i.e. after set_ticks() or using a FixedLocator.\n",
                  "  ax2.set_yticklabels(class_label)\n"
                ]
              },
              {
                "output_type": "display_data",
                "data": {
                  "text/plain": "<Figure size 1200x500 with 2 Axes>",
                  "image/png": "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\n"
                },
                "metadata": {}
              }
            ]
          }
        },
        "d88c9b907e2946229e36d230c5f026e0": {
          "model_module": "@jupyter-widgets/base",
          "model_name": "LayoutModel",
          "model_module_version": "1.2.0",
          "state": {
            "_model_module": "@jupyter-widgets/base",
            "_model_module_version": "1.2.0",
            "_model_name": "LayoutModel",
            "_view_count": null,
            "_view_module": "@jupyter-widgets/base",
            "_view_module_version": "1.2.0",
            "_view_name": "LayoutView",
            "align_content": null,
            "align_items": null,
            "align_self": null,
            "border": null,
            "bottom": null,
            "display": null,
            "flex": null,
            "flex_flow": null,
            "grid_area": null,
            "grid_auto_columns": null,
            "grid_auto_flow": null,
            "grid_auto_rows": null,
            "grid_column": null,
            "grid_gap": null,
            "grid_row": null,
            "grid_template_areas": null,
            "grid_template_columns": null,
            "grid_template_rows": null,
            "height": null,
            "justify_content": null,
            "justify_items": null,
            "left": null,
            "margin": null,
            "max_height": null,
            "max_width": null,
            "min_height": null,
            "min_width": null,
            "object_fit": null,
            "object_position": null,
            "order": null,
            "overflow": null,
            "overflow_x": null,
            "overflow_y": null,
            "padding": null,
            "right": null,
            "top": null,
            "visibility": null,
            "width": null
          }
        },
        "82ace5892bfa488289911314eebced6d": {
          "model_module": "@jupyter-widgets/base",
          "model_name": "LayoutModel",
          "model_module_version": "1.2.0",
          "state": {
            "_model_module": "@jupyter-widgets/base",
            "_model_module_version": "1.2.0",
            "_model_name": "LayoutModel",
            "_view_count": null,
            "_view_module": "@jupyter-widgets/base",
            "_view_module_version": "1.2.0",
            "_view_name": "LayoutView",
            "align_content": null,
            "align_items": null,
            "align_self": null,
            "border": null,
            "bottom": null,
            "display": null,
            "flex": null,
            "flex_flow": null,
            "grid_area": null,
            "grid_auto_columns": null,
            "grid_auto_flow": null,
            "grid_auto_rows": null,
            "grid_column": null,
            "grid_gap": null,
            "grid_row": null,
            "grid_template_areas": null,
            "grid_template_columns": null,
            "grid_template_rows": null,
            "height": null,
            "justify_content": null,
            "justify_items": null,
            "left": null,
            "margin": null,
            "max_height": null,
            "max_width": null,
            "min_height": null,
            "min_width": null,
            "object_fit": null,
            "object_position": null,
            "order": null,
            "overflow": null,
            "overflow_x": null,
            "overflow_y": null,
            "padding": null,
            "right": null,
            "top": null,
            "visibility": null,
            "width": null
          }
        },
        "0612d336ff7840b2bd6bc3f9b01653c0": {
          "model_module": "@jupyter-widgets/controls",
          "model_name": "DescriptionStyleModel",
          "model_module_version": "1.5.0",
          "state": {
            "_model_module": "@jupyter-widgets/controls",
            "_model_module_version": "1.5.0",
            "_model_name": "DescriptionStyleModel",
            "_view_count": null,
            "_view_module": "@jupyter-widgets/base",
            "_view_module_version": "1.2.0",
            "_view_name": "StyleView",
            "description_width": ""
          }
        },
        "efdb1ece56d94806bd9d65b9dc5c5cb5": {
          "model_module": "@jupyter-widgets/base",
          "model_name": "LayoutModel",
          "model_module_version": "1.2.0",
          "state": {
            "_model_module": "@jupyter-widgets/base",
            "_model_module_version": "1.2.0",
            "_model_name": "LayoutModel",
            "_view_count": null,
            "_view_module": "@jupyter-widgets/base",
            "_view_module_version": "1.2.0",
            "_view_name": "LayoutView",
            "align_content": null,
            "align_items": null,
            "align_self": null,
            "border": null,
            "bottom": null,
            "display": null,
            "flex": null,
            "flex_flow": null,
            "grid_area": null,
            "grid_auto_columns": null,
            "grid_auto_flow": null,
            "grid_auto_rows": null,
            "grid_column": null,
            "grid_gap": null,
            "grid_row": null,
            "grid_template_areas": null,
            "grid_template_columns": null,
            "grid_template_rows": null,
            "height": null,
            "justify_content": null,
            "justify_items": null,
            "left": null,
            "margin": null,
            "max_height": null,
            "max_width": null,
            "min_height": null,
            "min_width": null,
            "object_fit": null,
            "object_position": null,
            "order": null,
            "overflow": null,
            "overflow_x": null,
            "overflow_y": null,
            "padding": null,
            "right": null,
            "top": null,
            "visibility": null,
            "width": null
          }
        }
      }
    }
  },
  "cells": [
    {
      "cell_type": "markdown",
      "metadata": {
        "id": "view-in-github",
        "colab_type": "text"
      },
      "source": [
        "<a href=\"https://colab.research.google.com/github/t8101349/Colab-/blob/master/CIFAR10_10_CNN.ipynb\" target=\"_parent\"><img src=\"https://colab.research.google.com/assets/colab-badge.svg\" alt=\"Open In Colab\"/></a>"
      ]
    },
    {
      "cell_type": "markdown",
      "metadata": {
        "id": "XUZA3OvtRzK-"
      },
      "source": [
        "\n",
        "<p align=\"center\">\n",
        "  <img src=\"https://storage.googleapis.com/kaggle-competitions/kaggle/3649/media/cifar-10.png\"\n",
        "  />\n",
        "  <center>Cifar 10 資料庫</center>\n",
        "  <center>圖片來源: https://www.kaggle.com/</center>\n",
        "</p>\n"
      ]
    },
    {
      "cell_type": "markdown",
      "metadata": {
        "id": "kBCBgP30Rxzx"
      },
      "source": [
        "CIFAR 10 是一個 10 類別資料，包含了：\n",
        "* 飛機 (airplan)\n",
        "* 交通工具 (automobile)\n",
        "* 鳥 (bird)\n",
        "* 貓 (cat)\n",
        "* 鹿 (deer)\n",
        "* 狗 (dog)\n",
        "* 青蛙 (frog)\n",
        "* 馬 (horse)\n",
        "* 船 (ship)\n",
        "* 卡車 (truck)\n",
        "共10個類別的資料，在這裡，我們將讓大家練習建構在 CIFAR-10 上的 CNN 分類模型"
      ]
    },
    {
      "cell_type": "markdown",
      "metadata": {
        "id": "zJMS8p3wfPXO"
      },
      "source": [
        "## 1: 切換 TensorFlow 至 2.x 版"
      ]
    },
    {
      "cell_type": "code",
      "metadata": {
        "id": "PXNUanZvcwwZ",
        "outputId": "fdb4fd71-00b3-459a-b313-bc9f9e252a73",
        "colab": {
          "base_uri": "https://localhost:8080/"
        }
      },
      "source": [
        "%tensorflow_version 2.x"
      ],
      "execution_count": 217,
      "outputs": [
        {
          "output_type": "stream",
          "name": "stdout",
          "text": [
            "Colab only includes TensorFlow 2.x; %tensorflow_version has no effect.\n"
          ]
        }
      ]
    },
    {
      "cell_type": "markdown",
      "metadata": {
        "id": "lRHFdNYAfWKJ"
      },
      "source": [
        "## 2: 載入套件及資料集"
      ]
    },
    {
      "cell_type": "code",
      "metadata": {
        "id": "tS5xFeQwe9Xu"
      },
      "source": [
        "%matplotlib inline\n",
        "# Import some useful package\n",
        "import matplotlib.pyplot as plt\n",
        "import numpy as np\n",
        "from ipywidgets import interact, IntSlider, BoundedIntText\n",
        "\n",
        "# For CNN\n",
        "from tensorflow.keras.models import Sequential\n",
        "from tensorflow.keras.layers import Dense, Flatten\n",
        "from tensorflow.keras.layers import Conv2D, MaxPool2D\n",
        "\n",
        "# For training\n",
        "from tensorflow.keras.optimizers import SGD, Adam, schedules\n",
        "from tensorflow.keras.callbacks import EarlyStopping\n",
        "\n",
        "\n",
        "# For data preprocessing\n",
        "from tensorflow.keras import datasets\n",
        "from tensorflow.keras.utils import to_categorical"
      ],
      "execution_count": 218,
      "outputs": []
    },
    {
      "cell_type": "markdown",
      "metadata": {
        "id": "e8zYubaPfy-S"
      },
      "source": [
        "## 3: 資料前處理 (Data Preprocessing)"
      ]
    },
    {
      "cell_type": "markdown",
      "metadata": {
        "id": "AOAGjiPogF0w"
      },
      "source": [
        "讀取 CIFAR 10 圖片資料集"
      ]
    },
    {
      "cell_type": "code",
      "metadata": {
        "id": "ITug7sp2TAr5"
      },
      "source": [
        "(X_train, y_train), (X_test, y_test) = datasets.cifar10.load_data()"
      ],
      "execution_count": 219,
      "outputs": []
    },
    {
      "cell_type": "code",
      "metadata": {
        "id": "5ZKi_PURgYXf",
        "colab": {
          "base_uri": "https://localhost:8080/",
          "height": 447
        },
        "outputId": "d76952c5-dc06-46cc-be7d-9e0aa6905746"
      },
      "source": [
        "plt.imshow(X_train[0])"
      ],
      "execution_count": 220,
      "outputs": [
        {
          "output_type": "execute_result",
          "data": {
            "text/plain": [
              "<matplotlib.image.AxesImage at 0x783604d8e850>"
            ]
          },
          "metadata": {},
          "execution_count": 220
        },
        {
          "output_type": "display_data",
          "data": {
            "text/plain": [
              "<Figure size 640x480 with 1 Axes>"
            ],
            "image/png": "[encoded data removed]"
          },
          "metadata": {}
        }
      ]
    },
    {
      "cell_type": "code",
      "metadata": {
        "id": "S7_hI736FVbE",
        "colab": {
          "base_uri": "https://localhost:8080/"
        },
        "outputId": "e3262f39-3aa8-47e5-a2c9-ea66cc8342b4"
      },
      "source": [
        "print('訓練資料格式:', X_train.shape)\n",
        "print('測試資料格式:', X_test.shape)"
      ],
      "execution_count": 221,
      "outputs": [
        {
          "output_type": "stream",
          "name": "stdout",
          "text": [
            "訓練資料格式: (50000, 32, 32, 3)\n",
            "測試資料格式: (10000, 32, 32, 3)\n"
          ]
        }
      ]
    },
    {
      "cell_type": "code",
      "metadata": {
        "id": "GkdUeRm0GpD4",
        "colab": {
          "base_uri": "https://localhost:8080/"
        },
        "outputId": "53caaabb-9d14-4fde-ee0e-00892152556f"
      },
      "source": [
        "print('=='+'訓練資料'+'==')\n",
        "print('最小值:', X_train.min())\n",
        "print('最大值:', X_train.max())\n",
        "\n",
        "print('=='+'測試資料'+'==')\n",
        "print('最小值:', X_test.min())\n",
        "print('最大值:', X_test.max())"
      ],
      "execution_count": 222,
      "outputs": [
        {
          "output_type": "stream",
          "name": "stdout",
          "text": [
            "==訓練資料==\n",
            "最小值: 0\n",
            "最大值: 255\n",
            "==測試資料==\n",
            "最小值: 0\n",
            "最大值: 255\n"
          ]
        }
      ]
    },
    {
      "cell_type": "code",
      "metadata": {
        "id": "9_iecz6EGVpa",
        "colab": {
          "base_uri": "https://localhost:8080/",
          "height": 391
        },
        "outputId": "d07343f1-1758-4f62-95f4-2aaeff42e4ac"
      },
      "source": [
        "plt.figure(figsize=(9, 4))\n",
        "plt.subplot(1, 2, 1)\n",
        "plt.title('Histogram of Training Labels')\n",
        "plt.hist(y_train, rwidth=0.5)\n",
        "\n",
        "plt.subplot(1, 2, 2)\n",
        "plt.title('Histogram of Testing Labels')\n",
        "plt.hist(y_test, rwidth=0.5);"
      ],
      "execution_count": 223,
      "outputs": [
        {
          "output_type": "display_data",
          "data": {
            "text/plain": [
              "<Figure size 900x400 with 2 Axes>"
            ],
            "image/png": "[encoded data removed]"
          },
          "metadata": {}
        }
      ]
    },
    {
      "cell_type": "code",
      "metadata": {
        "id": "49FreBVkZrry",
        "colab": {
          "base_uri": "https://localhost:8080/"
        },
        "outputId": "3332b451-10f1-4652-aae7-40aaf38b0f11"
      },
      "source": [
        "y_train"
      ],
      "execution_count": 224,
      "outputs": [
        {
          "output_type": "execute_result",
          "data": {
            "text/plain": [
              "array([[6],\n",
              "       [9],\n",
              "       [9],\n",
              "       ...,\n",
              "       [9],\n",
              "       [1],\n",
              "       [1]], dtype=uint8)"
            ]
          },
          "metadata": {},
          "execution_count": 224
        }
      ]
    },
    {
      "cell_type": "code",
      "metadata": {
        "id": "rabW_ddBZ6AF",
        "colab": {
          "base_uri": "https://localhost:8080/"
        },
        "outputId": "464dae72-64bc-4997-b048-8e06b12e2345"
      },
      "source": [
        "set(y_train.flatten())"
      ],
      "execution_count": 225,
      "outputs": [
        {
          "output_type": "execute_result",
          "data": {
            "text/plain": [
              "{0, 1, 2, 3, 4, 5, 6, 7, 8, 9}"
            ]
          },
          "metadata": {},
          "execution_count": 225
        }
      ]
    },
    {
      "cell_type": "code",
      "metadata": {
        "id": "IsA_Z40jayyH"
      },
      "source": [
        "# Normalize data range\n",
        "X_train = X_train / X_train.max()\n",
        "X_test = X_test / X_test.max()\n",
        "\n",
        "# One-hot encoding\n",
        "y_train = to_categorical(y_train, 10)\n",
        "y_test = to_categorical(y_test, 10)"
      ],
      "execution_count": 226,
      "outputs": []
    },
    {
      "cell_type": "markdown",
      "metadata": {
        "id": "swp6zTOST8gD"
      },
      "source": [
        "## 4: 練習建立辨識 CIFAR-10 的卷積神經網路\n",
        "\n",
        "在這裡，我們希望大家建立具有以下架構的卷積神經網路。\n",
        "\n",
        "透過改變模型架構以外的其他方式，讓訓練和測試準確率都至少60%。"
      ]
    },
    {
      "cell_type": "markdown",
      "metadata": {
        "id": "h0Ytst3AA2Vx"
      },
      "source": [
        "#### [練習] 模型架構\n",
        "\n",
        "|超參數/層名| 卷積層  | 池化層 | 卷積層 | 池化層 || 扁平層 | 全連接層 | 全連接層 | 輸出層 |\n",
        "|:--:|:--:|:--:|:--:|:--:|:--:|:--:|:--:|:--:|:--:|\n",
        "神經元/filter 個數| 10 | | 16 | | | | 120 | 84 | 10 |\n",
        "Kernal 尺寸| (5, 5) | (2, 2) | (4, 4) | (2, 2)\n",
        "|激活函數| ReLU | | ReLU | | | | ReLU | ReLU | softmax |\n",
        "\n",
        "別忘記第一個卷積層需要指定輸入格式: (32, 32, 3)"
      ]
    },
    {
      "cell_type": "code",
      "metadata": {
        "id": "VcPsEx2WFAqg",
        "colab": {
          "base_uri": "https://localhost:8080/"
        },
        "outputId": "eb9733d6-b5b0-436a-a186-ea28e157b268"
      },
      "source": [
        "model = Sequential()\n",
        "\n",
        "# [第一層] 第一層卷積層，注意：卷積層指定輸入資料的格式\n",
        "model.add(Conv2D(10, (5, 5), input_shape=(32, 32, 3), activation='relu'))\n",
        "\n",
        "# [第二層] 池化層\n",
        "model.add(MaxPool2D(pool_size=(2, 2), strides=None, padding='valid'))\n",
        "\n",
        "# [第三層] 第二層卷積層\n",
        "model.add(Conv2D(16, (3, 3), activation='relu'))\n",
        "\n",
        "# [第四層] 池化層\n",
        "model.add(MaxPool2D((2, 2)))\n",
        "\n",
        "# [第三層] 第二層卷積層\n",
        "model.add(Conv2D(16, (3, 3), activation='relu'))\n",
        "\n",
        "# [第四層] 池化層\n",
        "model.add(MaxPool2D((2, 2)))\n",
        "\n",
        "# [第五層] 扁平層\n",
        "model.add(Flatten())\n",
        "\n",
        "# [第六層] 第一層全連接層\n",
        "model.add(Dense(120, activation='relu'))\n",
        "\n",
        "# [第七層] 第二層全連接層\n",
        "model.add(Dense(84, activation='relu'))\n",
        "\n",
        "# [第八層] 輸出層\n",
        "model.add(Dense(10, activation='softmax'))"
      ],
      "execution_count": 227,
      "outputs": [
        {
          "output_type": "stream",
          "name": "stderr",
          "text": [
            "/usr/local/lib/python3.11/dist-packages/keras/src/layers/convolutional/base_conv.py:107: UserWarning: Do not pass an `input_shape`/`input_dim` argument to a layer. When using Sequential models, prefer using an `Input(shape)` object as the first layer in the model instead.\n",
            "  super().__init__(activity_regularizer=activity_regularizer, **kwargs)\n"
          ]
        }
      ]
    },
    {
      "cell_type": "markdown",
      "metadata": {
        "id": "UTg0j5CnHqcE"
      },
      "source": [
        "預期模型架構：\n",
        "\n",
        "![alt_text](https://drive.google.com/uc?id=13g5ihfnssVPNlbiijotKQAsnQy8ApiKb)"
      ]
    },
    {
      "cell_type": "code",
      "metadata": {
        "id": "Ck7ZzyhUbzph",
        "colab": {
          "base_uri": "https://localhost:8080/",
          "height": 449
        },
        "outputId": "5935a808-9596-432c-fede-d5e0dcde3072"
      },
      "source": [
        "model.summary()"
      ],
      "execution_count": 228,
      "outputs": [
        {
          "output_type": "display_data",
          "data": {
            "text/plain": [
              "\u001b[1mModel: \"sequential_12\"\u001b[0m\n"
            ],
            "text/html": [
              "<pre style=\"white-space:pre;overflow-x:auto;line-height:normal;font-family:Menlo,'DejaVu Sans Mono',consolas,'Courier New',monospace\"><span style=\"font-weight: bold\">Model: \"sequential_12\"</span>\n",
              "</pre>\n"
            ]
          },
          "metadata": {}
        },
        {
          "output_type": "display_data",
          "data": {
            "text/plain": [
              "┏━━━━━━━━━━━━━━━━━━━━━━━━━━━━━━━━━━━━━━┳━━━━━━━━━━━━━━━━━━━━━━━━━━━━━┳━━━━━━━━━━━━━━━━━┓\n",
              "┃\u001b[1m \u001b[0m\u001b[1mLayer (type)                        \u001b[0m\u001b[1m \u001b[0m┃\u001b[1m \u001b[0m\u001b[1mOutput Shape               \u001b[0m\u001b[1m \u001b[0m┃\u001b[1m \u001b[0m\u001b[1m        Param #\u001b[0m\u001b[1m \u001b[0m┃\n",
              "┡━━━━━━━━━━━━━━━━━━━━━━━━━━━━━━━━━━━━━━╇━━━━━━━━━━━━━━━━━━━━━━━━━━━━━╇━━━━━━━━━━━━━━━━━┩\n",
              "│ conv2d_31 (\u001b[38;5;33mConv2D\u001b[0m)                   │ (\u001b[38;5;45mNone\u001b[0m, \u001b[38;5;34m28\u001b[0m, \u001b[38;5;34m28\u001b[0m, \u001b[38;5;34m10\u001b[0m)          │             \u001b[38;5;34m760\u001b[0m │\n",
              "├──────────────────────────────────────┼─────────────────────────────┼─────────────────┤\n",
              "│ max_pooling2d_31 (\u001b[38;5;33mMaxPooling2D\u001b[0m)      │ (\u001b[38;5;45mNone\u001b[0m, \u001b[38;5;34m14\u001b[0m, \u001b[38;5;34m14\u001b[0m, \u001b[38;5;34m10\u001b[0m)          │               \u001b[38;5;34m0\u001b[0m │\n",
              "├──────────────────────────────────────┼─────────────────────────────┼─────────────────┤\n",
              "│ conv2d_32 (\u001b[38;5;33mConv2D\u001b[0m)                   │ (\u001b[38;5;45mNone\u001b[0m, \u001b[38;5;34m12\u001b[0m, \u001b[38;5;34m12\u001b[0m, \u001b[38;5;34m16\u001b[0m)          │           \u001b[38;5;34m1,456\u001b[0m │\n",
              "├──────────────────────────────────────┼─────────────────────────────┼─────────────────┤\n",
              "│ max_pooling2d_32 (\u001b[38;5;33mMaxPooling2D\u001b[0m)      │ (\u001b[38;5;45mNone\u001b[0m, \u001b[38;5;34m6\u001b[0m, \u001b[38;5;34m6\u001b[0m, \u001b[38;5;34m16\u001b[0m)            │               \u001b[38;5;34m0\u001b[0m │\n",
              "├──────────────────────────────────────┼─────────────────────────────┼─────────────────┤\n",
              "│ conv2d_33 (\u001b[38;5;33mConv2D\u001b[0m)                   │ (\u001b[38;5;45mNone\u001b[0m, \u001b[38;5;34m4\u001b[0m, \u001b[38;5;34m4\u001b[0m, \u001b[38;5;34m16\u001b[0m)            │           \u001b[38;5;34m2,320\u001b[0m │\n",
              "├──────────────────────────────────────┼─────────────────────────────┼─────────────────┤\n",
              "│ max_pooling2d_33 (\u001b[38;5;33mMaxPooling2D\u001b[0m)      │ (\u001b[38;5;45mNone\u001b[0m, \u001b[38;5;34m2\u001b[0m, \u001b[38;5;34m2\u001b[0m, \u001b[38;5;34m16\u001b[0m)            │               \u001b[38;5;34m0\u001b[0m │\n",
              "├──────────────────────────────────────┼─────────────────────────────┼─────────────────┤\n",
              "│ flatten_12 (\u001b[38;5;33mFlatten\u001b[0m)                 │ (\u001b[38;5;45mNone\u001b[0m, \u001b[38;5;34m64\u001b[0m)                  │               \u001b[38;5;34m0\u001b[0m │\n",
              "├──────────────────────────────────────┼─────────────────────────────┼─────────────────┤\n",
              "│ dense_36 (\u001b[38;5;33mDense\u001b[0m)                     │ (\u001b[38;5;45mNone\u001b[0m, \u001b[38;5;34m120\u001b[0m)                 │           \u001b[38;5;34m7,800\u001b[0m │\n",
              "├──────────────────────────────────────┼─────────────────────────────┼─────────────────┤\n",
              "│ dense_37 (\u001b[38;5;33mDense\u001b[0m)                     │ (\u001b[38;5;45mNone\u001b[0m, \u001b[38;5;34m84\u001b[0m)                  │          \u001b[38;5;34m10,164\u001b[0m │\n",
              "├──────────────────────────────────────┼─────────────────────────────┼─────────────────┤\n",
              "│ dense_38 (\u001b[38;5;33mDense\u001b[0m)                     │ (\u001b[38;5;45mNone\u001b[0m, \u001b[38;5;34m10\u001b[0m)                  │             \u001b[38;5;34m850\u001b[0m │\n",
              "└──────────────────────────────────────┴─────────────────────────────┴─────────────────┘\n"
            ],
            "text/html": [
              "<pre style=\"white-space:pre;overflow-x:auto;line-height:normal;font-family:Menlo,'DejaVu Sans Mono',consolas,'Courier New',monospace\">┏━━━━━━━━━━━━━━━━━━━━━━━━━━━━━━━━━━━━━━┳━━━━━━━━━━━━━━━━━━━━━━━━━━━━━┳━━━━━━━━━━━━━━━━━┓\n",
              "┃<span style=\"font-weight: bold\"> Layer (type)                         </span>┃<span style=\"font-weight: bold\"> Output Shape                </span>┃<span style=\"font-weight: bold\">         Param # </span>┃\n",
              "┡━━━━━━━━━━━━━━━━━━━━━━━━━━━━━━━━━━━━━━╇━━━━━━━━━━━━━━━━━━━━━━━━━━━━━╇━━━━━━━━━━━━━━━━━┩\n",
              "│ conv2d_31 (<span style=\"color: #0087ff; text-decoration-color: #0087ff\">Conv2D</span>)                   │ (<span style=\"color: #00d7ff; text-decoration-color: #00d7ff\">None</span>, <span style=\"color: #00af00; text-decoration-color: #00af00\">28</span>, <span style=\"color: #00af00; text-decoration-color: #00af00\">28</span>, <span style=\"color: #00af00; text-decoration-color: #00af00\">10</span>)          │             <span style=\"color: #00af00; text-decoration-color: #00af00\">760</span> │\n",
              "├──────────────────────────────────────┼─────────────────────────────┼─────────────────┤\n",
              "│ max_pooling2d_31 (<span style=\"color: #0087ff; text-decoration-color: #0087ff\">MaxPooling2D</span>)      │ (<span style=\"color: #00d7ff; text-decoration-color: #00d7ff\">None</span>, <span style=\"color: #00af00; text-decoration-color: #00af00\">14</span>, <span style=\"color: #00af00; text-decoration-color: #00af00\">14</span>, <span style=\"color: #00af00; text-decoration-color: #00af00\">10</span>)          │               <span style=\"color: #00af00; text-decoration-color: #00af00\">0</span> │\n",
              "├──────────────────────────────────────┼─────────────────────────────┼─────────────────┤\n",
              "│ conv2d_32 (<span style=\"color: #0087ff; text-decoration-color: #0087ff\">Conv2D</span>)                   │ (<span style=\"color: #00d7ff; text-decoration-color: #00d7ff\">None</span>, <span style=\"color: #00af00; text-decoration-color: #00af00\">12</span>, <span style=\"color: #00af00; text-decoration-color: #00af00\">12</span>, <span style=\"color: #00af00; text-decoration-color: #00af00\">16</span>)          │           <span style=\"color: #00af00; text-decoration-color: #00af00\">1,456</span> │\n",
              "├──────────────────────────────────────┼─────────────────────────────┼─────────────────┤\n",
              "│ max_pooling2d_32 (<span style=\"color: #0087ff; text-decoration-color: #0087ff\">MaxPooling2D</span>)      │ (<span style=\"color: #00d7ff; text-decoration-color: #00d7ff\">None</span>, <span style=\"color: #00af00; text-decoration-color: #00af00\">6</span>, <span style=\"color: #00af00; text-decoration-color: #00af00\">6</span>, <span style=\"color: #00af00; text-decoration-color: #00af00\">16</span>)            │               <span style=\"color: #00af00; text-decoration-color: #00af00\">0</span> │\n",
              "├──────────────────────────────────────┼─────────────────────────────┼─────────────────┤\n",
              "│ conv2d_33 (<span style=\"color: #0087ff; text-decoration-color: #0087ff\">Conv2D</span>)                   │ (<span style=\"color: #00d7ff; text-decoration-color: #00d7ff\">None</span>, <span style=\"color: #00af00; text-decoration-color: #00af00\">4</span>, <span style=\"color: #00af00; text-decoration-color: #00af00\">4</span>, <span style=\"color: #00af00; text-decoration-color: #00af00\">16</span>)            │           <span style=\"color: #00af00; text-decoration-color: #00af00\">2,320</span> │\n",
              "├──────────────────────────────────────┼─────────────────────────────┼─────────────────┤\n",
              "│ max_pooling2d_33 (<span style=\"color: #0087ff; text-decoration-color: #0087ff\">MaxPooling2D</span>)      │ (<span style=\"color: #00d7ff; text-decoration-color: #00d7ff\">None</span>, <span style=\"color: #00af00; text-decoration-color: #00af00\">2</span>, <span style=\"color: #00af00; text-decoration-color: #00af00\">2</span>, <span style=\"color: #00af00; text-decoration-color: #00af00\">16</span>)            │               <span style=\"color: #00af00; text-decoration-color: #00af00\">0</span> │\n",
              "├──────────────────────────────────────┼─────────────────────────────┼─────────────────┤\n",
              "│ flatten_12 (<span style=\"color: #0087ff; text-decoration-color: #0087ff\">Flatten</span>)                 │ (<span style=\"color: #00d7ff; text-decoration-color: #00d7ff\">None</span>, <span style=\"color: #00af00; text-decoration-color: #00af00\">64</span>)                  │               <span style=\"color: #00af00; text-decoration-color: #00af00\">0</span> │\n",
              "├──────────────────────────────────────┼─────────────────────────────┼─────────────────┤\n",
              "│ dense_36 (<span style=\"color: #0087ff; text-decoration-color: #0087ff\">Dense</span>)                     │ (<span style=\"color: #00d7ff; text-decoration-color: #00d7ff\">None</span>, <span style=\"color: #00af00; text-decoration-color: #00af00\">120</span>)                 │           <span style=\"color: #00af00; text-decoration-color: #00af00\">7,800</span> │\n",
              "├──────────────────────────────────────┼─────────────────────────────┼─────────────────┤\n",
              "│ dense_37 (<span style=\"color: #0087ff; text-decoration-color: #0087ff\">Dense</span>)                     │ (<span style=\"color: #00d7ff; text-decoration-color: #00d7ff\">None</span>, <span style=\"color: #00af00; text-decoration-color: #00af00\">84</span>)                  │          <span style=\"color: #00af00; text-decoration-color: #00af00\">10,164</span> │\n",
              "├──────────────────────────────────────┼─────────────────────────────┼─────────────────┤\n",
              "│ dense_38 (<span style=\"color: #0087ff; text-decoration-color: #0087ff\">Dense</span>)                     │ (<span style=\"color: #00d7ff; text-decoration-color: #00d7ff\">None</span>, <span style=\"color: #00af00; text-decoration-color: #00af00\">10</span>)                  │             <span style=\"color: #00af00; text-decoration-color: #00af00\">850</span> │\n",
              "└──────────────────────────────────────┴─────────────────────────────┴─────────────────┘\n",
              "</pre>\n"
            ]
          },
          "metadata": {}
        },
        {
          "output_type": "display_data",
          "data": {
            "text/plain": [
              "\u001b[1m Total params: \u001b[0m\u001b[38;5;34m23,350\u001b[0m (91.21 KB)\n"
            ],
            "text/html": [
              "<pre style=\"white-space:pre;overflow-x:auto;line-height:normal;font-family:Menlo,'DejaVu Sans Mono',consolas,'Courier New',monospace\"><span style=\"font-weight: bold\"> Total params: </span><span style=\"color: #00af00; text-decoration-color: #00af00\">23,350</span> (91.21 KB)\n",
              "</pre>\n"
            ]
          },
          "metadata": {}
        },
        {
          "output_type": "display_data",
          "data": {
            "text/plain": [
              "\u001b[1m Trainable params: \u001b[0m\u001b[38;5;34m23,350\u001b[0m (91.21 KB)\n"
            ],
            "text/html": [
              "<pre style=\"white-space:pre;overflow-x:auto;line-height:normal;font-family:Menlo,'DejaVu Sans Mono',consolas,'Courier New',monospace\"><span style=\"font-weight: bold\"> Trainable params: </span><span style=\"color: #00af00; text-decoration-color: #00af00\">23,350</span> (91.21 KB)\n",
              "</pre>\n"
            ]
          },
          "metadata": {}
        },
        {
          "output_type": "display_data",
          "data": {
            "text/plain": [
              "\u001b[1m Non-trainable params: \u001b[0m\u001b[38;5;34m0\u001b[0m (0.00 B)\n"
            ],
            "text/html": [
              "<pre style=\"white-space:pre;overflow-x:auto;line-height:normal;font-family:Menlo,'DejaVu Sans Mono',consolas,'Courier New',monospace\"><span style=\"font-weight: bold\"> Non-trainable params: </span><span style=\"color: #00af00; text-decoration-color: #00af00\">0</span> (0.00 B)\n",
              "</pre>\n"
            ]
          },
          "metadata": {}
        }
      ]
    },
    {
      "cell_type": "markdown",
      "metadata": {
        "id": "GWdFSj9OcYWl"
      },
      "source": [
        "### [練習] 嘗試不同設定來編譯模型\n",
        "\n",
        "- Optimizer:\n",
        " * Stochastic Gradient Descent (SGD)\n",
        " * Adaptive Moment Estimation (Adam)\n",
        "- Loss:\n",
        " * Mean Squared Error\n",
        " * Mean Abolute Error\n",
        " * Categorical cross-entropy"
      ]
    },
    {
      "cell_type": "markdown",
      "metadata": {
        "id": "-Zz5yHOzdUgv"
      },
      "source": [
        "### 訓練模型: 透過訓練模型來學習分類資料的函數"
      ]
    },
    {
      "cell_type": "code",
      "source": [
        "lr_schedule = schedules.ExponentialDecay(\n",
        "    initial_learning_rate=5e-4,\n",
        "    decay_steps=10000,\n",
        "    decay_rate=0.9\n",
        ")"
      ],
      "metadata": {
        "id": "dhB3yz6Duq7h"
      },
      "execution_count": 229,
      "outputs": []
    },
    {
      "cell_type": "code",
      "source": [
        "model.compile(loss='categorical_crossentropy',\n",
        "              optimizer=Adam(learning_rate=lr_schedule),\n",
        "              metrics=['categorical_accuracy'])"
      ],
      "metadata": {
        "id": "niqnLXCIYACw"
      },
      "execution_count": 230,
      "outputs": []
    },
    {
      "cell_type": "code",
      "source": [
        "#earlystop\n",
        "early_stopping = EarlyStopping(\n",
        "    monitor='val_loss',\n",
        "    patience=15,\n",
        "    min_delta=0.001,\n",
        "    restore_best_weights=True,\n",
        ")\n"
      ],
      "metadata": {
        "id": "ZxndWewAcTsg"
      },
      "execution_count": 231,
      "outputs": []
    },
    {
      "cell_type": "code",
      "source": [
        "training_history = model.fit(X_train, y_train,\n",
        "                             batch_size=64,\n",
        "                             epochs=100,\n",
        "                             validation_data=(X_test, y_test),\n",
        "                             callbacks=[early_stopping],\n",
        "                             )"
      ],
      "metadata": {
        "colab": {
          "base_uri": "https://localhost:8080/"
        },
        "id": "Y8x0djQFYAc-",
        "outputId": "3fde02a8-4bcc-40bf-f959-30375a3cb454"
      },
      "execution_count": 232,
      "outputs": [
        {
          "output_type": "stream",
          "name": "stdout",
          "text": [
            "Epoch 1/100\n",
            "\u001b[1m782/782\u001b[0m \u001b[32m━━━━━━━━━━━━━━━━━━━━\u001b[0m\u001b[37m\u001b[0m \u001b[1m9s\u001b[0m 8ms/step - categorical_accuracy: 0.2383 - loss: 2.0146 - val_categorical_accuracy: 0.4021 - val_loss: 1.6079\n",
            "Epoch 2/100\n",
            "\u001b[1m782/782\u001b[0m \u001b[32m━━━━━━━━━━━━━━━━━━━━\u001b[0m\u001b[37m\u001b[0m \u001b[1m6s\u001b[0m 4ms/step - categorical_accuracy: 0.4209 - loss: 1.5811 - val_categorical_accuracy: 0.4616 - val_loss: 1.4762\n",
            "Epoch 3/100\n",
            "\u001b[1m782/782\u001b[0m \u001b[32m━━━━━━━━━━━━━━━━━━━━\u001b[0m\u001b[37m\u001b[0m \u001b[1m4s\u001b[0m 5ms/step - categorical_accuracy: 0.4668 - loss: 1.4632 - val_categorical_accuracy: 0.4878 - val_loss: 1.4179\n",
            "Epoch 4/100\n",
            "\u001b[1m782/782\u001b[0m \u001b[32m━━━━━━━━━━━━━━━━━━━━\u001b[0m\u001b[37m\u001b[0m \u001b[1m5s\u001b[0m 4ms/step - categorical_accuracy: 0.4934 - loss: 1.3963 - val_categorical_accuracy: 0.5152 - val_loss: 1.3465\n",
            "Epoch 5/100\n",
            "\u001b[1m782/782\u001b[0m \u001b[32m━━━━━━━━━━━━━━━━━━━━\u001b[0m\u001b[37m\u001b[0m \u001b[1m5s\u001b[0m 4ms/step - categorical_accuracy: 0.5093 - loss: 1.3534 - val_categorical_accuracy: 0.5190 - val_loss: 1.3289\n",
            "Epoch 6/100\n",
            "\u001b[1m782/782\u001b[0m \u001b[32m━━━━━━━━━━━━━━━━━━━━\u001b[0m\u001b[37m\u001b[0m \u001b[1m3s\u001b[0m 4ms/step - categorical_accuracy: 0.5285 - loss: 1.3094 - val_categorical_accuracy: 0.5154 - val_loss: 1.3637\n",
            "Epoch 7/100\n",
            "\u001b[1m782/782\u001b[0m \u001b[32m━━━━━━━━━━━━━━━━━━━━\u001b[0m\u001b[37m\u001b[0m \u001b[1m3s\u001b[0m 4ms/step - categorical_accuracy: 0.5401 - loss: 1.2717 - val_categorical_accuracy: 0.5465 - val_loss: 1.2625\n",
            "Epoch 8/100\n",
            "\u001b[1m782/782\u001b[0m \u001b[32m━━━━━━━━━━━━━━━━━━━━\u001b[0m\u001b[37m\u001b[0m \u001b[1m3s\u001b[0m 4ms/step - categorical_accuracy: 0.5533 - loss: 1.2418 - val_categorical_accuracy: 0.5494 - val_loss: 1.2556\n",
            "Epoch 9/100\n",
            "\u001b[1m782/782\u001b[0m \u001b[32m━━━━━━━━━━━━━━━━━━━━\u001b[0m\u001b[37m\u001b[0m \u001b[1m3s\u001b[0m 4ms/step - categorical_accuracy: 0.5654 - loss: 1.2122 - val_categorical_accuracy: 0.5685 - val_loss: 1.2129\n",
            "Epoch 10/100\n",
            "\u001b[1m782/782\u001b[0m \u001b[32m━━━━━━━━━━━━━━━━━━━━\u001b[0m\u001b[37m\u001b[0m \u001b[1m5s\u001b[0m 4ms/step - categorical_accuracy: 0.5716 - loss: 1.1921 - val_categorical_accuracy: 0.5648 - val_loss: 1.2328\n",
            "Epoch 11/100\n",
            "\u001b[1m782/782\u001b[0m \u001b[32m━━━━━━━━━━━━━━━━━━━━\u001b[0m\u001b[37m\u001b[0m \u001b[1m3s\u001b[0m 4ms/step - categorical_accuracy: 0.5842 - loss: 1.1581 - val_categorical_accuracy: 0.5564 - val_loss: 1.2419\n",
            "Epoch 12/100\n",
            "\u001b[1m782/782\u001b[0m \u001b[32m━━━━━━━━━━━━━━━━━━━━\u001b[0m\u001b[37m\u001b[0m \u001b[1m6s\u001b[0m 5ms/step - categorical_accuracy: 0.5921 - loss: 1.1412 - val_categorical_accuracy: 0.5758 - val_loss: 1.1780\n",
            "Epoch 13/100\n",
            "\u001b[1m782/782\u001b[0m \u001b[32m━━━━━━━━━━━━━━━━━━━━\u001b[0m\u001b[37m\u001b[0m \u001b[1m3s\u001b[0m 4ms/step - categorical_accuracy: 0.5986 - loss: 1.1272 - val_categorical_accuracy: 0.5861 - val_loss: 1.1617\n",
            "Epoch 14/100\n",
            "\u001b[1m782/782\u001b[0m \u001b[32m━━━━━━━━━━━━━━━━━━━━\u001b[0m\u001b[37m\u001b[0m \u001b[1m5s\u001b[0m 4ms/step - categorical_accuracy: 0.6039 - loss: 1.1090 - val_categorical_accuracy: 0.5941 - val_loss: 1.1462\n",
            "Epoch 15/100\n",
            "\u001b[1m782/782\u001b[0m \u001b[32m━━━━━━━━━━━━━━━━━━━━\u001b[0m\u001b[37m\u001b[0m \u001b[1m5s\u001b[0m 4ms/step - categorical_accuracy: 0.6068 - loss: 1.0983 - val_categorical_accuracy: 0.5943 - val_loss: 1.1491\n",
            "Epoch 16/100\n",
            "\u001b[1m782/782\u001b[0m \u001b[32m━━━━━━━━━━━━━━━━━━━━\u001b[0m\u001b[37m\u001b[0m \u001b[1m3s\u001b[0m 4ms/step - categorical_accuracy: 0.6163 - loss: 1.0791 - val_categorical_accuracy: 0.6022 - val_loss: 1.1185\n",
            "Epoch 17/100\n",
            "\u001b[1m782/782\u001b[0m \u001b[32m━━━━━━━━━━━━━━━━━━━━\u001b[0m\u001b[37m\u001b[0m \u001b[1m6s\u001b[0m 4ms/step - categorical_accuracy: 0.6227 - loss: 1.0629 - val_categorical_accuracy: 0.5943 - val_loss: 1.1418\n",
            "Epoch 18/100\n",
            "\u001b[1m782/782\u001b[0m \u001b[32m━━━━━━━━━━━━━━━━━━━━\u001b[0m\u001b[37m\u001b[0m \u001b[1m5s\u001b[0m 4ms/step - categorical_accuracy: 0.6275 - loss: 1.0450 - val_categorical_accuracy: 0.6018 - val_loss: 1.1214\n",
            "Epoch 19/100\n",
            "\u001b[1m782/782\u001b[0m \u001b[32m━━━━━━━━━━━━━━━━━━━━\u001b[0m\u001b[37m\u001b[0m \u001b[1m3s\u001b[0m 4ms/step - categorical_accuracy: 0.6317 - loss: 1.0365 - val_categorical_accuracy: 0.6105 - val_loss: 1.0967\n",
            "Epoch 20/100\n",
            "\u001b[1m782/782\u001b[0m \u001b[32m━━━━━━━━━━━━━━━━━━━━\u001b[0m\u001b[37m\u001b[0m \u001b[1m6s\u001b[0m 5ms/step - categorical_accuracy: 0.6303 - loss: 1.0322 - val_categorical_accuracy: 0.6065 - val_loss: 1.1081\n",
            "Epoch 21/100\n",
            "\u001b[1m782/782\u001b[0m \u001b[32m━━━━━━━━━━━━━━━━━━━━\u001b[0m\u001b[37m\u001b[0m \u001b[1m5s\u001b[0m 4ms/step - categorical_accuracy: 0.6410 - loss: 1.0119 - val_categorical_accuracy: 0.6020 - val_loss: 1.1172\n",
            "Epoch 22/100\n",
            "\u001b[1m782/782\u001b[0m \u001b[32m━━━━━━━━━━━━━━━━━━━━\u001b[0m\u001b[37m\u001b[0m \u001b[1m3s\u001b[0m 4ms/step - categorical_accuracy: 0.6357 - loss: 1.0134 - val_categorical_accuracy: 0.6161 - val_loss: 1.0746\n",
            "Epoch 23/100\n",
            "\u001b[1m782/782\u001b[0m \u001b[32m━━━━━━━━━━━━━━━━━━━━\u001b[0m\u001b[37m\u001b[0m \u001b[1m4s\u001b[0m 5ms/step - categorical_accuracy: 0.6415 - loss: 1.0048 - val_categorical_accuracy: 0.6126 - val_loss: 1.1019\n",
            "Epoch 24/100\n",
            "\u001b[1m782/782\u001b[0m \u001b[32m━━━━━━━━━━━━━━━━━━━━\u001b[0m\u001b[37m\u001b[0m \u001b[1m3s\u001b[0m 4ms/step - categorical_accuracy: 0.6447 - loss: 0.9930 - val_categorical_accuracy: 0.6171 - val_loss: 1.0814\n",
            "Epoch 25/100\n",
            "\u001b[1m782/782\u001b[0m \u001b[32m━━━━━━━━━━━━━━━━━━━━\u001b[0m\u001b[37m\u001b[0m \u001b[1m5s\u001b[0m 4ms/step - categorical_accuracy: 0.6504 - loss: 0.9867 - val_categorical_accuracy: 0.6235 - val_loss: 1.0738\n",
            "Epoch 26/100\n",
            "\u001b[1m782/782\u001b[0m \u001b[32m━━━━━━━━━━━━━━━━━━━━\u001b[0m\u001b[37m\u001b[0m \u001b[1m3s\u001b[0m 4ms/step - categorical_accuracy: 0.6622 - loss: 0.9481 - val_categorical_accuracy: 0.6312 - val_loss: 1.0510\n",
            "Epoch 27/100\n",
            "\u001b[1m782/782\u001b[0m \u001b[32m━━━━━━━━━━━━━━━━━━━━\u001b[0m\u001b[37m\u001b[0m \u001b[1m3s\u001b[0m 4ms/step - categorical_accuracy: 0.6588 - loss: 0.9536 - val_categorical_accuracy: 0.6244 - val_loss: 1.0617\n",
            "Epoch 28/100\n",
            "\u001b[1m782/782\u001b[0m \u001b[32m━━━━━━━━━━━━━━━━━━━━\u001b[0m\u001b[37m\u001b[0m \u001b[1m5s\u001b[0m 4ms/step - categorical_accuracy: 0.6604 - loss: 0.9538 - val_categorical_accuracy: 0.6029 - val_loss: 1.1303\n",
            "Epoch 29/100\n",
            "\u001b[1m782/782\u001b[0m \u001b[32m━━━━━━━━━━━━━━━━━━━━\u001b[0m\u001b[37m\u001b[0m \u001b[1m5s\u001b[0m 4ms/step - categorical_accuracy: 0.6598 - loss: 0.9536 - val_categorical_accuracy: 0.6183 - val_loss: 1.0933\n",
            "Epoch 30/100\n",
            "\u001b[1m782/782\u001b[0m \u001b[32m━━━━━━━━━━━━━━━━━━━━\u001b[0m\u001b[37m\u001b[0m \u001b[1m5s\u001b[0m 4ms/step - categorical_accuracy: 0.6679 - loss: 0.9326 - val_categorical_accuracy: 0.6300 - val_loss: 1.0481\n",
            "Epoch 31/100\n",
            "\u001b[1m782/782\u001b[0m \u001b[32m━━━━━━━━━━━━━━━━━━━━\u001b[0m\u001b[37m\u001b[0m \u001b[1m3s\u001b[0m 4ms/step - categorical_accuracy: 0.6719 - loss: 0.9210 - val_categorical_accuracy: 0.6382 - val_loss: 1.0318\n",
            "Epoch 32/100\n",
            "\u001b[1m782/782\u001b[0m \u001b[32m━━━━━━━━━━━━━━━━━━━━\u001b[0m\u001b[37m\u001b[0m \u001b[1m5s\u001b[0m 4ms/step - categorical_accuracy: 0.6751 - loss: 0.9094 - val_categorical_accuracy: 0.6237 - val_loss: 1.0956\n",
            "Epoch 33/100\n",
            "\u001b[1m782/782\u001b[0m \u001b[32m━━━━━━━━━━━━━━━━━━━━\u001b[0m\u001b[37m\u001b[0m \u001b[1m3s\u001b[0m 4ms/step - categorical_accuracy: 0.6721 - loss: 0.9135 - val_categorical_accuracy: 0.6301 - val_loss: 1.0484\n",
            "Epoch 34/100\n",
            "\u001b[1m782/782\u001b[0m \u001b[32m━━━━━━━━━━━━━━━━━━━━\u001b[0m\u001b[37m\u001b[0m \u001b[1m6s\u001b[0m 5ms/step - categorical_accuracy: 0.6804 - loss: 0.9034 - val_categorical_accuracy: 0.6328 - val_loss: 1.0395\n",
            "Epoch 35/100\n",
            "\u001b[1m782/782\u001b[0m \u001b[32m━━━━━━━━━━━━━━━━━━━━\u001b[0m\u001b[37m\u001b[0m \u001b[1m3s\u001b[0m 4ms/step - categorical_accuracy: 0.6791 - loss: 0.9025 - val_categorical_accuracy: 0.6422 - val_loss: 1.0381\n",
            "Epoch 36/100\n",
            "\u001b[1m782/782\u001b[0m \u001b[32m━━━━━━━━━━━━━━━━━━━━\u001b[0m\u001b[37m\u001b[0m \u001b[1m5s\u001b[0m 4ms/step - categorical_accuracy: 0.6843 - loss: 0.8859 - val_categorical_accuracy: 0.6280 - val_loss: 1.0741\n",
            "Epoch 37/100\n",
            "\u001b[1m782/782\u001b[0m \u001b[32m━━━━━━━━━━━━━━━━━━━━\u001b[0m\u001b[37m\u001b[0m \u001b[1m6s\u001b[0m 5ms/step - categorical_accuracy: 0.6861 - loss: 0.8852 - val_categorical_accuracy: 0.6477 - val_loss: 1.0166\n",
            "Epoch 38/100\n",
            "\u001b[1m782/782\u001b[0m \u001b[32m━━━━━━━━━━━━━━━━━━━━\u001b[0m\u001b[37m\u001b[0m \u001b[1m3s\u001b[0m 4ms/step - categorical_accuracy: 0.6894 - loss: 0.8728 - val_categorical_accuracy: 0.6369 - val_loss: 1.0428\n",
            "Epoch 39/100\n",
            "\u001b[1m782/782\u001b[0m \u001b[32m━━━━━━━━━━━━━━━━━━━━\u001b[0m\u001b[37m\u001b[0m \u001b[1m3s\u001b[0m 4ms/step - categorical_accuracy: 0.6956 - loss: 0.8563 - val_categorical_accuracy: 0.6200 - val_loss: 1.0899\n",
            "Epoch 40/100\n",
            "\u001b[1m782/782\u001b[0m \u001b[32m━━━━━━━━━━━━━━━━━━━━\u001b[0m\u001b[37m\u001b[0m \u001b[1m3s\u001b[0m 4ms/step - categorical_accuracy: 0.6868 - loss: 0.8727 - val_categorical_accuracy: 0.6462 - val_loss: 1.0266\n",
            "Epoch 41/100\n",
            "\u001b[1m782/782\u001b[0m \u001b[32m━━━━━━━━━━━━━━━━━━━━\u001b[0m\u001b[37m\u001b[0m \u001b[1m3s\u001b[0m 4ms/step - categorical_accuracy: 0.6955 - loss: 0.8485 - val_categorical_accuracy: 0.6411 - val_loss: 1.0428\n",
            "Epoch 42/100\n",
            "\u001b[1m782/782\u001b[0m \u001b[32m━━━━━━━━━━━━━━━━━━━━\u001b[0m\u001b[37m\u001b[0m \u001b[1m5s\u001b[0m 4ms/step - categorical_accuracy: 0.6948 - loss: 0.8516 - val_categorical_accuracy: 0.6474 - val_loss: 1.0168\n",
            "Epoch 43/100\n",
            "\u001b[1m782/782\u001b[0m \u001b[32m━━━━━━━━━━━━━━━━━━━━\u001b[0m\u001b[37m\u001b[0m \u001b[1m3s\u001b[0m 4ms/step - categorical_accuracy: 0.6986 - loss: 0.8465 - val_categorical_accuracy: 0.6444 - val_loss: 1.0173\n",
            "Epoch 44/100\n",
            "\u001b[1m782/782\u001b[0m \u001b[32m━━━━━━━━━━━━━━━━━━━━\u001b[0m\u001b[37m\u001b[0m \u001b[1m5s\u001b[0m 4ms/step - categorical_accuracy: 0.7026 - loss: 0.8360 - val_categorical_accuracy: 0.6462 - val_loss: 1.0254\n",
            "Epoch 45/100\n",
            "\u001b[1m782/782\u001b[0m \u001b[32m━━━━━━━━━━━━━━━━━━━━\u001b[0m\u001b[37m\u001b[0m \u001b[1m5s\u001b[0m 4ms/step - categorical_accuracy: 0.7020 - loss: 0.8322 - val_categorical_accuracy: 0.6518 - val_loss: 1.0085\n",
            "Epoch 46/100\n",
            "\u001b[1m782/782\u001b[0m \u001b[32m━━━━━━━━━━━━━━━━━━━━\u001b[0m\u001b[37m\u001b[0m \u001b[1m5s\u001b[0m 4ms/step - categorical_accuracy: 0.7045 - loss: 0.8272 - val_categorical_accuracy: 0.6461 - val_loss: 1.0166\n",
            "Epoch 47/100\n",
            "\u001b[1m782/782\u001b[0m \u001b[32m━━━━━━━━━━━━━━━━━━━━\u001b[0m\u001b[37m\u001b[0m \u001b[1m5s\u001b[0m 4ms/step - categorical_accuracy: 0.7007 - loss: 0.8231 - val_categorical_accuracy: 0.6421 - val_loss: 1.0311\n",
            "Epoch 48/100\n",
            "\u001b[1m782/782\u001b[0m \u001b[32m━━━━━━━━━━━━━━━━━━━━\u001b[0m\u001b[37m\u001b[0m \u001b[1m4s\u001b[0m 4ms/step - categorical_accuracy: 0.7102 - loss: 0.8170 - val_categorical_accuracy: 0.6433 - val_loss: 1.0268\n",
            "Epoch 49/100\n",
            "\u001b[1m782/782\u001b[0m \u001b[32m━━━━━━━━━━━━━━━━━━━━\u001b[0m\u001b[37m\u001b[0m \u001b[1m5s\u001b[0m 4ms/step - categorical_accuracy: 0.7082 - loss: 0.8158 - val_categorical_accuracy: 0.6486 - val_loss: 1.0091\n",
            "Epoch 50/100\n",
            "\u001b[1m782/782\u001b[0m \u001b[32m━━━━━━━━━━━━━━━━━━━━\u001b[0m\u001b[37m\u001b[0m \u001b[1m5s\u001b[0m 4ms/step - categorical_accuracy: 0.7127 - loss: 0.8076 - val_categorical_accuracy: 0.6554 - val_loss: 1.0012\n",
            "Epoch 51/100\n",
            "\u001b[1m782/782\u001b[0m \u001b[32m━━━━━━━━━━━━━━━━━━━━\u001b[0m\u001b[37m\u001b[0m \u001b[1m3s\u001b[0m 4ms/step - categorical_accuracy: 0.7182 - loss: 0.7904 - val_categorical_accuracy: 0.6515 - val_loss: 1.0087\n",
            "Epoch 52/100\n",
            "\u001b[1m782/782\u001b[0m \u001b[32m━━━━━━━━━━━━━━━━━━━━\u001b[0m\u001b[37m\u001b[0m \u001b[1m5s\u001b[0m 4ms/step - categorical_accuracy: 0.7146 - loss: 0.8026 - val_categorical_accuracy: 0.6478 - val_loss: 1.0168\n",
            "Epoch 53/100\n",
            "\u001b[1m782/782\u001b[0m \u001b[32m━━━━━━━━━━━━━━━━━━━━\u001b[0m\u001b[37m\u001b[0m \u001b[1m5s\u001b[0m 4ms/step - categorical_accuracy: 0.7173 - loss: 0.7874 - val_categorical_accuracy: 0.6542 - val_loss: 1.0031\n",
            "Epoch 54/100\n",
            "\u001b[1m782/782\u001b[0m \u001b[32m━━━━━━━━━━━━━━━━━━━━\u001b[0m\u001b[37m\u001b[0m \u001b[1m5s\u001b[0m 4ms/step - categorical_accuracy: 0.7197 - loss: 0.7794 - val_categorical_accuracy: 0.6475 - val_loss: 1.0063\n",
            "Epoch 55/100\n",
            "\u001b[1m782/782\u001b[0m \u001b[32m━━━━━━━━━━━━━━━━━━━━\u001b[0m\u001b[37m\u001b[0m \u001b[1m5s\u001b[0m 4ms/step - categorical_accuracy: 0.7210 - loss: 0.7862 - val_categorical_accuracy: 0.6508 - val_loss: 1.0231\n",
            "Epoch 56/100\n",
            "\u001b[1m782/782\u001b[0m \u001b[32m━━━━━━━━━━━━━━━━━━━━\u001b[0m\u001b[37m\u001b[0m \u001b[1m5s\u001b[0m 4ms/step - categorical_accuracy: 0.7205 - loss: 0.7755 - val_categorical_accuracy: 0.6532 - val_loss: 1.0057\n",
            "Epoch 57/100\n",
            "\u001b[1m782/782\u001b[0m \u001b[32m━━━━━━━━━━━━━━━━━━━━\u001b[0m\u001b[37m\u001b[0m \u001b[1m5s\u001b[0m 4ms/step - categorical_accuracy: 0.7246 - loss: 0.7679 - val_categorical_accuracy: 0.6466 - val_loss: 1.0280\n",
            "Epoch 58/100\n",
            "\u001b[1m782/782\u001b[0m \u001b[32m━━━━━━━━━━━━━━━━━━━━\u001b[0m\u001b[37m\u001b[0m \u001b[1m4s\u001b[0m 4ms/step - categorical_accuracy: 0.7236 - loss: 0.7712 - val_categorical_accuracy: 0.6506 - val_loss: 1.0188\n",
            "Epoch 59/100\n",
            "\u001b[1m782/782\u001b[0m \u001b[32m━━━━━━━━━━━━━━━━━━━━\u001b[0m\u001b[37m\u001b[0m \u001b[1m3s\u001b[0m 4ms/step - categorical_accuracy: 0.7305 - loss: 0.7634 - val_categorical_accuracy: 0.6509 - val_loss: 1.0219\n",
            "Epoch 60/100\n",
            "\u001b[1m782/782\u001b[0m \u001b[32m━━━━━━━━━━━━━━━━━━━━\u001b[0m\u001b[37m\u001b[0m \u001b[1m3s\u001b[0m 4ms/step - categorical_accuracy: 0.7292 - loss: 0.7611 - val_categorical_accuracy: 0.6543 - val_loss: 1.0222\n",
            "Epoch 61/100\n",
            "\u001b[1m782/782\u001b[0m \u001b[32m━━━━━━━━━━━━━━━━━━━━\u001b[0m\u001b[37m\u001b[0m \u001b[1m3s\u001b[0m 4ms/step - categorical_accuracy: 0.7258 - loss: 0.7617 - val_categorical_accuracy: 0.6579 - val_loss: 1.0041\n",
            "Epoch 62/100\n",
            "\u001b[1m782/782\u001b[0m \u001b[32m━━━━━━━━━━━━━━━━━━━━\u001b[0m\u001b[37m\u001b[0m \u001b[1m5s\u001b[0m 4ms/step - categorical_accuracy: 0.7311 - loss: 0.7521 - val_categorical_accuracy: 0.6487 - val_loss: 1.0300\n",
            "Epoch 63/100\n",
            "\u001b[1m782/782\u001b[0m \u001b[32m━━━━━━━━━━━━━━━━━━━━\u001b[0m\u001b[37m\u001b[0m \u001b[1m3s\u001b[0m 4ms/step - categorical_accuracy: 0.7278 - loss: 0.7590 - val_categorical_accuracy: 0.6558 - val_loss: 1.0088\n",
            "Epoch 64/100\n",
            "\u001b[1m782/782\u001b[0m \u001b[32m━━━━━━━━━━━━━━━━━━━━\u001b[0m\u001b[37m\u001b[0m \u001b[1m5s\u001b[0m 4ms/step - categorical_accuracy: 0.7340 - loss: 0.7426 - val_categorical_accuracy: 0.6541 - val_loss: 1.0074\n",
            "Epoch 65/100\n",
            "\u001b[1m782/782\u001b[0m \u001b[32m━━━━━━━━━━━━━━━━━━━━\u001b[0m\u001b[37m\u001b[0m \u001b[1m5s\u001b[0m 4ms/step - categorical_accuracy: 0.7324 - loss: 0.7472 - val_categorical_accuracy: 0.6511 - val_loss: 1.0177\n"
          ]
        }
      ]
    },
    {
      "cell_type": "code",
      "source": [
        "plt.figure(figsize=(10, 5))\n",
        "plt.subplot(1, 2, 1)\n",
        "plt.plot(training_history.history['loss'])\n",
        "plt.plot(training_history.history['val_loss'])\n",
        "plt.legend(['Train', 'Validation'])\n",
        "plt.title(\"Loss\")\n",
        "\n",
        "plt.subplot(1, 2, 2)\n",
        "plt.plot(training_history.history['categorical_accuracy'])\n",
        "plt.plot(training_history.history['val_categorical_accuracy'])\n",
        "plt.legend(['Train', 'Validation'])\n",
        "plt.title(\"Accuracy\");"
      ],
      "metadata": {
        "colab": {
          "base_uri": "https://localhost:8080/",
          "height": 468
        },
        "id": "lbRbzYPtYAwb",
        "outputId": "a8490b40-7c64-4391-e72c-47c3dd50ad8d"
      },
      "execution_count": 233,
      "outputs": [
        {
          "output_type": "display_data",
          "data": {
            "text/plain": [
              "<Figure size 1000x500 with 2 Axes>"
            ],
            "image/png": "[encoded data removed]"
          },
          "metadata": {}
        }
      ]
    },
    {
      "cell_type": "markdown",
      "metadata": {
        "id": "iilc1B3vRAOB"
      },
      "source": [
        "## 5: 視覺化預測結果\n",
        "\n",
        "在這部分，我們提供簡單的視覺化方法來呈現神經網路的輸入與輸出結果"
      ]
    },
    {
      "cell_type": "code",
      "metadata": {
        "id": "VoRKkRFHQ-bk"
      },
      "source": [
        "class_label = ['Airplan', 'Automobile', 'Bird', 'Cat', 'Deer', 'Dog', 'Frog', 'Horse', 'Ship', 'Truck']\n",
        "\n",
        "def visulization(idx=0):\n",
        "    # Random pick one data from training set\n",
        "    # idx = np.random.randint(X_train.shape[0])\n",
        "    sample_x = X_test[idx]\n",
        "    sample_y = y_test[idx]\n",
        "    # Predict the class of random data\n",
        "    predict_y = model.predict(X_test[idx:idx+1]).squeeze()\n",
        "    predict_label = predict_y.argmax()\n",
        "\n",
        "    fig, (ax1, ax2) = plt.subplots(1, 2, figsize=(12, 5))\n",
        "    # Plot raw image\n",
        "    ax1.imshow(sample_x, 'gray_r')\n",
        "    ax1.set_title(\"Image Label: %s\" %class_label[sample_y.argmax()])\n",
        "\n",
        "    # Plot prediction probability of each classes\n",
        "    ax2.barh(np.arange(10), predict_y)\n",
        "    ax2.patches[predict_label].set_facecolor('Red')\n",
        "    ax2.set_title(\"Prediction Result: %d\" %predict_label);\n",
        "    ax2.set_yticklabels(class_label)\n",
        "    if sample_y.argmax()==predict_y.argmax():\n",
        "        print(\"預測正確!\")\n",
        "    else:\n",
        "        print(\"預測失敗QQ\")\n",
        "    plt.show()"
      ],
      "execution_count": 234,
      "outputs": []
    },
    {
      "cell_type": "code",
      "metadata": {
        "id": "x38pgeTYRC5G",
        "colab": {
          "base_uri": "https://localhost:8080/",
          "height": 587,
          "referenced_widgets": [
            "2e97f4a148e948ecabb38af68bed6b74",
            "e71e65229ddf4cb799dbfbd4ac6a8808",
            "01f5a65ebf3944558ec7108a995adfaa",
            "d88c9b907e2946229e36d230c5f026e0",
            "82ace5892bfa488289911314eebced6d",
            "0612d336ff7840b2bd6bc3f9b01653c0",
            "efdb1ece56d94806bd9d65b9dc5c5cb5"
          ]
        },
        "outputId": "816c1e97-fa34-49e5-b5ee-326eaf2c12b9"
      },
      "source": [
        "interact(visulization, idx=BoundedIntText(value=5566, min=0, max=X_test.shape[0]-1));"
      ],
      "execution_count": 235,
      "outputs": [
        {
          "output_type": "display_data",
          "data": {
            "text/plain": [
              "interactive(children=(BoundedIntText(value=5566, description='idx', max=9999), Output()), _dom_classes=('widge…"
            ],
            "application/vnd.jupyter.widget-view+json": {
              "version_major": 2,
              "version_minor": 0,
              "model_id": "2e97f4a148e948ecabb38af68bed6b74"
            }
          },
          "metadata": {}
        }
      ]
    },
    {
      "cell_type": "code",
      "metadata": {
        "id": "Qmq0qfIwRDNW"
      },
      "source": [],
      "execution_count": 235,
      "outputs": []
    }
  ]
}