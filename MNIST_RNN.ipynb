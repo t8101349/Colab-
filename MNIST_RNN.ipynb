{
  "nbformat": 4,
  "nbformat_minor": 0,
  "metadata": {
    "colab": {
      "provenance": [],
      "include_colab_link": true
    },
    "kernelspec": {
      "name": "python3",
      "display_name": "Python 3"
    },
    "accelerator": "GPU",
    "widgets": {
      "application/vnd.jupyter.widget-state+json": {
        "bee9523129cd4db39b6b76ea5ecc2ead": {
          "model_module": "@jupyter-widgets/controls",
          "model_name": "VBoxModel",
          "model_module_version": "1.5.0",
          "state": {
            "_dom_classes": [
              "widget-interact"
            ],
            "_model_module": "@jupyter-widgets/controls",
            "_model_module_version": "1.5.0",
            "_model_name": "VBoxModel",
            "_view_count": null,
            "_view_module": "@jupyter-widgets/controls",
            "_view_module_version": "1.5.0",
            "_view_name": "VBoxView",
            "box_style": "",
            "children": [
              "IPY_MODEL_cefeb38fc26449c68ecacf1129cb6803",
              "IPY_MODEL_3920eb38358246218cecc958854f216d",
              "IPY_MODEL_9fd9d2cced71486181f09d3fc74c8cdf"
            ],
            "layout": "IPY_MODEL_470fe9ca3d314f0195379fc377d03437"
          }
        },
        "cefeb38fc26449c68ecacf1129cb6803": {
          "model_module": "@jupyter-widgets/controls",
          "model_name": "DropdownModel",
          "model_module_version": "1.5.0",
          "state": {
            "_dom_classes": [],
            "_model_module": "@jupyter-widgets/controls",
            "_model_module_version": "1.5.0",
            "_model_name": "DropdownModel",
            "_options_labels": [
              "model_pixel",
              "model_row"
            ],
            "_view_count": null,
            "_view_module": "@jupyter-widgets/controls",
            "_view_module_version": "1.5.0",
            "_view_name": "DropdownView",
            "description": "model",
            "description_tooltip": null,
            "disabled": false,
            "index": 1,
            "layout": "IPY_MODEL_c302c992325e4518bec85ae886f3d7c9",
            "style": "IPY_MODEL_3b08f052461d4ea099d4f2b68cc181a4"
          }
        },
        "3920eb38358246218cecc958854f216d": {
          "model_module": "@jupyter-widgets/controls",
          "model_name": "BoundedIntTextModel",
          "model_module_version": "1.5.0",
          "state": {
            "_dom_classes": [],
            "_model_module": "@jupyter-widgets/controls",
            "_model_module_version": "1.5.0",
            "_model_name": "BoundedIntTextModel",
            "_view_count": null,
            "_view_module": "@jupyter-widgets/controls",
            "_view_module_version": "1.5.0",
            "_view_name": "IntTextView",
            "continuous_update": false,
            "description": "idx",
            "description_tooltip": null,
            "disabled": false,
            "layout": "IPY_MODEL_c5132fba538048a4a3cc9fe70e59f1a1",
            "max": 9999,
            "min": 0,
            "step": 1,
            "style": "IPY_MODEL_51e4a53db60e421b925f2019115c5be2",
            "value": 5566
          }
        },
        "9fd9d2cced71486181f09d3fc74c8cdf": {
          "model_module": "@jupyter-widgets/output",
          "model_name": "OutputModel",
          "model_module_version": "1.0.0",
          "state": {
            "_dom_classes": [],
            "_model_module": "@jupyter-widgets/output",
            "_model_module_version": "1.0.0",
            "_model_name": "OutputModel",
            "_view_count": null,
            "_view_module": "@jupyter-widgets/output",
            "_view_module_version": "1.0.0",
            "_view_name": "OutputView",
            "layout": "IPY_MODEL_7f72c4b28a0a4a51b80d54250458a3fa",
            "msg_id": "",
            "outputs": [
              {
                "output_type": "stream",
                "name": "stdout",
                "text": [
                  "\r\u001b[1m1/1\u001b[0m \u001b[32m━━━━━━━━━━━━━━━━━━━━\u001b[0m\u001b[37m\u001b[0m \u001b[1m0s\u001b[0m 181ms/step"
                ]
              },
              {
                "output_type": "stream",
                "name": "stdout",
                "text": [
                  "\b\b\b\b\b\b\b\b\b\b\b\b\b\b\b\b\b\b\b\b\b\b\b\b\b\b\b\b\b\b\b\b\b\b\b\b\b\b\r\u001b[1m1/1\u001b[0m \u001b[32m━━━━━━━━━━━━━━━━━━━━\u001b[0m\u001b[37m\u001b[0m \u001b[1m0s\u001b[0m 199ms/step\n"
                ]
              },
              {
                "output_type": "stream",
                "name": "stdout",
                "text": [
                  "預測正確!\n"
                ]
              },
              {
                "output_type": "display_data",
                "data": {
                  "text/plain": "<Figure size 1200x500 with 2 Axes>",
                  "image/png": "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\n"
                },
                "metadata": {}
              }
            ]
          }
        },
        "470fe9ca3d314f0195379fc377d03437": {
          "model_module": "@jupyter-widgets/base",
          "model_name": "LayoutModel",
          "model_module_version": "1.2.0",
          "state": {
            "_model_module": "@jupyter-widgets/base",
            "_model_module_version": "1.2.0",
            "_model_name": "LayoutModel",
            "_view_count": null,
            "_view_module": "@jupyter-widgets/base",
            "_view_module_version": "1.2.0",
            "_view_name": "LayoutView",
            "align_content": null,
            "align_items": null,
            "align_self": null,
            "border": null,
            "bottom": null,
            "display": null,
            "flex": null,
            "flex_flow": null,
            "grid_area": null,
            "grid_auto_columns": null,
            "grid_auto_flow": null,
            "grid_auto_rows": null,
            "grid_column": null,
            "grid_gap": null,
            "grid_row": null,
            "grid_template_areas": null,
            "grid_template_columns": null,
            "grid_template_rows": null,
            "height": null,
            "justify_content": null,
            "justify_items": null,
            "left": null,
            "margin": null,
            "max_height": null,
            "max_width": null,
            "min_height": null,
            "min_width": null,
            "object_fit": null,
            "object_position": null,
            "order": null,
            "overflow": null,
            "overflow_x": null,
            "overflow_y": null,
            "padding": null,
            "right": null,
            "top": null,
            "visibility": null,
            "width": null
          }
        },
        "c302c992325e4518bec85ae886f3d7c9": {
          "model_module": "@jupyter-widgets/base",
          "model_name": "LayoutModel",
          "model_module_version": "1.2.0",
          "state": {
            "_model_module": "@jupyter-widgets/base",
            "_model_module_version": "1.2.0",
            "_model_name": "LayoutModel",
            "_view_count": null,
            "_view_module": "@jupyter-widgets/base",
            "_view_module_version": "1.2.0",
            "_view_name": "LayoutView",
            "align_content": null,
            "align_items": null,
            "align_self": null,
            "border": null,
            "bottom": null,
            "display": null,
            "flex": null,
            "flex_flow": null,
            "grid_area": null,
            "grid_auto_columns": null,
            "grid_auto_flow": null,
            "grid_auto_rows": null,
            "grid_column": null,
            "grid_gap": null,
            "grid_row": null,
            "grid_template_areas": null,
            "grid_template_columns": null,
            "grid_template_rows": null,
            "height": null,
            "justify_content": null,
            "justify_items": null,
            "left": null,
            "margin": null,
            "max_height": null,
            "max_width": null,
            "min_height": null,
            "min_width": null,
            "object_fit": null,
            "object_position": null,
            "order": null,
            "overflow": null,
            "overflow_x": null,
            "overflow_y": null,
            "padding": null,
            "right": null,
            "top": null,
            "visibility": null,
            "width": null
          }
        },
        "3b08f052461d4ea099d4f2b68cc181a4": {
          "model_module": "@jupyter-widgets/controls",
          "model_name": "DescriptionStyleModel",
          "model_module_version": "1.5.0",
          "state": {
            "_model_module": "@jupyter-widgets/controls",
            "_model_module_version": "1.5.0",
            "_model_name": "DescriptionStyleModel",
            "_view_count": null,
            "_view_module": "@jupyter-widgets/base",
            "_view_module_version": "1.2.0",
            "_view_name": "StyleView",
            "description_width": ""
          }
        },
        "c5132fba538048a4a3cc9fe70e59f1a1": {
          "model_module": "@jupyter-widgets/base",
          "model_name": "LayoutModel",
          "model_module_version": "1.2.0",
          "state": {
            "_model_module": "@jupyter-widgets/base",
            "_model_module_version": "1.2.0",
            "_model_name": "LayoutModel",
            "_view_count": null,
            "_view_module": "@jupyter-widgets/base",
            "_view_module_version": "1.2.0",
            "_view_name": "LayoutView",
            "align_content": null,
            "align_items": null,
            "align_self": null,
            "border": null,
            "bottom": null,
            "display": null,
            "flex": null,
            "flex_flow": null,
            "grid_area": null,
            "grid_auto_columns": null,
            "grid_auto_flow": null,
            "grid_auto_rows": null,
            "grid_column": null,
            "grid_gap": null,
            "grid_row": null,
            "grid_template_areas": null,
            "grid_template_columns": null,
            "grid_template_rows": null,
            "height": null,
            "justify_content": null,
            "justify_items": null,
            "left": null,
            "margin": null,
            "max_height": null,
            "max_width": null,
            "min_height": null,
            "min_width": null,
            "object_fit": null,
            "object_position": null,
            "order": null,
            "overflow": null,
            "overflow_x": null,
            "overflow_y": null,
            "padding": null,
            "right": null,
            "top": null,
            "visibility": null,
            "width": null
          }
        },
        "51e4a53db60e421b925f2019115c5be2": {
          "model_module": "@jupyter-widgets/controls",
          "model_name": "DescriptionStyleModel",
          "model_module_version": "1.5.0",
          "state": {
            "_model_module": "@jupyter-widgets/controls",
            "_model_module_version": "1.5.0",
            "_model_name": "DescriptionStyleModel",
            "_view_count": null,
            "_view_module": "@jupyter-widgets/base",
            "_view_module_version": "1.2.0",
            "_view_name": "StyleView",
            "description_width": ""
          }
        },
        "7f72c4b28a0a4a51b80d54250458a3fa": {
          "model_module": "@jupyter-widgets/base",
          "model_name": "LayoutModel",
          "model_module_version": "1.2.0",
          "state": {
            "_model_module": "@jupyter-widgets/base",
            "_model_module_version": "1.2.0",
            "_model_name": "LayoutModel",
            "_view_count": null,
            "_view_module": "@jupyter-widgets/base",
            "_view_module_version": "1.2.0",
            "_view_name": "LayoutView",
            "align_content": null,
            "align_items": null,
            "align_self": null,
            "border": null,
            "bottom": null,
            "display": null,
            "flex": null,
            "flex_flow": null,
            "grid_area": null,
            "grid_auto_columns": null,
            "grid_auto_flow": null,
            "grid_auto_rows": null,
            "grid_column": null,
            "grid_gap": null,
            "grid_row": null,
            "grid_template_areas": null,
            "grid_template_columns": null,
            "grid_template_rows": null,
            "height": null,
            "justify_content": null,
            "justify_items": null,
            "left": null,
            "margin": null,
            "max_height": null,
            "max_width": null,
            "min_height": null,
            "min_width": null,
            "object_fit": null,
            "object_position": null,
            "order": null,
            "overflow": null,
            "overflow_x": null,
            "overflow_y": null,
            "padding": null,
            "right": null,
            "top": null,
            "visibility": null,
            "width": null
          }
        }
      }
    }
  },
  "cells": [
    {
      "cell_type": "markdown",
      "metadata": {
        "id": "view-in-github",
        "colab_type": "text"
      },
      "source": [
        "<a href=\"https://colab.research.google.com/github/t8101349/Colab-/blob/master/MNIST_RNN.ipynb\" target=\"_parent\"><img src=\"https://colab.research.google.com/assets/colab-badge.svg\" alt=\"Open In Colab\"/></a>"
      ]
    },
    {
      "cell_type": "markdown",
      "metadata": {
        "id": "sJr4nMgyb9oS"
      },
      "source": [
        "\n",
        "<p align=\"center\">\n",
        "  <img src=\"https://storage.googleapis.com/kaggle-competitions/kaggle/3004/logos/header.png\"\n",
        "  />\n",
        "  <center>MNIST 手寫數字資料庫</center>\n",
        "  <center>圖片來源: https://www.kaggle.com/</center>\n",
        "</p>"
      ]
    },
    {
      "cell_type": "markdown",
      "metadata": {
        "id": "vVF9I9v6Zipb"
      },
      "source": [
        "## 1: 切換 TensorFlow 至 2.x 版"
      ]
    },
    {
      "cell_type": "code",
      "metadata": {
        "id": "WS6fShx3Za4O",
        "colab": {
          "base_uri": "https://localhost:8080/"
        },
        "outputId": "3c43423c-3c17-462d-f4ac-9ce10b92616b"
      },
      "source": [
        "%tensorflow_version 2.x"
      ],
      "execution_count": 1,
      "outputs": [
        {
          "output_type": "stream",
          "name": "stdout",
          "text": [
            "Colab only includes TensorFlow 2.x; %tensorflow_version has no effect.\n"
          ]
        }
      ]
    },
    {
      "cell_type": "markdown",
      "metadata": {
        "id": "DjlnjPnjWYFw"
      },
      "source": [
        "## 2: 載入套件及資料集"
      ]
    },
    {
      "cell_type": "code",
      "metadata": {
        "id": "ItqXJrqzdnXB"
      },
      "source": [
        "%matplotlib inline\n",
        "# Import some useful package\n",
        "import matplotlib.pyplot as plt\n",
        "import numpy as np\n",
        "from ipywidgets import interact, IntSlider, BoundedIntText\n",
        "\n",
        "# For DNN\n",
        "from tensorflow.keras.models import Sequential\n",
        "from tensorflow.keras.layers import Dense\n",
        "\n",
        "# For RNN\n",
        "from tensorflow.keras.layers import SimpleRNN, LSTM, GRU\n",
        "\n",
        "# For training\n",
        "from tensorflow.keras.optimizers import SGD, Adam, RMSprop\n",
        "\n",
        "# For data preprocessing\n",
        "from tensorflow.keras import datasets\n",
        "from tensorflow.keras.utils import to_categorical\n",
        "from tensorflow.keras.preprocessing.sequence import pad_sequences"
      ],
      "execution_count": 2,
      "outputs": []
    },
    {
      "cell_type": "markdown",
      "metadata": {
        "id": "K2OiUS-kWkJU"
      },
      "source": [
        "## 3: 資料前處理 (Data Preprocessing)"
      ]
    },
    {
      "cell_type": "markdown",
      "metadata": {
        "id": "Rkr6VUS3GVcn"
      },
      "source": [
        "在這裡，我們需要用兩種不同的方式來進行 MNIST 的 RNN 分類模型。\n",
        "\n",
        "1. 每次看一個點：將每張圖片拉長成 784 維的向量，並當作一個 784 個時間點的資料，且每個時間的資料維度是 1。\n",
        "2. 每次看一列向量：將每張圖片看成 28 個 28 維的列向量 (row vector)，並當作一個 28 個時間點的資料，且每個時間的資料維度是 28。"
      ]
    },
    {
      "cell_type": "code",
      "metadata": {
        "id": "-lCgz6UC8pKT",
        "colab": {
          "base_uri": "https://localhost:8080/"
        },
        "outputId": "adc8ef28-bdec-4a28-eacf-b0702b2efed3"
      },
      "source": [
        "(X_train, y_train), (X_test, y_test) = datasets.mnist.load_data()"
      ],
      "execution_count": 3,
      "outputs": [
        {
          "output_type": "stream",
          "name": "stdout",
          "text": [
            "Downloading data from https://storage.googleapis.com/tensorflow/tf-keras-datasets/mnist.npz\n",
            "\u001b[1m11490434/11490434\u001b[0m \u001b[32m━━━━━━━━━━━━━━━━━━━━\u001b[0m\u001b[37m\u001b[0m \u001b[1m0s\u001b[0m 0us/step\n"
          ]
        }
      ]
    },
    {
      "cell_type": "code",
      "metadata": {
        "id": "oSFL-xv9vUpH",
        "outputId": "bb6c5b52-255d-4aac-de62-3ab1df9cb34f",
        "colab": {
          "base_uri": "https://localhost:8080/",
          "height": 406
        }
      },
      "source": [
        "plt.imshow(X_train[0], 'gray_r')\n",
        "plt.xticks([])\n",
        "plt.yticks([])\n",
        "plt.xlim(0, 28)\n",
        "plt.ylim(28, 0)\n",
        "for i in range(28):\n",
        "#     plt.vlines(i, 0, 28, colors='b')\n",
        "    plt.hlines(i, 0, 28, colors='b')\n",
        "plt.savefig('example_mnist_5_row')"
      ],
      "execution_count": 4,
      "outputs": [
        {
          "output_type": "display_data",
          "data": {
            "text/plain": [
              "<Figure size 640x480 with 1 Axes>"
            ],
            "image/png": "[encoded data removed]"
          },
          "metadata": {}
        }
      ]
    },
    {
      "cell_type": "code",
      "metadata": {
        "id": "j67xlCR5D3ad",
        "outputId": "47bb114b-a3a7-46f7-9756-95343153cccb",
        "colab": {
          "base_uri": "https://localhost:8080/",
          "height": 358
        }
      },
      "source": [
        "plt.figure(figsize=(8, 4))\n",
        "plt.subplot(1, 2, 1)\n",
        "plt.imshow(X_train[0], 'gray_r')\n",
        "plt.xticks([])\n",
        "plt.yticks([])\n",
        "plt.title('Raw Image')\n",
        "\n",
        "plt.subplot(1, 2, 2)\n",
        "plt.imshow(X_train[0], 'gray_r')\n",
        "plt.xlim(0, 28)\n",
        "plt.ylim(28, 0)\n",
        "plt.xticks([])\n",
        "plt.yticks([])\n",
        "plt.title('Row Split')\n",
        "for i in range(28):\n",
        "    # plt.vlines(i, 0, 28, colors='b')\n",
        "    plt.hlines(i, 0, 28, colors='k')\n",
        "\n",
        "print(\"Data shape:\", X_train[0].shape)"
      ],
      "execution_count": 5,
      "outputs": [
        {
          "output_type": "stream",
          "name": "stdout",
          "text": [
            "Data shape: (28, 28)\n"
          ]
        },
        {
          "output_type": "display_data",
          "data": {
            "text/plain": [
              "<Figure size 800x400 with 2 Axes>"
            ],
            "image/png": "[encoded data removed]"
          },
          "metadata": {}
        }
      ]
    },
    {
      "cell_type": "code",
      "metadata": {
        "id": "LoaIqr91O7ft"
      },
      "source": [
        "# Normalize data range\n",
        "X_train = X_train / X_train.max()\n",
        "X_test = X_test / X_test.max()\n",
        "\n",
        "# Reshape each data as a vector\n",
        "X_vec_train = X_train.reshape(-1, 28*28, 1)\n",
        "X_vec_test = X_test.reshape(-1, 28*28, 1)\n",
        "\n",
        "# One-hot encoding\n",
        "y_train = to_categorical(y_train, 10)\n",
        "y_test = to_categorical(y_test, 10)"
      ],
      "execution_count": 6,
      "outputs": []
    },
    {
      "cell_type": "markdown",
      "metadata": {
        "id": "u1O7pbttHcOv"
      },
      "source": [
        "## 4: 建立逐點輸入的 LSTM 分類模型"
      ]
    },
    {
      "cell_type": "code",
      "metadata": {
        "id": "sWa26z1-S_q9",
        "outputId": "ec8997e7-0990-45b4-b236-5da11a40ba52",
        "colab": {
          "base_uri": "https://localhost:8080/",
          "height": 225
        }
      },
      "source": [
        "model_pixel = Sequential()\n",
        "model_pixel.add(SimpleRNN(40, input_shape=(784, 1), return_sequences=True))\n",
        "model_pixel.add(LSTM(40))\n",
        "# model_pixel.add(GRU(40, input_shape=(784, 1)))\n",
        "model_pixel.add(Dense(10, activation='softmax'))\n",
        "model_pixel.summary()"
      ],
      "execution_count": 13,
      "outputs": [
        {
          "output_type": "display_data",
          "data": {
            "text/plain": [
              "\u001b[1mModel: \"sequential_3\"\u001b[0m\n"
            ],
            "text/html": [
              "<pre style=\"white-space:pre;overflow-x:auto;line-height:normal;font-family:Menlo,'DejaVu Sans Mono',consolas,'Courier New',monospace\"><span style=\"font-weight: bold\">Model: \"sequential_3\"</span>\n",
              "</pre>\n"
            ]
          },
          "metadata": {}
        },
        {
          "output_type": "display_data",
          "data": {
            "text/plain": [
              "┏━━━━━━━━━━━━━━━━━━━━━━━━━━━━━━━━━━━━━━┳━━━━━━━━━━━━━━━━━━━━━━━━━━━━━┳━━━━━━━━━━━━━━━━━┓\n",
              "┃\u001b[1m \u001b[0m\u001b[1mLayer (type)                        \u001b[0m\u001b[1m \u001b[0m┃\u001b[1m \u001b[0m\u001b[1mOutput Shape               \u001b[0m\u001b[1m \u001b[0m┃\u001b[1m \u001b[0m\u001b[1m        Param #\u001b[0m\u001b[1m \u001b[0m┃\n",
              "┡━━━━━━━━━━━━━━━━━━━━━━━━━━━━━━━━━━━━━━╇━━━━━━━━━━━━━━━━━━━━━━━━━━━━━╇━━━━━━━━━━━━━━━━━┩\n",
              "│ simple_rnn_3 (\u001b[38;5;33mSimpleRNN\u001b[0m)             │ (\u001b[38;5;45mNone\u001b[0m, \u001b[38;5;34m784\u001b[0m, \u001b[38;5;34m40\u001b[0m)             │           \u001b[38;5;34m1,680\u001b[0m │\n",
              "├──────────────────────────────────────┼─────────────────────────────┼─────────────────┤\n",
              "│ lstm_3 (\u001b[38;5;33mLSTM\u001b[0m)                        │ (\u001b[38;5;45mNone\u001b[0m, \u001b[38;5;34m40\u001b[0m)                  │          \u001b[38;5;34m12,960\u001b[0m │\n",
              "├──────────────────────────────────────┼─────────────────────────────┼─────────────────┤\n",
              "│ dense_2 (\u001b[38;5;33mDense\u001b[0m)                      │ (\u001b[38;5;45mNone\u001b[0m, \u001b[38;5;34m10\u001b[0m)                  │             \u001b[38;5;34m410\u001b[0m │\n",
              "└──────────────────────────────────────┴─────────────────────────────┴─────────────────┘\n"
            ],
            "text/html": [
              "<pre style=\"white-space:pre;overflow-x:auto;line-height:normal;font-family:Menlo,'DejaVu Sans Mono',consolas,'Courier New',monospace\">┏━━━━━━━━━━━━━━━━━━━━━━━━━━━━━━━━━━━━━━┳━━━━━━━━━━━━━━━━━━━━━━━━━━━━━┳━━━━━━━━━━━━━━━━━┓\n",
              "┃<span style=\"font-weight: bold\"> Layer (type)                         </span>┃<span style=\"font-weight: bold\"> Output Shape                </span>┃<span style=\"font-weight: bold\">         Param # </span>┃\n",
              "┡━━━━━━━━━━━━━━━━━━━━━━━━━━━━━━━━━━━━━━╇━━━━━━━━━━━━━━━━━━━━━━━━━━━━━╇━━━━━━━━━━━━━━━━━┩\n",
              "│ simple_rnn_3 (<span style=\"color: #0087ff; text-decoration-color: #0087ff\">SimpleRNN</span>)             │ (<span style=\"color: #00d7ff; text-decoration-color: #00d7ff\">None</span>, <span style=\"color: #00af00; text-decoration-color: #00af00\">784</span>, <span style=\"color: #00af00; text-decoration-color: #00af00\">40</span>)             │           <span style=\"color: #00af00; text-decoration-color: #00af00\">1,680</span> │\n",
              "├──────────────────────────────────────┼─────────────────────────────┼─────────────────┤\n",
              "│ lstm_3 (<span style=\"color: #0087ff; text-decoration-color: #0087ff\">LSTM</span>)                        │ (<span style=\"color: #00d7ff; text-decoration-color: #00d7ff\">None</span>, <span style=\"color: #00af00; text-decoration-color: #00af00\">40</span>)                  │          <span style=\"color: #00af00; text-decoration-color: #00af00\">12,960</span> │\n",
              "├──────────────────────────────────────┼─────────────────────────────┼─────────────────┤\n",
              "│ dense_2 (<span style=\"color: #0087ff; text-decoration-color: #0087ff\">Dense</span>)                      │ (<span style=\"color: #00d7ff; text-decoration-color: #00d7ff\">None</span>, <span style=\"color: #00af00; text-decoration-color: #00af00\">10</span>)                  │             <span style=\"color: #00af00; text-decoration-color: #00af00\">410</span> │\n",
              "└──────────────────────────────────────┴─────────────────────────────┴─────────────────┘\n",
              "</pre>\n"
            ]
          },
          "metadata": {}
        },
        {
          "output_type": "display_data",
          "data": {
            "text/plain": [
              "\u001b[1m Total params: \u001b[0m\u001b[38;5;34m15,050\u001b[0m (58.79 KB)\n"
            ],
            "text/html": [
              "<pre style=\"white-space:pre;overflow-x:auto;line-height:normal;font-family:Menlo,'DejaVu Sans Mono',consolas,'Courier New',monospace\"><span style=\"font-weight: bold\"> Total params: </span><span style=\"color: #00af00; text-decoration-color: #00af00\">15,050</span> (58.79 KB)\n",
              "</pre>\n"
            ]
          },
          "metadata": {}
        },
        {
          "output_type": "display_data",
          "data": {
            "text/plain": [
              "\u001b[1m Trainable params: \u001b[0m\u001b[38;5;34m15,050\u001b[0m (58.79 KB)\n"
            ],
            "text/html": [
              "<pre style=\"white-space:pre;overflow-x:auto;line-height:normal;font-family:Menlo,'DejaVu Sans Mono',consolas,'Courier New',monospace\"><span style=\"font-weight: bold\"> Trainable params: </span><span style=\"color: #00af00; text-decoration-color: #00af00\">15,050</span> (58.79 KB)\n",
              "</pre>\n"
            ]
          },
          "metadata": {}
        },
        {
          "output_type": "display_data",
          "data": {
            "text/plain": [
              "\u001b[1m Non-trainable params: \u001b[0m\u001b[38;5;34m0\u001b[0m (0.00 B)\n"
            ],
            "text/html": [
              "<pre style=\"white-space:pre;overflow-x:auto;line-height:normal;font-family:Menlo,'DejaVu Sans Mono',consolas,'Courier New',monospace\"><span style=\"font-weight: bold\"> Non-trainable params: </span><span style=\"color: #00af00; text-decoration-color: #00af00\">0</span> (0.00 B)\n",
              "</pre>\n"
            ]
          },
          "metadata": {}
        }
      ]
    },
    {
      "cell_type": "code",
      "metadata": {
        "id": "lHA0KWEkPnK6"
      },
      "source": [
        "model_pixel.compile(loss='categorical_crossentropy',\n",
        "                    optimizer=SGD(),\n",
        "                    metrics=['categorical_accuracy'])"
      ],
      "execution_count": 14,
      "outputs": []
    },
    {
      "cell_type": "code",
      "metadata": {
        "id": "m57f2jC1v8cd",
        "colab": {
          "base_uri": "https://localhost:8080/"
        },
        "outputId": "34b1a37b-4846-4ce1-d0b6-50a8fe9fc595"
      },
      "source": [
        "training_history = model_pixel.fit(X_vec_train, y_train,\n",
        "                                   batch_size=512,\n",
        "                                   epochs=5,\n",
        "                                   validation_data=(X_vec_test, y_test)\n",
        "                                   )"
      ],
      "execution_count": 15,
      "outputs": [
        {
          "output_type": "stream",
          "name": "stdout",
          "text": [
            "Epoch 1/5\n",
            "\u001b[1m118/118\u001b[0m \u001b[32m━━━━━━━━━━━━━━━━━━━━\u001b[0m\u001b[37m\u001b[0m \u001b[1m309s\u001b[0m 3s/step - categorical_accuracy: 0.1234 - loss: 2.2984 - val_categorical_accuracy: 0.0803 - val_loss: 2.3127\n",
            "Epoch 2/5\n",
            "\u001b[1m118/118\u001b[0m \u001b[32m━━━━━━━━━━━━━━━━━━━━\u001b[0m\u001b[37m\u001b[0m \u001b[1m326s\u001b[0m 3s/step - categorical_accuracy: 0.1378 - loss: 2.2972 - val_categorical_accuracy: 0.0736 - val_loss: 2.3023\n",
            "Epoch 3/5\n",
            "\u001b[1m118/118\u001b[0m \u001b[32m━━━━━━━━━━━━━━━━━━━━\u001b[0m\u001b[37m\u001b[0m \u001b[1m368s\u001b[0m 3s/step - categorical_accuracy: 0.1151 - loss: 2.3027 - val_categorical_accuracy: 0.0974 - val_loss: 2.3046\n",
            "Epoch 4/5\n",
            "\u001b[1m118/118\u001b[0m \u001b[32m━━━━━━━━━━━━━━━━━━━━\u001b[0m\u001b[37m\u001b[0m \u001b[1m300s\u001b[0m 2s/step - categorical_accuracy: 0.1076 - loss: 2.3022 - val_categorical_accuracy: 0.1167 - val_loss: 2.2998\n",
            "Epoch 5/5\n",
            "\u001b[1m118/118\u001b[0m \u001b[32m━━━━━━━━━━━━━━━━━━━━\u001b[0m\u001b[37m\u001b[0m \u001b[1m340s\u001b[0m 3s/step - categorical_accuracy: 0.1170 - loss: 2.3014 - val_categorical_accuracy: 0.2143 - val_loss: 2.2641\n"
          ]
        }
      ]
    },
    {
      "cell_type": "code",
      "metadata": {
        "id": "ONaB2OKzv8g_"
      },
      "source": [],
      "execution_count": 15,
      "outputs": []
    },
    {
      "cell_type": "markdown",
      "metadata": {
        "id": "Ytj93cd4Ivq2"
      },
      "source": [
        "## 5: 建立列向量當輸入的 LSTM 分類模型"
      ]
    },
    {
      "cell_type": "code",
      "metadata": {
        "id": "vbw7uC6U0rwZ",
        "outputId": "d0262c8f-7d50-4fda-985c-c27a403e35b9",
        "colab": {
          "base_uri": "https://localhost:8080/",
          "height": 193
        }
      },
      "source": [
        "model_row = Sequential()\n",
        "model_row.add(SimpleRNN(40, input_shape=(28, 28)))\n",
        "model_row.add(Dense(10, activation='softmax'))\n",
        "model_row.summary()"
      ],
      "execution_count": 16,
      "outputs": [
        {
          "output_type": "display_data",
          "data": {
            "text/plain": [
              "\u001b[1mModel: \"sequential_4\"\u001b[0m\n"
            ],
            "text/html": [
              "<pre style=\"white-space:pre;overflow-x:auto;line-height:normal;font-family:Menlo,'DejaVu Sans Mono',consolas,'Courier New',monospace\"><span style=\"font-weight: bold\">Model: \"sequential_4\"</span>\n",
              "</pre>\n"
            ]
          },
          "metadata": {}
        },
        {
          "output_type": "display_data",
          "data": {
            "text/plain": [
              "┏━━━━━━━━━━━━━━━━━━━━━━━━━━━━━━━━━━━━━━┳━━━━━━━━━━━━━━━━━━━━━━━━━━━━━┳━━━━━━━━━━━━━━━━━┓\n",
              "┃\u001b[1m \u001b[0m\u001b[1mLayer (type)                        \u001b[0m\u001b[1m \u001b[0m┃\u001b[1m \u001b[0m\u001b[1mOutput Shape               \u001b[0m\u001b[1m \u001b[0m┃\u001b[1m \u001b[0m\u001b[1m        Param #\u001b[0m\u001b[1m \u001b[0m┃\n",
              "┡━━━━━━━━━━━━━━━━━━━━━━━━━━━━━━━━━━━━━━╇━━━━━━━━━━━━━━━━━━━━━━━━━━━━━╇━━━━━━━━━━━━━━━━━┩\n",
              "│ simple_rnn_4 (\u001b[38;5;33mSimpleRNN\u001b[0m)             │ (\u001b[38;5;45mNone\u001b[0m, \u001b[38;5;34m40\u001b[0m)                  │           \u001b[38;5;34m2,760\u001b[0m │\n",
              "├──────────────────────────────────────┼─────────────────────────────┼─────────────────┤\n",
              "│ dense_3 (\u001b[38;5;33mDense\u001b[0m)                      │ (\u001b[38;5;45mNone\u001b[0m, \u001b[38;5;34m10\u001b[0m)                  │             \u001b[38;5;34m410\u001b[0m │\n",
              "└──────────────────────────────────────┴─────────────────────────────┴─────────────────┘\n"
            ],
            "text/html": [
              "<pre style=\"white-space:pre;overflow-x:auto;line-height:normal;font-family:Menlo,'DejaVu Sans Mono',consolas,'Courier New',monospace\">┏━━━━━━━━━━━━━━━━━━━━━━━━━━━━━━━━━━━━━━┳━━━━━━━━━━━━━━━━━━━━━━━━━━━━━┳━━━━━━━━━━━━━━━━━┓\n",
              "┃<span style=\"font-weight: bold\"> Layer (type)                         </span>┃<span style=\"font-weight: bold\"> Output Shape                </span>┃<span style=\"font-weight: bold\">         Param # </span>┃\n",
              "┡━━━━━━━━━━━━━━━━━━━━━━━━━━━━━━━━━━━━━━╇━━━━━━━━━━━━━━━━━━━━━━━━━━━━━╇━━━━━━━━━━━━━━━━━┩\n",
              "│ simple_rnn_4 (<span style=\"color: #0087ff; text-decoration-color: #0087ff\">SimpleRNN</span>)             │ (<span style=\"color: #00d7ff; text-decoration-color: #00d7ff\">None</span>, <span style=\"color: #00af00; text-decoration-color: #00af00\">40</span>)                  │           <span style=\"color: #00af00; text-decoration-color: #00af00\">2,760</span> │\n",
              "├──────────────────────────────────────┼─────────────────────────────┼─────────────────┤\n",
              "│ dense_3 (<span style=\"color: #0087ff; text-decoration-color: #0087ff\">Dense</span>)                      │ (<span style=\"color: #00d7ff; text-decoration-color: #00d7ff\">None</span>, <span style=\"color: #00af00; text-decoration-color: #00af00\">10</span>)                  │             <span style=\"color: #00af00; text-decoration-color: #00af00\">410</span> │\n",
              "└──────────────────────────────────────┴─────────────────────────────┴─────────────────┘\n",
              "</pre>\n"
            ]
          },
          "metadata": {}
        },
        {
          "output_type": "display_data",
          "data": {
            "text/plain": [
              "\u001b[1m Total params: \u001b[0m\u001b[38;5;34m3,170\u001b[0m (12.38 KB)\n"
            ],
            "text/html": [
              "<pre style=\"white-space:pre;overflow-x:auto;line-height:normal;font-family:Menlo,'DejaVu Sans Mono',consolas,'Courier New',monospace\"><span style=\"font-weight: bold\"> Total params: </span><span style=\"color: #00af00; text-decoration-color: #00af00\">3,170</span> (12.38 KB)\n",
              "</pre>\n"
            ]
          },
          "metadata": {}
        },
        {
          "output_type": "display_data",
          "data": {
            "text/plain": [
              "\u001b[1m Trainable params: \u001b[0m\u001b[38;5;34m3,170\u001b[0m (12.38 KB)\n"
            ],
            "text/html": [
              "<pre style=\"white-space:pre;overflow-x:auto;line-height:normal;font-family:Menlo,'DejaVu Sans Mono',consolas,'Courier New',monospace\"><span style=\"font-weight: bold\"> Trainable params: </span><span style=\"color: #00af00; text-decoration-color: #00af00\">3,170</span> (12.38 KB)\n",
              "</pre>\n"
            ]
          },
          "metadata": {}
        },
        {
          "output_type": "display_data",
          "data": {
            "text/plain": [
              "\u001b[1m Non-trainable params: \u001b[0m\u001b[38;5;34m0\u001b[0m (0.00 B)\n"
            ],
            "text/html": [
              "<pre style=\"white-space:pre;overflow-x:auto;line-height:normal;font-family:Menlo,'DejaVu Sans Mono',consolas,'Courier New',monospace\"><span style=\"font-weight: bold\"> Non-trainable params: </span><span style=\"color: #00af00; text-decoration-color: #00af00\">0</span> (0.00 B)\n",
              "</pre>\n"
            ]
          },
          "metadata": {}
        }
      ]
    },
    {
      "cell_type": "code",
      "metadata": {
        "id": "-k7ezbFi0r1Y"
      },
      "source": [
        "model_row.compile(loss='categorical_crossentropy',\n",
        "                  optimizer=RMSprop(),\n",
        "                  metrics=['categorical_accuracy'])"
      ],
      "execution_count": 17,
      "outputs": []
    },
    {
      "cell_type": "code",
      "metadata": {
        "id": "ql3o2VDP0r33",
        "outputId": "753284eb-9f6d-4d7e-a030-a18d000b88b1",
        "colab": {
          "base_uri": "https://localhost:8080/"
        }
      },
      "source": [
        "training_history = model_row.fit(X_train, y_train,\n",
        "                                 batch_size=512,\n",
        "                                 epochs=5,\n",
        "                                 validation_data=(X_test, y_test)\n",
        "                                 )"
      ],
      "execution_count": 18,
      "outputs": [
        {
          "output_type": "stream",
          "name": "stdout",
          "text": [
            "Epoch 1/5\n",
            "\u001b[1m118/118\u001b[0m \u001b[32m━━━━━━━━━━━━━━━━━━━━\u001b[0m\u001b[37m\u001b[0m \u001b[1m4s\u001b[0m 23ms/step - categorical_accuracy: 0.4441 - loss: 1.7255 - val_categorical_accuracy: 0.6502 - val_loss: 1.0468\n",
            "Epoch 2/5\n",
            "\u001b[1m118/118\u001b[0m \u001b[32m━━━━━━━━━━━━━━━━━━━━\u001b[0m\u001b[37m\u001b[0m \u001b[1m5s\u001b[0m 24ms/step - categorical_accuracy: 0.7140 - loss: 0.9185 - val_categorical_accuracy: 0.7690 - val_loss: 0.7546\n",
            "Epoch 3/5\n",
            "\u001b[1m118/118\u001b[0m \u001b[32m━━━━━━━━━━━━━━━━━━━━\u001b[0m\u001b[37m\u001b[0m \u001b[1m5s\u001b[0m 19ms/step - categorical_accuracy: 0.7828 - loss: 0.7139 - val_categorical_accuracy: 0.8254 - val_loss: 0.5968\n",
            "Epoch 4/5\n",
            "\u001b[1m118/118\u001b[0m \u001b[32m━━━━━━━━━━━━━━━━━━━━\u001b[0m\u001b[37m\u001b[0m \u001b[1m2s\u001b[0m 19ms/step - categorical_accuracy: 0.8214 - loss: 0.5894 - val_categorical_accuracy: 0.8309 - val_loss: 0.5510\n",
            "Epoch 5/5\n",
            "\u001b[1m118/118\u001b[0m \u001b[32m━━━━━━━━━━━━━━━━━━━━\u001b[0m\u001b[37m\u001b[0m \u001b[1m3s\u001b[0m 19ms/step - categorical_accuracy: 0.8450 - loss: 0.5146 - val_categorical_accuracy: 0.8424 - val_loss: 0.5186\n"
          ]
        }
      ]
    },
    {
      "cell_type": "code",
      "metadata": {
        "id": "vPPc0fZILUQj"
      },
      "source": [],
      "execution_count": 18,
      "outputs": []
    },
    {
      "cell_type": "markdown",
      "metadata": {
        "id": "L-97G2BMN-xh"
      },
      "source": [
        "## 6: 視覺化預測結果\n",
        "\n",
        "在這部分，我們提供簡單的視覺化方法來呈現神經網路的輸入與輸出結果"
      ]
    },
    {
      "cell_type": "code",
      "metadata": {
        "id": "2tAXamndiKEN"
      },
      "source": [
        "model_list = ['model_pixel', 'model_row']\n",
        "def visulization(model='model_row', idx=0):\n",
        "    # Random pick one data from training set\n",
        "    # idx = np.random.randint(X_train.shape[0])\n",
        "    sample_x = X_test[idx]\n",
        "    sample_y = y_test[idx]\n",
        "    # Predict the class of random data\n",
        "    if model=='model_pixel':\n",
        "        model = model_pixel\n",
        "        predict_y = model.predict(X_vec_test[idx:idx+1]).squeeze()\n",
        "    else:\n",
        "        model = model_row\n",
        "        predict_y = model.predict(X_test[idx:idx+1]).squeeze()\n",
        "    predict_label = predict_y.argmax()\n",
        "\n",
        "    fig, (ax1, ax2) = plt.subplots(1, 2, figsize=(12, 5))\n",
        "    # Plot raw image\n",
        "    ax1.imshow(sample_x, 'gray_r')\n",
        "    ax1.set_title(\"Image Label: %s\" %sample_y.argmax())\n",
        "\n",
        "    # Plot prediction probability of each classes\n",
        "    ax2.barh(np.arange(10), predict_y)\n",
        "    ax2.patches[predict_label].set_facecolor('Red')\n",
        "    ax2.set_title(\"Prediction Result: %d\" %predict_label);\n",
        "    if sample_y.argmax()==predict_y.argmax():\n",
        "        print(\"預測正確!\")\n",
        "    else:\n",
        "        print(\"預測失敗QQ\")\n",
        "    plt.show()"
      ],
      "execution_count": 19,
      "outputs": []
    },
    {
      "cell_type": "code",
      "metadata": {
        "id": "eHIOA94JiJ9t",
        "outputId": "e1ff0084-36a5-4c86-da01-f7b0ff863a8d",
        "colab": {
          "base_uri": "https://localhost:8080/",
          "height": 584,
          "referenced_widgets": [
            "bee9523129cd4db39b6b76ea5ecc2ead",
            "cefeb38fc26449c68ecacf1129cb6803",
            "3920eb38358246218cecc958854f216d",
            "9fd9d2cced71486181f09d3fc74c8cdf",
            "470fe9ca3d314f0195379fc377d03437",
            "c302c992325e4518bec85ae886f3d7c9",
            "3b08f052461d4ea099d4f2b68cc181a4",
            "c5132fba538048a4a3cc9fe70e59f1a1",
            "51e4a53db60e421b925f2019115c5be2",
            "7f72c4b28a0a4a51b80d54250458a3fa"
          ]
        }
      },
      "source": [
        "interact(visulization, model=model_list, idx=BoundedIntText(value=5566, min=0, max=X_test.shape[0]-1));"
      ],
      "execution_count": 20,
      "outputs": [
        {
          "output_type": "display_data",
          "data": {
            "text/plain": [
              "interactive(children=(Dropdown(description='model', index=1, options=('model_pixel', 'model_row'), value='mode…"
            ],
            "application/vnd.jupyter.widget-view+json": {
              "version_major": 2,
              "version_minor": 0,
              "model_id": "bee9523129cd4db39b6b76ea5ecc2ead"
            }
          },
          "metadata": {}
        }
      ]
    },
    {
      "cell_type": "markdown",
      "metadata": {
        "id": "WqNv1dCoBeRe"
      },
      "source": [
        "## 7: [練習] 建構屬於你自己的 RNN 分類模型\n",
        "\n",
        "1. 使用堆疊 (stack) 的方式來建構 MNIST 上的分類模型\n",
        "\n",
        "2. 使用不同的資料集 (如：CIFAR-10 或其他 Keras 提供的資料集，甚至是自己蒐集的資料等等) 來建立分類模型。\n",
        "\n",
        "注意：若要使用語言相關的語料資料，建議要有自然語言處理 (NLP) 的背景及相關知識，才有辦法針對這類問題建構神經網路模型。\n",
        "\n"
      ]
    },
    {
      "cell_type": "code",
      "source": [
        "# 自己的rnn模型(kAGGLE Store Sales)"
      ],
      "metadata": {
        "id": "T2w8uFAIxP2q"
      },
      "execution_count": 21,
      "outputs": []
    },
    {
      "cell_type": "code",
      "source": [
        "from google.colab import drive\n",
        "drive.mount('/content/drive')"
      ],
      "metadata": {
        "id": "dN3g0SpPxP9_",
        "colab": {
          "base_uri": "https://localhost:8080/"
        },
        "outputId": "2b003692-df8a-4675-af7f-1f7aea4078ae"
      },
      "execution_count": 22,
      "outputs": [
        {
          "output_type": "stream",
          "name": "stdout",
          "text": [
            "Mounted at /content/drive\n"
          ]
        }
      ]
    },
    {
      "cell_type": "code",
      "source": [
        "# Computational imports\n",
        "import numpy as np   # Library for n-dimensional arrays\n",
        "import pandas as pd  # Library for dataframes (structured data)\n",
        "\n",
        "# Helper imports\n",
        "import os\n",
        "import warnings\n",
        "import pandas_datareader as web\n",
        "import datetime as dt\n",
        "\n",
        "# ML/DL imports\n",
        "from keras.models import Sequential\n",
        "from tensorflow.keras.preprocessing.sequence import TimeseriesGenerator\n",
        "from keras.layers import LSTM, Dense, Dropout, RepeatVector, TimeDistributed\n",
        "from sklearn.preprocessing import MinMaxScaler, OrdinalEncoder\n",
        "from sklearn.metrics import mean_squared_error, mean_squared_log_error\n",
        "from sklearn.model_selection import train_test_split\n",
        "from tensorflow.keras.callbacks import ModelCheckpoint, EarlyStopping\n",
        "\n",
        "# Plotting imports\n",
        "import matplotlib.pyplot as plt\n",
        "import matplotlib.dates as dates\n",
        "import plotly.express as px\n",
        "import plotly.graph_objects as go\n",
        "import plotly.figure_factory as ff\n",
        "from plotly.subplots import make_subplots\n",
        "from plotly.offline import init_notebook_mode, iplot\n",
        "\n",
        "%matplotlib inline\n",
        "warnings.filterwarnings(\"ignore\")\n",
        "init_notebook_mode(connected=True)\n",
        "\n",
        "# Set seeds to make the experiment more reproducible.\n",
        "from numpy.random import seed\n",
        "seed(1)"
      ],
      "metadata": {
        "id": "F6y2PL3LxQBO",
        "colab": {
          "base_uri": "https://localhost:8080/",
          "height": 17
        },
        "outputId": "7604c658-9ccf-43c8-f3fc-2b1e79b4aaeb"
      },
      "execution_count": 23,
      "outputs": [
        {
          "output_type": "display_data",
          "data": {
            "text/html": [
              "        <script type=\"text/javascript\">\n",
              "        window.PlotlyConfig = {MathJaxConfig: 'local'};\n",
              "        if (window.MathJax && window.MathJax.Hub && window.MathJax.Hub.Config) {window.MathJax.Hub.Config({SVG: {font: \"STIX-Web\"}});}\n",
              "        if (typeof require !== 'undefined') {\n",
              "        require.undef(\"plotly\");\n",
              "        requirejs.config({\n",
              "            paths: {\n",
              "                'plotly': ['https://cdn.plot.ly/plotly-2.35.2.min']\n",
              "            }\n",
              "        });\n",
              "        require(['plotly'], function(Plotly) {\n",
              "            window._Plotly = Plotly;\n",
              "        });\n",
              "        }\n",
              "        </script>\n",
              "        "
            ]
          },
          "metadata": {}
        }
      ]
    },
    {
      "cell_type": "code",
      "source": [
        "path = '/content/drive/MyDrive/'\n",
        "\n",
        "train_data = pd.read_csv(path+'train.csv', index_col=0)\n"
      ],
      "metadata": {
        "id": "HZXxjlsixQEK"
      },
      "execution_count": 24,
      "outputs": []
    },
    {
      "cell_type": "code",
      "source": [
        "def basic_eda(df):\n",
        "    print(\"-------------------------------TOP 5 RECORDS-----------------------------\")\n",
        "    print(df.head(5))\n",
        "    print(\"-------------------------------INFO--------------------------------------\")\n",
        "    print(df.info())\n",
        "    print(\"-------------------------------Describe----------------------------------\")\n",
        "    print(df.describe())\n",
        "    print(\"-------------------------------Columns-----------------------------------\")\n",
        "    print(df.columns)\n",
        "    print(\"-------------------------------Data Types--------------------------------\")\n",
        "    print(df.dtypes)\n",
        "    print(\"----------------------------Missing Values-------------------------------\")\n",
        "    print(df.isnull().sum())\n",
        "    print(\"----------------------------NULL values----------------------------------\")\n",
        "    print(df.isna().sum())\n",
        "    print(\"--------------------------Shape Of Data---------------------------------\")\n",
        "    print(df.shape)\n",
        "    print(\"============================================================================ \\n\")"
      ],
      "metadata": {
        "id": "Ri21ttKhxQHR"
      },
      "execution_count": 25,
      "outputs": []
    },
    {
      "cell_type": "code",
      "source": [
        "#Litle bit of exploration of data\n",
        "\n",
        "print(\"=================================Train Data=================================\")\n",
        "basic_eda(train_data)\n"
      ],
      "metadata": {
        "id": "zxTVpn9oxQKB",
        "colab": {
          "base_uri": "https://localhost:8080/"
        },
        "outputId": "6e920f66-5e9b-455a-8417-ae407de9b105"
      },
      "execution_count": 26,
      "outputs": [
        {
          "output_type": "stream",
          "name": "stdout",
          "text": [
            "=================================Train Data=================================\n",
            "-------------------------------TOP 5 RECORDS-----------------------------\n",
            "          date  store_nbr      family  sales  onpromotion\n",
            "id                                                       \n",
            "0   2013-01-01          1  AUTOMOTIVE    0.0            0\n",
            "1   2013-01-01          1   BABY CARE    0.0            0\n",
            "2   2013-01-01          1      BEAUTY    0.0            0\n",
            "3   2013-01-01          1   BEVERAGES    0.0            0\n",
            "4   2013-01-01          1       BOOKS    0.0            0\n",
            "-------------------------------INFO--------------------------------------\n",
            "<class 'pandas.core.frame.DataFrame'>\n",
            "Index: 3000888 entries, 0 to 3000887\n",
            "Data columns (total 5 columns):\n",
            " #   Column       Dtype  \n",
            "---  ------       -----  \n",
            " 0   date         object \n",
            " 1   store_nbr    int64  \n",
            " 2   family       object \n",
            " 3   sales        float64\n",
            " 4   onpromotion  int64  \n",
            "dtypes: float64(1), int64(2), object(2)\n",
            "memory usage: 137.4+ MB\n",
            "None\n",
            "-------------------------------Describe----------------------------------\n",
            "          store_nbr         sales   onpromotion\n",
            "count  3.000888e+06  3.000888e+06  3.000888e+06\n",
            "mean   2.750000e+01  3.577757e+02  2.602770e+00\n",
            "std    1.558579e+01  1.101998e+03  1.221888e+01\n",
            "min    1.000000e+00  0.000000e+00  0.000000e+00\n",
            "25%    1.400000e+01  0.000000e+00  0.000000e+00\n",
            "50%    2.750000e+01  1.100000e+01  0.000000e+00\n",
            "75%    4.100000e+01  1.958473e+02  0.000000e+00\n",
            "max    5.400000e+01  1.247170e+05  7.410000e+02\n",
            "-------------------------------Columns-----------------------------------\n",
            "Index(['date', 'store_nbr', 'family', 'sales', 'onpromotion'], dtype='object')\n",
            "-------------------------------Data Types--------------------------------\n",
            "date            object\n",
            "store_nbr        int64\n",
            "family          object\n",
            "sales          float64\n",
            "onpromotion      int64\n",
            "dtype: object\n",
            "----------------------------Missing Values-------------------------------\n",
            "date           0\n",
            "store_nbr      0\n",
            "family         0\n",
            "sales          0\n",
            "onpromotion    0\n",
            "dtype: int64\n",
            "----------------------------NULL values----------------------------------\n",
            "date           0\n",
            "store_nbr      0\n",
            "family         0\n",
            "sales          0\n",
            "onpromotion    0\n",
            "dtype: int64\n",
            "--------------------------Shape Of Data---------------------------------\n",
            "(3000888, 5)\n",
            "============================================================================ \n",
            "\n"
          ]
        }
      ]
    },
    {
      "cell_type": "code",
      "source": [
        "vallidate_data = train_data[-500000:]\n",
        "train_data = train_data[:-500000]"
      ],
      "metadata": {
        "id": "kNrq0ZVTxQMs"
      },
      "execution_count": 27,
      "outputs": []
    },
    {
      "cell_type": "code",
      "source": [
        "basic_eda(train_data)\n",
        "basic_eda(vallidate_data)"
      ],
      "metadata": {
        "id": "pthF5x-FxQPi",
        "colab": {
          "base_uri": "https://localhost:8080/"
        },
        "outputId": "2953b02d-1e19-49e2-9572-6bf3a8db46e8"
      },
      "execution_count": 28,
      "outputs": [
        {
          "output_type": "stream",
          "name": "stdout",
          "text": [
            "-------------------------------TOP 5 RECORDS-----------------------------\n",
            "          date  store_nbr      family  sales  onpromotion\n",
            "id                                                       \n",
            "0   2013-01-01          1  AUTOMOTIVE    0.0            0\n",
            "1   2013-01-01          1   BABY CARE    0.0            0\n",
            "2   2013-01-01          1      BEAUTY    0.0            0\n",
            "3   2013-01-01          1   BEVERAGES    0.0            0\n",
            "4   2013-01-01          1       BOOKS    0.0            0\n",
            "-------------------------------INFO--------------------------------------\n",
            "<class 'pandas.core.frame.DataFrame'>\n",
            "Index: 2500888 entries, 0 to 2500887\n",
            "Data columns (total 5 columns):\n",
            " #   Column       Dtype  \n",
            "---  ------       -----  \n",
            " 0   date         object \n",
            " 1   store_nbr    int64  \n",
            " 2   family       object \n",
            " 3   sales        float64\n",
            " 4   onpromotion  int64  \n",
            "dtypes: float64(1), int64(2), object(2)\n",
            "memory usage: 114.5+ MB\n",
            "None\n",
            "-------------------------------Describe----------------------------------\n",
            "          store_nbr         sales   onpromotion\n",
            "count  2.500888e+06  2.500888e+06  2.500888e+06\n",
            "mean   2.749705e+01  3.322276e+02  1.681589e+00\n",
            "std    1.558499e+01  1.036412e+03  1.010894e+01\n",
            "min    1.000000e+00  0.000000e+00  0.000000e+00\n",
            "25%    1.400000e+01  0.000000e+00  0.000000e+00\n",
            "50%    2.700000e+01  8.000000e+00  0.000000e+00\n",
            "75%    4.100000e+01  1.809200e+02  0.000000e+00\n",
            "max    5.400000e+01  1.247170e+05  7.410000e+02\n",
            "-------------------------------Columns-----------------------------------\n",
            "Index(['date', 'store_nbr', 'family', 'sales', 'onpromotion'], dtype='object')\n",
            "-------------------------------Data Types--------------------------------\n",
            "date            object\n",
            "store_nbr        int64\n",
            "family          object\n",
            "sales          float64\n",
            "onpromotion      int64\n",
            "dtype: object\n",
            "----------------------------Missing Values-------------------------------\n",
            "date           0\n",
            "store_nbr      0\n",
            "family         0\n",
            "sales          0\n",
            "onpromotion    0\n",
            "dtype: int64\n",
            "----------------------------NULL values----------------------------------\n",
            "date           0\n",
            "store_nbr      0\n",
            "family         0\n",
            "sales          0\n",
            "onpromotion    0\n",
            "dtype: int64\n",
            "--------------------------Shape Of Data---------------------------------\n",
            "(2500888, 5)\n",
            "============================================================================ \n",
            "\n",
            "-------------------------------TOP 5 RECORDS-----------------------------\n",
            "               date  store_nbr               family  sales  onpromotion\n",
            "id                                                                     \n",
            "2500888  2016-11-07          3  HOME AND KITCHEN II   41.0            0\n",
            "2500889  2016-11-07          3      HOME APPLIANCES    0.0            0\n",
            "2500890  2016-11-07          3            HOME CARE  625.0            8\n",
            "2500891  2016-11-07          3           LADIESWEAR   40.0            0\n",
            "2500892  2016-11-07          3      LAWN AND GARDEN    9.0            0\n",
            "-------------------------------INFO--------------------------------------\n",
            "<class 'pandas.core.frame.DataFrame'>\n",
            "Index: 500000 entries, 2500888 to 3000887\n",
            "Data columns (total 5 columns):\n",
            " #   Column       Non-Null Count   Dtype  \n",
            "---  ------       --------------   -----  \n",
            " 0   date         500000 non-null  object \n",
            " 1   store_nbr    500000 non-null  int64  \n",
            " 2   family       500000 non-null  object \n",
            " 3   sales        500000 non-null  float64\n",
            " 4   onpromotion  500000 non-null  int64  \n",
            "dtypes: float64(1), int64(2), object(2)\n",
            "memory usage: 22.9+ MB\n",
            "None\n",
            "-------------------------------Describe----------------------------------\n",
            "           store_nbr          sales    onpromotion\n",
            "count  500000.000000  500000.000000  500000.000000\n",
            "mean       27.514776     485.562072       7.210314\n",
            "std        15.589759    1377.062737      18.959532\n",
            "min         1.000000       0.000000       0.000000\n",
            "25%        14.000000       3.000000       0.000000\n",
            "50%        28.000000      27.000000       0.000000\n",
            "75%        41.000000     275.694750       5.000000\n",
            "max        54.000000   38422.625000     697.000000\n",
            "-------------------------------Columns-----------------------------------\n",
            "Index(['date', 'store_nbr', 'family', 'sales', 'onpromotion'], dtype='object')\n",
            "-------------------------------Data Types--------------------------------\n",
            "date            object\n",
            "store_nbr        int64\n",
            "family          object\n",
            "sales          float64\n",
            "onpromotion      int64\n",
            "dtype: object\n",
            "----------------------------Missing Values-------------------------------\n",
            "date           0\n",
            "store_nbr      0\n",
            "family         0\n",
            "sales          0\n",
            "onpromotion    0\n",
            "dtype: int64\n",
            "----------------------------NULL values----------------------------------\n",
            "date           0\n",
            "store_nbr      0\n",
            "family         0\n",
            "sales          0\n",
            "onpromotion    0\n",
            "dtype: int64\n",
            "--------------------------Shape Of Data---------------------------------\n",
            "(500000, 5)\n",
            "============================================================================ \n",
            "\n"
          ]
        }
      ]
    },
    {
      "cell_type": "code",
      "source": [
        "print(min(train_data['date']))\n",
        "print(max(train_data['date']))"
      ],
      "metadata": {
        "id": "uP-pCdH2xQSE",
        "colab": {
          "base_uri": "https://localhost:8080/"
        },
        "outputId": "a2d5c4a6-7ade-47b6-fa06-9e53a9767cf9"
      },
      "execution_count": 29,
      "outputs": [
        {
          "output_type": "stream",
          "name": "stdout",
          "text": [
            "2013-01-01\n",
            "2016-11-07\n"
          ]
        }
      ]
    },
    {
      "cell_type": "code",
      "source": [
        "print(min(vallidate_data['date']))\n",
        "print(max(vallidate_data['date']))"
      ],
      "metadata": {
        "id": "fZ6qGtXRxQU0",
        "colab": {
          "base_uri": "https://localhost:8080/"
        },
        "outputId": "ad409a31-580e-4024-aecf-1261cfafcdb8"
      },
      "execution_count": 30,
      "outputs": [
        {
          "output_type": "stream",
          "name": "stdout",
          "text": [
            "2016-11-07\n",
            "2017-08-15\n"
          ]
        }
      ]
    },
    {
      "cell_type": "code",
      "source": [
        "object_cols = [cname for cname in train_data.columns\n",
        "               if train_data[cname].dtype == \"object\"\n",
        "               and cname != \"date\"]\n",
        "\n",
        "print(\"Categorical variables:\")\n",
        "object_cols"
      ],
      "metadata": {
        "id": "Npir_I28xin2",
        "colab": {
          "base_uri": "https://localhost:8080/"
        },
        "outputId": "6b39c835-6c6f-4785-cf93-f434216490a2"
      },
      "execution_count": 31,
      "outputs": [
        {
          "output_type": "stream",
          "name": "stdout",
          "text": [
            "Categorical variables:\n"
          ]
        },
        {
          "output_type": "execute_result",
          "data": {
            "text/plain": [
              "['family']"
            ]
          },
          "metadata": {},
          "execution_count": 31
        }
      ]
    },
    {
      "cell_type": "code",
      "source": [
        "num_cols = [cname for cname in train_data.columns\n",
        "            if train_data[cname].dtype in ['int64', 'float64']]\n",
        "\n",
        "print(\"Numerical variables:\")\n",
        "num_cols"
      ],
      "metadata": {
        "id": "wJOU4T6oxis4",
        "colab": {
          "base_uri": "https://localhost:8080/"
        },
        "outputId": "621aa7de-2988-40d2-e71d-b0b0eca4d6b2"
      },
      "execution_count": 32,
      "outputs": [
        {
          "output_type": "stream",
          "name": "stdout",
          "text": [
            "Numerical variables:\n"
          ]
        },
        {
          "output_type": "execute_result",
          "data": {
            "text/plain": [
              "['store_nbr', 'sales', 'onpromotion']"
            ]
          },
          "metadata": {},
          "execution_count": 32
        }
      ]
    },
    {
      "cell_type": "code",
      "source": [
        "all_cols = num_cols + object_cols\n",
        "print(all_cols)"
      ],
      "metadata": {
        "id": "2WaVSj0TxiwB",
        "colab": {
          "base_uri": "https://localhost:8080/"
        },
        "outputId": "09a33231-30c8-4d7b-e9f5-29f4c97c935e"
      },
      "execution_count": 33,
      "outputs": [
        {
          "output_type": "stream",
          "name": "stdout",
          "text": [
            "['store_nbr', 'sales', 'onpromotion', 'family']\n"
          ]
        }
      ]
    },
    {
      "cell_type": "code",
      "source": [
        "ordinal_encoder = OrdinalEncoder()\n",
        "train_data[object_cols] = ordinal_encoder.fit_transform(train_data[object_cols])\n",
        "train_data"
      ],
      "metadata": {
        "id": "ktNlY8JCxiy-",
        "colab": {
          "base_uri": "https://localhost:8080/",
          "height": 455
        },
        "outputId": "3ec00ff9-b9aa-4dbf-e620-dcf59fa9db40"
      },
      "execution_count": 34,
      "outputs": [
        {
          "output_type": "execute_result",
          "data": {
            "text/plain": [
              "               date  store_nbr  family     sales  onpromotion\n",
              "id                                                           \n",
              "0        2013-01-01          1     0.0     0.000            0\n",
              "1        2013-01-01          1     1.0     0.000            0\n",
              "2        2013-01-01          1     2.0     0.000            0\n",
              "3        2013-01-01          1     3.0     0.000            0\n",
              "4        2013-01-01          1     4.0     0.000            0\n",
              "...             ...        ...     ...       ...          ...\n",
              "2500883  2016-11-07          3    11.0   296.486            5\n",
              "2500884  2016-11-07          3    12.0  9585.000           79\n",
              "2500885  2016-11-07          3    13.0    70.000            0\n",
              "2500886  2016-11-07          3    14.0     3.000            0\n",
              "2500887  2016-11-07          3    15.0    57.000            0\n",
              "\n",
              "[2500888 rows x 5 columns]"
            ],
            "text/html": [
              "\n",
              "  <div id=\"df-aec43ca9-fb50-447b-bc21-e8dcf5c0a112\" class=\"colab-df-container\">\n",
              "    <div>\n",
              "<style scoped>\n",
              "    .dataframe tbody tr th:only-of-type {\n",
              "        vertical-align: middle;\n",
              "    }\n",
              "\n",
              "    .dataframe tbody tr th {\n",
              "        vertical-align: top;\n",
              "    }\n",
              "\n",
              "    .dataframe thead th {\n",
              "        text-align: right;\n",
              "    }\n",
              "</style>\n",
              "<table border=\"1\" class=\"dataframe\">\n",
              "  <thead>\n",
              "    <tr style=\"text-align: right;\">\n",
              "      <th></th>\n",
              "      <th>date</th>\n",
              "      <th>store_nbr</th>\n",
              "      <th>family</th>\n",
              "      <th>sales</th>\n",
              "      <th>onpromotion</th>\n",
              "    </tr>\n",
              "    <tr>\n",
              "      <th>id</th>\n",
              "      <th></th>\n",
              "      <th></th>\n",
              "      <th></th>\n",
              "      <th></th>\n",
              "      <th></th>\n",
              "    </tr>\n",
              "  </thead>\n",
              "  <tbody>\n",
              "    <tr>\n",
              "      <th>0</th>\n",
              "      <td>2013-01-01</td>\n",
              "      <td>1</td>\n",
              "      <td>0.0</td>\n",
              "      <td>0.000</td>\n",
              "      <td>0</td>\n",
              "    </tr>\n",
              "    <tr>\n",
              "      <th>1</th>\n",
              "      <td>2013-01-01</td>\n",
              "      <td>1</td>\n",
              "      <td>1.0</td>\n",
              "      <td>0.000</td>\n",
              "      <td>0</td>\n",
              "    </tr>\n",
              "    <tr>\n",
              "      <th>2</th>\n",
              "      <td>2013-01-01</td>\n",
              "      <td>1</td>\n",
              "      <td>2.0</td>\n",
              "      <td>0.000</td>\n",
              "      <td>0</td>\n",
              "    </tr>\n",
              "    <tr>\n",
              "      <th>3</th>\n",
              "      <td>2013-01-01</td>\n",
              "      <td>1</td>\n",
              "      <td>3.0</td>\n",
              "      <td>0.000</td>\n",
              "      <td>0</td>\n",
              "    </tr>\n",
              "    <tr>\n",
              "      <th>4</th>\n",
              "      <td>2013-01-01</td>\n",
              "      <td>1</td>\n",
              "      <td>4.0</td>\n",
              "      <td>0.000</td>\n",
              "      <td>0</td>\n",
              "    </tr>\n",
              "    <tr>\n",
              "      <th>...</th>\n",
              "      <td>...</td>\n",
              "      <td>...</td>\n",
              "      <td>...</td>\n",
              "      <td>...</td>\n",
              "      <td>...</td>\n",
              "    </tr>\n",
              "    <tr>\n",
              "      <th>2500883</th>\n",
              "      <td>2016-11-07</td>\n",
              "      <td>3</td>\n",
              "      <td>11.0</td>\n",
              "      <td>296.486</td>\n",
              "      <td>5</td>\n",
              "    </tr>\n",
              "    <tr>\n",
              "      <th>2500884</th>\n",
              "      <td>2016-11-07</td>\n",
              "      <td>3</td>\n",
              "      <td>12.0</td>\n",
              "      <td>9585.000</td>\n",
              "      <td>79</td>\n",
              "    </tr>\n",
              "    <tr>\n",
              "      <th>2500885</th>\n",
              "      <td>2016-11-07</td>\n",
              "      <td>3</td>\n",
              "      <td>13.0</td>\n",
              "      <td>70.000</td>\n",
              "      <td>0</td>\n",
              "    </tr>\n",
              "    <tr>\n",
              "      <th>2500886</th>\n",
              "      <td>2016-11-07</td>\n",
              "      <td>3</td>\n",
              "      <td>14.0</td>\n",
              "      <td>3.000</td>\n",
              "      <td>0</td>\n",
              "    </tr>\n",
              "    <tr>\n",
              "      <th>2500887</th>\n",
              "      <td>2016-11-07</td>\n",
              "      <td>3</td>\n",
              "      <td>15.0</td>\n",
              "      <td>57.000</td>\n",
              "      <td>0</td>\n",
              "    </tr>\n",
              "  </tbody>\n",
              "</table>\n",
              "<p>2500888 rows × 5 columns</p>\n",
              "</div>\n",
              "    <div class=\"colab-df-buttons\">\n",
              "\n",
              "  <div class=\"colab-df-container\">\n",
              "    <button class=\"colab-df-convert\" onclick=\"convertToInteractive('df-aec43ca9-fb50-447b-bc21-e8dcf5c0a112')\"\n",
              "            title=\"Convert this dataframe to an interactive table.\"\n",
              "            style=\"display:none;\">\n",
              "\n",
              "  <svg xmlns=\"http://www.w3.org/2000/svg\" height=\"24px\" viewBox=\"0 -960 960 960\">\n",
              "    <path d=\"M120-120v-720h720v720H120Zm60-500h600v-160H180v160Zm220 220h160v-160H400v160Zm0 220h160v-160H400v160ZM180-400h160v-160H180v160Zm440 0h160v-160H620v160ZM180-180h160v-160H180v160Zm440 0h160v-160H620v160Z\"/>\n",
              "  </svg>\n",
              "    </button>\n",
              "\n",
              "  <style>\n",
              "    .colab-df-container {\n",
              "      display:flex;\n",
              "      gap: 12px;\n",
              "    }\n",
              "\n",
              "    .colab-df-convert {\n",
              "      background-color: #E8F0FE;\n",
              "      border: none;\n",
              "      border-radius: 50%;\n",
              "      cursor: pointer;\n",
              "      display: none;\n",
              "      fill: #1967D2;\n",
              "      height: 32px;\n",
              "      padding: 0 0 0 0;\n",
              "      width: 32px;\n",
              "    }\n",
              "\n",
              "    .colab-df-convert:hover {\n",
              "      background-color: #E2EBFA;\n",
              "      box-shadow: 0px 1px 2px rgba(60, 64, 67, 0.3), 0px 1px 3px 1px rgba(60, 64, 67, 0.15);\n",
              "      fill: #174EA6;\n",
              "    }\n",
              "\n",
              "    .colab-df-buttons div {\n",
              "      margin-bottom: 4px;\n",
              "    }\n",
              "\n",
              "    [theme=dark] .colab-df-convert {\n",
              "      background-color: #3B4455;\n",
              "      fill: #D2E3FC;\n",
              "    }\n",
              "\n",
              "    [theme=dark] .colab-df-convert:hover {\n",
              "      background-color: #434B5C;\n",
              "      box-shadow: 0px 1px 3px 1px rgba(0, 0, 0, 0.15);\n",
              "      filter: drop-shadow(0px 1px 2px rgba(0, 0, 0, 0.3));\n",
              "      fill: #FFFFFF;\n",
              "    }\n",
              "  </style>\n",
              "\n",
              "    <script>\n",
              "      const buttonEl =\n",
              "        document.querySelector('#df-aec43ca9-fb50-447b-bc21-e8dcf5c0a112 button.colab-df-convert');\n",
              "      buttonEl.style.display =\n",
              "        google.colab.kernel.accessAllowed ? 'block' : 'none';\n",
              "\n",
              "      async function convertToInteractive(key) {\n",
              "        const element = document.querySelector('#df-aec43ca9-fb50-447b-bc21-e8dcf5c0a112');\n",
              "        const dataTable =\n",
              "          await google.colab.kernel.invokeFunction('convertToInteractive',\n",
              "                                                    [key], {});\n",
              "        if (!dataTable) return;\n",
              "\n",
              "        const docLinkHtml = 'Like what you see? Visit the ' +\n",
              "          '<a target=\"_blank\" href=https://colab.research.google.com/notebooks/data_table.ipynb>data table notebook</a>'\n",
              "          + ' to learn more about interactive tables.';\n",
              "        element.innerHTML = '';\n",
              "        dataTable['output_type'] = 'display_data';\n",
              "        await google.colab.output.renderOutput(dataTable, element);\n",
              "        const docLink = document.createElement('div');\n",
              "        docLink.innerHTML = docLinkHtml;\n",
              "        element.appendChild(docLink);\n",
              "      }\n",
              "    </script>\n",
              "  </div>\n",
              "\n",
              "\n",
              "<div id=\"df-6ae14b55-e6ad-4e61-9bd4-acef170efb44\">\n",
              "  <button class=\"colab-df-quickchart\" onclick=\"quickchart('df-6ae14b55-e6ad-4e61-9bd4-acef170efb44')\"\n",
              "            title=\"Suggest charts\"\n",
              "            style=\"display:none;\">\n",
              "\n",
              "<svg xmlns=\"http://www.w3.org/2000/svg\" height=\"24px\"viewBox=\"0 0 24 24\"\n",
              "     width=\"24px\">\n",
              "    <g>\n",
              "        <path d=\"M19 3H5c-1.1 0-2 .9-2 2v14c0 1.1.9 2 2 2h14c1.1 0 2-.9 2-2V5c0-1.1-.9-2-2-2zM9 17H7v-7h2v7zm4 0h-2V7h2v10zm4 0h-2v-4h2v4z\"/>\n",
              "    </g>\n",
              "</svg>\n",
              "  </button>\n",
              "\n",
              "<style>\n",
              "  .colab-df-quickchart {\n",
              "      --bg-color: #E8F0FE;\n",
              "      --fill-color: #1967D2;\n",
              "      --hover-bg-color: #E2EBFA;\n",
              "      --hover-fill-color: #174EA6;\n",
              "      --disabled-fill-color: #AAA;\n",
              "      --disabled-bg-color: #DDD;\n",
              "  }\n",
              "\n",
              "  [theme=dark] .colab-df-quickchart {\n",
              "      --bg-color: #3B4455;\n",
              "      --fill-color: #D2E3FC;\n",
              "      --hover-bg-color: #434B5C;\n",
              "      --hover-fill-color: #FFFFFF;\n",
              "      --disabled-bg-color: #3B4455;\n",
              "      --disabled-fill-color: #666;\n",
              "  }\n",
              "\n",
              "  .colab-df-quickchart {\n",
              "    background-color: var(--bg-color);\n",
              "    border: none;\n",
              "    border-radius: 50%;\n",
              "    cursor: pointer;\n",
              "    display: none;\n",
              "    fill: var(--fill-color);\n",
              "    height: 32px;\n",
              "    padding: 0;\n",
              "    width: 32px;\n",
              "  }\n",
              "\n",
              "  .colab-df-quickchart:hover {\n",
              "    background-color: var(--hover-bg-color);\n",
              "    box-shadow: 0 1px 2px rgba(60, 64, 67, 0.3), 0 1px 3px 1px rgba(60, 64, 67, 0.15);\n",
              "    fill: var(--button-hover-fill-color);\n",
              "  }\n",
              "\n",
              "  .colab-df-quickchart-complete:disabled,\n",
              "  .colab-df-quickchart-complete:disabled:hover {\n",
              "    background-color: var(--disabled-bg-color);\n",
              "    fill: var(--disabled-fill-color);\n",
              "    box-shadow: none;\n",
              "  }\n",
              "\n",
              "  .colab-df-spinner {\n",
              "    border: 2px solid var(--fill-color);\n",
              "    border-color: transparent;\n",
              "    border-bottom-color: var(--fill-color);\n",
              "    animation:\n",
              "      spin 1s steps(1) infinite;\n",
              "  }\n",
              "\n",
              "  @keyframes spin {\n",
              "    0% {\n",
              "      border-color: transparent;\n",
              "      border-bottom-color: var(--fill-color);\n",
              "      border-left-color: var(--fill-color);\n",
              "    }\n",
              "    20% {\n",
              "      border-color: transparent;\n",
              "      border-left-color: var(--fill-color);\n",
              "      border-top-color: var(--fill-color);\n",
              "    }\n",
              "    30% {\n",
              "      border-color: transparent;\n",
              "      border-left-color: var(--fill-color);\n",
              "      border-top-color: var(--fill-color);\n",
              "      border-right-color: var(--fill-color);\n",
              "    }\n",
              "    40% {\n",
              "      border-color: transparent;\n",
              "      border-right-color: var(--fill-color);\n",
              "      border-top-color: var(--fill-color);\n",
              "    }\n",
              "    60% {\n",
              "      border-color: transparent;\n",
              "      border-right-color: var(--fill-color);\n",
              "    }\n",
              "    80% {\n",
              "      border-color: transparent;\n",
              "      border-right-color: var(--fill-color);\n",
              "      border-bottom-color: var(--fill-color);\n",
              "    }\n",
              "    90% {\n",
              "      border-color: transparent;\n",
              "      border-bottom-color: var(--fill-color);\n",
              "    }\n",
              "  }\n",
              "</style>\n",
              "\n",
              "  <script>\n",
              "    async function quickchart(key) {\n",
              "      const quickchartButtonEl =\n",
              "        document.querySelector('#' + key + ' button');\n",
              "      quickchartButtonEl.disabled = true;  // To prevent multiple clicks.\n",
              "      quickchartButtonEl.classList.add('colab-df-spinner');\n",
              "      try {\n",
              "        const charts = await google.colab.kernel.invokeFunction(\n",
              "            'suggestCharts', [key], {});\n",
              "      } catch (error) {\n",
              "        console.error('Error during call to suggestCharts:', error);\n",
              "      }\n",
              "      quickchartButtonEl.classList.remove('colab-df-spinner');\n",
              "      quickchartButtonEl.classList.add('colab-df-quickchart-complete');\n",
              "    }\n",
              "    (() => {\n",
              "      let quickchartButtonEl =\n",
              "        document.querySelector('#df-6ae14b55-e6ad-4e61-9bd4-acef170efb44 button');\n",
              "      quickchartButtonEl.style.display =\n",
              "        google.colab.kernel.accessAllowed ? 'block' : 'none';\n",
              "    })();\n",
              "  </script>\n",
              "</div>\n",
              "\n",
              "  <div id=\"id_2ef7128a-7a08-4e7a-afa3-7ee7c4318d9a\">\n",
              "    <style>\n",
              "      .colab-df-generate {\n",
              "        background-color: #E8F0FE;\n",
              "        border: none;\n",
              "        border-radius: 50%;\n",
              "        cursor: pointer;\n",
              "        display: none;\n",
              "        fill: #1967D2;\n",
              "        height: 32px;\n",
              "        padding: 0 0 0 0;\n",
              "        width: 32px;\n",
              "      }\n",
              "\n",
              "      .colab-df-generate:hover {\n",
              "        background-color: #E2EBFA;\n",
              "        box-shadow: 0px 1px 2px rgba(60, 64, 67, 0.3), 0px 1px 3px 1px rgba(60, 64, 67, 0.15);\n",
              "        fill: #174EA6;\n",
              "      }\n",
              "\n",
              "      [theme=dark] .colab-df-generate {\n",
              "        background-color: #3B4455;\n",
              "        fill: #D2E3FC;\n",
              "      }\n",
              "\n",
              "      [theme=dark] .colab-df-generate:hover {\n",
              "        background-color: #434B5C;\n",
              "        box-shadow: 0px 1px 3px 1px rgba(0, 0, 0, 0.15);\n",
              "        filter: drop-shadow(0px 1px 2px rgba(0, 0, 0, 0.3));\n",
              "        fill: #FFFFFF;\n",
              "      }\n",
              "    </style>\n",
              "    <button class=\"colab-df-generate\" onclick=\"generateWithVariable('train_data')\"\n",
              "            title=\"Generate code using this dataframe.\"\n",
              "            style=\"display:none;\">\n",
              "\n",
              "  <svg xmlns=\"http://www.w3.org/2000/svg\" height=\"24px\"viewBox=\"0 0 24 24\"\n",
              "       width=\"24px\">\n",
              "    <path d=\"M7,19H8.4L18.45,9,17,7.55,7,17.6ZM5,21V16.75L18.45,3.32a2,2,0,0,1,2.83,0l1.4,1.43a1.91,1.91,0,0,1,.58,1.4,1.91,1.91,0,0,1-.58,1.4L9.25,21ZM18.45,9,17,7.55Zm-12,3A5.31,5.31,0,0,0,4.9,8.1,5.31,5.31,0,0,0,1,6.5,5.31,5.31,0,0,0,4.9,4.9,5.31,5.31,0,0,0,6.5,1,5.31,5.31,0,0,0,8.1,4.9,5.31,5.31,0,0,0,12,6.5,5.46,5.46,0,0,0,6.5,12Z\"/>\n",
              "  </svg>\n",
              "    </button>\n",
              "    <script>\n",
              "      (() => {\n",
              "      const buttonEl =\n",
              "        document.querySelector('#id_2ef7128a-7a08-4e7a-afa3-7ee7c4318d9a button.colab-df-generate');\n",
              "      buttonEl.style.display =\n",
              "        google.colab.kernel.accessAllowed ? 'block' : 'none';\n",
              "\n",
              "      buttonEl.onclick = () => {\n",
              "        google.colab.notebook.generateWithVariable('train_data');\n",
              "      }\n",
              "      })();\n",
              "    </script>\n",
              "  </div>\n",
              "\n",
              "    </div>\n",
              "  </div>\n"
            ],
            "application/vnd.google.colaboratory.intrinsic+json": {
              "type": "dataframe",
              "variable_name": "train_data"
            }
          },
          "metadata": {},
          "execution_count": 34
        }
      ]
    },
    {
      "cell_type": "code",
      "source": [
        "scaler = MinMaxScaler(feature_range=(0,1))\n",
        "\n",
        "for col in num_cols:\n",
        "    scaled_data = scaler.fit_transform(train_data[col].values.reshape(-1,1))\n",
        "    train_data[col] = pd.Series(scaled_data.flatten())\n",
        "\n",
        "train_data.head()"
      ],
      "metadata": {
        "id": "zyOjB10Yxi16",
        "colab": {
          "base_uri": "https://localhost:8080/",
          "height": 237
        },
        "outputId": "a2544a58-4a9a-4694-c33f-968f58c42791"
      },
      "execution_count": 35,
      "outputs": [
        {
          "output_type": "execute_result",
          "data": {
            "text/plain": [
              "          date  store_nbr  family  sales  onpromotion\n",
              "id                                                   \n",
              "0   2013-01-01        0.0     0.0    0.0          0.0\n",
              "1   2013-01-01        0.0     1.0    0.0          0.0\n",
              "2   2013-01-01        0.0     2.0    0.0          0.0\n",
              "3   2013-01-01        0.0     3.0    0.0          0.0\n",
              "4   2013-01-01        0.0     4.0    0.0          0.0"
            ],
            "text/html": [
              "\n",
              "  <div id=\"df-3bf8d3a5-ceea-4f5f-948e-baa1bc737982\" class=\"colab-df-container\">\n",
              "    <div>\n",
              "<style scoped>\n",
              "    .dataframe tbody tr th:only-of-type {\n",
              "        vertical-align: middle;\n",
              "    }\n",
              "\n",
              "    .dataframe tbody tr th {\n",
              "        vertical-align: top;\n",
              "    }\n",
              "\n",
              "    .dataframe thead th {\n",
              "        text-align: right;\n",
              "    }\n",
              "</style>\n",
              "<table border=\"1\" class=\"dataframe\">\n",
              "  <thead>\n",
              "    <tr style=\"text-align: right;\">\n",
              "      <th></th>\n",
              "      <th>date</th>\n",
              "      <th>store_nbr</th>\n",
              "      <th>family</th>\n",
              "      <th>sales</th>\n",
              "      <th>onpromotion</th>\n",
              "    </tr>\n",
              "    <tr>\n",
              "      <th>id</th>\n",
              "      <th></th>\n",
              "      <th></th>\n",
              "      <th></th>\n",
              "      <th></th>\n",
              "      <th></th>\n",
              "    </tr>\n",
              "  </thead>\n",
              "  <tbody>\n",
              "    <tr>\n",
              "      <th>0</th>\n",
              "      <td>2013-01-01</td>\n",
              "      <td>0.0</td>\n",
              "      <td>0.0</td>\n",
              "      <td>0.0</td>\n",
              "      <td>0.0</td>\n",
              "    </tr>\n",
              "    <tr>\n",
              "      <th>1</th>\n",
              "      <td>2013-01-01</td>\n",
              "      <td>0.0</td>\n",
              "      <td>1.0</td>\n",
              "      <td>0.0</td>\n",
              "      <td>0.0</td>\n",
              "    </tr>\n",
              "    <tr>\n",
              "      <th>2</th>\n",
              "      <td>2013-01-01</td>\n",
              "      <td>0.0</td>\n",
              "      <td>2.0</td>\n",
              "      <td>0.0</td>\n",
              "      <td>0.0</td>\n",
              "    </tr>\n",
              "    <tr>\n",
              "      <th>3</th>\n",
              "      <td>2013-01-01</td>\n",
              "      <td>0.0</td>\n",
              "      <td>3.0</td>\n",
              "      <td>0.0</td>\n",
              "      <td>0.0</td>\n",
              "    </tr>\n",
              "    <tr>\n",
              "      <th>4</th>\n",
              "      <td>2013-01-01</td>\n",
              "      <td>0.0</td>\n",
              "      <td>4.0</td>\n",
              "      <td>0.0</td>\n",
              "      <td>0.0</td>\n",
              "    </tr>\n",
              "  </tbody>\n",
              "</table>\n",
              "</div>\n",
              "    <div class=\"colab-df-buttons\">\n",
              "\n",
              "  <div class=\"colab-df-container\">\n",
              "    <button class=\"colab-df-convert\" onclick=\"convertToInteractive('df-3bf8d3a5-ceea-4f5f-948e-baa1bc737982')\"\n",
              "            title=\"Convert this dataframe to an interactive table.\"\n",
              "            style=\"display:none;\">\n",
              "\n",
              "  <svg xmlns=\"http://www.w3.org/2000/svg\" height=\"24px\" viewBox=\"0 -960 960 960\">\n",
              "    <path d=\"M120-120v-720h720v720H120Zm60-500h600v-160H180v160Zm220 220h160v-160H400v160Zm0 220h160v-160H400v160ZM180-400h160v-160H180v160Zm440 0h160v-160H620v160ZM180-180h160v-160H180v160Zm440 0h160v-160H620v160Z\"/>\n",
              "  </svg>\n",
              "    </button>\n",
              "\n",
              "  <style>\n",
              "    .colab-df-container {\n",
              "      display:flex;\n",
              "      gap: 12px;\n",
              "    }\n",
              "\n",
              "    .colab-df-convert {\n",
              "      background-color: #E8F0FE;\n",
              "      border: none;\n",
              "      border-radius: 50%;\n",
              "      cursor: pointer;\n",
              "      display: none;\n",
              "      fill: #1967D2;\n",
              "      height: 32px;\n",
              "      padding: 0 0 0 0;\n",
              "      width: 32px;\n",
              "    }\n",
              "\n",
              "    .colab-df-convert:hover {\n",
              "      background-color: #E2EBFA;\n",
              "      box-shadow: 0px 1px 2px rgba(60, 64, 67, 0.3), 0px 1px 3px 1px rgba(60, 64, 67, 0.15);\n",
              "      fill: #174EA6;\n",
              "    }\n",
              "\n",
              "    .colab-df-buttons div {\n",
              "      margin-bottom: 4px;\n",
              "    }\n",
              "\n",
              "    [theme=dark] .colab-df-convert {\n",
              "      background-color: #3B4455;\n",
              "      fill: #D2E3FC;\n",
              "    }\n",
              "\n",
              "    [theme=dark] .colab-df-convert:hover {\n",
              "      background-color: #434B5C;\n",
              "      box-shadow: 0px 1px 3px 1px rgba(0, 0, 0, 0.15);\n",
              "      filter: drop-shadow(0px 1px 2px rgba(0, 0, 0, 0.3));\n",
              "      fill: #FFFFFF;\n",
              "    }\n",
              "  </style>\n",
              "\n",
              "    <script>\n",
              "      const buttonEl =\n",
              "        document.querySelector('#df-3bf8d3a5-ceea-4f5f-948e-baa1bc737982 button.colab-df-convert');\n",
              "      buttonEl.style.display =\n",
              "        google.colab.kernel.accessAllowed ? 'block' : 'none';\n",
              "\n",
              "      async function convertToInteractive(key) {\n",
              "        const element = document.querySelector('#df-3bf8d3a5-ceea-4f5f-948e-baa1bc737982');\n",
              "        const dataTable =\n",
              "          await google.colab.kernel.invokeFunction('convertToInteractive',\n",
              "                                                    [key], {});\n",
              "        if (!dataTable) return;\n",
              "\n",
              "        const docLinkHtml = 'Like what you see? Visit the ' +\n",
              "          '<a target=\"_blank\" href=https://colab.research.google.com/notebooks/data_table.ipynb>data table notebook</a>'\n",
              "          + ' to learn more about interactive tables.';\n",
              "        element.innerHTML = '';\n",
              "        dataTable['output_type'] = 'display_data';\n",
              "        await google.colab.output.renderOutput(dataTable, element);\n",
              "        const docLink = document.createElement('div');\n",
              "        docLink.innerHTML = docLinkHtml;\n",
              "        element.appendChild(docLink);\n",
              "      }\n",
              "    </script>\n",
              "  </div>\n",
              "\n",
              "\n",
              "<div id=\"df-7bac0804-dadc-48a3-a3df-1530143c83cd\">\n",
              "  <button class=\"colab-df-quickchart\" onclick=\"quickchart('df-7bac0804-dadc-48a3-a3df-1530143c83cd')\"\n",
              "            title=\"Suggest charts\"\n",
              "            style=\"display:none;\">\n",
              "\n",
              "<svg xmlns=\"http://www.w3.org/2000/svg\" height=\"24px\"viewBox=\"0 0 24 24\"\n",
              "     width=\"24px\">\n",
              "    <g>\n",
              "        <path d=\"M19 3H5c-1.1 0-2 .9-2 2v14c0 1.1.9 2 2 2h14c1.1 0 2-.9 2-2V5c0-1.1-.9-2-2-2zM9 17H7v-7h2v7zm4 0h-2V7h2v10zm4 0h-2v-4h2v4z\"/>\n",
              "    </g>\n",
              "</svg>\n",
              "  </button>\n",
              "\n",
              "<style>\n",
              "  .colab-df-quickchart {\n",
              "      --bg-color: #E8F0FE;\n",
              "      --fill-color: #1967D2;\n",
              "      --hover-bg-color: #E2EBFA;\n",
              "      --hover-fill-color: #174EA6;\n",
              "      --disabled-fill-color: #AAA;\n",
              "      --disabled-bg-color: #DDD;\n",
              "  }\n",
              "\n",
              "  [theme=dark] .colab-df-quickchart {\n",
              "      --bg-color: #3B4455;\n",
              "      --fill-color: #D2E3FC;\n",
              "      --hover-bg-color: #434B5C;\n",
              "      --hover-fill-color: #FFFFFF;\n",
              "      --disabled-bg-color: #3B4455;\n",
              "      --disabled-fill-color: #666;\n",
              "  }\n",
              "\n",
              "  .colab-df-quickchart {\n",
              "    background-color: var(--bg-color);\n",
              "    border: none;\n",
              "    border-radius: 50%;\n",
              "    cursor: pointer;\n",
              "    display: none;\n",
              "    fill: var(--fill-color);\n",
              "    height: 32px;\n",
              "    padding: 0;\n",
              "    width: 32px;\n",
              "  }\n",
              "\n",
              "  .colab-df-quickchart:hover {\n",
              "    background-color: var(--hover-bg-color);\n",
              "    box-shadow: 0 1px 2px rgba(60, 64, 67, 0.3), 0 1px 3px 1px rgba(60, 64, 67, 0.15);\n",
              "    fill: var(--button-hover-fill-color);\n",
              "  }\n",
              "\n",
              "  .colab-df-quickchart-complete:disabled,\n",
              "  .colab-df-quickchart-complete:disabled:hover {\n",
              "    background-color: var(--disabled-bg-color);\n",
              "    fill: var(--disabled-fill-color);\n",
              "    box-shadow: none;\n",
              "  }\n",
              "\n",
              "  .colab-df-spinner {\n",
              "    border: 2px solid var(--fill-color);\n",
              "    border-color: transparent;\n",
              "    border-bottom-color: var(--fill-color);\n",
              "    animation:\n",
              "      spin 1s steps(1) infinite;\n",
              "  }\n",
              "\n",
              "  @keyframes spin {\n",
              "    0% {\n",
              "      border-color: transparent;\n",
              "      border-bottom-color: var(--fill-color);\n",
              "      border-left-color: var(--fill-color);\n",
              "    }\n",
              "    20% {\n",
              "      border-color: transparent;\n",
              "      border-left-color: var(--fill-color);\n",
              "      border-top-color: var(--fill-color);\n",
              "    }\n",
              "    30% {\n",
              "      border-color: transparent;\n",
              "      border-left-color: var(--fill-color);\n",
              "      border-top-color: var(--fill-color);\n",
              "      border-right-color: var(--fill-color);\n",
              "    }\n",
              "    40% {\n",
              "      border-color: transparent;\n",
              "      border-right-color: var(--fill-color);\n",
              "      border-top-color: var(--fill-color);\n",
              "    }\n",
              "    60% {\n",
              "      border-color: transparent;\n",
              "      border-right-color: var(--fill-color);\n",
              "    }\n",
              "    80% {\n",
              "      border-color: transparent;\n",
              "      border-right-color: var(--fill-color);\n",
              "      border-bottom-color: var(--fill-color);\n",
              "    }\n",
              "    90% {\n",
              "      border-color: transparent;\n",
              "      border-bottom-color: var(--fill-color);\n",
              "    }\n",
              "  }\n",
              "</style>\n",
              "\n",
              "  <script>\n",
              "    async function quickchart(key) {\n",
              "      const quickchartButtonEl =\n",
              "        document.querySelector('#' + key + ' button');\n",
              "      quickchartButtonEl.disabled = true;  // To prevent multiple clicks.\n",
              "      quickchartButtonEl.classList.add('colab-df-spinner');\n",
              "      try {\n",
              "        const charts = await google.colab.kernel.invokeFunction(\n",
              "            'suggestCharts', [key], {});\n",
              "      } catch (error) {\n",
              "        console.error('Error during call to suggestCharts:', error);\n",
              "      }\n",
              "      quickchartButtonEl.classList.remove('colab-df-spinner');\n",
              "      quickchartButtonEl.classList.add('colab-df-quickchart-complete');\n",
              "    }\n",
              "    (() => {\n",
              "      let quickchartButtonEl =\n",
              "        document.querySelector('#df-7bac0804-dadc-48a3-a3df-1530143c83cd button');\n",
              "      quickchartButtonEl.style.display =\n",
              "        google.colab.kernel.accessAllowed ? 'block' : 'none';\n",
              "    })();\n",
              "  </script>\n",
              "</div>\n",
              "\n",
              "    </div>\n",
              "  </div>\n"
            ],
            "application/vnd.google.colaboratory.intrinsic+json": {
              "type": "dataframe",
              "variable_name": "train_data"
            }
          },
          "metadata": {},
          "execution_count": 35
        }
      ]
    },
    {
      "cell_type": "code",
      "source": [
        "train_data = train_data.groupby(['date']).agg({'sales':'mean', 'onpromotion':'mean'})\n",
        "train_data.head()\n"
      ],
      "metadata": {
        "id": "hbjSy9Exxi4n",
        "colab": {
          "base_uri": "https://localhost:8080/",
          "height": 237
        },
        "outputId": "b2301ccd-86a5-4204-edda-99a772ec53c3"
      },
      "execution_count": 36,
      "outputs": [
        {
          "output_type": "execute_result",
          "data": {
            "text/plain": [
              "               sales  onpromotion\n",
              "date                             \n",
              "2013-01-01  0.000011          0.0\n",
              "2013-01-02  0.002232          0.0\n",
              "2013-01-03  0.001626          0.0\n",
              "2013-01-04  0.001595          0.0\n",
              "2013-01-05  0.002148          0.0"
            ],
            "text/html": [
              "\n",
              "  <div id=\"df-90cabd03-9244-494c-a66e-40ec5a75d72b\" class=\"colab-df-container\">\n",
              "    <div>\n",
              "<style scoped>\n",
              "    .dataframe tbody tr th:only-of-type {\n",
              "        vertical-align: middle;\n",
              "    }\n",
              "\n",
              "    .dataframe tbody tr th {\n",
              "        vertical-align: top;\n",
              "    }\n",
              "\n",
              "    .dataframe thead th {\n",
              "        text-align: right;\n",
              "    }\n",
              "</style>\n",
              "<table border=\"1\" class=\"dataframe\">\n",
              "  <thead>\n",
              "    <tr style=\"text-align: right;\">\n",
              "      <th></th>\n",
              "      <th>sales</th>\n",
              "      <th>onpromotion</th>\n",
              "    </tr>\n",
              "    <tr>\n",
              "      <th>date</th>\n",
              "      <th></th>\n",
              "      <th></th>\n",
              "    </tr>\n",
              "  </thead>\n",
              "  <tbody>\n",
              "    <tr>\n",
              "      <th>2013-01-01</th>\n",
              "      <td>0.000011</td>\n",
              "      <td>0.0</td>\n",
              "    </tr>\n",
              "    <tr>\n",
              "      <th>2013-01-02</th>\n",
              "      <td>0.002232</td>\n",
              "      <td>0.0</td>\n",
              "    </tr>\n",
              "    <tr>\n",
              "      <th>2013-01-03</th>\n",
              "      <td>0.001626</td>\n",
              "      <td>0.0</td>\n",
              "    </tr>\n",
              "    <tr>\n",
              "      <th>2013-01-04</th>\n",
              "      <td>0.001595</td>\n",
              "      <td>0.0</td>\n",
              "    </tr>\n",
              "    <tr>\n",
              "      <th>2013-01-05</th>\n",
              "      <td>0.002148</td>\n",
              "      <td>0.0</td>\n",
              "    </tr>\n",
              "  </tbody>\n",
              "</table>\n",
              "</div>\n",
              "    <div class=\"colab-df-buttons\">\n",
              "\n",
              "  <div class=\"colab-df-container\">\n",
              "    <button class=\"colab-df-convert\" onclick=\"convertToInteractive('df-90cabd03-9244-494c-a66e-40ec5a75d72b')\"\n",
              "            title=\"Convert this dataframe to an interactive table.\"\n",
              "            style=\"display:none;\">\n",
              "\n",
              "  <svg xmlns=\"http://www.w3.org/2000/svg\" height=\"24px\" viewBox=\"0 -960 960 960\">\n",
              "    <path d=\"M120-120v-720h720v720H120Zm60-500h600v-160H180v160Zm220 220h160v-160H400v160Zm0 220h160v-160H400v160ZM180-400h160v-160H180v160Zm440 0h160v-160H620v160ZM180-180h160v-160H180v160Zm440 0h160v-160H620v160Z\"/>\n",
              "  </svg>\n",
              "    </button>\n",
              "\n",
              "  <style>\n",
              "    .colab-df-container {\n",
              "      display:flex;\n",
              "      gap: 12px;\n",
              "    }\n",
              "\n",
              "    .colab-df-convert {\n",
              "      background-color: #E8F0FE;\n",
              "      border: none;\n",
              "      border-radius: 50%;\n",
              "      cursor: pointer;\n",
              "      display: none;\n",
              "      fill: #1967D2;\n",
              "      height: 32px;\n",
              "      padding: 0 0 0 0;\n",
              "      width: 32px;\n",
              "    }\n",
              "\n",
              "    .colab-df-convert:hover {\n",
              "      background-color: #E2EBFA;\n",
              "      box-shadow: 0px 1px 2px rgba(60, 64, 67, 0.3), 0px 1px 3px 1px rgba(60, 64, 67, 0.15);\n",
              "      fill: #174EA6;\n",
              "    }\n",
              "\n",
              "    .colab-df-buttons div {\n",
              "      margin-bottom: 4px;\n",
              "    }\n",
              "\n",
              "    [theme=dark] .colab-df-convert {\n",
              "      background-color: #3B4455;\n",
              "      fill: #D2E3FC;\n",
              "    }\n",
              "\n",
              "    [theme=dark] .colab-df-convert:hover {\n",
              "      background-color: #434B5C;\n",
              "      box-shadow: 0px 1px 3px 1px rgba(0, 0, 0, 0.15);\n",
              "      filter: drop-shadow(0px 1px 2px rgba(0, 0, 0, 0.3));\n",
              "      fill: #FFFFFF;\n",
              "    }\n",
              "  </style>\n",
              "\n",
              "    <script>\n",
              "      const buttonEl =\n",
              "        document.querySelector('#df-90cabd03-9244-494c-a66e-40ec5a75d72b button.colab-df-convert');\n",
              "      buttonEl.style.display =\n",
              "        google.colab.kernel.accessAllowed ? 'block' : 'none';\n",
              "\n",
              "      async function convertToInteractive(key) {\n",
              "        const element = document.querySelector('#df-90cabd03-9244-494c-a66e-40ec5a75d72b');\n",
              "        const dataTable =\n",
              "          await google.colab.kernel.invokeFunction('convertToInteractive',\n",
              "                                                    [key], {});\n",
              "        if (!dataTable) return;\n",
              "\n",
              "        const docLinkHtml = 'Like what you see? Visit the ' +\n",
              "          '<a target=\"_blank\" href=https://colab.research.google.com/notebooks/data_table.ipynb>data table notebook</a>'\n",
              "          + ' to learn more about interactive tables.';\n",
              "        element.innerHTML = '';\n",
              "        dataTable['output_type'] = 'display_data';\n",
              "        await google.colab.output.renderOutput(dataTable, element);\n",
              "        const docLink = document.createElement('div');\n",
              "        docLink.innerHTML = docLinkHtml;\n",
              "        element.appendChild(docLink);\n",
              "      }\n",
              "    </script>\n",
              "  </div>\n",
              "\n",
              "\n",
              "<div id=\"df-fb012391-69ac-4e0f-904e-23be49a4769a\">\n",
              "  <button class=\"colab-df-quickchart\" onclick=\"quickchart('df-fb012391-69ac-4e0f-904e-23be49a4769a')\"\n",
              "            title=\"Suggest charts\"\n",
              "            style=\"display:none;\">\n",
              "\n",
              "<svg xmlns=\"http://www.w3.org/2000/svg\" height=\"24px\"viewBox=\"0 0 24 24\"\n",
              "     width=\"24px\">\n",
              "    <g>\n",
              "        <path d=\"M19 3H5c-1.1 0-2 .9-2 2v14c0 1.1.9 2 2 2h14c1.1 0 2-.9 2-2V5c0-1.1-.9-2-2-2zM9 17H7v-7h2v7zm4 0h-2V7h2v10zm4 0h-2v-4h2v4z\"/>\n",
              "    </g>\n",
              "</svg>\n",
              "  </button>\n",
              "\n",
              "<style>\n",
              "  .colab-df-quickchart {\n",
              "      --bg-color: #E8F0FE;\n",
              "      --fill-color: #1967D2;\n",
              "      --hover-bg-color: #E2EBFA;\n",
              "      --hover-fill-color: #174EA6;\n",
              "      --disabled-fill-color: #AAA;\n",
              "      --disabled-bg-color: #DDD;\n",
              "  }\n",
              "\n",
              "  [theme=dark] .colab-df-quickchart {\n",
              "      --bg-color: #3B4455;\n",
              "      --fill-color: #D2E3FC;\n",
              "      --hover-bg-color: #434B5C;\n",
              "      --hover-fill-color: #FFFFFF;\n",
              "      --disabled-bg-color: #3B4455;\n",
              "      --disabled-fill-color: #666;\n",
              "  }\n",
              "\n",
              "  .colab-df-quickchart {\n",
              "    background-color: var(--bg-color);\n",
              "    border: none;\n",
              "    border-radius: 50%;\n",
              "    cursor: pointer;\n",
              "    display: none;\n",
              "    fill: var(--fill-color);\n",
              "    height: 32px;\n",
              "    padding: 0;\n",
              "    width: 32px;\n",
              "  }\n",
              "\n",
              "  .colab-df-quickchart:hover {\n",
              "    background-color: var(--hover-bg-color);\n",
              "    box-shadow: 0 1px 2px rgba(60, 64, 67, 0.3), 0 1px 3px 1px rgba(60, 64, 67, 0.15);\n",
              "    fill: var(--button-hover-fill-color);\n",
              "  }\n",
              "\n",
              "  .colab-df-quickchart-complete:disabled,\n",
              "  .colab-df-quickchart-complete:disabled:hover {\n",
              "    background-color: var(--disabled-bg-color);\n",
              "    fill: var(--disabled-fill-color);\n",
              "    box-shadow: none;\n",
              "  }\n",
              "\n",
              "  .colab-df-spinner {\n",
              "    border: 2px solid var(--fill-color);\n",
              "    border-color: transparent;\n",
              "    border-bottom-color: var(--fill-color);\n",
              "    animation:\n",
              "      spin 1s steps(1) infinite;\n",
              "  }\n",
              "\n",
              "  @keyframes spin {\n",
              "    0% {\n",
              "      border-color: transparent;\n",
              "      border-bottom-color: var(--fill-color);\n",
              "      border-left-color: var(--fill-color);\n",
              "    }\n",
              "    20% {\n",
              "      border-color: transparent;\n",
              "      border-left-color: var(--fill-color);\n",
              "      border-top-color: var(--fill-color);\n",
              "    }\n",
              "    30% {\n",
              "      border-color: transparent;\n",
              "      border-left-color: var(--fill-color);\n",
              "      border-top-color: var(--fill-color);\n",
              "      border-right-color: var(--fill-color);\n",
              "    }\n",
              "    40% {\n",
              "      border-color: transparent;\n",
              "      border-right-color: var(--fill-color);\n",
              "      border-top-color: var(--fill-color);\n",
              "    }\n",
              "    60% {\n",
              "      border-color: transparent;\n",
              "      border-right-color: var(--fill-color);\n",
              "    }\n",
              "    80% {\n",
              "      border-color: transparent;\n",
              "      border-right-color: var(--fill-color);\n",
              "      border-bottom-color: var(--fill-color);\n",
              "    }\n",
              "    90% {\n",
              "      border-color: transparent;\n",
              "      border-bottom-color: var(--fill-color);\n",
              "    }\n",
              "  }\n",
              "</style>\n",
              "\n",
              "  <script>\n",
              "    async function quickchart(key) {\n",
              "      const quickchartButtonEl =\n",
              "        document.querySelector('#' + key + ' button');\n",
              "      quickchartButtonEl.disabled = true;  // To prevent multiple clicks.\n",
              "      quickchartButtonEl.classList.add('colab-df-spinner');\n",
              "      try {\n",
              "        const charts = await google.colab.kernel.invokeFunction(\n",
              "            'suggestCharts', [key], {});\n",
              "      } catch (error) {\n",
              "        console.error('Error during call to suggestCharts:', error);\n",
              "      }\n",
              "      quickchartButtonEl.classList.remove('colab-df-spinner');\n",
              "      quickchartButtonEl.classList.add('colab-df-quickchart-complete');\n",
              "    }\n",
              "    (() => {\n",
              "      let quickchartButtonEl =\n",
              "        document.querySelector('#df-fb012391-69ac-4e0f-904e-23be49a4769a button');\n",
              "      quickchartButtonEl.style.display =\n",
              "        google.colab.kernel.accessAllowed ? 'block' : 'none';\n",
              "    })();\n",
              "  </script>\n",
              "</div>\n",
              "\n",
              "    </div>\n",
              "  </div>\n"
            ],
            "application/vnd.google.colaboratory.intrinsic+json": {
              "type": "dataframe",
              "variable_name": "train_data",
              "summary": "{\n  \"name\": \"train_data\",\n  \"rows\": 1404,\n  \"fields\": [\n    {\n      \"column\": \"date\",\n      \"properties\": {\n        \"dtype\": \"object\",\n        \"num_unique_values\": 1404,\n        \"samples\": [\n          \"2015-12-13\",\n          \"2014-05-11\",\n          \"2014-10-13\"\n        ],\n        \"semantic_type\": \"\",\n        \"description\": \"\"\n      }\n    },\n    {\n      \"column\": \"sales\",\n      \"properties\": {\n        \"dtype\": \"number\",\n        \"std\": 0.0009735911995981246,\n        \"min\": 1.1301091840276555e-05,\n        \"max\": 0.006056003068805914,\n        \"num_unique_values\": 1404,\n        \"samples\": [\n          0.004766910900602195,\n          0.0020450921714460753,\n          0.0027524804418257933\n        ],\n        \"semantic_type\": \"\",\n        \"description\": \"\"\n      }\n    },\n    {\n      \"column\": \"onpromotion\",\n      \"properties\": {\n        \"dtype\": \"number\",\n        \"std\": 0.0030112700640549236,\n        \"min\": 0.0,\n        \"max\": 0.016533607176882032,\n        \"num_unique_values\": 889,\n        \"samples\": [\n          0.002041709644048825,\n          0.0011579280585128538,\n          9.76930801492205e-05\n        ],\n        \"semantic_type\": \"\",\n        \"description\": \"\"\n      }\n    }\n  ]\n}"
            }
          },
          "metadata": {},
          "execution_count": 36
        }
      ]
    },
    {
      "cell_type": "code",
      "source": [
        "train_data.tail()"
      ],
      "metadata": {
        "id": "onmQdHOjxi6r",
        "colab": {
          "base_uri": "https://localhost:8080/",
          "height": 237
        },
        "outputId": "2fa3fd09-4922-480e-d49e-30a488233a24"
      },
      "execution_count": 37,
      "outputs": [
        {
          "output_type": "execute_result",
          "data": {
            "text/plain": [
              "               sales  onpromotion\n",
              "date                             \n",
              "2016-11-03  0.003572     0.009876\n",
              "2016-11-04  0.003863     0.013424\n",
              "2016-11-05  0.003994     0.009953\n",
              "2016-11-06  0.005131     0.011156\n",
              "2016-11-07  0.002785     0.008801"
            ],
            "text/html": [
              "\n",
              "  <div id=\"df-8fbe6b8b-ba7a-4e03-b9d8-efa2b52f19ca\" class=\"colab-df-container\">\n",
              "    <div>\n",
              "<style scoped>\n",
              "    .dataframe tbody tr th:only-of-type {\n",
              "        vertical-align: middle;\n",
              "    }\n",
              "\n",
              "    .dataframe tbody tr th {\n",
              "        vertical-align: top;\n",
              "    }\n",
              "\n",
              "    .dataframe thead th {\n",
              "        text-align: right;\n",
              "    }\n",
              "</style>\n",
              "<table border=\"1\" class=\"dataframe\">\n",
              "  <thead>\n",
              "    <tr style=\"text-align: right;\">\n",
              "      <th></th>\n",
              "      <th>sales</th>\n",
              "      <th>onpromotion</th>\n",
              "    </tr>\n",
              "    <tr>\n",
              "      <th>date</th>\n",
              "      <th></th>\n",
              "      <th></th>\n",
              "    </tr>\n",
              "  </thead>\n",
              "  <tbody>\n",
              "    <tr>\n",
              "      <th>2016-11-03</th>\n",
              "      <td>0.003572</td>\n",
              "      <td>0.009876</td>\n",
              "    </tr>\n",
              "    <tr>\n",
              "      <th>2016-11-04</th>\n",
              "      <td>0.003863</td>\n",
              "      <td>0.013424</td>\n",
              "    </tr>\n",
              "    <tr>\n",
              "      <th>2016-11-05</th>\n",
              "      <td>0.003994</td>\n",
              "      <td>0.009953</td>\n",
              "    </tr>\n",
              "    <tr>\n",
              "      <th>2016-11-06</th>\n",
              "      <td>0.005131</td>\n",
              "      <td>0.011156</td>\n",
              "    </tr>\n",
              "    <tr>\n",
              "      <th>2016-11-07</th>\n",
              "      <td>0.002785</td>\n",
              "      <td>0.008801</td>\n",
              "    </tr>\n",
              "  </tbody>\n",
              "</table>\n",
              "</div>\n",
              "    <div class=\"colab-df-buttons\">\n",
              "\n",
              "  <div class=\"colab-df-container\">\n",
              "    <button class=\"colab-df-convert\" onclick=\"convertToInteractive('df-8fbe6b8b-ba7a-4e03-b9d8-efa2b52f19ca')\"\n",
              "            title=\"Convert this dataframe to an interactive table.\"\n",
              "            style=\"display:none;\">\n",
              "\n",
              "  <svg xmlns=\"http://www.w3.org/2000/svg\" height=\"24px\" viewBox=\"0 -960 960 960\">\n",
              "    <path d=\"M120-120v-720h720v720H120Zm60-500h600v-160H180v160Zm220 220h160v-160H400v160Zm0 220h160v-160H400v160ZM180-400h160v-160H180v160Zm440 0h160v-160H620v160ZM180-180h160v-160H180v160Zm440 0h160v-160H620v160Z\"/>\n",
              "  </svg>\n",
              "    </button>\n",
              "\n",
              "  <style>\n",
              "    .colab-df-container {\n",
              "      display:flex;\n",
              "      gap: 12px;\n",
              "    }\n",
              "\n",
              "    .colab-df-convert {\n",
              "      background-color: #E8F0FE;\n",
              "      border: none;\n",
              "      border-radius: 50%;\n",
              "      cursor: pointer;\n",
              "      display: none;\n",
              "      fill: #1967D2;\n",
              "      height: 32px;\n",
              "      padding: 0 0 0 0;\n",
              "      width: 32px;\n",
              "    }\n",
              "\n",
              "    .colab-df-convert:hover {\n",
              "      background-color: #E2EBFA;\n",
              "      box-shadow: 0px 1px 2px rgba(60, 64, 67, 0.3), 0px 1px 3px 1px rgba(60, 64, 67, 0.15);\n",
              "      fill: #174EA6;\n",
              "    }\n",
              "\n",
              "    .colab-df-buttons div {\n",
              "      margin-bottom: 4px;\n",
              "    }\n",
              "\n",
              "    [theme=dark] .colab-df-convert {\n",
              "      background-color: #3B4455;\n",
              "      fill: #D2E3FC;\n",
              "    }\n",
              "\n",
              "    [theme=dark] .colab-df-convert:hover {\n",
              "      background-color: #434B5C;\n",
              "      box-shadow: 0px 1px 3px 1px rgba(0, 0, 0, 0.15);\n",
              "      filter: drop-shadow(0px 1px 2px rgba(0, 0, 0, 0.3));\n",
              "      fill: #FFFFFF;\n",
              "    }\n",
              "  </style>\n",
              "\n",
              "    <script>\n",
              "      const buttonEl =\n",
              "        document.querySelector('#df-8fbe6b8b-ba7a-4e03-b9d8-efa2b52f19ca button.colab-df-convert');\n",
              "      buttonEl.style.display =\n",
              "        google.colab.kernel.accessAllowed ? 'block' : 'none';\n",
              "\n",
              "      async function convertToInteractive(key) {\n",
              "        const element = document.querySelector('#df-8fbe6b8b-ba7a-4e03-b9d8-efa2b52f19ca');\n",
              "        const dataTable =\n",
              "          await google.colab.kernel.invokeFunction('convertToInteractive',\n",
              "                                                    [key], {});\n",
              "        if (!dataTable) return;\n",
              "\n",
              "        const docLinkHtml = 'Like what you see? Visit the ' +\n",
              "          '<a target=\"_blank\" href=https://colab.research.google.com/notebooks/data_table.ipynb>data table notebook</a>'\n",
              "          + ' to learn more about interactive tables.';\n",
              "        element.innerHTML = '';\n",
              "        dataTable['output_type'] = 'display_data';\n",
              "        await google.colab.output.renderOutput(dataTable, element);\n",
              "        const docLink = document.createElement('div');\n",
              "        docLink.innerHTML = docLinkHtml;\n",
              "        element.appendChild(docLink);\n",
              "      }\n",
              "    </script>\n",
              "  </div>\n",
              "\n",
              "\n",
              "<div id=\"df-493fb0c3-37d8-4167-969e-be5483f4dc6a\">\n",
              "  <button class=\"colab-df-quickchart\" onclick=\"quickchart('df-493fb0c3-37d8-4167-969e-be5483f4dc6a')\"\n",
              "            title=\"Suggest charts\"\n",
              "            style=\"display:none;\">\n",
              "\n",
              "<svg xmlns=\"http://www.w3.org/2000/svg\" height=\"24px\"viewBox=\"0 0 24 24\"\n",
              "     width=\"24px\">\n",
              "    <g>\n",
              "        <path d=\"M19 3H5c-1.1 0-2 .9-2 2v14c0 1.1.9 2 2 2h14c1.1 0 2-.9 2-2V5c0-1.1-.9-2-2-2zM9 17H7v-7h2v7zm4 0h-2V7h2v10zm4 0h-2v-4h2v4z\"/>\n",
              "    </g>\n",
              "</svg>\n",
              "  </button>\n",
              "\n",
              "<style>\n",
              "  .colab-df-quickchart {\n",
              "      --bg-color: #E8F0FE;\n",
              "      --fill-color: #1967D2;\n",
              "      --hover-bg-color: #E2EBFA;\n",
              "      --hover-fill-color: #174EA6;\n",
              "      --disabled-fill-color: #AAA;\n",
              "      --disabled-bg-color: #DDD;\n",
              "  }\n",
              "\n",
              "  [theme=dark] .colab-df-quickchart {\n",
              "      --bg-color: #3B4455;\n",
              "      --fill-color: #D2E3FC;\n",
              "      --hover-bg-color: #434B5C;\n",
              "      --hover-fill-color: #FFFFFF;\n",
              "      --disabled-bg-color: #3B4455;\n",
              "      --disabled-fill-color: #666;\n",
              "  }\n",
              "\n",
              "  .colab-df-quickchart {\n",
              "    background-color: var(--bg-color);\n",
              "    border: none;\n",
              "    border-radius: 50%;\n",
              "    cursor: pointer;\n",
              "    display: none;\n",
              "    fill: var(--fill-color);\n",
              "    height: 32px;\n",
              "    padding: 0;\n",
              "    width: 32px;\n",
              "  }\n",
              "\n",
              "  .colab-df-quickchart:hover {\n",
              "    background-color: var(--hover-bg-color);\n",
              "    box-shadow: 0 1px 2px rgba(60, 64, 67, 0.3), 0 1px 3px 1px rgba(60, 64, 67, 0.15);\n",
              "    fill: var(--button-hover-fill-color);\n",
              "  }\n",
              "\n",
              "  .colab-df-quickchart-complete:disabled,\n",
              "  .colab-df-quickchart-complete:disabled:hover {\n",
              "    background-color: var(--disabled-bg-color);\n",
              "    fill: var(--disabled-fill-color);\n",
              "    box-shadow: none;\n",
              "  }\n",
              "\n",
              "  .colab-df-spinner {\n",
              "    border: 2px solid var(--fill-color);\n",
              "    border-color: transparent;\n",
              "    border-bottom-color: var(--fill-color);\n",
              "    animation:\n",
              "      spin 1s steps(1) infinite;\n",
              "  }\n",
              "\n",
              "  @keyframes spin {\n",
              "    0% {\n",
              "      border-color: transparent;\n",
              "      border-bottom-color: var(--fill-color);\n",
              "      border-left-color: var(--fill-color);\n",
              "    }\n",
              "    20% {\n",
              "      border-color: transparent;\n",
              "      border-left-color: var(--fill-color);\n",
              "      border-top-color: var(--fill-color);\n",
              "    }\n",
              "    30% {\n",
              "      border-color: transparent;\n",
              "      border-left-color: var(--fill-color);\n",
              "      border-top-color: var(--fill-color);\n",
              "      border-right-color: var(--fill-color);\n",
              "    }\n",
              "    40% {\n",
              "      border-color: transparent;\n",
              "      border-right-color: var(--fill-color);\n",
              "      border-top-color: var(--fill-color);\n",
              "    }\n",
              "    60% {\n",
              "      border-color: transparent;\n",
              "      border-right-color: var(--fill-color);\n",
              "    }\n",
              "    80% {\n",
              "      border-color: transparent;\n",
              "      border-right-color: var(--fill-color);\n",
              "      border-bottom-color: var(--fill-color);\n",
              "    }\n",
              "    90% {\n",
              "      border-color: transparent;\n",
              "      border-bottom-color: var(--fill-color);\n",
              "    }\n",
              "  }\n",
              "</style>\n",
              "\n",
              "  <script>\n",
              "    async function quickchart(key) {\n",
              "      const quickchartButtonEl =\n",
              "        document.querySelector('#' + key + ' button');\n",
              "      quickchartButtonEl.disabled = true;  // To prevent multiple clicks.\n",
              "      quickchartButtonEl.classList.add('colab-df-spinner');\n",
              "      try {\n",
              "        const charts = await google.colab.kernel.invokeFunction(\n",
              "            'suggestCharts', [key], {});\n",
              "      } catch (error) {\n",
              "        console.error('Error during call to suggestCharts:', error);\n",
              "      }\n",
              "      quickchartButtonEl.classList.remove('colab-df-spinner');\n",
              "      quickchartButtonEl.classList.add('colab-df-quickchart-complete');\n",
              "    }\n",
              "    (() => {\n",
              "      let quickchartButtonEl =\n",
              "        document.querySelector('#df-493fb0c3-37d8-4167-969e-be5483f4dc6a button');\n",
              "      quickchartButtonEl.style.display =\n",
              "        google.colab.kernel.accessAllowed ? 'block' : 'none';\n",
              "    })();\n",
              "  </script>\n",
              "</div>\n",
              "\n",
              "    </div>\n",
              "  </div>\n"
            ],
            "application/vnd.google.colaboratory.intrinsic+json": {
              "type": "dataframe",
              "summary": "{\n  \"name\": \"train_data\",\n  \"rows\": 5,\n  \"fields\": [\n    {\n      \"column\": \"date\",\n      \"properties\": {\n        \"dtype\": \"object\",\n        \"num_unique_values\": 5,\n        \"samples\": [\n          \"2016-11-04\",\n          \"2016-11-07\",\n          \"2016-11-05\"\n        ],\n        \"semantic_type\": \"\",\n        \"description\": \"\"\n      }\n    },\n    {\n      \"column\": \"sales\",\n      \"properties\": {\n        \"dtype\": \"number\",\n        \"std\": 0.0008474603819144516,\n        \"min\": 0.0027846971901365827,\n        \"max\": 0.005131110005370903,\n        \"num_unique_values\": 5,\n        \"samples\": [\n          0.003862698984291683,\n          0.0027846971901365827,\n          0.003994458937274169\n        ],\n        \"semantic_type\": \"\",\n        \"description\": \"\"\n      }\n    },\n    {\n      \"column\": \"onpromotion\",\n      \"properties\": {\n        \"dtype\": \"number\",\n        \"std\": 0.001764526143691772,\n        \"min\": 0.008801030151576327,\n        \"max\": 0.013424089447481259,\n        \"num_unique_values\": 5,\n        \"samples\": [\n          0.013424089447481259,\n          0.008801030151576327,\n          0.009953334514738022\n        ],\n        \"semantic_type\": \"\",\n        \"description\": \"\"\n      }\n    }\n  ]\n}"
            }
          },
          "metadata": {},
          "execution_count": 37
        }
      ]
    },
    {
      "cell_type": "code",
      "source": [
        "vallidate_data = vallidate_data.groupby(['date']).agg({'sales':'mean', 'onpromotion':'mean'})\n",
        "vallidate_data.head()"
      ],
      "metadata": {
        "id": "1fXBVQ-yxQXq",
        "colab": {
          "base_uri": "https://localhost:8080/",
          "height": 237
        },
        "outputId": "107920c3-f972-43f2-de1b-28f8cea98784"
      },
      "execution_count": 38,
      "outputs": [
        {
          "output_type": "execute_result",
          "data": {
            "text/plain": [
              "                 sales  onpromotion\n",
              "date                               \n",
              "2016-11-07  568.995313     7.204808\n",
              "2016-11-08  430.661969     7.853535\n",
              "2016-11-09  443.477463    12.016274\n",
              "2016-11-10  330.101997     6.713805\n",
              "2016-11-11  400.334711     9.925926"
            ],
            "text/html": [
              "\n",
              "  <div id=\"df-14343c6e-f715-4a9b-8bbd-cf8aa455eb1f\" class=\"colab-df-container\">\n",
              "    <div>\n",
              "<style scoped>\n",
              "    .dataframe tbody tr th:only-of-type {\n",
              "        vertical-align: middle;\n",
              "    }\n",
              "\n",
              "    .dataframe tbody tr th {\n",
              "        vertical-align: top;\n",
              "    }\n",
              "\n",
              "    .dataframe thead th {\n",
              "        text-align: right;\n",
              "    }\n",
              "</style>\n",
              "<table border=\"1\" class=\"dataframe\">\n",
              "  <thead>\n",
              "    <tr style=\"text-align: right;\">\n",
              "      <th></th>\n",
              "      <th>sales</th>\n",
              "      <th>onpromotion</th>\n",
              "    </tr>\n",
              "    <tr>\n",
              "      <th>date</th>\n",
              "      <th></th>\n",
              "      <th></th>\n",
              "    </tr>\n",
              "  </thead>\n",
              "  <tbody>\n",
              "    <tr>\n",
              "      <th>2016-11-07</th>\n",
              "      <td>568.995313</td>\n",
              "      <td>7.204808</td>\n",
              "    </tr>\n",
              "    <tr>\n",
              "      <th>2016-11-08</th>\n",
              "      <td>430.661969</td>\n",
              "      <td>7.853535</td>\n",
              "    </tr>\n",
              "    <tr>\n",
              "      <th>2016-11-09</th>\n",
              "      <td>443.477463</td>\n",
              "      <td>12.016274</td>\n",
              "    </tr>\n",
              "    <tr>\n",
              "      <th>2016-11-10</th>\n",
              "      <td>330.101997</td>\n",
              "      <td>6.713805</td>\n",
              "    </tr>\n",
              "    <tr>\n",
              "      <th>2016-11-11</th>\n",
              "      <td>400.334711</td>\n",
              "      <td>9.925926</td>\n",
              "    </tr>\n",
              "  </tbody>\n",
              "</table>\n",
              "</div>\n",
              "    <div class=\"colab-df-buttons\">\n",
              "\n",
              "  <div class=\"colab-df-container\">\n",
              "    <button class=\"colab-df-convert\" onclick=\"convertToInteractive('df-14343c6e-f715-4a9b-8bbd-cf8aa455eb1f')\"\n",
              "            title=\"Convert this dataframe to an interactive table.\"\n",
              "            style=\"display:none;\">\n",
              "\n",
              "  <svg xmlns=\"http://www.w3.org/2000/svg\" height=\"24px\" viewBox=\"0 -960 960 960\">\n",
              "    <path d=\"M120-120v-720h720v720H120Zm60-500h600v-160H180v160Zm220 220h160v-160H400v160Zm0 220h160v-160H400v160ZM180-400h160v-160H180v160Zm440 0h160v-160H620v160ZM180-180h160v-160H180v160Zm440 0h160v-160H620v160Z\"/>\n",
              "  </svg>\n",
              "    </button>\n",
              "\n",
              "  <style>\n",
              "    .colab-df-container {\n",
              "      display:flex;\n",
              "      gap: 12px;\n",
              "    }\n",
              "\n",
              "    .colab-df-convert {\n",
              "      background-color: #E8F0FE;\n",
              "      border: none;\n",
              "      border-radius: 50%;\n",
              "      cursor: pointer;\n",
              "      display: none;\n",
              "      fill: #1967D2;\n",
              "      height: 32px;\n",
              "      padding: 0 0 0 0;\n",
              "      width: 32px;\n",
              "    }\n",
              "\n",
              "    .colab-df-convert:hover {\n",
              "      background-color: #E2EBFA;\n",
              "      box-shadow: 0px 1px 2px rgba(60, 64, 67, 0.3), 0px 1px 3px 1px rgba(60, 64, 67, 0.15);\n",
              "      fill: #174EA6;\n",
              "    }\n",
              "\n",
              "    .colab-df-buttons div {\n",
              "      margin-bottom: 4px;\n",
              "    }\n",
              "\n",
              "    [theme=dark] .colab-df-convert {\n",
              "      background-color: #3B4455;\n",
              "      fill: #D2E3FC;\n",
              "    }\n",
              "\n",
              "    [theme=dark] .colab-df-convert:hover {\n",
              "      background-color: #434B5C;\n",
              "      box-shadow: 0px 1px 3px 1px rgba(0, 0, 0, 0.15);\n",
              "      filter: drop-shadow(0px 1px 2px rgba(0, 0, 0, 0.3));\n",
              "      fill: #FFFFFF;\n",
              "    }\n",
              "  </style>\n",
              "\n",
              "    <script>\n",
              "      const buttonEl =\n",
              "        document.querySelector('#df-14343c6e-f715-4a9b-8bbd-cf8aa455eb1f button.colab-df-convert');\n",
              "      buttonEl.style.display =\n",
              "        google.colab.kernel.accessAllowed ? 'block' : 'none';\n",
              "\n",
              "      async function convertToInteractive(key) {\n",
              "        const element = document.querySelector('#df-14343c6e-f715-4a9b-8bbd-cf8aa455eb1f');\n",
              "        const dataTable =\n",
              "          await google.colab.kernel.invokeFunction('convertToInteractive',\n",
              "                                                    [key], {});\n",
              "        if (!dataTable) return;\n",
              "\n",
              "        const docLinkHtml = 'Like what you see? Visit the ' +\n",
              "          '<a target=\"_blank\" href=https://colab.research.google.com/notebooks/data_table.ipynb>data table notebook</a>'\n",
              "          + ' to learn more about interactive tables.';\n",
              "        element.innerHTML = '';\n",
              "        dataTable['output_type'] = 'display_data';\n",
              "        await google.colab.output.renderOutput(dataTable, element);\n",
              "        const docLink = document.createElement('div');\n",
              "        docLink.innerHTML = docLinkHtml;\n",
              "        element.appendChild(docLink);\n",
              "      }\n",
              "    </script>\n",
              "  </div>\n",
              "\n",
              "\n",
              "<div id=\"df-e318e357-2e38-414d-bb66-33d0abf2f792\">\n",
              "  <button class=\"colab-df-quickchart\" onclick=\"quickchart('df-e318e357-2e38-414d-bb66-33d0abf2f792')\"\n",
              "            title=\"Suggest charts\"\n",
              "            style=\"display:none;\">\n",
              "\n",
              "<svg xmlns=\"http://www.w3.org/2000/svg\" height=\"24px\"viewBox=\"0 0 24 24\"\n",
              "     width=\"24px\">\n",
              "    <g>\n",
              "        <path d=\"M19 3H5c-1.1 0-2 .9-2 2v14c0 1.1.9 2 2 2h14c1.1 0 2-.9 2-2V5c0-1.1-.9-2-2-2zM9 17H7v-7h2v7zm4 0h-2V7h2v10zm4 0h-2v-4h2v4z\"/>\n",
              "    </g>\n",
              "</svg>\n",
              "  </button>\n",
              "\n",
              "<style>\n",
              "  .colab-df-quickchart {\n",
              "      --bg-color: #E8F0FE;\n",
              "      --fill-color: #1967D2;\n",
              "      --hover-bg-color: #E2EBFA;\n",
              "      --hover-fill-color: #174EA6;\n",
              "      --disabled-fill-color: #AAA;\n",
              "      --disabled-bg-color: #DDD;\n",
              "  }\n",
              "\n",
              "  [theme=dark] .colab-df-quickchart {\n",
              "      --bg-color: #3B4455;\n",
              "      --fill-color: #D2E3FC;\n",
              "      --hover-bg-color: #434B5C;\n",
              "      --hover-fill-color: #FFFFFF;\n",
              "      --disabled-bg-color: #3B4455;\n",
              "      --disabled-fill-color: #666;\n",
              "  }\n",
              "\n",
              "  .colab-df-quickchart {\n",
              "    background-color: var(--bg-color);\n",
              "    border: none;\n",
              "    border-radius: 50%;\n",
              "    cursor: pointer;\n",
              "    display: none;\n",
              "    fill: var(--fill-color);\n",
              "    height: 32px;\n",
              "    padding: 0;\n",
              "    width: 32px;\n",
              "  }\n",
              "\n",
              "  .colab-df-quickchart:hover {\n",
              "    background-color: var(--hover-bg-color);\n",
              "    box-shadow: 0 1px 2px rgba(60, 64, 67, 0.3), 0 1px 3px 1px rgba(60, 64, 67, 0.15);\n",
              "    fill: var(--button-hover-fill-color);\n",
              "  }\n",
              "\n",
              "  .colab-df-quickchart-complete:disabled,\n",
              "  .colab-df-quickchart-complete:disabled:hover {\n",
              "    background-color: var(--disabled-bg-color);\n",
              "    fill: var(--disabled-fill-color);\n",
              "    box-shadow: none;\n",
              "  }\n",
              "\n",
              "  .colab-df-spinner {\n",
              "    border: 2px solid var(--fill-color);\n",
              "    border-color: transparent;\n",
              "    border-bottom-color: var(--fill-color);\n",
              "    animation:\n",
              "      spin 1s steps(1) infinite;\n",
              "  }\n",
              "\n",
              "  @keyframes spin {\n",
              "    0% {\n",
              "      border-color: transparent;\n",
              "      border-bottom-color: var(--fill-color);\n",
              "      border-left-color: var(--fill-color);\n",
              "    }\n",
              "    20% {\n",
              "      border-color: transparent;\n",
              "      border-left-color: var(--fill-color);\n",
              "      border-top-color: var(--fill-color);\n",
              "    }\n",
              "    30% {\n",
              "      border-color: transparent;\n",
              "      border-left-color: var(--fill-color);\n",
              "      border-top-color: var(--fill-color);\n",
              "      border-right-color: var(--fill-color);\n",
              "    }\n",
              "    40% {\n",
              "      border-color: transparent;\n",
              "      border-right-color: var(--fill-color);\n",
              "      border-top-color: var(--fill-color);\n",
              "    }\n",
              "    60% {\n",
              "      border-color: transparent;\n",
              "      border-right-color: var(--fill-color);\n",
              "    }\n",
              "    80% {\n",
              "      border-color: transparent;\n",
              "      border-right-color: var(--fill-color);\n",
              "      border-bottom-color: var(--fill-color);\n",
              "    }\n",
              "    90% {\n",
              "      border-color: transparent;\n",
              "      border-bottom-color: var(--fill-color);\n",
              "    }\n",
              "  }\n",
              "</style>\n",
              "\n",
              "  <script>\n",
              "    async function quickchart(key) {\n",
              "      const quickchartButtonEl =\n",
              "        document.querySelector('#' + key + ' button');\n",
              "      quickchartButtonEl.disabled = true;  // To prevent multiple clicks.\n",
              "      quickchartButtonEl.classList.add('colab-df-spinner');\n",
              "      try {\n",
              "        const charts = await google.colab.kernel.invokeFunction(\n",
              "            'suggestCharts', [key], {});\n",
              "      } catch (error) {\n",
              "        console.error('Error during call to suggestCharts:', error);\n",
              "      }\n",
              "      quickchartButtonEl.classList.remove('colab-df-spinner');\n",
              "      quickchartButtonEl.classList.add('colab-df-quickchart-complete');\n",
              "    }\n",
              "    (() => {\n",
              "      let quickchartButtonEl =\n",
              "        document.querySelector('#df-e318e357-2e38-414d-bb66-33d0abf2f792 button');\n",
              "      quickchartButtonEl.style.display =\n",
              "        google.colab.kernel.accessAllowed ? 'block' : 'none';\n",
              "    })();\n",
              "  </script>\n",
              "</div>\n",
              "\n",
              "    </div>\n",
              "  </div>\n"
            ],
            "application/vnd.google.colaboratory.intrinsic+json": {
              "type": "dataframe",
              "variable_name": "vallidate_data",
              "summary": "{\n  \"name\": \"vallidate_data\",\n  \"rows\": 281,\n  \"fields\": [\n    {\n      \"column\": \"date\",\n      \"properties\": {\n        \"dtype\": \"object\",\n        \"num_unique_values\": 281,\n        \"samples\": [\n          \"2016-12-10\",\n          \"2017-04-15\",\n          \"2017-07-15\"\n        ],\n        \"semantic_type\": \"\",\n        \"description\": \"\"\n      }\n    },\n    {\n      \"column\": \"sales\",\n      \"properties\": {\n        \"dtype\": \"number\",\n        \"std\": 102.71189994828488,\n        \"min\": 6.780303589786756,\n        \"max\": 821.0347713013468,\n        \"num_unique_values\": 281,\n        \"samples\": [\n          516.3023265527497,\n          504.2706048978676,\n          543.814323835578\n        ],\n        \"semantic_type\": \"\",\n        \"description\": \"\"\n      }\n    },\n    {\n      \"column\": \"onpromotion\",\n      \"properties\": {\n        \"dtype\": \"number\",\n        \"std\": 2.269433142602278,\n        \"min\": 0.09539842873176206,\n        \"max\": 15.07351290684624,\n        \"num_unique_values\": 279,\n        \"samples\": [\n          15.07351290684624,\n          8.662177328843995,\n          5.950617283950617\n        ],\n        \"semantic_type\": \"\",\n        \"description\": \"\"\n      }\n    }\n  ]\n}"
            }
          },
          "metadata": {},
          "execution_count": 38
        }
      ]
    },
    {
      "cell_type": "code",
      "source": [
        "x_train = train_data.copy()\n",
        "y_train = train_data.sales.copy()"
      ],
      "metadata": {
        "id": "C6o7KIqDxQaA"
      },
      "execution_count": 39,
      "outputs": []
    },
    {
      "cell_type": "code",
      "source": [
        "x_vallidate = vallidate_data.copy()\n",
        "y_vallidate = vallidate_data.sales.copy()"
      ],
      "metadata": {
        "id": "D6VCwMpvx0Or"
      },
      "execution_count": 40,
      "outputs": []
    },
    {
      "cell_type": "code",
      "source": [
        "y_train.head()"
      ],
      "metadata": {
        "id": "tohXxINmx0SD",
        "colab": {
          "base_uri": "https://localhost:8080/",
          "height": 272
        },
        "outputId": "05cc46a8-c781-47eb-9e07-5cc92111880a"
      },
      "execution_count": 41,
      "outputs": [
        {
          "output_type": "execute_result",
          "data": {
            "text/plain": [
              "date\n",
              "2013-01-01    0.000011\n",
              "2013-01-02    0.002232\n",
              "2013-01-03    0.001626\n",
              "2013-01-04    0.001595\n",
              "2013-01-05    0.002148\n",
              "Name: sales, dtype: float64"
            ],
            "text/html": [
              "<div>\n",
              "<style scoped>\n",
              "    .dataframe tbody tr th:only-of-type {\n",
              "        vertical-align: middle;\n",
              "    }\n",
              "\n",
              "    .dataframe tbody tr th {\n",
              "        vertical-align: top;\n",
              "    }\n",
              "\n",
              "    .dataframe thead th {\n",
              "        text-align: right;\n",
              "    }\n",
              "</style>\n",
              "<table border=\"1\" class=\"dataframe\">\n",
              "  <thead>\n",
              "    <tr style=\"text-align: right;\">\n",
              "      <th></th>\n",
              "      <th>sales</th>\n",
              "    </tr>\n",
              "    <tr>\n",
              "      <th>date</th>\n",
              "      <th></th>\n",
              "    </tr>\n",
              "  </thead>\n",
              "  <tbody>\n",
              "    <tr>\n",
              "      <th>2013-01-01</th>\n",
              "      <td>0.000011</td>\n",
              "    </tr>\n",
              "    <tr>\n",
              "      <th>2013-01-02</th>\n",
              "      <td>0.002232</td>\n",
              "    </tr>\n",
              "    <tr>\n",
              "      <th>2013-01-03</th>\n",
              "      <td>0.001626</td>\n",
              "    </tr>\n",
              "    <tr>\n",
              "      <th>2013-01-04</th>\n",
              "      <td>0.001595</td>\n",
              "    </tr>\n",
              "    <tr>\n",
              "      <th>2013-01-05</th>\n",
              "      <td>0.002148</td>\n",
              "    </tr>\n",
              "  </tbody>\n",
              "</table>\n",
              "</div><br><label><b>dtype:</b> float64</label>"
            ]
          },
          "metadata": {},
          "execution_count": 41
        }
      ]
    },
    {
      "cell_type": "code",
      "source": [
        "y_train[30]"
      ],
      "metadata": {
        "id": "dKPzp25fx0VG",
        "colab": {
          "base_uri": "https://localhost:8080/"
        },
        "outputId": "236b2219-8bb2-4599-9f4d-02bdd1ba140b"
      },
      "execution_count": 42,
      "outputs": [
        {
          "output_type": "execute_result",
          "data": {
            "text/plain": [
              "0.001220515066519129"
            ]
          },
          "metadata": {},
          "execution_count": 42
        }
      ]
    },
    {
      "cell_type": "code",
      "source": [
        "y_vallidate[30]"
      ],
      "metadata": {
        "id": "KO4Hkl6nx0YC",
        "colab": {
          "base_uri": "https://localhost:8080/"
        },
        "outputId": "048b8dfd-be8b-4a59-b7f5-4bd5bedff213"
      },
      "execution_count": 43,
      "outputs": [
        {
          "output_type": "execute_result",
          "data": {
            "text/plain": [
              "486.8988412684063"
            ]
          },
          "metadata": {},
          "execution_count": 43
        }
      ]
    },
    {
      "cell_type": "code",
      "source": [
        "num_feature_input = len(x_train.columns)\n",
        "history_input = 30\n",
        "\n",
        "\"\"\"\n",
        "length: Number of past time steps to be included,\n",
        "batch_size: The amount of predicted days. Here we have 1 since we are trying to predict the next day using the last 30 days.\n",
        "\"\"\"\n",
        "generator = TimeseriesGenerator(x_train, y_train, length=history_input, batch_size = 1)\n",
        "\n",
        "# Print the first sequence, you should see 30 past day (x) for 1 predicted day (y)\n",
        "for i in range(len(generator)):\n",
        "    x, y = generator[i]\n",
        "    print('%s => %s' % (x, y))\n",
        "    break"
      ],
      "metadata": {
        "id": "Zg-Yg-Wax0at",
        "colab": {
          "base_uri": "https://localhost:8080/"
        },
        "outputId": "f43eca28-73fd-47dc-b737-2608aa8a319f"
      },
      "execution_count": 44,
      "outputs": [
        {
          "output_type": "stream",
          "name": "stdout",
          "text": [
            "[[[1.13010918e-05 0.00000000e+00]\n",
            "  [2.23218011e-03 0.00000000e+00]\n",
            "  [1.62640375e-03 0.00000000e+00]\n",
            "  [1.59490009e-03 0.00000000e+00]\n",
            "  [2.14784868e-03 0.00000000e+00]\n",
            "  [2.33838232e-03 0.00000000e+00]\n",
            "  [1.51239286e-03 0.00000000e+00]\n",
            "  [1.43241371e-03 0.00000000e+00]\n",
            "  [1.36124486e-03 0.00000000e+00]\n",
            "  [1.16529593e-03 0.00000000e+00]\n",
            "  [1.30368188e-03 0.00000000e+00]\n",
            "  [1.81447030e-03 0.00000000e+00]\n",
            "  [2.09065264e-03 0.00000000e+00]\n",
            "  [1.31992821e-03 0.00000000e+00]\n",
            "  [1.34594081e-03 0.00000000e+00]\n",
            "  [1.43241432e-03 0.00000000e+00]\n",
            "  [1.20361619e-03 0.00000000e+00]\n",
            "  [1.33244809e-03 0.00000000e+00]\n",
            "  [1.94586381e-03 0.00000000e+00]\n",
            "  [2.07469660e-03 0.00000000e+00]\n",
            "  [1.40030279e-03 0.00000000e+00]\n",
            "  [1.33282550e-03 0.00000000e+00]\n",
            "  [1.27452842e-03 0.00000000e+00]\n",
            "  [1.11248811e-03 0.00000000e+00]\n",
            "  [1.30496464e-03 0.00000000e+00]\n",
            "  [1.86190230e-03 0.00000000e+00]\n",
            "  [1.93664941e-03 0.00000000e+00]\n",
            "  [1.28443510e-03 0.00000000e+00]\n",
            "  [1.19007398e-03 0.00000000e+00]\n",
            "  [1.26464150e-03 0.00000000e+00]]] => [0.00122052]\n"
          ]
        }
      ]
    },
    {
      "cell_type": "code",
      "source": [
        "generator_vallidate = TimeseriesGenerator(x_vallidate, y_vallidate, length=history_input, batch_size = 1)\n",
        "for i in range(len(generator_vallidate)):\n",
        "    x, y = generator_vallidate[i]\n",
        "    print('%s => %s' % (x, y))\n",
        "    break"
      ],
      "metadata": {
        "id": "7sW_ZklVx0dd",
        "colab": {
          "base_uri": "https://localhost:8080/"
        },
        "outputId": "39a14018-4241-46cc-90e6-08efc8fb8bd4"
      },
      "execution_count": 45,
      "outputs": [
        {
          "output_type": "stream",
          "name": "stdout",
          "text": [
            "[[[568.99531341   7.20480769]\n",
            "  [430.66196882   7.85353535]\n",
            "  [443.47746297  12.01627385]\n",
            "  [330.10199721   6.71380471]\n",
            "  [400.33471051   9.92592593]\n",
            "  [521.77484396   7.45117845]\n",
            "  [667.2178633    8.10662177]\n",
            "  [412.86373343   5.90291807]\n",
            "  [388.21640238   7.39506173]\n",
            "  [466.01107833  11.24635241]\n",
            "  [345.24593491   5.60213244]\n",
            "  [414.29043335   8.55892256]\n",
            "  [525.0594843    6.5701459 ]\n",
            "  [631.41357346   7.22615039]\n",
            "  [434.21003415   6.33838384]\n",
            "  [387.36321605   7.45005612]\n",
            "  [422.94334537  11.49719416]\n",
            "  [334.15112583   6.30415264]\n",
            "  [414.04011495   9.61672278]\n",
            "  [509.57734197   7.00841751]\n",
            "  [592.99752642   7.64534231]\n",
            "  [422.32534683   6.65600449]\n",
            "  [362.37963425   7.48989899]\n",
            "  [430.61824036  10.90011223]\n",
            "  [473.40253372   7.28675645]\n",
            "  [478.9309376   10.56060606]\n",
            "  [624.82635637   8.01290685]\n",
            "  [716.15883065   8.52188552]\n",
            "  [503.26876485   7.38439955]\n",
            "  [523.31447022   8.73905724]]] => [486.89884127]\n"
          ]
        }
      ]
    },
    {
      "cell_type": "code",
      "source": [
        "def Multi_Step_LSTM_model():\n",
        "\n",
        "    # Use Keras sequential model\n",
        "    model = Sequential()\n",
        "\n",
        "    # First LSTM layer with Dropout regularisation; Set return_sequences to True to feed outputs to next layer\n",
        "    model.add(LSTM(units = 50, activation='relu', return_sequences = True, input_shape = (history_input, num_feature_input)))\n",
        "    model.add(Dropout(0.2))\n",
        "\n",
        "    # Second LSTM layer with Dropout regularisation; Set return_sequences to True to feed outputs to next layer\n",
        "    model.add(LSTM(units = 50,  activation='relu', return_sequences = True))\n",
        "    model.add(Dropout(0.2))\n",
        "\n",
        "    # Final LSTM layer with Dropout regularisation; Set return_sequences to False since now we will be predicting with the output layer\n",
        "    model.add(LSTM(units = 50))\n",
        "    model.add(Dropout(0.2))\n",
        "\n",
        "    # The output layer with linear activation to predict Open stock price\n",
        "    model.add(Dense(units=1, activation = \"linear\"))\n",
        "\n",
        "    return model"
      ],
      "metadata": {
        "id": "RJ68vBa-x0gW"
      },
      "execution_count": 46,
      "outputs": []
    },
    {
      "cell_type": "code",
      "source": [
        "model = Multi_Step_LSTM_model()\n",
        "model.summary()"
      ],
      "metadata": {
        "id": "brdUJpd6x0jG",
        "colab": {
          "base_uri": "https://localhost:8080/",
          "height": 353
        },
        "outputId": "9e8d18ed-03ec-475b-aab7-2f4daec4d670"
      },
      "execution_count": 47,
      "outputs": [
        {
          "output_type": "display_data",
          "data": {
            "text/plain": [
              "\u001b[1mModel: \"sequential_5\"\u001b[0m\n"
            ],
            "text/html": [
              "<pre style=\"white-space:pre;overflow-x:auto;line-height:normal;font-family:Menlo,'DejaVu Sans Mono',consolas,'Courier New',monospace\"><span style=\"font-weight: bold\">Model: \"sequential_5\"</span>\n",
              "</pre>\n"
            ]
          },
          "metadata": {}
        },
        {
          "output_type": "display_data",
          "data": {
            "text/plain": [
              "┏━━━━━━━━━━━━━━━━━━━━━━━━━━━━━━━━━━━━━━┳━━━━━━━━━━━━━━━━━━━━━━━━━━━━━┳━━━━━━━━━━━━━━━━━┓\n",
              "┃\u001b[1m \u001b[0m\u001b[1mLayer (type)                        \u001b[0m\u001b[1m \u001b[0m┃\u001b[1m \u001b[0m\u001b[1mOutput Shape               \u001b[0m\u001b[1m \u001b[0m┃\u001b[1m \u001b[0m\u001b[1m        Param #\u001b[0m\u001b[1m \u001b[0m┃\n",
              "┡━━━━━━━━━━━━━━━━━━━━━━━━━━━━━━━━━━━━━━╇━━━━━━━━━━━━━━━━━━━━━━━━━━━━━╇━━━━━━━━━━━━━━━━━┩\n",
              "│ lstm_4 (\u001b[38;5;33mLSTM\u001b[0m)                        │ (\u001b[38;5;45mNone\u001b[0m, \u001b[38;5;34m30\u001b[0m, \u001b[38;5;34m50\u001b[0m)              │          \u001b[38;5;34m10,600\u001b[0m │\n",
              "├──────────────────────────────────────┼─────────────────────────────┼─────────────────┤\n",
              "│ dropout (\u001b[38;5;33mDropout\u001b[0m)                    │ (\u001b[38;5;45mNone\u001b[0m, \u001b[38;5;34m30\u001b[0m, \u001b[38;5;34m50\u001b[0m)              │               \u001b[38;5;34m0\u001b[0m │\n",
              "├──────────────────────────────────────┼─────────────────────────────┼─────────────────┤\n",
              "│ lstm_5 (\u001b[38;5;33mLSTM\u001b[0m)                        │ (\u001b[38;5;45mNone\u001b[0m, \u001b[38;5;34m30\u001b[0m, \u001b[38;5;34m50\u001b[0m)              │          \u001b[38;5;34m20,200\u001b[0m │\n",
              "├──────────────────────────────────────┼─────────────────────────────┼─────────────────┤\n",
              "│ dropout_1 (\u001b[38;5;33mDropout\u001b[0m)                  │ (\u001b[38;5;45mNone\u001b[0m, \u001b[38;5;34m30\u001b[0m, \u001b[38;5;34m50\u001b[0m)              │               \u001b[38;5;34m0\u001b[0m │\n",
              "├──────────────────────────────────────┼─────────────────────────────┼─────────────────┤\n",
              "│ lstm_6 (\u001b[38;5;33mLSTM\u001b[0m)                        │ (\u001b[38;5;45mNone\u001b[0m, \u001b[38;5;34m50\u001b[0m)                  │          \u001b[38;5;34m20,200\u001b[0m │\n",
              "├──────────────────────────────────────┼─────────────────────────────┼─────────────────┤\n",
              "│ dropout_2 (\u001b[38;5;33mDropout\u001b[0m)                  │ (\u001b[38;5;45mNone\u001b[0m, \u001b[38;5;34m50\u001b[0m)                  │               \u001b[38;5;34m0\u001b[0m │\n",
              "├──────────────────────────────────────┼─────────────────────────────┼─────────────────┤\n",
              "│ dense_4 (\u001b[38;5;33mDense\u001b[0m)                      │ (\u001b[38;5;45mNone\u001b[0m, \u001b[38;5;34m1\u001b[0m)                   │              \u001b[38;5;34m51\u001b[0m │\n",
              "└──────────────────────────────────────┴─────────────────────────────┴─────────────────┘\n"
            ],
            "text/html": [
              "<pre style=\"white-space:pre;overflow-x:auto;line-height:normal;font-family:Menlo,'DejaVu Sans Mono',consolas,'Courier New',monospace\">┏━━━━━━━━━━━━━━━━━━━━━━━━━━━━━━━━━━━━━━┳━━━━━━━━━━━━━━━━━━━━━━━━━━━━━┳━━━━━━━━━━━━━━━━━┓\n",
              "┃<span style=\"font-weight: bold\"> Layer (type)                         </span>┃<span style=\"font-weight: bold\"> Output Shape                </span>┃<span style=\"font-weight: bold\">         Param # </span>┃\n",
              "┡━━━━━━━━━━━━━━━━━━━━━━━━━━━━━━━━━━━━━━╇━━━━━━━━━━━━━━━━━━━━━━━━━━━━━╇━━━━━━━━━━━━━━━━━┩\n",
              "│ lstm_4 (<span style=\"color: #0087ff; text-decoration-color: #0087ff\">LSTM</span>)                        │ (<span style=\"color: #00d7ff; text-decoration-color: #00d7ff\">None</span>, <span style=\"color: #00af00; text-decoration-color: #00af00\">30</span>, <span style=\"color: #00af00; text-decoration-color: #00af00\">50</span>)              │          <span style=\"color: #00af00; text-decoration-color: #00af00\">10,600</span> │\n",
              "├──────────────────────────────────────┼─────────────────────────────┼─────────────────┤\n",
              "│ dropout (<span style=\"color: #0087ff; text-decoration-color: #0087ff\">Dropout</span>)                    │ (<span style=\"color: #00d7ff; text-decoration-color: #00d7ff\">None</span>, <span style=\"color: #00af00; text-decoration-color: #00af00\">30</span>, <span style=\"color: #00af00; text-decoration-color: #00af00\">50</span>)              │               <span style=\"color: #00af00; text-decoration-color: #00af00\">0</span> │\n",
              "├──────────────────────────────────────┼─────────────────────────────┼─────────────────┤\n",
              "│ lstm_5 (<span style=\"color: #0087ff; text-decoration-color: #0087ff\">LSTM</span>)                        │ (<span style=\"color: #00d7ff; text-decoration-color: #00d7ff\">None</span>, <span style=\"color: #00af00; text-decoration-color: #00af00\">30</span>, <span style=\"color: #00af00; text-decoration-color: #00af00\">50</span>)              │          <span style=\"color: #00af00; text-decoration-color: #00af00\">20,200</span> │\n",
              "├──────────────────────────────────────┼─────────────────────────────┼─────────────────┤\n",
              "│ dropout_1 (<span style=\"color: #0087ff; text-decoration-color: #0087ff\">Dropout</span>)                  │ (<span style=\"color: #00d7ff; text-decoration-color: #00d7ff\">None</span>, <span style=\"color: #00af00; text-decoration-color: #00af00\">30</span>, <span style=\"color: #00af00; text-decoration-color: #00af00\">50</span>)              │               <span style=\"color: #00af00; text-decoration-color: #00af00\">0</span> │\n",
              "├──────────────────────────────────────┼─────────────────────────────┼─────────────────┤\n",
              "│ lstm_6 (<span style=\"color: #0087ff; text-decoration-color: #0087ff\">LSTM</span>)                        │ (<span style=\"color: #00d7ff; text-decoration-color: #00d7ff\">None</span>, <span style=\"color: #00af00; text-decoration-color: #00af00\">50</span>)                  │          <span style=\"color: #00af00; text-decoration-color: #00af00\">20,200</span> │\n",
              "├──────────────────────────────────────┼─────────────────────────────┼─────────────────┤\n",
              "│ dropout_2 (<span style=\"color: #0087ff; text-decoration-color: #0087ff\">Dropout</span>)                  │ (<span style=\"color: #00d7ff; text-decoration-color: #00d7ff\">None</span>, <span style=\"color: #00af00; text-decoration-color: #00af00\">50</span>)                  │               <span style=\"color: #00af00; text-decoration-color: #00af00\">0</span> │\n",
              "├──────────────────────────────────────┼─────────────────────────────┼─────────────────┤\n",
              "│ dense_4 (<span style=\"color: #0087ff; text-decoration-color: #0087ff\">Dense</span>)                      │ (<span style=\"color: #00d7ff; text-decoration-color: #00d7ff\">None</span>, <span style=\"color: #00af00; text-decoration-color: #00af00\">1</span>)                   │              <span style=\"color: #00af00; text-decoration-color: #00af00\">51</span> │\n",
              "└──────────────────────────────────────┴─────────────────────────────┴─────────────────┘\n",
              "</pre>\n"
            ]
          },
          "metadata": {}
        },
        {
          "output_type": "display_data",
          "data": {
            "text/plain": [
              "\u001b[1m Total params: \u001b[0m\u001b[38;5;34m51,051\u001b[0m (199.42 KB)\n"
            ],
            "text/html": [
              "<pre style=\"white-space:pre;overflow-x:auto;line-height:normal;font-family:Menlo,'DejaVu Sans Mono',consolas,'Courier New',monospace\"><span style=\"font-weight: bold\"> Total params: </span><span style=\"color: #00af00; text-decoration-color: #00af00\">51,051</span> (199.42 KB)\n",
              "</pre>\n"
            ]
          },
          "metadata": {}
        },
        {
          "output_type": "display_data",
          "data": {
            "text/plain": [
              "\u001b[1m Trainable params: \u001b[0m\u001b[38;5;34m51,051\u001b[0m (199.42 KB)\n"
            ],
            "text/html": [
              "<pre style=\"white-space:pre;overflow-x:auto;line-height:normal;font-family:Menlo,'DejaVu Sans Mono',consolas,'Courier New',monospace\"><span style=\"font-weight: bold\"> Trainable params: </span><span style=\"color: #00af00; text-decoration-color: #00af00\">51,051</span> (199.42 KB)\n",
              "</pre>\n"
            ]
          },
          "metadata": {}
        },
        {
          "output_type": "display_data",
          "data": {
            "text/plain": [
              "\u001b[1m Non-trainable params: \u001b[0m\u001b[38;5;34m0\u001b[0m (0.00 B)\n"
            ],
            "text/html": [
              "<pre style=\"white-space:pre;overflow-x:auto;line-height:normal;font-family:Menlo,'DejaVu Sans Mono',consolas,'Courier New',monospace\"><span style=\"font-weight: bold\"> Non-trainable params: </span><span style=\"color: #00af00; text-decoration-color: #00af00\">0</span> (0.00 B)\n",
              "</pre>\n"
            ]
          },
          "metadata": {}
        }
      ]
    },
    {
      "cell_type": "code",
      "source": [
        "model.compile(loss='mean_squared_error',optimizer=RMSprop(), metrics = ['accuracy'])\n",
        "training_history = model.fit(generator, steps_per_epoch=len(generator), epochs=20, verbose=2, validation_data= generator_vallidate)"
      ],
      "metadata": {
        "id": "_A6qm5A9x0lm",
        "colab": {
          "base_uri": "https://localhost:8080/"
        },
        "outputId": "18809689-dd44-4022-bde0-f511443f3b8e"
      },
      "execution_count": 49,
      "outputs": [
        {
          "output_type": "stream",
          "name": "stdout",
          "text": [
            "Epoch 1/20\n",
            "1374/1374 - 48s - 35ms/step - accuracy: 0.0000e+00 - loss: 1.5587e-06 - val_accuracy: 0.0000e+00 - val_loss: 247998.8906\n",
            "Epoch 2/20\n",
            "1374/1374 - 81s - 59ms/step - accuracy: 0.0000e+00 - loss: 1.5418e-06 - val_accuracy: 0.0000e+00 - val_loss: 248000.2031\n",
            "Epoch 3/20\n",
            "1374/1374 - 81s - 59ms/step - accuracy: 0.0000e+00 - loss: 1.5208e-06 - val_accuracy: 0.0000e+00 - val_loss: 248000.2344\n",
            "Epoch 4/20\n",
            "1374/1374 - 41s - 30ms/step - accuracy: 0.0000e+00 - loss: 1.5550e-06 - val_accuracy: 0.0000e+00 - val_loss: 247998.8281\n",
            "Epoch 5/20\n",
            "1374/1374 - 82s - 59ms/step - accuracy: 0.0000e+00 - loss: 1.5338e-06 - val_accuracy: 0.0000e+00 - val_loss: 248000.1562\n",
            "Epoch 6/20\n",
            "1374/1374 - 42s - 30ms/step - accuracy: 0.0000e+00 - loss: 1.5633e-06 - val_accuracy: 0.0000e+00 - val_loss: 247999.3906\n",
            "Epoch 7/20\n",
            "1374/1374 - 42s - 30ms/step - accuracy: 0.0000e+00 - loss: 1.5455e-06 - val_accuracy: 0.0000e+00 - val_loss: 248000.0625\n",
            "Epoch 8/20\n",
            "1374/1374 - 81s - 59ms/step - accuracy: 0.0000e+00 - loss: 1.5070e-06 - val_accuracy: 0.0000e+00 - val_loss: 248000.8281\n",
            "Epoch 9/20\n",
            "1374/1374 - 41s - 30ms/step - accuracy: 0.0000e+00 - loss: 1.5401e-06 - val_accuracy: 0.0000e+00 - val_loss: 248000.6406\n",
            "Epoch 10/20\n",
            "1374/1374 - 83s - 60ms/step - accuracy: 0.0000e+00 - loss: 1.5295e-06 - val_accuracy: 0.0000e+00 - val_loss: 248000.6562\n",
            "Epoch 11/20\n",
            "1374/1374 - 42s - 31ms/step - accuracy: 0.0000e+00 - loss: 1.5326e-06 - val_accuracy: 0.0000e+00 - val_loss: 247999.4219\n",
            "Epoch 12/20\n",
            "1374/1374 - 43s - 31ms/step - accuracy: 0.0000e+00 - loss: 1.5052e-06 - val_accuracy: 0.0000e+00 - val_loss: 248001.5625\n",
            "Epoch 13/20\n",
            "1374/1374 - 82s - 60ms/step - accuracy: 0.0000e+00 - loss: 1.5424e-06 - val_accuracy: 0.0000e+00 - val_loss: 248000.8281\n",
            "Epoch 14/20\n",
            "1374/1374 - 43s - 31ms/step - accuracy: 0.0000e+00 - loss: 1.5343e-06 - val_accuracy: 0.0000e+00 - val_loss: 248002.2500\n",
            "Epoch 15/20\n",
            "1374/1374 - 82s - 60ms/step - accuracy: 0.0000e+00 - loss: 1.5509e-06 - val_accuracy: 0.0000e+00 - val_loss: 248002.6875\n",
            "Epoch 16/20\n",
            "1374/1374 - 42s - 31ms/step - accuracy: 0.0000e+00 - loss: 1.5544e-06 - val_accuracy: 0.0000e+00 - val_loss: 248003.0625\n",
            "Epoch 17/20\n",
            "1374/1374 - 42s - 30ms/step - accuracy: 0.0000e+00 - loss: 1.5055e-06 - val_accuracy: 0.0000e+00 - val_loss: 248002.6719\n",
            "Epoch 18/20\n",
            "1374/1374 - 82s - 60ms/step - accuracy: 0.0000e+00 - loss: 1.5424e-06 - val_accuracy: 0.0000e+00 - val_loss: 248002.5156\n",
            "Epoch 19/20\n",
            "1374/1374 - 42s - 30ms/step - accuracy: 0.0000e+00 - loss: 1.5200e-06 - val_accuracy: 0.0000e+00 - val_loss: 248002.9062\n",
            "Epoch 20/20\n",
            "1374/1374 - 43s - 31ms/step - accuracy: 0.0000e+00 - loss: 1.5538e-06 - val_accuracy: 0.0000e+00 - val_loss: 248001.7344\n"
          ]
        }
      ]
    },
    {
      "cell_type": "code",
      "source": [
        "# 可能包含趨勢及季節週期影響\n",
        "# 可能要拆成趨勢+週期+RNN三部分預測"
      ],
      "metadata": {
        "id": "JxaRu9dRyJvs"
      },
      "execution_count": 50,
      "outputs": []
    }
  ]
}