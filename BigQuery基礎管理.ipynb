{
  "nbformat": 4,
  "nbformat_minor": 0,
  "metadata": {
    "colab": {
      "provenance": [],
      "authorship_tag": "ABX9TyMPjz48VEnoWJQjC6CmhnsE",
      "include_colab_link": true
    },
    "kernelspec": {
      "name": "python3",
      "display_name": "Python 3"
    },
    "language_info": {
      "name": "python"
    }
  },
  "cells": [
    {
      "cell_type": "markdown",
      "metadata": {
        "id": "view-in-github",
        "colab_type": "text"
      },
      "source": [
        "<a href=\"https://colab.research.google.com/github/t8101349/Colab-/blob/master/BigQuery%E5%9F%BA%E7%A4%8E%E7%AE%A1%E7%90%86.ipynb\" target=\"_parent\"><img src=\"https://colab.research.google.com/assets/colab-badge.svg\" alt=\"Open In Colab\"/></a>"
      ]
    },
    {
      "cell_type": "markdown",
      "source": [
        "初始化Bigquery SDK套件"
      ],
      "metadata": {
        "id": "pPsuLEonJ1eB"
      }
    },
    {
      "cell_type": "code",
      "execution_count": 1,
      "metadata": {
        "colab": {
          "base_uri": "https://localhost:8080/"
        },
        "id": "sg_XM5P6GQFa",
        "outputId": "0839b9d9-74fe-42db-9abb-8d613672579a"
      },
      "outputs": [
        {
          "output_type": "stream",
          "name": "stdout",
          "text": [
            "connection done\n"
          ]
        }
      ],
      "source": [
        "import os\n",
        "from google.cloud import bigquery\n",
        "\n",
        "# 設置 Google Cloud 認證\n",
        "os.environ['GOOGLE_APPLICATION_CREDENTIALS']=r\"/content/tibame-gad245-28-0305-1f39d5b14e0b.json\"\n",
        "\n",
        "\n",
        "# 初始化 BigQuery 客戶端\n",
        "client = bigquery.Client()\n",
        "print('connection done')\n"
      ]
    },
    {
      "cell_type": "code",
      "source": [
        "# 定義資料集參數\n",
        "dataset_id = 'tibame_gad245_28_0312_dataset_us'  # 替換為想要建立的資料集名稱\n",
        "project_id = 'tibame-gad245-28-0305'  # 替換為 Google Cloud 專案 ID\n",
        "dataset_ref = client.dataset(dataset_id)\n",
        "\n",
        "# 設定資料集的描述和其他選項\n",
        "dataset = bigquery.Dataset(dataset_ref)\n",
        "dataset.description = 'This is a new dataset created from Python.'\n",
        "dataset.location = 'US'  # 設定資料集的地區位置\n",
        "\n",
        "# 建立資料集\n",
        "dataset = client.create_dataset(dataset, timeout=30)  # 可設定超時時間\n",
        "print(f\"dataset: {dataset.dataset_id} ,created\")\n"
      ],
      "metadata": {
        "colab": {
          "base_uri": "https://localhost:8080/"
        },
        "id": "_ueACkxlLQmP",
        "outputId": "51911ea1-0dc7-4f4f-bec0-7f2ab44c79a2"
      },
      "execution_count": 2,
      "outputs": [
        {
          "output_type": "stream",
          "name": "stdout",
          "text": [
            "dataset: tibame_gad245_28_0312_dataset_us ,created\n"
          ]
        }
      ]
    },
    {
      "cell_type": "code",
      "source": [
        "# 定義資料集和資料表\n",
        "table_id = 'age_table'\n",
        "schema = [\n",
        "    bigquery.SchemaField(\"name\", \"STRING\"),\n",
        "    bigquery.SchemaField(\"age\", \"INTEGER\"),\n",
        "]\n",
        "\n",
        "# 定義表格參數\n",
        "table_ref = client.dataset(dataset_id).table(table_id)\n",
        "table = bigquery.Table(table_ref, schema=schema)\n",
        "\n",
        "# 建立資料表\n",
        "table = client.create_table(table)\n",
        "print(f\"table: {table.table_id} ,created\")\n"
      ],
      "metadata": {
        "colab": {
          "base_uri": "https://localhost:8080/"
        },
        "id": "8eFVA4JWLQwk",
        "outputId": "85c79d97-7e5d-4649-dbc7-6b9f0abc82a1"
      },
      "execution_count": 3,
      "outputs": [
        {
          "output_type": "stream",
          "name": "stdout",
          "text": [
            "table: age_table ,created\n"
          ]
        }
      ]
    },
    {
      "cell_type": "code",
      "source": [
        "\n",
        "# 定義資料\n",
        "rows_to_insert = [\n",
        "    {\"name\": \"Alice\", \"age\": 25},\n",
        "    {\"name\": \"Bob\", \"age\": 35},\n",
        "    {\"name\": \"Charlie\", \"age\": 45},\n",
        "]\n",
        "\n",
        "# 插入資料\n",
        "errors = client.insert_rows_json(f\"{dataset_id}.{table_id}\", rows_to_insert)\n",
        "# insert:只會加入資料\n",
        "\n",
        "if errors == []:\n",
        "    print(\"data insert successfully\")\n",
        "else:\n",
        "    print(f\"error: {errors}\")\n",
        "\n"
      ],
      "metadata": {
        "colab": {
          "base_uri": "https://localhost:8080/"
        },
        "id": "nWI5d_PALQ3A",
        "outputId": "6570b762-c946-47c1-fdee-a406aab13470"
      },
      "execution_count": 5,
      "outputs": [
        {
          "output_type": "stream",
          "name": "stdout",
          "text": [
            "data insert successfully\n"
          ]
        }
      ]
    },
    {
      "cell_type": "code",
      "source": [
        "# 定義查詢語句\n",
        "query = \"\"\"\n",
        "    SELECT name, age\n",
        "    FROM `tibame_gad245_28_0312_dataset_us.age_table`\n",
        "    WHERE age > 30\n",
        "\"\"\"\n",
        "\n",
        "# 執行查詢\n",
        "query_job = client.query(query)\n",
        "\n",
        "# 獲取結果\n",
        "results = query_job.result()\n",
        "\n",
        "# 印出結果\n",
        "for row in results:\n",
        "    print(f\"name: {row.name}, age: {row.age}\")\n",
        "\n"
      ],
      "metadata": {
        "colab": {
          "base_uri": "https://localhost:8080/"
        },
        "id": "bwlx-YIcPRNg",
        "outputId": "ab217e2f-d3c8-421c-f778-e3453eb016a7"
      },
      "execution_count": 6,
      "outputs": [
        {
          "output_type": "stream",
          "name": "stdout",
          "text": [
            "name: Bob, age: 35\n",
            "name: Charlie, age: 45\n",
            "name: Bob, age: 35\n",
            "name: Charlie, age: 45\n"
          ]
        }
      ]
    },
    {
      "cell_type": "code",
      "source": [
        "\n",
        "# 定義資料表參數\n",
        "table_ref = client.dataset(dataset_id).table(table_id)\n",
        "\n",
        "# 刪除資料表\n",
        "client.delete_table(table_ref)\n",
        "print(f\"table: {table_id} ,deleted\")\n"
      ],
      "metadata": {
        "colab": {
          "base_uri": "https://localhost:8080/"
        },
        "id": "JUu6OOZGPRQd",
        "outputId": "8fe01266-589a-4dcb-cadf-06eb717a5b53"
      },
      "execution_count": 7,
      "outputs": [
        {
          "output_type": "stream",
          "name": "stdout",
          "text": [
            "table: age_table ,deleted\n"
          ]
        }
      ]
    },
    {
      "cell_type": "code",
      "source": [
        "# 定義 SQL 查詢以創建模型\n",
        "query = \"\"\"\n",
        "CREATE OR REPLACE MODEL `tibame-gad245-28-0305.tibame_gad245_28_0312_dataset_us.imported_tf_model`\n",
        "OPTIONS (MODEL_TYPE='TENSORFLOW',\n",
        "         MODEL_PATH='gs://cloud-training-demos/txtclass/export/exporter/1549825580/*')\n",
        "\"\"\"\n",
        "\n",
        "# 執行 SQL 查詢以創建模型\n",
        "query_job = client.query(query)\n",
        "query_job.result()  # 等待查詢完成\n",
        "\n",
        "print(\"TensorFlow model import BigQuery ML\")\n"
      ],
      "metadata": {
        "colab": {
          "base_uri": "https://localhost:8080/"
        },
        "id": "OsxUWPsuPRU4",
        "outputId": "8b697679-b236-4b5c-a9e3-3c71f4687cbd"
      },
      "execution_count": 8,
      "outputs": [
        {
          "output_type": "stream",
          "name": "stdout",
          "text": [
            "TensorFlow model import BigQuery ML\n"
          ]
        }
      ]
    },
    {
      "cell_type": "code",
      "source": [
        "# 定義 SQL 查詢以使用模型進行預測，只取五筆非 NULL 的資料\n",
        "query = \"\"\"\n",
        "SELECT *\n",
        "FROM ML.PREDICT(MODEL `tibame-gad245-28-0305.tibame_gad245_28_0312_dataset_us.imported_tf_model`,\n",
        "  (SELECT title AS input\n",
        "   FROM `bigquery-public-data.hacker_news.full`\n",
        "   WHERE title IS NOT NULL\n",
        "   LIMIT 5)  -- 限制結果為五筆資料\n",
        ")\n",
        "\"\"\"\n",
        "\n",
        "# 執行 SQL 查詢以進行預測\n",
        "query_job = client.query(query)\n",
        "results = query_job.result()  # 等待查詢完成\n",
        "\n",
        "# 印出預測結果\n",
        "for row in results:\n",
        "    print(row)\n"
      ],
      "metadata": {
        "colab": {
          "base_uri": "https://localhost:8080/"
        },
        "id": "YnVP93BRPZEA",
        "outputId": "c4fcb0f3-6fcc-4c22-c986-7125ab07c05f"
      },
      "execution_count": 10,
      "outputs": [
        {
          "output_type": "stream",
          "name": "stdout",
          "text": [
            "Row(([0.8007680773735046, 0.10563275963068008, 0.09359916299581528], 'Structured (YC S23) Is Hiring'), {'dense_1': 0, 'input': 1})\n",
            "Row(([0.8007680773735046, 0.10563275963068008, 0.09359916299581528], 'Curo (YC F24) Is Hiring'), {'dense_1': 0, 'input': 1})\n",
            "Row(([0.8007680773735046, 0.10563275963068008, 0.09359916299581528], 'SciPhi (YC W24) Is Hiring'), {'dense_1': 0, 'input': 1})\n",
            "Row(([0.0003840135468635708, 0.0009624646045267582, 0.9986535310745239], 'Design how business communicates. SendHub (YC W12) is looking for a Designer'), {'dense_1': 0, 'input': 1})\n",
            "Row(([0.0932588204741478, 0.1606874316930771, 0.7460538148880005], 'Infracost (YC W21) Is Hiring Senior Software Engineers (GMT+2 to GMT-6)'), {'dense_1': 0, 'input': 1})\n"
          ]
        }
      ]
    },
    {
      "cell_type": "code",
      "source": [
        "\n",
        "# 定義資料集參數\n",
        "dataset_ref = client.dataset(dataset_id)\n",
        "\n",
        "# 刪除資料集\n",
        "client.delete_dataset(dataset_ref, delete_contents=True)\n",
        "print(f\"dataset: {dataset_id} ,deleted\")\n"
      ],
      "metadata": {
        "colab": {
          "base_uri": "https://localhost:8080/"
        },
        "id": "MQ-1oMl0c3qM",
        "outputId": "bbe35ec7-84ba-4ed5-97fd-16eb037fced2"
      },
      "execution_count": 11,
      "outputs": [
        {
          "output_type": "stream",
          "name": "stdout",
          "text": [
            "dataset: tibame_gad245_28_0312_dataset_us ,deleted\n"
          ]
        }
      ]
    }
  ]
}