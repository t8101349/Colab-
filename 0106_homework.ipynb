{
  "nbformat": 4,
  "nbformat_minor": 0,
  "metadata": {
    "colab": {
      "provenance": [],
      "authorship_tag": "ABX9TyNXk3pa2zdgxv3558nFqtp1",
      "include_colab_link": true
    },
    "kernelspec": {
      "name": "python3",
      "display_name": "Python 3"
    },
    "language_info": {
      "name": "python"
    }
  },
  "cells": [
    {
      "cell_type": "markdown",
      "metadata": {
        "id": "view-in-github",
        "colab_type": "text"
      },
      "source": [
        "<a href=\"https://colab.research.google.com/github/t8101349/t8101349/blob/master/0106_homework.ipynb\" target=\"_parent\"><img src=\"https://colab.research.google.com/assets/colab-badge.svg\" alt=\"Open In Colab\"/></a>"
      ]
    },
    {
      "cell_type": "markdown",
      "source": [
        "1.走100階階梯有幾種方法\n",
        "走一步或走兩步"
      ],
      "metadata": {
        "id": "e6zLAnxiN51n"
      }
    },
    {
      "cell_type": "code",
      "execution_count": 1,
      "metadata": {
        "colab": {
          "base_uri": "https://localhost:8080/"
        },
        "id": "IKoRXCWRLHtU",
        "outputId": "cb889fb0-1479-49b5-bcff-7e3bf49b5b22"
      },
      "outputs": [
        {
          "output_type": "stream",
          "name": "stdout",
          "text": [
            "167242286979696845954\n"
          ]
        }
      ],
      "source": [
        "#第1階 = 1\n",
        "#第2階 = 2\n",
        "#地3階 = 3\n",
        "#第4階 = 5\n",
        "#第3階 = 前兩階相加\n",
        "steps = [0]*100\n",
        "steps[0] = 1\n",
        "steps[1] = 2\n",
        "#第三階開始算\n",
        "i = 3\n",
        "while i < 100:\n",
        "    steps[i] = steps[i-1] + steps[i-2]\n",
        "    i = i + 1\n",
        "print(steps[99])"
      ]
    },
    {
      "cell_type": "markdown",
      "source": [
        "2.凱薩密碼\n",
        "打每個英文字時要往後n位"
      ],
      "metadata": {
        "id": "1UHQfrGpQZTp"
      }
    },
    {
      "cell_type": "code",
      "source": [
        "#加密程式\n",
        "#結尾:trouble will come of it\n",
        "#都是小寫\n",
        "#26個英文字母"
      ],
      "metadata": {
        "id": "BQiGF0blR7do"
      },
      "execution_count": null,
      "outputs": []
    },
    {
      "cell_type": "code",
      "source": [
        "#加密字串逐個取出\n",
        "#往前n位\n",
        "#n 為 1-26\n",
        "import urllib.request as request\n",
        "url = \"https://github.com/Elwing-Chou/tibame1224/raw/refs/heads/main/password.txt\"\n",
        "request.urlretrieve(url, \"password.txt\")\n",
        "f = open(\"password.txt\", \"r\", encoding = \"utf-8\")\n",
        "message = f.read()\n",
        "#print(message)\n",
        "f.close()\n",
        "#print('-'*50)\n",
        "password = '''trouble will come of it!'''\n",
        "\n",
        "\n",
        "for i in range(1, 26):\n",
        "  ans = \"\"\n",
        "  for char in message:\n",
        "    if char.isalpha():\n",
        "      j = ord(char) - ord('a')\n",
        "      j = j + i\n",
        "      j = j % 26\n",
        "      j = j + ord('a')\n",
        "      char = chr(j)\n",
        "    ans = ans+char\n",
        "  #print(ans)\n",
        "  if password in ans[-30:]:\n",
        "    print(ans)\n",
        "    break"
      ],
      "metadata": {
        "colab": {
          "base_uri": "https://localhost:8080/"
        },
        "id": "FwIIbsj2RAgG",
        "outputId": "ac3c6fa4-d0bd-49f0-8a0a-213d292f0609"
      },
      "execution_count": 16,
      "outputs": [
        {
          "output_type": "stream",
          "name": "stdout",
          "text": [
            "a long-expected party\n",
            "\n",
            "when mr. bilbo baggins of bag end announced that he would shortly be celebrating his eleventy-first birthday with a party of special magnificence, there was much talk and excitement in hobbiton.\n",
            "\n",
            "bilbo was very rich and very peculiar, and had been the wonder of the shire for sixty years, ever since his remarkable disappearance and unexpected return. the riches he had brought back from his travels had now become a local legend, and it was popularly believed, whatever the old folk might say, that the hill at bag end was full of tunnels stuffed with treasure. and if that was not enough for fame, there was also his prolonged vigour to marvel at. time wore on, but it seemed to have little effect on mr. baggins. at ninety he was much the same as at fifty. at ninety-nine they began to call him well-preserved, but unchanged would have been nearer the mark. there were some that shook their heads and thought this was too much of a good thing; it seemed unfair that anyone should possess (apparently) perpetual youth as well as (reputedly) inexhaustible wealth.\n",
            "\n",
            "'it will have to be paid for,' they said. 'it isn't natural, and trouble will come of it!'\n"
          ]
        }
      ]
    },
    {
      "cell_type": "markdown",
      "source": [],
      "metadata": {
        "id": "DKMbERyfVxTa"
      }
    }
  ]
}