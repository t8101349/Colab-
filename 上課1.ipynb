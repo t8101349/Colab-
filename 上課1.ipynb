{
  "nbformat": 4,
  "nbformat_minor": 0,
  "metadata": {
    "colab": {
      "provenance": [],
      "authorship_tag": "ABX9TyMeO5EBryiFeabSckqnX2St",
      "include_colab_link": true
    },
    "kernelspec": {
      "name": "python3",
      "display_name": "Python 3"
    },
    "language_info": {
      "name": "python"
    }
  },
  "cells": [
    {
      "cell_type": "markdown",
      "metadata": {
        "id": "view-in-github",
        "colab_type": "text"
      },
      "source": [
        "<a href=\"https://colab.research.google.com/github/t8101349/t8101349/blob/master/%E4%B8%8A%E8%AA%B21.ipynb\" target=\"_parent\"><img src=\"https://colab.research.google.com/assets/colab-badge.svg\" alt=\"Open In Colab\"/></a>"
      ]
    },
    {
      "cell_type": "code",
      "execution_count": null,
      "metadata": {
        "colab": {
          "base_uri": "https://localhost:8080/"
        },
        "id": "z37Kf837bF5O",
        "outputId": "5a54f66a-4d70-4d2e-ef00-d6337520bcf5"
      },
      "outputs": [
        {
          "output_type": "stream",
          "name": "stdout",
          "text": [
            "hello\n"
          ]
        }
      ],
      "source": [
        "print('hello')"
      ]
    },
    {
      "cell_type": "markdown",
      "source": [
        "Latex math\n",
        "$ a = \\sum_{i=0} ^{n} \\frac(i)(n+1) $"
      ],
      "metadata": {
        "id": "HeJC7vmUhV8W"
      }
    },
    {
      "cell_type": "code",
      "source": [
        "import random\n",
        "my = int(input(\"0.剪刀 1.石頭 2.布\"))\n",
        "com = random.randint(0,2)\n",
        "trans = [\"剪刀\", \"石頭\", \"布\"]\n",
        "print(\"我出的:\"+trans[my])\n",
        "print(\"電腦出的:\",trans[com]) #會有空格\n",
        "if my == (com+1) %3:\n",
        "  print(\"win\")\n",
        "elif my == (com-1) %3:\n",
        "  print(\"lose\")\n",
        "else:\n",
        "  print(\"draw/tie\")"
      ],
      "metadata": {
        "colab": {
          "base_uri": "https://localhost:8080/"
        },
        "id": "Bh-1l8QJfXiv",
        "outputId": "0be31688-757b-4f1d-e3d4-34e57003cf73"
      },
      "execution_count": 7,
      "outputs": [
        {
          "output_type": "stream",
          "name": "stdout",
          "text": [
            "0.剪刀 1.石頭 2.布2\n",
            "我出的:布\n",
            "電腦出的: 布\n",
            "draw/tie\n"
          ]
        }
      ]
    },
    {
      "cell_type": "code",
      "source": [
        "import random\n",
        "my = int(input(\"玩家出拳:0.剪刀0 1.石頭0 2.布0 3.剪刀1 4.石頭1 5.布1\"))\n",
        "com = random.randint(0,5)\n",
        "trans = [\"剪刀0\", \"石頭0\", \"布0\", \"剪刀1\", \"石頭1\", \"布1\"]\n",
        "print(\"我出的:\"+trans[my])\n",
        "print(\"電腦出的:\"+trans[com])\n",
        "mygroup = my//3\n",
        "comgroup = com//3\n",
        "if mygroup != comgroup:\n",
        "  print(\"even\")\n",
        "elif my %3 == (com+1) %3:\n",
        "  print(\"win\")\n",
        "elif my %3 == (com-1) %3:\n",
        "  print(\"lose\")\n",
        "else:\n",
        "  print(\"draw/tie\")"
      ],
      "metadata": {
        "colab": {
          "base_uri": "https://localhost:8080/"
        },
        "id": "yjdk3C_2sluY",
        "outputId": "ec49a653-257b-4551-a943-a93651566ec7"
      },
      "execution_count": 23,
      "outputs": [
        {
          "output_type": "stream",
          "name": "stdout",
          "text": [
            "玩家出拳:0.剪刀0 1.石頭0 2.布0 3.剪刀1 4.石頭1 5.布15\n",
            "我出的:布1\n",
            "電腦出的:石頭1\n",
            "win\n"
          ]
        }
      ]
    }
  ]
}