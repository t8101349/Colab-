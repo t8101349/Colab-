{
  "nbformat": 4,
  "nbformat_minor": 0,
  "metadata": {
    "colab": {
      "provenance": [],
      "authorship_tag": "ABX9TyM9TgXYgIxjzwKUPljrJlhx",
      "include_colab_link": true
    },
    "kernelspec": {
      "name": "python3",
      "display_name": "Python 3"
    },
    "language_info": {
      "name": "python"
    }
  },
  "cells": [
    {
      "cell_type": "markdown",
      "metadata": {
        "id": "view-in-github",
        "colab_type": "text"
      },
      "source": [
        "<a href=\"https://colab.research.google.com/github/t8101349/t8101349/blob/master/%E4%B8%8A%E8%AA%B21.ipynb\" target=\"_parent\"><img src=\"https://colab.research.google.com/assets/colab-badge.svg\" alt=\"Open In Colab\"/></a>"
      ]
    },
    {
      "cell_type": "code",
      "execution_count": null,
      "metadata": {
        "colab": {
          "base_uri": "https://localhost:8080/"
        },
        "id": "z37Kf837bF5O",
        "outputId": "5a54f66a-4d70-4d2e-ef00-d6337520bcf5"
      },
      "outputs": [
        {
          "output_type": "stream",
          "name": "stdout",
          "text": [
            "hello\n"
          ]
        }
      ],
      "source": [
        "print('hello')"
      ]
    },
    {
      "cell_type": "markdown",
      "source": [
        "Latex math\n",
        "$ a = \\sum_{i=0} ^{n} \\frac(i)(n+1) $"
      ],
      "metadata": {
        "id": "HeJC7vmUhV8W"
      }
    },
    {
      "cell_type": "code",
      "source": [
        "import random\n",
        "my = int(input(\"0.剪刀 1.石頭 2.布\"))\n",
        "com = random.randint(0,2)\n",
        "print(\"我出的:\"+str(my))\n",
        "print(\"電腦出的:\",com) #會有空格\n",
        "if my - com == 1 or my - com == -2:\n",
        "  print(\"win\")\n",
        "elif my - com == -1 or my - com == 2:\n",
        "  print(\"lose\")\n",
        "else:\n",
        "  print(\"draw/tie\")"
      ],
      "metadata": {
        "id": "Bh-1l8QJfXiv",
        "outputId": "2f368cda-3fbc-41cf-dff2-fe42e9da9c49",
        "colab": {
          "base_uri": "https://localhost:8080/"
        }
      },
      "execution_count": 2,
      "outputs": [
        {
          "output_type": "stream",
          "name": "stdout",
          "text": [
            "0.剪刀 1.石頭 2.布1\n",
            "我出的:1\n",
            "電腦出的: 2\n",
            "lose\n"
          ]
        }
      ]
    }
  ]
}