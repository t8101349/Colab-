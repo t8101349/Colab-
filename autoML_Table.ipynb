{
  "nbformat": 4,
  "nbformat_minor": 0,
  "metadata": {
    "colab": {
      "provenance": [],
      "authorship_tag": "ABX9TyOkuOrRAYG2mVVKM0xX2y6N",
      "include_colab_link": true
    },
    "kernelspec": {
      "name": "python3",
      "display_name": "Python 3"
    },
    "language_info": {
      "name": "python"
    }
  },
  "cells": [
    {
      "cell_type": "markdown",
      "metadata": {
        "id": "view-in-github",
        "colab_type": "text"
      },
      "source": [
        "<a href=\"https://colab.research.google.com/github/t8101349/Colab-/blob/master/autoML_Table.ipynb\" target=\"_parent\"><img src=\"https://colab.research.google.com/assets/colab-badge.svg\" alt=\"Open In Colab\"/></a>"
      ]
    },
    {
      "cell_type": "code",
      "execution_count": 1,
      "metadata": {
        "colab": {
          "base_uri": "https://localhost:8080/"
        },
        "id": "YREu6bIILGm8",
        "outputId": "79768233-9a53-4a75-b62c-9bbe17c91ea5"
      },
      "outputs": [
        {
          "output_type": "stream",
          "name": "stdout",
          "text": [
            "\u001b[?25l   \u001b[90m━━━━━━━━━━━━━━━━━━━━━━━━━━━━━━━━━━━━━━━━\u001b[0m \u001b[32m0.0/7.3 MB\u001b[0m \u001b[31m?\u001b[0m eta \u001b[36m-:--:--\u001b[0m\r\u001b[2K   \u001b[91m━━━\u001b[0m\u001b[90m╺\u001b[0m\u001b[90m━━━━━━━━━━━━━━━━━━━━━━━━━━━━━━━━━━━━\u001b[0m \u001b[32m0.6/7.3 MB\u001b[0m \u001b[31m19.6 MB/s\u001b[0m eta \u001b[36m0:00:01\u001b[0m\r\u001b[2K   \u001b[91m━━━━━━━━━━━━━━━━━━━━\u001b[0m\u001b[91m╸\u001b[0m\u001b[90m━━━━━━━━━━━━━━━━━━━\u001b[0m \u001b[32m3.8/7.3 MB\u001b[0m \u001b[31m55.5 MB/s\u001b[0m eta \u001b[36m0:00:01\u001b[0m\r\u001b[2K   \u001b[91m━━━━━━━━━━━━━━━━━━━━━━━━━━━━━━━━━━━━━━━\u001b[0m\u001b[91m╸\u001b[0m \u001b[32m7.3/7.3 MB\u001b[0m \u001b[31m77.2 MB/s\u001b[0m eta \u001b[36m0:00:01\u001b[0m\r\u001b[2K   \u001b[90m━━━━━━━━━━━━━━━━━━━━━━━━━━━━━━━━━━━━━━━━\u001b[0m \u001b[32m7.3/7.3 MB\u001b[0m \u001b[31m51.8 MB/s\u001b[0m eta \u001b[36m0:00:00\u001b[0m\n",
            "\u001b[?25h"
          ]
        }
      ],
      "source": [
        "!pip3 install --upgrade --quiet google-cloud-aiplatform"
      ]
    },
    {
      "cell_type": "code",
      "source": [
        "import urllib\n",
        "import os\n",
        "# 設置 Google Cloud 認證\n",
        "os.environ['GOOGLE_APPLICATION_CREDENTIALS']=r\"/content/tibame-gad245-28-0305-80a9bd64e634.json\"\n",
        "from google.cloud import aiplatform, bigquery\n",
        "from typing import Dict\n",
        "project=\"793796030437\"\n",
        "endpoint_id=\"5982122808845533184\"\n",
        "location=\"us-central1\"\n",
        "instance_dict=[{ \"age\": \"80\", \"workclass\": \"private\",\"marital_status\":\"Married-civ-spouse\",\"education_num\":\"10\",\"occupation\":\"Prof-specialty\",\"hours_per_week\":\"40\"}]\n"
      ],
      "metadata": {
        "id": "KALolR3zNOWn"
      },
      "execution_count": 10,
      "outputs": []
    },
    {
      "cell_type": "code",
      "source": [
        "# example\n",
        "# predict_tabular_classification_sample(\n",
        "#     project=\"793796030437\",\n",
        "#     endpoint_id=\"5982122808845533184\",\n",
        "#     location=\"us-central1\",\n",
        "#     instance_dict=[{ \"feature_column_a\": \"value\", \"feature_column_b\": \"value\" ...}, {...}]\n",
        "\n"
      ],
      "metadata": {
        "id": "12TRaeP5p057"
      },
      "execution_count": 3,
      "outputs": []
    },
    {
      "cell_type": "code",
      "source": [
        "def predict_tabular_classification_sample(\n",
        "    project=project,\n",
        "    endpoint_id=endpoint_id,\n",
        "    location=location,\n",
        "    instance_dict=instance_dict,\n",
        "\n",
        "):\n",
        "  aiplatform.init(project=project, location=location)\n",
        "\n",
        "  endpoint = aiplatform.Endpoint(endpoint_id)\n",
        "\n",
        "  response = endpoint.predict(instances=instance_dict)\n",
        "\n",
        "  for prediction_ in response.predictions:\n",
        "    print(prediction_)\n",
        "\n"
      ],
      "metadata": {
        "id": "Ro5A-8Z7NOZ5"
      },
      "execution_count": 8,
      "outputs": []
    },
    {
      "cell_type": "code",
      "source": [
        "predict_tabular_classification_sample(\n",
        "    project=project,\n",
        "    endpoint_id=endpoint_id,\n",
        "    location=location,\n",
        "    instance_dict=instance_dict,\n",
        "\n",
        ")\n"
      ],
      "metadata": {
        "colab": {
          "base_uri": "https://localhost:8080/"
        },
        "id": "Hf8XITbtNOc7",
        "outputId": "e99a3982-ffb9-4d4d-efac-794d2abebefe"
      },
      "execution_count": 12,
      "outputs": [
        {
          "output_type": "stream",
          "name": "stdout",
          "text": [
            "{'classes': [' <=50K', ' >50K'], 'scores': [0.5393499135971069, 0.4606500864028931]}\n"
          ]
        }
      ]
    },
    {
      "cell_type": "code",
      "source": [
        "def explain_sample(project=project, location=location, endpoint_id=endpoint_id, instance_dict=instance_dict):\n",
        "\n",
        "    aiplatform.init(project=project, location=location)\n",
        "\n",
        "    endpoint = aiplatform.Endpoint(endpoint_id)\n",
        "\n",
        "    # The instance_dict is already a list containing the instance data.\n",
        "    # Removing the extra brackets to pass the instance_dict directly.\n",
        "    response = endpoint.explain(instances=instance_dict, parameters={})\n",
        "\n",
        "    for explanation in response.explanations:\n",
        "        print(\" explanation\")\n",
        "        # Feature attributions.\n",
        "        attributions = explanation.attributions\n",
        "        for attribution in attributions:\n",
        "            print(\"  attribution\")\n",
        "            print(\"   baseline_output_value:\", attribution.baseline_output_value)\n",
        "            print(\"   instance_output_value:\", attribution.instance_output_value)\n",
        "            print(\"   output_display_name:\", attribution.output_display_name)\n",
        "            print(\"   approximation_error:\", attribution.approximation_error)\n",
        "            print(\"   output_name:\", attribution.output_name)\n",
        "            output_index = attribution.output_index\n",
        "            for output_index in output_index:\n",
        "                print(\"   output_index:\", output_index)\n",
        "\n",
        "    for prediction in response.predictions:\n",
        "        print(prediction)\n"
      ],
      "metadata": {
        "id": "lBCoNYJ6NOgA"
      },
      "execution_count": 13,
      "outputs": []
    },
    {
      "cell_type": "code",
      "source": [
        "explain_sample(project=project, location=location, endpoint_id=endpoint_id, instance_dict=instance_dict)"
      ],
      "metadata": {
        "colab": {
          "base_uri": "https://localhost:8080/"
        },
        "id": "b-86qR2iNOjH",
        "outputId": "6ce169f4-9d7e-4e06-805b-f4396418e089"
      },
      "execution_count": 14,
      "outputs": [
        {
          "output_type": "stream",
          "name": "stdout",
          "text": [
            " explanation\n",
            "  attribution\n",
            "   baseline_output_value: 0.4076308012008667\n",
            "   instance_output_value: 0.5393499135971069\n",
            "   output_display_name:  <=50K\n",
            "   approximation_error: 0.0\n",
            "   output_name: scores\n",
            "   output_index: 0\n",
            "{'classes': [' <=50K', ' >50K'], 'scores': [0.5393499135971069, 0.4606500864028931]}\n"
          ]
        }
      ]
    },
    {
      "cell_type": "code",
      "source": [],
      "metadata": {
        "id": "14hUzBNKNOl0"
      },
      "execution_count": null,
      "outputs": []
    }
  ]
}