{
  "nbformat": 4,
  "nbformat_minor": 0,
  "metadata": {
    "colab": {
      "provenance": [],
      "authorship_tag": "ABX9TyMAqAIfkN1uQY0cDOhX+DAj",
      "include_colab_link": true
    },
    "kernelspec": {
      "name": "python3",
      "display_name": "Python 3"
    },
    "language_info": {
      "name": "python"
    }
  },
  "cells": [
    {
      "cell_type": "markdown",
      "metadata": {
        "id": "view-in-github",
        "colab_type": "text"
      },
      "source": [
        "<a href=\"https://colab.research.google.com/github/t8101349/Colab-/blob/master/0113_2.ipynb\" target=\"_parent\"><img src=\"https://colab.research.google.com/assets/colab-badge.svg\" alt=\"Open In Colab\"/></a>"
      ]
    },
    {
      "cell_type": "markdown",
      "source": [
        "抓出關鍵詞\n",
        "1. 西方型: 英文 字母->詞彙->片語(phrase)\n",
        "2. 東方型: 中文     字->詞彙\n",
        "\n",
        "分詞: 我喜歡吃甜食 -> 我/喜歡/吃/甜食\n",
        "\n",
        "哪個詞彙在整段話裡最重要:\n",
        "1. 出現次數(TF): 高, 重要性越高\n",
        "2. 常用程度(IDF): 低, 重要性越高\n",
        "\n",
        "詞彙重要程度:\n",
        "TF-IDF = 出現次數 * (1/常用程度)\n",
        "\n",
        "!!! jieba函式庫: 預先統計了常用程度\n",
        "DF = 詞彙出現在幾篇裡面/夠多篇文章\n",
        "!!!      : 分詞\n",
        "利用詞彙庫做出初步劃分->(沒在詞彙庫/混淆)上下文推測哪種分法最合理"
      ],
      "metadata": {
        "id": "UjLm6diukPkM"
      }
    },
    {
      "cell_type": "code",
      "source": [
        "news = \"\"\"饗饗信義店爆發食物中毒案，累計59人就醫通報，目前該店已恢復營業，針對感染可能，北市衛生局食藥科長林冠蓁表示，個案中有超過7成都有食用過生魚片，且依照潛伏期和相關症狀看來，與諾羅病毒比較相似，但仍需要等待後續報告出爐才能確認。\n",
        "\n",
        "饗饗食物中毒案累計通報59名個案，昨日核准業者復業，林冠蓁指出，就醫民眾共食的食材包含生魚片、生蠔及干貝，目前已採樣環境檢體4件、人體檢體4件，結果最快1到2周後出爐，而59名通報案中，分別有42人吃生魚片、21人食用干貝、5人食用生蠔，有超過7成有吃過生魚片。\n",
        "\n",
        "\n",
        "\n",
        "\n",
        "林冠蓁說，根據復業報告中推測，可能是生鮮食材遭受諾羅病毒、病原性大腸桿菌、沙門氏菌等污染，加上目前通報個案的症狀和潛伏期都和諾羅病毒類似，高機率是諾羅病毒感染，但詳細原因仍需待調查報告出爐。\n",
        "\n",
        "如符合食品中毒病因物質及原因食品，將依違反《食品安全衛生管理法》第15條及第44條處6萬到2億元罰鍰。\"\"\"\n",
        ""
      ],
      "metadata": {
        "id": "CWvdNryOknwq"
      },
      "execution_count": 1,
      "outputs": []
    },
    {
      "cell_type": "code",
      "execution_count": 2,
      "metadata": {
        "colab": {
          "base_uri": "https://localhost:8080/"
        },
        "id": "5N1OEFBrkLQr",
        "outputId": "4ee11b8f-26d3-42cb-fcdf-df6ea5412050"
      },
      "outputs": [
        {
          "output_type": "stream",
          "name": "stderr",
          "text": [
            "Building prefix dict from the default dictionary ...\n",
            "DEBUG:jieba:Building prefix dict from the default dictionary ...\n",
            "Dumping model to file cache /tmp/jieba.cache\n",
            "DEBUG:jieba:Dumping model to file cache /tmp/jieba.cache\n",
            "Loading model cost 1.654 seconds.\n",
            "DEBUG:jieba:Loading model cost 1.654 seconds.\n",
            "Prefix dict has been built successfully.\n",
            "DEBUG:jieba:Prefix dict has been built successfully.\n"
          ]
        },
        {
          "output_type": "execute_result",
          "data": {
            "text/plain": [
              "['諾羅',\n",
              " '59',\n",
              " '魚片',\n",
              " '林冠',\n",
              " '個案',\n",
              " '超過',\n",
              " '過生',\n",
              " '潛伏期',\n",
              " '症狀',\n",
              " '報告',\n",
              " '出爐',\n",
              " '通報',\n",
              " '食材',\n",
              " '干貝',\n",
              " '檢體',\n",
              " '病毒',\n",
              " '食用',\n",
              " '食物中毒',\n",
              " '北市',\n",
              " '信義店']"
            ]
          },
          "metadata": {},
          "execution_count": 2
        }
      ],
      "source": [
        "import jieba.analyse\n",
        "jieba.analyse.extract_tags(news)"
      ]
    },
    {
      "cell_type": "code",
      "source": [
        "# 設置\n",
        "import jieba\n",
        "import urllib.request as req\n",
        "\n",
        "url = 'https://github.com/fxsjy/jieba/raw/master/extra_dict/dict.txt.big'\n",
        "req.urlretrieve(url, 'dict')\n",
        "jieba.set_dictionary('dict')\n"
      ],
      "metadata": {
        "id": "9Myor3TZpx4c"
      },
      "execution_count": 6,
      "outputs": []
    },
    {
      "cell_type": "code",
      "source": [
        "import jieba.analyse\n",
        "jieba.analyse.extract_tags(news)"
      ],
      "metadata": {
        "colab": {
          "base_uri": "https://localhost:8080/"
        },
        "id": "Wn68ZQnlqvNm",
        "outputId": "de312c0d-97b0-4e91-b10f-d18396216dff"
      },
      "execution_count": 5,
      "outputs": [
        {
          "output_type": "execute_result",
          "data": {
            "text/plain": [
              "['通報',\n",
              " '生魚片',\n",
              " '諾羅',\n",
              " '59',\n",
              " '個案',\n",
              " '出爐',\n",
              " '林冠',\n",
              " '累計',\n",
              " '就醫',\n",
              " '超過',\n",
              " '潛伏期',\n",
              " '症狀',\n",
              " '報告',\n",
              " '復業',\n",
              " '干貝',\n",
              " '病毒',\n",
              " '食用',\n",
              " '食物中毒',\n",
              " '食品',\n",
              " '信義']"
            ]
          },
          "metadata": {},
          "execution_count": 5
        }
      ]
    },
    {
      "cell_type": "code",
      "source": [
        "# 加上自己的詞彙表\n",
        "\n",
        "extra_url = 'https://github.com/Elwing-Chou/tibame1224/raw/refs/heads/main/extra.dict.txt'\n",
        "# 使用者辭典\n",
        "req.urlretrieve(extra_url, \"extra.dict.txt\")\n",
        "jieba.load_userdict(\"extra.dict.txt\")"
      ],
      "metadata": {
        "colab": {
          "base_uri": "https://localhost:8080/"
        },
        "id": "SXVyyvXNt-PE",
        "outputId": "c3cc3c48-e7d7-46a6-f4c3-7e89b1be3905"
      },
      "execution_count": 7,
      "outputs": [
        {
          "output_type": "stream",
          "name": "stderr",
          "text": [
            "Building prefix dict from /content/dict ...\n",
            "DEBUG:jieba:Building prefix dict from /content/dict ...\n",
            "Loading model from cache /tmp/jieba.u08cf431985a91c6bc29a3dba35bb8b2f.cache\n",
            "DEBUG:jieba:Loading model from cache /tmp/jieba.u08cf431985a91c6bc29a3dba35bb8b2f.cache\n",
            "Loading model cost 1.897 seconds.\n",
            "DEBUG:jieba:Loading model cost 1.897 seconds.\n",
            "Prefix dict has been built successfully.\n",
            "DEBUG:jieba:Prefix dict has been built successfully.\n"
          ]
        }
      ]
    },
    {
      "cell_type": "code",
      "source": [
        "\" \".join(jieba.cut(news))"
      ],
      "metadata": {
        "colab": {
          "base_uri": "https://localhost:8080/",
          "height": 157
        },
        "id": "odtmKwkpvxij",
        "outputId": "ee6521c2-7963-42cb-d6cd-a4be8ed746a2"
      },
      "execution_count": 8,
      "outputs": [
        {
          "output_type": "execute_result",
          "data": {
            "text/plain": [
              "'饗饗 信義 店 爆發 食物中毒 案 ， 累計 59 人 就醫 通報 ， 目前 該店 已 恢復 營業 ， 針對 感染 可能 ， 北 市 衛生局 食藥 科長 林冠 蓁 表示 ， 個案 中有 超過 7 成都 有 食用 過 生魚片 ， 且 依照 潛伏期 和 相關 症狀 看來 ， 與 諾羅病毒 比較 相似 ， 但 仍 需要 等待 後續 報告 出爐 才能 確認 。 \\n \\n 饗饗 食物中毒 案 累計 通報 59 名 個案 ， 昨日 核准 業者 復業 ， 林冠 蓁 指出 ， 就醫 民眾 共食 的 食材 包含 生魚片 、 生蠔 及 干貝 ， 目前 已 採樣 環境 檢體 4 件 、 人 體檢 體 4 件 ， 結果 最快 1 到 2 周 後 出爐 ， 而 59 名 通報 案中 ， 分別 有 42 人 吃 生魚片 、 21 人 食用 干貝 、 5 人 食用 生蠔 ， 有 超過 7 成有 吃過 生魚片 。 \\n \\n \\n \\n \\n 林冠 蓁 說 ， 根據 復業 報告 中 推測 ， 可能 是 生 鮮食 材 遭受 諾羅病毒 、 病原 性 大腸桿菌 、 沙門氏菌 等 污染 ， 加上 目前 通報 個案 的 症狀 和 潛伏期 都 和 諾羅病毒 類似 ， 高 機率 是 諾羅病毒 感染 ， 但 詳細 原因 仍 需待 調查報告 出爐 。 \\n \\n 如 符合 食品 中毒 病因 物質 及 原因 食品 ， 將依 違反 《 食品 安全衛生 管理法 》 第 15 條 及第 44 條處 6 萬到 2 億元 罰 鍰 。'"
            ],
            "application/vnd.google.colaboratory.intrinsic+json": {
              "type": "string"
            }
          },
          "metadata": {},
          "execution_count": 8
        }
      ]
    },
    {
      "cell_type": "code",
      "source": [
        "import jieba.analyse\n",
        "jieba.analyse.extract_tags(news)"
      ],
      "metadata": {
        "colab": {
          "base_uri": "https://localhost:8080/"
        },
        "id": "-irdyTIzv8_z",
        "outputId": "c78cfed6-0964-4983-cd58-5a3070ffcd7b"
      },
      "execution_count": 9,
      "outputs": [
        {
          "output_type": "execute_result",
          "data": {
            "text/plain": [
              "['通報',\n",
              " '生魚片',\n",
              " '諾羅病毒',\n",
              " '59',\n",
              " '個案',\n",
              " '出爐',\n",
              " '林冠',\n",
              " '饗饗',\n",
              " '累計',\n",
              " '就醫',\n",
              " '超過',\n",
              " '潛伏期',\n",
              " '症狀',\n",
              " '報告',\n",
              " '復業',\n",
              " '生蠔',\n",
              " '干貝',\n",
              " '食用',\n",
              " '食物中毒',\n",
              " '食品']"
            ]
          },
          "metadata": {},
          "execution_count": 9
        }
      ]
    },
    {
      "cell_type": "code",
      "source": [
        "\n",
        "import jieba.analyse\n",
        "jieba.analyse.extract_tags(news, allowPOS=[\"n\", \"nr\", \"ns\", \"nt\", \"nz\"])"
      ],
      "metadata": {
        "colab": {
          "base_uri": "https://localhost:8080/"
        },
        "id": "QTOX9XI6v8Q9",
        "outputId": "0d84838b-6acd-4660-9007-4bdafc9c7461"
      },
      "execution_count": 10,
      "outputs": [
        {
          "output_type": "execute_result",
          "data": {
            "text/plain": [
              "['生魚片',\n",
              " '諾羅病毒',\n",
              " '林冠',\n",
              " '饗饗',\n",
              " '生蠔',\n",
              " '干貝',\n",
              " '食用',\n",
              " '食品',\n",
              " '食藥',\n",
              " '民眾',\n",
              " '共食',\n",
              " '食材',\n",
              " '檢體',\n",
              " '大腸桿菌',\n",
              " '沙門氏菌',\n",
              " '條處',\n",
              " '管理法',\n",
              " '原因',\n",
              " '及第',\n",
              " '病原']"
            ]
          },
          "metadata": {},
          "execution_count": 10
        }
      ]
    },
    {
      "cell_type": "code",
      "source": [],
      "metadata": {
        "id": "5maxz_ZOwtIf"
      },
      "execution_count": null,
      "outputs": []
    }
  ]
}