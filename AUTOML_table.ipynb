{
  "nbformat": 4,
  "nbformat_minor": 0,
  "metadata": {
    "colab": {
      "provenance": [],
      "include_colab_link": true
    },
    "kernelspec": {
      "name": "python3",
      "display_name": "Python 3"
    },
    "language_info": {
      "name": "python"
    }
  },
  "cells": [
    {
      "cell_type": "markdown",
      "metadata": {
        "id": "view-in-github",
        "colab_type": "text"
      },
      "source": [
        "<a href=\"https://colab.research.google.com/github/t8101349/Colab-/blob/master/AUTOML_table.ipynb\" target=\"_parent\"><img src=\"https://colab.research.google.com/assets/colab-badge.svg\" alt=\"Open In Colab\"/></a>"
      ]
    },
    {
      "cell_type": "markdown",
      "source": [
        "導入SDK、金鑰以及數入值"
      ],
      "metadata": {
        "id": "5luMxNNsgdAS"
      }
    },
    {
      "cell_type": "code",
      "execution_count": null,
      "metadata": {
        "id": "FgvI_xSQKc8m"
      },
      "outputs": [],
      "source": [
        "import urllib\n",
        "import os\n",
        "# 設置 Google Cloud 認證\n",
        "os.environ['GOOGLE_APPLICATION_CREDENTIALS']=r\"金鑰路徑\"\n",
        "from google.cloud import aiplatform, bigquery\n",
        "from typing import Dict\n",
        "\n"
      ]
    },
    {
      "cell_type": "code",
      "source": [
        "project=\"XXXXXXXXXXXX\"\n",
        "endpoint_id=\"XXXXXXXXXXXXXXXXXXX\"\n",
        "location=\"us-central1\"\n",
        "instance_dict=[{\"workclass\": \"private\",\"marital_status\":\"Married-civ-spouse\",\"education_num\":\"6\",\"occupation\":\" Handlers-cleaners\",\"hours_per_week\":\"22\"}]\n"
      ],
      "metadata": {
        "id": "isZigXYdfreZ"
      },
      "execution_count": null,
      "outputs": []
    },
    {
      "cell_type": "markdown",
      "source": [
        "建立VertexAI預測函式"
      ],
      "metadata": {
        "id": "ksUfDI_shOi3"
      }
    },
    {
      "cell_type": "code",
      "source": [
        "def predict_tabular_classification_sample(\n",
        "    project=project,\n",
        "    endpoint_id=endpoint_id,\n",
        "    location=location,\n",
        "    instance_dict=instance_dict,\n",
        "):\n",
        "  aiplatform.init(project=project, location=location)\n",
        "\n",
        "  endpoint = aiplatform.Endpoint(endpoint_id)\n",
        "\n",
        "  response = endpoint.predict(instances=instance_dict)#類似ML.PREDICT()\n",
        "\n",
        "  for prediction_ in response.predictions:\n",
        "    print(prediction_)"
      ],
      "metadata": {
        "id": "ccqMuaM4kVqy"
      },
      "execution_count": null,
      "outputs": []
    },
    {
      "cell_type": "markdown",
      "source": [
        "執行預測函式"
      ],
      "metadata": {
        "id": "ClMz3N35nm5w"
      }
    },
    {
      "cell_type": "code",
      "source": [
        "predict_tabular_classification_sample()"
      ],
      "metadata": {
        "colab": {
          "base_uri": "https://localhost:8080/"
        },
        "id": "qh5866eknkVO",
        "outputId": "d1d3f5bb-161d-4269-810c-bac70faf17df"
      },
      "execution_count": null,
      "outputs": [
        {
          "output_type": "stream",
          "name": "stdout",
          "text": [
            "{'classes': [' <=50K', ' >50K'], 'scores': [0.961256206035614, 0.03874369710683823]}\n"
          ]
        }
      ]
    },
    {
      "cell_type": "markdown",
      "source": [
        "建立預測解釋函式"
      ],
      "metadata": {
        "id": "SSyx-vh4pgnO"
      }
    },
    {
      "cell_type": "code",
      "source": [
        "def explain_sample(project=project, location=location, endpoint_id=endpoint_id, instance_dict=instance_dict):\n",
        "\n",
        "    aiplatform.init(project=project, location=location)\n",
        "\n",
        "    endpoint = aiplatform.Endpoint(endpoint_id)\n",
        "\n",
        "    # The instance_dict is already a list containing the instance data.\n",
        "    # Removing the extra brackets to pass the instance_dict directly.\n",
        "    response = endpoint.explain(instances=instance_dict, parameters={})\n",
        "\n",
        "    for explanation in response.explanations:\n",
        "        print(\" explanation\")\n",
        "        # Feature attributions.\n",
        "        attributions = explanation.attributions\n",
        "        for attribution in attributions:\n",
        "            print(\"  attribution\")\n",
        "            print(\"   baseline_output_value:\", attribution.baseline_output_value)\n",
        "            print(\"   instance_output_value:\", attribution.instance_output_value)\n",
        "            value=attribution.instance_output_value\n",
        "            print(\"   output_display_name:\", attribution.output_display_name)\n",
        "            ouput=attribution.output_display_name\n",
        "            print(\"   approximation_error:\", attribution.approximation_error)\n",
        "            print(\"   output_name:\", attribution.output_name)\n",
        "            output_index = attribution.output_index\n",
        "            for output_index in output_index:\n",
        "                print(\"   output_index:\", output_index)\n",
        "\n",
        "    for prediction in response.predictions:\n",
        "        print(prediction)\n",
        "    print(ouput)\n",
        "    print(value)\n",
        "    return ouput,value\n"
      ],
      "metadata": {
        "id": "LDBEsapmpjrk"
      },
      "execution_count": null,
      "outputs": []
    },
    {
      "cell_type": "markdown",
      "source": [
        "使用預測解釋函式"
      ],
      "metadata": {
        "id": "pRq8JCxPqcGm"
      }
    },
    {
      "cell_type": "code",
      "source": [
        "explain_sample()"
      ],
      "metadata": {
        "colab": {
          "base_uri": "https://localhost:8080/"
        },
        "id": "4fMo28birLvj",
        "outputId": "6723d09e-aca1-42fa-9037-27d9a9542a20"
      },
      "execution_count": null,
      "outputs": [
        {
          "output_type": "stream",
          "name": "stdout",
          "text": [
            " explanation\n",
            "  attribution\n",
            "   baseline_output_value: 0.48909392952919006\n",
            "   instance_output_value: 0.961256206035614\n",
            "   output_display_name:  <=50K\n",
            "   approximation_error: 0.0015340464727011038\n",
            "   output_name: scores\n",
            "   output_index: 0\n",
            "{'classes': [' <=50K', ' >50K'], 'scores': [0.961256206035614, 0.03874369710683823]}\n",
            " <=50K\n",
            "0.961256206035614\n"
          ]
        }
      ]
    }
  ]
}