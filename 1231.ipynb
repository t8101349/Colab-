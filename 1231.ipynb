{
  "nbformat": 4,
  "nbformat_minor": 0,
  "metadata": {
    "colab": {
      "provenance": [],
      "authorship_tag": "ABX9TyNErx9FLG+NoYB0zgFeXQq9",
      "include_colab_link": true
    },
    "kernelspec": {
      "name": "python3",
      "display_name": "Python 3"
    },
    "language_info": {
      "name": "python"
    }
  },
  "cells": [
    {
      "cell_type": "markdown",
      "metadata": {
        "id": "view-in-github",
        "colab_type": "text"
      },
      "source": [
        "<a href=\"https://colab.research.google.com/github/t8101349/t8101349/blob/master/1231.ipynb\" target=\"_parent\"><img src=\"https://colab.research.google.com/assets/colab-badge.svg\" alt=\"Open In Colab\"/></a>"
      ]
    },
    {
      "cell_type": "code",
      "execution_count": 8,
      "metadata": {
        "id": "KJwTSdeNixJ7"
      },
      "outputs": [],
      "source": [
        "a, b = 50, 7\n",
        "ians = ''\n",
        "fans = '.'\n",
        "# 算出整數位\n",
        "# 算出小數位\n",
        "# 若整除提早結束 否則到10位\n",
        "# 組合"
      ]
    },
    {
      "cell_type": "code",
      "source": [
        "ans = a // b\n",
        "a = a % b\n",
        "ians = ians + str(ans)\n",
        "print(ians)"
      ],
      "metadata": {
        "colab": {
          "base_uri": "https://localhost:8080/"
        },
        "id": "OFYURJaJjmeM",
        "outputId": "2ee7848e-211d-4904-9e1b-5339e8cfb5f2"
      },
      "execution_count": 9,
      "outputs": [
        {
          "output_type": "stream",
          "name": "stdout",
          "text": [
            "7\n"
          ]
        }
      ]
    },
    {
      "cell_type": "code",
      "source": [
        "i = 0\n",
        "while i < 10:\n",
        "  a = a * 10\n",
        "  ans = a // b\n",
        "  a = a % b\n",
        "  fans = fans + str(ans)\n",
        "  while a == 0:\n",
        "    break\n",
        "  i += 1\n",
        "print(fans)\n",
        "print(ians+fans)"
      ],
      "metadata": {
        "colab": {
          "base_uri": "https://localhost:8080/"
        },
        "id": "cT8OmAFPlRsx",
        "outputId": "6d168142-b216-4787-dd89-97b2d35a6876"
      },
      "execution_count": 10,
      "outputs": [
        {
          "output_type": "stream",
          "name": "stdout",
          "text": [
            ".1428571428\n",
            "7.1428571428\n"
          ]
        }
      ]
    },
    {
      "cell_type": "code",
      "source": [
        "# 平方日\n",
        "# 1.判斷日期合理否: 月、日需要判斷\n",
        "# 2.判斷平方"
      ],
      "metadata": {
        "id": "0AGkmXjSmPMX"
      },
      "execution_count": null,
      "outputs": []
    },
    {
      "cell_type": "code",
      "source": [
        "n = int(input(\"input date\"))\n",
        "#n = 20241531\n",
        "last4 = n % 10000\n",
        "year = n // 10000\n",
        "month = last4 // 100\n",
        "day = last4 % 100\n",
        "print(month, day)\n",
        "calender = [31, 28, 31, 30, 31, 30, 31, 31, 30, 31, 30, 31]\n",
        "calender4 = [31, 29, 31, 30, 31, 30, 31, 31, 30, 31, 30, 31]\n",
        "if month >= 1 and month <= 12:\n",
        "  print(\"月合理\")\n",
        "  if month % 4 == 0:\n",
        "    if day <= calender4[month-1]:\n",
        "      print(\"日合理\")\n",
        "    else:\n",
        "      print(\"日不合理\")\n",
        "  else:\n",
        "    if day <= calender[month-1]:\n",
        "      print(\"日合理\")\n",
        "    else:\n",
        "      print(\"日不合理\")\n",
        "else:\n",
        "  print(\"月不合理\")\n",
        "\n"
      ],
      "metadata": {
        "colab": {
          "base_uri": "https://localhost:8080/"
        },
        "id": "DsUkk2pIoN-S",
        "outputId": "a2a043f8-2f03-49f9-e6af-ecb65af00373"
      },
      "execution_count": 2,
      "outputs": [
        {
          "output_type": "stream",
          "name": "stdout",
          "text": [
            "input date1561465465\n",
            "54 65\n",
            "月不合理\n"
          ]
        }
      ]
    },
    {
      "cell_type": "code",
      "source": [
        "def is_leap_year(year):\n",
        "    if (year % 400 == 0):\n",
        "        return True\n",
        "    elif (year % 100 == 0):\n",
        "        return False\n",
        "    elif (year % 4 == 0):\n",
        "        return True\n",
        "    else:\n",
        "        return False"
      ],
      "metadata": {
        "id": "dKPas395UJ2c"
      },
      "execution_count": 7,
      "outputs": []
    },
    {
      "cell_type": "code",
      "source": [
        "n = 20240229\n",
        "def is_valid_date(n):\n",
        "  last4 = n % 10000\n",
        "  year = n // 10000\n",
        "  month = last4 // 100\n",
        "  day = last4 % 100\n",
        "  #print(month, day)\n",
        "  calender = [31, 28, 31, 30, 31, 30, 31, 31, 30, 31, 30, 31]\n",
        "\n",
        "  if month >= 1 and month <= 12:\n",
        "    #print(\"月合理\")\n",
        "    if month == 2:\n",
        "      if is_leap_year(year):\n",
        "        if 1 <= day <= calender[month-1]+1:\n",
        "          #print(\"日合理\")\n",
        "          return True\n",
        "        else:\n",
        "          #print(\"日不合理\")\n",
        "          return False\n",
        "      else:\n",
        "        if 1 <= day <= calender[month-1]:\n",
        "          #print(\"日合理\")\n",
        "          return True\n",
        "        else:\n",
        "          #print(\"日不合理\")\n",
        "          return False\n",
        "\n",
        "    else:\n",
        "      if 1<= day <= calender[month-1]:\n",
        "        #print(\"日合理\")\n",
        "        return True\n",
        "      else:\n",
        "        #print(\"日不合理\")\n",
        "        return False\n",
        "  else:\n",
        "    #print(\"月不合理\")\n",
        "    return False"
      ],
      "metadata": {
        "id": "YHdTln5dUj0F"
      },
      "execution_count": 23,
      "outputs": []
    },
    {
      "cell_type": "code",
      "source": [
        "# 正面: 把真實日期拿出來，檢查能不能被開根號\n",
        "# 反面: 把真實日期拿出來，看平方後的數值能不能當日期"
      ],
      "metadata": {
        "colab": {
          "base_uri": "https://localhost:8080/"
        },
        "id": "m8UnT9-8XR5e",
        "outputId": "43a44ee3-e7c4-471a-d548-ea983782ac1a"
      },
      "execution_count": 15,
      "outputs": [
        {
          "output_type": "stream",
          "name": "stdout",
          "text": [
            "2 30\n",
            "False\n"
          ]
        }
      ]
    },
    {
      "cell_type": "code",
      "source": [
        "import math\n",
        "today = 20241231\n",
        "\n",
        "start = math.ceil(today**0.5)\n",
        "count = 0\n",
        "\n",
        "while True:\n",
        "  date = start ** 2\n",
        "  if is_valid_date(date):\n",
        "    print(date)\n",
        "    count += 1\n",
        "    if count == 10:\n",
        "      break\n",
        "  start += 1\n"
      ],
      "metadata": {
        "colab": {
          "base_uri": "https://localhost:8080/"
        },
        "id": "OxnwI7vmZhox",
        "outputId": "5bd67c17-0991-4959-dd23-61f89098fe61"
      },
      "execution_count": 26,
      "outputs": [
        {
          "output_type": "stream",
          "name": "stdout",
          "text": [
            "20720704\n",
            "20930625\n",
            "21150801\n",
            "21390625\n",
            "21520321\n",
            "21641104\n",
            "21650409\n",
            "21790224\n",
            "21921124\n",
            "22071204\n"
          ]
        }
      ]
    }
  ]
}