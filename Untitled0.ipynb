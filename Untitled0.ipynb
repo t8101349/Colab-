{
  "nbformat": 4,
  "nbformat_minor": 0,
  "metadata": {
    "colab": {
      "provenance": [],
      "authorship_tag": "ABX9TyPc/g/4a7esSBuvU65LeIEK",
      "include_colab_link": true
    },
    "kernelspec": {
      "name": "python3",
      "display_name": "Python 3"
    },
    "language_info": {
      "name": "python"
    }
  },
  "cells": [
    {
      "cell_type": "markdown",
      "metadata": {
        "id": "view-in-github",
        "colab_type": "text"
      },
      "source": [
        "<a href=\"https://colab.research.google.com/github/t8101349/t8101349/blob/master/Untitled0.ipynb\" target=\"_parent\"><img src=\"https://colab.research.google.com/assets/colab-badge.svg\" alt=\"Open In Colab\"/></a>"
      ]
    },
    {
      "cell_type": "code",
      "execution_count": 5,
      "metadata": {
        "id": "Ds3fGgr6kI7U",
        "colab": {
          "base_uri": "https://localhost:8080/"
        },
        "outputId": "fe0b1dc9-9384-4850-879d-9e3c8221ed46"
      },
      "outputs": [
        {
          "output_type": "stream",
          "name": "stdout",
          "text": [
            "我的S0\n",
            "電腦的S0\n"
          ]
        }
      ],
      "source": [
        "import random\n",
        "my = 1\n",
        "com = random.randint(0,5)\n",
        "translate = ['C0', 'S0', 'P0', 'C1', 'S1', 'P1']\n",
        "# 出拳 列印出來\n",
        "print('我的'+translate[my])\n",
        "print('電腦的'+translate[com])"
      ]
    },
    {
      "cell_type": "code",
      "source": [
        "# 1: 確認分組 取商\n",
        "# 2: 確認輸贏 取餘\n",
        "mygroup = my//3\n",
        "comgroup = com//3\n",
        "if mygroup != comgroup:\n",
        "    print('平手')\n",
        "else:\n",
        "  # 收縮至同一情況裡比大小(0-2)\n",
        "  my = my%3\n",
        "  com = com%3\n",
        "  if my == (com+1)%3:\n",
        "    print('win')\n",
        "  elif my == (com-1)%3:\n",
        "    print('lose')\n",
        "  else:\n",
        "    print('tie')"
      ],
      "metadata": {
        "colab": {
          "base_uri": "https://localhost:8080/"
        },
        "id": "TNzEUJeOLenC",
        "outputId": "7dc9ad9c-c9bc-44c1-e58e-db93f1cf22fb"
      },
      "execution_count": 6,
      "outputs": [
        {
          "output_type": "stream",
          "name": "stdout",
          "text": [
            "tie\n"
          ]
        }
      ]
    },
    {
      "cell_type": "code",
      "source": [
        "# 迴圈:\n",
        "# 1. i = 0\n",
        "# 2. while i < 數字\n",
        "# 3. i += 1\n",
        "# 好習慣: 這三行絕對不改\n",
        "# 次數就在<後面的數字\n",
        "i = 0\n",
        "while i < 10:\n",
        "    print(i)\n",
        "    i += 1"
      ],
      "metadata": {
        "colab": {
          "base_uri": "https://localhost:8080/"
        },
        "id": "G69on3vzU6kU",
        "outputId": "eb28925e-6e34-4337-b577-7373d7880f9b"
      },
      "execution_count": 7,
      "outputs": [
        {
          "output_type": "stream",
          "name": "stdout",
          "text": [
            "0\n",
            "1\n",
            "2\n",
            "3\n",
            "4\n",
            "5\n",
            "6\n",
            "7\n",
            "8\n",
            "9\n"
          ]
        }
      ]
    },
    {
      "cell_type": "code",
      "source": [
        "# 10層\n",
        "# 一層10個\n",
        "i = 0\n",
        "while i < 10:\n",
        "  c = i+1\n",
        "  print('x' * c)\n",
        "  print('\\n')\n",
        "  i += 1"
      ],
      "metadata": {
        "colab": {
          "base_uri": "https://localhost:8080/"
        },
        "id": "fr5VEJQ5c-m7",
        "outputId": "7744642b-3f85-4930-d0de-587099b5ed3a"
      },
      "execution_count": 1,
      "outputs": [
        {
          "output_type": "stream",
          "name": "stdout",
          "text": [
            "x\n",
            "\n",
            "\n",
            "xx\n",
            "\n",
            "\n",
            "xxx\n",
            "\n",
            "\n",
            "xxxx\n",
            "\n",
            "\n",
            "xxxxx\n",
            "\n",
            "\n",
            "xxxxxx\n",
            "\n",
            "\n",
            "xxxxxxx\n",
            "\n",
            "\n",
            "xxxxxxxx\n",
            "\n",
            "\n",
            "xxxxxxxxx\n",
            "\n",
            "\n",
            "xxxxxxxxxx\n",
            "\n",
            "\n"
          ]
        }
      ]
    },
    {
      "cell_type": "code",
      "source": [
        "i = 0\n",
        "while i < 10:\n",
        "  c = i+1\n",
        "  shift = 10-c\n",
        "  print(' ' * shift +\n",
        "      '0' * c)\n",
        "  print('\\n')\n",
        "  i += 1"
      ],
      "metadata": {
        "colab": {
          "base_uri": "https://localhost:8080/"
        },
        "id": "iLeHSZUoeKEH",
        "outputId": "1d5a2424-41dd-4a45-906d-2444f0a0ed47"
      },
      "execution_count": 4,
      "outputs": [
        {
          "output_type": "stream",
          "name": "stdout",
          "text": [
            "         0\n",
            "\n",
            "\n",
            "        00\n",
            "\n",
            "\n",
            "       000\n",
            "\n",
            "\n",
            "      0000\n",
            "\n",
            "\n",
            "     00000\n",
            "\n",
            "\n",
            "    000000\n",
            "\n",
            "\n",
            "   0000000\n",
            "\n",
            "\n",
            "  00000000\n",
            "\n",
            "\n",
            " 000000000\n",
            "\n",
            "\n",
            "0000000000\n",
            "\n",
            "\n"
          ]
        }
      ]
    },
    {
      "cell_type": "code",
      "source": [
        "# 正\n",
        "i = 0\n",
        "while i < 5:\n",
        "  c = i * 2 + 1\n",
        "  l = (11 - c) // 2\n",
        "  r = (11 - c) // 2\n",
        "  print(' ' * l +\n",
        "      '*' * c +\n",
        "      ' ' * r)\n",
        "  print('\\n')\n",
        "  i += 1"
      ],
      "metadata": {
        "colab": {
          "base_uri": "https://localhost:8080/"
        },
        "id": "nqG9vKyph-BX",
        "outputId": "02683bd8-12f5-4f7f-b6e1-750ee61e9f3f"
      },
      "execution_count": 5,
      "outputs": [
        {
          "output_type": "stream",
          "name": "stdout",
          "text": [
            "     *     \n",
            "\n",
            "\n",
            "    ***    \n",
            "\n",
            "\n",
            "   *****   \n",
            "\n",
            "\n",
            "  *******  \n",
            "\n",
            "\n",
            " ********* \n",
            "\n",
            "\n"
          ]
        }
      ]
    },
    {
      "cell_type": "code",
      "source": [
        "# 反\n",
        "height = 10\n",
        "i = 0\n",
        "while i < height:\n",
        "  c = (height -i -1) * 2 + 1\n",
        "  l = (height*2+1 - c) // 2\n",
        "  r = (height*2+1 - c) // 2\n",
        "  print(' ' * l +\n",
        "      '*' * c +\n",
        "      ' ' * r)\n",
        "  print('\\n')\n",
        "  i += 1"
      ],
      "metadata": {
        "colab": {
          "base_uri": "https://localhost:8080/"
        },
        "id": "CsdQDcZLimNI",
        "outputId": "6b19a0e2-dc01-42e6-8734-720c3d2fe0c4"
      },
      "execution_count": 9,
      "outputs": [
        {
          "output_type": "stream",
          "name": "stdout",
          "text": [
            " ******************* \n",
            "\n",
            "\n",
            "  *****************  \n",
            "\n",
            "\n",
            "   ***************   \n",
            "\n",
            "\n",
            "    *************    \n",
            "\n",
            "\n",
            "     ***********     \n",
            "\n",
            "\n",
            "      *********      \n",
            "\n",
            "\n",
            "       *******       \n",
            "\n",
            "\n",
            "        *****        \n",
            "\n",
            "\n",
            "         ***         \n",
            "\n",
            "\n",
            "          *          \n",
            "\n",
            "\n"
          ]
        }
      ]
    },
    {
      "cell_type": "code",
      "source": [
        "height = 10\n",
        "i = 0\n",
        "while i < height:\n",
        "  # 一排:(height-1) * 2 + 1\n",
        "  c = (height -i -1) * 2 + 1\n",
        "  l = i\n",
        "  r = i\n",
        "  if i % 2 == 0:\n",
        "    print(' ' * l +\n",
        "        'o' * c +\n",
        "        ' ' * r)\n",
        "    print('\\n')\n",
        "  else:\n",
        "    print(' ' * l +\n",
        "        'x' * c +\n",
        "        ' ' * r)\n",
        "    print('\\n')\n",
        "  i += 1"
      ],
      "metadata": {
        "colab": {
          "base_uri": "https://localhost:8080/"
        },
        "id": "T2VM_RjUnm2L",
        "outputId": "864f8d3c-f8c5-4dbc-cd76-06dd87295eee"
      },
      "execution_count": 11,
      "outputs": [
        {
          "output_type": "stream",
          "name": "stdout",
          "text": [
            "ooooooooooooooooooo\n",
            "\n",
            "\n",
            " xxxxxxxxxxxxxxxxx \n",
            "\n",
            "\n",
            "  ooooooooooooooo  \n",
            "\n",
            "\n",
            "   xxxxxxxxxxxxx   \n",
            "\n",
            "\n",
            "    ooooooooooo    \n",
            "\n",
            "\n",
            "     xxxxxxxxx     \n",
            "\n",
            "\n",
            "      ooooooo      \n",
            "\n",
            "\n",
            "       xxxxx       \n",
            "\n",
            "\n",
            "        ooo        \n",
            "\n",
            "\n",
            "         x         \n",
            "\n",
            "\n"
          ]
        }
      ]
    },
    {
      "cell_type": "code",
      "source": [
        "height = 20\n",
        "symbols = ['\\u2660', '\\u2661', '\\u2662', '\\u2663']\n",
        "i = 0\n",
        "while i < height:\n",
        "  # 一排:(height-1) * 2 + 1\n",
        "  # 數目\n",
        "  c = (height -i -1) * 2 + 1\n",
        "  l = i\n",
        "  r = i\n",
        "  # 符號\n",
        "  lsymbol = \" \"\n",
        "  mysymbol = symbols[i % len(symbols)]\n",
        "  rsymbol = \" \"\n",
        "  print(lsymbol * l +\n",
        "      mysymbol * c +\n",
        "      rsymbol * r)\n",
        "  print('\\n')\n",
        "\n",
        "  i += 1\n",
        "  # 重點: 思考擴充性"
      ],
      "metadata": {
        "colab": {
          "base_uri": "https://localhost:8080/"
        },
        "id": "YcjSxU4Rr05_",
        "outputId": "2edd1768-84b6-440d-f5c8-dda99d4f7b13"
      },
      "execution_count": 19,
      "outputs": [
        {
          "output_type": "stream",
          "name": "stdout",
          "text": [
            "♠♠♠♠♠♠♠♠♠♠♠♠♠♠♠♠♠♠♠♠♠♠♠♠♠♠♠♠♠♠♠♠♠♠♠♠♠♠♠\n",
            "\n",
            "\n",
            " ♡♡♡♡♡♡♡♡♡♡♡♡♡♡♡♡♡♡♡♡♡♡♡♡♡♡♡♡♡♡♡♡♡♡♡♡♡ \n",
            "\n",
            "\n",
            "  ♢♢♢♢♢♢♢♢♢♢♢♢♢♢♢♢♢♢♢♢♢♢♢♢♢♢♢♢♢♢♢♢♢♢♢  \n",
            "\n",
            "\n",
            "   ♣♣♣♣♣♣♣♣♣♣♣♣♣♣♣♣♣♣♣♣♣♣♣♣♣♣♣♣♣♣♣♣♣   \n",
            "\n",
            "\n",
            "    ♠♠♠♠♠♠♠♠♠♠♠♠♠♠♠♠♠♠♠♠♠♠♠♠♠♠♠♠♠♠♠    \n",
            "\n",
            "\n",
            "     ♡♡♡♡♡♡♡♡♡♡♡♡♡♡♡♡♡♡♡♡♡♡♡♡♡♡♡♡♡     \n",
            "\n",
            "\n",
            "      ♢♢♢♢♢♢♢♢♢♢♢♢♢♢♢♢♢♢♢♢♢♢♢♢♢♢♢      \n",
            "\n",
            "\n",
            "       ♣♣♣♣♣♣♣♣♣♣♣♣♣♣♣♣♣♣♣♣♣♣♣♣♣       \n",
            "\n",
            "\n",
            "        ♠♠♠♠♠♠♠♠♠♠♠♠♠♠♠♠♠♠♠♠♠♠♠        \n",
            "\n",
            "\n",
            "         ♡♡♡♡♡♡♡♡♡♡♡♡♡♡♡♡♡♡♡♡♡         \n",
            "\n",
            "\n",
            "          ♢♢♢♢♢♢♢♢♢♢♢♢♢♢♢♢♢♢♢          \n",
            "\n",
            "\n",
            "           ♣♣♣♣♣♣♣♣♣♣♣♣♣♣♣♣♣           \n",
            "\n",
            "\n",
            "            ♠♠♠♠♠♠♠♠♠♠♠♠♠♠♠            \n",
            "\n",
            "\n",
            "             ♡♡♡♡♡♡♡♡♡♡♡♡♡             \n",
            "\n",
            "\n",
            "              ♢♢♢♢♢♢♢♢♢♢♢              \n",
            "\n",
            "\n",
            "               ♣♣♣♣♣♣♣♣♣               \n",
            "\n",
            "\n",
            "                ♠♠♠♠♠♠♠                \n",
            "\n",
            "\n",
            "                 ♡♡♡♡♡                 \n",
            "\n",
            "\n",
            "                  ♢♢♢                  \n",
            "\n",
            "\n",
            "                   ♣                   \n",
            "\n",
            "\n"
          ]
        }
      ]
    },
    {
      "cell_type": "markdown",
      "source": [
        "1\n",
        "2\n",
        "3\n",
        "\n",
        "以上是markdownm語法\n",
        "```python  #代表以下是python語法\n",
        "1\n",
        "2\n",
        "3\n"
      ],
      "metadata": {
        "id": "3SYLF5wfuZVC"
      }
    },
    {
      "cell_type": "code",
      "source": [
        "a, b = 2, 7\n",
        "ans = '0.'\n",
        "\n",
        "i = 0\n",
        "while i < 10:\n",
        "  a = a * 10\n",
        "  ans += str(a // b)\n",
        "  a = a % b\n",
        "  if a == 0:\n",
        "    break\n",
        "  i += 1\n",
        "\n",
        "print(ans)"
      ],
      "metadata": {
        "colab": {
          "base_uri": "https://localhost:8080/"
        },
        "id": "PGYqVgY0I6sY",
        "outputId": "d555547e-6f9f-4757-9b51-bb502d2ff8c5"
      },
      "execution_count": 20,
      "outputs": [
        {
          "output_type": "stream",
          "name": "stdout",
          "text": [
            "0.2857142857\n"
          ]
        }
      ]
    },
    {
      "cell_type": "code",
      "source": [
        "s = 'asdfgDFSAhjk  SDFljku'\n",
        "# 大、小寫各有多少個\n",
        "ucase = 0\n",
        "lcase = 0\n",
        "i = 0\n",
        "while i < len(s):\n",
        "  n = ord(s[i])\n",
        "  if ord('A') <= n <= ord('Z'):\n",
        "    ucase += 1\n",
        "  elif ord('a') <= n <= ord('z'):\n",
        "    lcase += 1\n",
        "\n",
        "  i += 1\n",
        "print(ucase, lcase)"
      ],
      "metadata": {
        "colab": {
          "base_uri": "https://localhost:8080/"
        },
        "id": "ruHyTeouQmal",
        "outputId": "e75469de-fda2-4787-c69c-bcfc9cf2613f"
      },
      "execution_count": 23,
      "outputs": [
        {
          "output_type": "stream",
          "name": "stdout",
          "text": [
            "7 12\n"
          ]
        }
      ]
    },
    {
      "cell_type": "markdown",
      "source": [
        "1. 蒙地卡羅法\n",
        "\n",
        "2. 半徑為1的圓形積分\n"
      ],
      "metadata": {
        "id": "Z2EZQ-uxfSCW"
      }
    },
    {
      "cell_type": "code",
      "source": [
        "# 1. 把x分割成100分\n",
        "# 2. 取得X座標位置的y高度\n",
        "# 3. x**2 + y**2 = r**2\n",
        "circle = 0\n",
        "interval = 10000\n",
        "for i in range(interval):\n",
        "  dx = i * 2/interval\n",
        "  x = -1 + dx\n",
        "  #算出y高度(+y--y)\n",
        "  y = ((1-x**2)**0.5) * 2\n",
        "  # 小長方形加總\n",
        "  area = y * 2/interval\n",
        "  circle += area\n",
        "\n",
        "print(circle)"
      ],
      "metadata": {
        "colab": {
          "base_uri": "https://localhost:8080/"
        },
        "id": "W-Wv_dEkfY6c",
        "outputId": "399289ff-7395-4523-bf0e-ed867bb36576"
      },
      "execution_count": 28,
      "outputs": [
        {
          "output_type": "stream",
          "name": "stdout",
          "text": [
            "3.1415893274305824\n"
          ]
        }
      ]
    },
    {
      "cell_type": "markdown",
      "source": [],
      "metadata": {
        "id": "Z7xkKD98fQ3m"
      }
    }
  ]
}